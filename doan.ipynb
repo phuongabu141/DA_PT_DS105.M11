{
  "nbformat": 4,
  "nbformat_minor": 0,
  "metadata": {
    "colab": {
      "name": "doan.ipynb",
      "provenance": [],
      "collapsed_sections": [],
      "mount_file_id": "1SnfdprUtoC2l1K5L75PVg0GDRbRG5Yyq",
      "authorship_tag": "ABX9TyMBR1SQbhTxCwAl6xMG7iNd",
      "include_colab_link": true
    },
    "kernelspec": {
      "name": "python3",
      "display_name": "Python 3"
    },
    "language_info": {
      "name": "python"
    },
    "accelerator": "GPU"
  },
  "cells": [
    {
      "cell_type": "markdown",
      "metadata": {
        "id": "view-in-github",
        "colab_type": "text"
      },
      "source": [
        "<a href=\"https://colab.research.google.com/github/phuongabu141/DA_PT_DS105.M11/blob/main/doan.ipynb\" target=\"_parent\"><img src=\"https://colab.research.google.com/assets/colab-badge.svg\" alt=\"Open In Colab\"/></a>"
      ]
    },
    {
      "cell_type": "markdown",
      "metadata": {
        "id": "Vb9S4kIAFcdF"
      },
      "source": [
        "#Import thư viện"
      ]
    },
    {
      "cell_type": "code",
      "metadata": {
        "id": "NnsmsMY7yoOr"
      },
      "source": [
        "import pandas as pd\n",
        "import numpy as np\n",
        "import matplotlib.pyplot as plt\n",
        "import seaborn as sns\n",
        "import plotly.express as px\n",
        "\n"
      ],
      "execution_count": 1,
      "outputs": []
    },
    {
      "cell_type": "markdown",
      "metadata": {
        "id": "-hdLUWXnFkFS"
      },
      "source": [
        "# Tổng quan về data"
      ]
    },
    {
      "cell_type": "code",
      "metadata": {
        "colab": {
          "base_uri": "https://localhost:8080/"
        },
        "id": "gJ6x9TuDFa4g",
        "outputId": "8550b003-ead3-4973-eff9-9741b187d355"
      },
      "source": [
        "df=pd.read_csv('/content/drive/MyDrive/PHAN_TICH_VA_TRUC_QUAN_HOA_DATA/do_an/kaggle_survey_2020_responses.csv')"
      ],
      "execution_count": 7,
      "outputs": [
        {
          "output_type": "stream",
          "name": "stderr",
          "text": [
            "/usr/local/lib/python3.7/dist-packages/IPython/core/interactiveshell.py:2718: DtypeWarning:\n",
            "\n",
            "Columns (0) have mixed types.Specify dtype option on import or set low_memory=False.\n",
            "\n"
          ]
        }
      ]
    },
    {
      "cell_type": "code",
      "metadata": {
        "id": "-okks9Erzjh6",
        "colab": {
          "base_uri": "https://localhost:8080/",
          "height": 0
        },
        "outputId": "da527136-bd53-4f21-fce6-1f96ca302de8"
      },
      "source": [
        "df.head()"
      ],
      "execution_count": 8,
      "outputs": [
        {
          "output_type": "execute_result",
          "data": {
            "text/html": [
              "<div>\n",
              "<style scoped>\n",
              "    .dataframe tbody tr th:only-of-type {\n",
              "        vertical-align: middle;\n",
              "    }\n",
              "\n",
              "    .dataframe tbody tr th {\n",
              "        vertical-align: top;\n",
              "    }\n",
              "\n",
              "    .dataframe thead th {\n",
              "        text-align: right;\n",
              "    }\n",
              "</style>\n",
              "<table border=\"1\" class=\"dataframe\">\n",
              "  <thead>\n",
              "    <tr style=\"text-align: right;\">\n",
              "      <th></th>\n",
              "      <th>Time from Start to Finish (seconds)</th>\n",
              "      <th>Q1</th>\n",
              "      <th>Q2</th>\n",
              "      <th>Q3</th>\n",
              "      <th>Q4</th>\n",
              "      <th>Q5</th>\n",
              "      <th>Q6</th>\n",
              "      <th>Q7_Part_1</th>\n",
              "      <th>Q7_Part_2</th>\n",
              "      <th>Q7_Part_3</th>\n",
              "      <th>Q7_Part_4</th>\n",
              "      <th>Q7_Part_5</th>\n",
              "      <th>Q7_Part_6</th>\n",
              "      <th>Q7_Part_7</th>\n",
              "      <th>Q7_Part_8</th>\n",
              "      <th>Q7_Part_9</th>\n",
              "      <th>Q7_Part_10</th>\n",
              "      <th>Q7_Part_11</th>\n",
              "      <th>Q7_Part_12</th>\n",
              "      <th>Q7_OTHER</th>\n",
              "      <th>Q8</th>\n",
              "      <th>Q9_Part_1</th>\n",
              "      <th>Q9_Part_2</th>\n",
              "      <th>Q9_Part_3</th>\n",
              "      <th>Q9_Part_4</th>\n",
              "      <th>Q9_Part_5</th>\n",
              "      <th>Q9_Part_6</th>\n",
              "      <th>Q9_Part_7</th>\n",
              "      <th>Q9_Part_8</th>\n",
              "      <th>Q9_Part_9</th>\n",
              "      <th>Q9_Part_10</th>\n",
              "      <th>Q9_Part_11</th>\n",
              "      <th>Q9_OTHER</th>\n",
              "      <th>Q10_Part_1</th>\n",
              "      <th>Q10_Part_2</th>\n",
              "      <th>Q10_Part_3</th>\n",
              "      <th>Q10_Part_4</th>\n",
              "      <th>Q10_Part_5</th>\n",
              "      <th>Q10_Part_6</th>\n",
              "      <th>Q10_Part_7</th>\n",
              "      <th>...</th>\n",
              "      <th>Q31_B_Part_7</th>\n",
              "      <th>Q31_B_Part_8</th>\n",
              "      <th>Q31_B_Part_9</th>\n",
              "      <th>Q31_B_Part_10</th>\n",
              "      <th>Q31_B_Part_11</th>\n",
              "      <th>Q31_B_Part_12</th>\n",
              "      <th>Q31_B_Part_13</th>\n",
              "      <th>Q31_B_Part_14</th>\n",
              "      <th>Q31_B_OTHER</th>\n",
              "      <th>Q33_B_Part_1</th>\n",
              "      <th>Q33_B_Part_2</th>\n",
              "      <th>Q33_B_Part_3</th>\n",
              "      <th>Q33_B_Part_4</th>\n",
              "      <th>Q33_B_Part_5</th>\n",
              "      <th>Q33_B_Part_6</th>\n",
              "      <th>Q33_B_Part_7</th>\n",
              "      <th>Q33_B_OTHER</th>\n",
              "      <th>Q34_B_Part_1</th>\n",
              "      <th>Q34_B_Part_2</th>\n",
              "      <th>Q34_B_Part_3</th>\n",
              "      <th>Q34_B_Part_4</th>\n",
              "      <th>Q34_B_Part_5</th>\n",
              "      <th>Q34_B_Part_6</th>\n",
              "      <th>Q34_B_Part_7</th>\n",
              "      <th>Q34_B_Part_8</th>\n",
              "      <th>Q34_B_Part_9</th>\n",
              "      <th>Q34_B_Part_10</th>\n",
              "      <th>Q34_B_Part_11</th>\n",
              "      <th>Q34_B_OTHER</th>\n",
              "      <th>Q35_B_Part_1</th>\n",
              "      <th>Q35_B_Part_2</th>\n",
              "      <th>Q35_B_Part_3</th>\n",
              "      <th>Q35_B_Part_4</th>\n",
              "      <th>Q35_B_Part_5</th>\n",
              "      <th>Q35_B_Part_6</th>\n",
              "      <th>Q35_B_Part_7</th>\n",
              "      <th>Q35_B_Part_8</th>\n",
              "      <th>Q35_B_Part_9</th>\n",
              "      <th>Q35_B_Part_10</th>\n",
              "      <th>Q35_B_OTHER</th>\n",
              "    </tr>\n",
              "  </thead>\n",
              "  <tbody>\n",
              "    <tr>\n",
              "      <th>0</th>\n",
              "      <td>Duration (in seconds)</td>\n",
              "      <td>What is your age (# years)?</td>\n",
              "      <td>What is your gender? - Selected Choice</td>\n",
              "      <td>In which country do you currently reside?</td>\n",
              "      <td>What is the highest level of formal education ...</td>\n",
              "      <td>Select the title most similar to your current ...</td>\n",
              "      <td>For how many years have you been writing code ...</td>\n",
              "      <td>What programming languages do you use on a reg...</td>\n",
              "      <td>What programming languages do you use on a reg...</td>\n",
              "      <td>What programming languages do you use on a reg...</td>\n",
              "      <td>What programming languages do you use on a reg...</td>\n",
              "      <td>What programming languages do you use on a reg...</td>\n",
              "      <td>What programming languages do you use on a reg...</td>\n",
              "      <td>What programming languages do you use on a reg...</td>\n",
              "      <td>What programming languages do you use on a reg...</td>\n",
              "      <td>What programming languages do you use on a reg...</td>\n",
              "      <td>What programming languages do you use on a reg...</td>\n",
              "      <td>What programming languages do you use on a reg...</td>\n",
              "      <td>What programming languages do you use on a reg...</td>\n",
              "      <td>What programming languages do you use on a reg...</td>\n",
              "      <td>What programming language would you recommend ...</td>\n",
              "      <td>Which of the following integrated development ...</td>\n",
              "      <td>Which of the following integrated development ...</td>\n",
              "      <td>Which of the following integrated development ...</td>\n",
              "      <td>Which of the following integrated development ...</td>\n",
              "      <td>Which of the following integrated development ...</td>\n",
              "      <td>Which of the following integrated development ...</td>\n",
              "      <td>Which of the following integrated development ...</td>\n",
              "      <td>Which of the following integrated development ...</td>\n",
              "      <td>Which of the following integrated development ...</td>\n",
              "      <td>Which of the following integrated development ...</td>\n",
              "      <td>Which of the following integrated development ...</td>\n",
              "      <td>Which of the following integrated development ...</td>\n",
              "      <td>Which of the following hosted notebook product...</td>\n",
              "      <td>Which of the following hosted notebook product...</td>\n",
              "      <td>Which of the following hosted notebook product...</td>\n",
              "      <td>Which of the following hosted notebook product...</td>\n",
              "      <td>Which of the following hosted notebook product...</td>\n",
              "      <td>Which of the following hosted notebook product...</td>\n",
              "      <td>Which of the following hosted notebook product...</td>\n",
              "      <td>...</td>\n",
              "      <td>Which of the following business intelligence t...</td>\n",
              "      <td>Which of the following business intelligence t...</td>\n",
              "      <td>Which of the following business intelligence t...</td>\n",
              "      <td>Which of the following business intelligence t...</td>\n",
              "      <td>Which of the following business intelligence t...</td>\n",
              "      <td>Which of the following business intelligence t...</td>\n",
              "      <td>Which of the following business intelligence t...</td>\n",
              "      <td>Which of the following business intelligence t...</td>\n",
              "      <td>Which of the following business intelligence t...</td>\n",
              "      <td>Which categories of automated machine learning...</td>\n",
              "      <td>Which categories of automated machine learning...</td>\n",
              "      <td>Which categories of automated machine learning...</td>\n",
              "      <td>Which categories of automated machine learning...</td>\n",
              "      <td>Which categories of automated machine learning...</td>\n",
              "      <td>Which categories of automated machine learning...</td>\n",
              "      <td>Which categories of automated machine learning...</td>\n",
              "      <td>Which categories of automated machine learning...</td>\n",
              "      <td>Which specific automated machine learning tool...</td>\n",
              "      <td>Which specific automated machine learning tool...</td>\n",
              "      <td>Which specific automated machine learning tool...</td>\n",
              "      <td>Which specific automated machine learning tool...</td>\n",
              "      <td>Which specific automated machine learning tool...</td>\n",
              "      <td>Which specific automated machine learning tool...</td>\n",
              "      <td>Which specific automated machine learning tool...</td>\n",
              "      <td>Which specific automated machine learning tool...</td>\n",
              "      <td>Which specific automated machine learning tool...</td>\n",
              "      <td>Which specific automated machine learning tool...</td>\n",
              "      <td>Which specific automated machine learning tool...</td>\n",
              "      <td>Which specific automated machine learning tool...</td>\n",
              "      <td>In the next 2 years, do you hope to become mor...</td>\n",
              "      <td>In the next 2 years, do you hope to become mor...</td>\n",
              "      <td>In the next 2 years, do you hope to become mor...</td>\n",
              "      <td>In the next 2 years, do you hope to become mor...</td>\n",
              "      <td>In the next 2 years, do you hope to become mor...</td>\n",
              "      <td>In the next 2 years, do you hope to become mor...</td>\n",
              "      <td>In the next 2 years, do you hope to become mor...</td>\n",
              "      <td>In the next 2 years, do you hope to become mor...</td>\n",
              "      <td>In the next 2 years, do you hope to become mor...</td>\n",
              "      <td>In the next 2 years, do you hope to become mor...</td>\n",
              "      <td>In the next 2 years, do you hope to become mor...</td>\n",
              "    </tr>\n",
              "    <tr>\n",
              "      <th>1</th>\n",
              "      <td>1838</td>\n",
              "      <td>35-39</td>\n",
              "      <td>Man</td>\n",
              "      <td>Colombia</td>\n",
              "      <td>Doctoral degree</td>\n",
              "      <td>Student</td>\n",
              "      <td>5-10 years</td>\n",
              "      <td>Python</td>\n",
              "      <td>R</td>\n",
              "      <td>SQL</td>\n",
              "      <td>C</td>\n",
              "      <td>NaN</td>\n",
              "      <td>NaN</td>\n",
              "      <td>Javascript</td>\n",
              "      <td>NaN</td>\n",
              "      <td>NaN</td>\n",
              "      <td>NaN</td>\n",
              "      <td>MATLAB</td>\n",
              "      <td>NaN</td>\n",
              "      <td>Other</td>\n",
              "      <td>Python</td>\n",
              "      <td>Jupyter (JupyterLab, Jupyter Notebooks, etc)</td>\n",
              "      <td>NaN</td>\n",
              "      <td>NaN</td>\n",
              "      <td>Visual Studio Code (VSCode)</td>\n",
              "      <td>NaN</td>\n",
              "      <td>Spyder</td>\n",
              "      <td>NaN</td>\n",
              "      <td>NaN</td>\n",
              "      <td>NaN</td>\n",
              "      <td>NaN</td>\n",
              "      <td>NaN</td>\n",
              "      <td>NaN</td>\n",
              "      <td>Kaggle Notebooks</td>\n",
              "      <td>Colab Notebooks</td>\n",
              "      <td>NaN</td>\n",
              "      <td>NaN</td>\n",
              "      <td>NaN</td>\n",
              "      <td>NaN</td>\n",
              "      <td>NaN</td>\n",
              "      <td>...</td>\n",
              "      <td>NaN</td>\n",
              "      <td>NaN</td>\n",
              "      <td>NaN</td>\n",
              "      <td>NaN</td>\n",
              "      <td>NaN</td>\n",
              "      <td>NaN</td>\n",
              "      <td>SAP Analytics Cloud</td>\n",
              "      <td>NaN</td>\n",
              "      <td>NaN</td>\n",
              "      <td>Automated data augmentation (e.g. imgaug, albu...</td>\n",
              "      <td>NaN</td>\n",
              "      <td>NaN</td>\n",
              "      <td>NaN</td>\n",
              "      <td>Automated hyperparameter tuning (e.g. hyperopt...</td>\n",
              "      <td>Automation of full ML pipelines (e.g. Google C...</td>\n",
              "      <td>NaN</td>\n",
              "      <td>NaN</td>\n",
              "      <td>Google Cloud AutoML</td>\n",
              "      <td>NaN</td>\n",
              "      <td>Databricks AutoML</td>\n",
              "      <td>NaN</td>\n",
              "      <td>NaN</td>\n",
              "      <td>Auto-Keras</td>\n",
              "      <td>Auto-Sklearn</td>\n",
              "      <td>NaN</td>\n",
              "      <td>NaN</td>\n",
              "      <td>NaN</td>\n",
              "      <td>NaN</td>\n",
              "      <td>NaN</td>\n",
              "      <td>NaN</td>\n",
              "      <td>NaN</td>\n",
              "      <td>NaN</td>\n",
              "      <td>NaN</td>\n",
              "      <td>TensorBoard</td>\n",
              "      <td>NaN</td>\n",
              "      <td>NaN</td>\n",
              "      <td>NaN</td>\n",
              "      <td>NaN</td>\n",
              "      <td>NaN</td>\n",
              "      <td>NaN</td>\n",
              "    </tr>\n",
              "    <tr>\n",
              "      <th>2</th>\n",
              "      <td>289287</td>\n",
              "      <td>30-34</td>\n",
              "      <td>Man</td>\n",
              "      <td>United States of America</td>\n",
              "      <td>Master’s degree</td>\n",
              "      <td>Data Engineer</td>\n",
              "      <td>5-10 years</td>\n",
              "      <td>Python</td>\n",
              "      <td>R</td>\n",
              "      <td>SQL</td>\n",
              "      <td>NaN</td>\n",
              "      <td>NaN</td>\n",
              "      <td>NaN</td>\n",
              "      <td>NaN</td>\n",
              "      <td>NaN</td>\n",
              "      <td>NaN</td>\n",
              "      <td>NaN</td>\n",
              "      <td>NaN</td>\n",
              "      <td>NaN</td>\n",
              "      <td>NaN</td>\n",
              "      <td>Python</td>\n",
              "      <td>NaN</td>\n",
              "      <td>NaN</td>\n",
              "      <td>Visual Studio</td>\n",
              "      <td>NaN</td>\n",
              "      <td>PyCharm</td>\n",
              "      <td>NaN</td>\n",
              "      <td>NaN</td>\n",
              "      <td>Sublime Text</td>\n",
              "      <td>NaN</td>\n",
              "      <td>NaN</td>\n",
              "      <td>NaN</td>\n",
              "      <td>NaN</td>\n",
              "      <td>NaN</td>\n",
              "      <td>Colab Notebooks</td>\n",
              "      <td>NaN</td>\n",
              "      <td>NaN</td>\n",
              "      <td>NaN</td>\n",
              "      <td>NaN</td>\n",
              "      <td>NaN</td>\n",
              "      <td>...</td>\n",
              "      <td>NaN</td>\n",
              "      <td>NaN</td>\n",
              "      <td>NaN</td>\n",
              "      <td>NaN</td>\n",
              "      <td>NaN</td>\n",
              "      <td>NaN</td>\n",
              "      <td>NaN</td>\n",
              "      <td>NaN</td>\n",
              "      <td>NaN</td>\n",
              "      <td>NaN</td>\n",
              "      <td>NaN</td>\n",
              "      <td>NaN</td>\n",
              "      <td>NaN</td>\n",
              "      <td>NaN</td>\n",
              "      <td>NaN</td>\n",
              "      <td>NaN</td>\n",
              "      <td>NaN</td>\n",
              "      <td>NaN</td>\n",
              "      <td>NaN</td>\n",
              "      <td>NaN</td>\n",
              "      <td>NaN</td>\n",
              "      <td>NaN</td>\n",
              "      <td>NaN</td>\n",
              "      <td>NaN</td>\n",
              "      <td>NaN</td>\n",
              "      <td>NaN</td>\n",
              "      <td>NaN</td>\n",
              "      <td>NaN</td>\n",
              "      <td>NaN</td>\n",
              "      <td>NaN</td>\n",
              "      <td>NaN</td>\n",
              "      <td>NaN</td>\n",
              "      <td>NaN</td>\n",
              "      <td>NaN</td>\n",
              "      <td>NaN</td>\n",
              "      <td>NaN</td>\n",
              "      <td>NaN</td>\n",
              "      <td>NaN</td>\n",
              "      <td>NaN</td>\n",
              "      <td>NaN</td>\n",
              "    </tr>\n",
              "    <tr>\n",
              "      <th>3</th>\n",
              "      <td>860</td>\n",
              "      <td>35-39</td>\n",
              "      <td>Man</td>\n",
              "      <td>Argentina</td>\n",
              "      <td>Bachelor’s degree</td>\n",
              "      <td>Software Engineer</td>\n",
              "      <td>10-20 years</td>\n",
              "      <td>NaN</td>\n",
              "      <td>NaN</td>\n",
              "      <td>NaN</td>\n",
              "      <td>NaN</td>\n",
              "      <td>NaN</td>\n",
              "      <td>Java</td>\n",
              "      <td>Javascript</td>\n",
              "      <td>NaN</td>\n",
              "      <td>NaN</td>\n",
              "      <td>Bash</td>\n",
              "      <td>NaN</td>\n",
              "      <td>NaN</td>\n",
              "      <td>NaN</td>\n",
              "      <td>R</td>\n",
              "      <td>NaN</td>\n",
              "      <td>NaN</td>\n",
              "      <td>NaN</td>\n",
              "      <td>Visual Studio Code (VSCode)</td>\n",
              "      <td>NaN</td>\n",
              "      <td>NaN</td>\n",
              "      <td>Notepad++</td>\n",
              "      <td>Sublime Text</td>\n",
              "      <td>Vim / Emacs</td>\n",
              "      <td>NaN</td>\n",
              "      <td>NaN</td>\n",
              "      <td>NaN</td>\n",
              "      <td>NaN</td>\n",
              "      <td>NaN</td>\n",
              "      <td>NaN</td>\n",
              "      <td>NaN</td>\n",
              "      <td>NaN</td>\n",
              "      <td>NaN</td>\n",
              "      <td>NaN</td>\n",
              "      <td>...</td>\n",
              "      <td>NaN</td>\n",
              "      <td>NaN</td>\n",
              "      <td>NaN</td>\n",
              "      <td>NaN</td>\n",
              "      <td>NaN</td>\n",
              "      <td>NaN</td>\n",
              "      <td>NaN</td>\n",
              "      <td>None</td>\n",
              "      <td>NaN</td>\n",
              "      <td>NaN</td>\n",
              "      <td>NaN</td>\n",
              "      <td>NaN</td>\n",
              "      <td>NaN</td>\n",
              "      <td>NaN</td>\n",
              "      <td>NaN</td>\n",
              "      <td>None</td>\n",
              "      <td>NaN</td>\n",
              "      <td>NaN</td>\n",
              "      <td>NaN</td>\n",
              "      <td>NaN</td>\n",
              "      <td>NaN</td>\n",
              "      <td>NaN</td>\n",
              "      <td>NaN</td>\n",
              "      <td>NaN</td>\n",
              "      <td>NaN</td>\n",
              "      <td>NaN</td>\n",
              "      <td>NaN</td>\n",
              "      <td>NaN</td>\n",
              "      <td>NaN</td>\n",
              "      <td>NaN</td>\n",
              "      <td>NaN</td>\n",
              "      <td>NaN</td>\n",
              "      <td>NaN</td>\n",
              "      <td>NaN</td>\n",
              "      <td>NaN</td>\n",
              "      <td>NaN</td>\n",
              "      <td>NaN</td>\n",
              "      <td>NaN</td>\n",
              "      <td>None</td>\n",
              "      <td>NaN</td>\n",
              "    </tr>\n",
              "    <tr>\n",
              "      <th>4</th>\n",
              "      <td>507</td>\n",
              "      <td>30-34</td>\n",
              "      <td>Man</td>\n",
              "      <td>United States of America</td>\n",
              "      <td>Master’s degree</td>\n",
              "      <td>Data Scientist</td>\n",
              "      <td>5-10 years</td>\n",
              "      <td>Python</td>\n",
              "      <td>NaN</td>\n",
              "      <td>SQL</td>\n",
              "      <td>NaN</td>\n",
              "      <td>NaN</td>\n",
              "      <td>NaN</td>\n",
              "      <td>NaN</td>\n",
              "      <td>NaN</td>\n",
              "      <td>NaN</td>\n",
              "      <td>Bash</td>\n",
              "      <td>NaN</td>\n",
              "      <td>NaN</td>\n",
              "      <td>NaN</td>\n",
              "      <td>Python</td>\n",
              "      <td>NaN</td>\n",
              "      <td>NaN</td>\n",
              "      <td>NaN</td>\n",
              "      <td>NaN</td>\n",
              "      <td>PyCharm</td>\n",
              "      <td>NaN</td>\n",
              "      <td>NaN</td>\n",
              "      <td>NaN</td>\n",
              "      <td>NaN</td>\n",
              "      <td>NaN</td>\n",
              "      <td>NaN</td>\n",
              "      <td>NaN</td>\n",
              "      <td>NaN</td>\n",
              "      <td>NaN</td>\n",
              "      <td>NaN</td>\n",
              "      <td>NaN</td>\n",
              "      <td>NaN</td>\n",
              "      <td>NaN</td>\n",
              "      <td>NaN</td>\n",
              "      <td>...</td>\n",
              "      <td>NaN</td>\n",
              "      <td>NaN</td>\n",
              "      <td>NaN</td>\n",
              "      <td>NaN</td>\n",
              "      <td>NaN</td>\n",
              "      <td>NaN</td>\n",
              "      <td>NaN</td>\n",
              "      <td>NaN</td>\n",
              "      <td>NaN</td>\n",
              "      <td>NaN</td>\n",
              "      <td>NaN</td>\n",
              "      <td>NaN</td>\n",
              "      <td>NaN</td>\n",
              "      <td>NaN</td>\n",
              "      <td>NaN</td>\n",
              "      <td>NaN</td>\n",
              "      <td>NaN</td>\n",
              "      <td>NaN</td>\n",
              "      <td>NaN</td>\n",
              "      <td>NaN</td>\n",
              "      <td>NaN</td>\n",
              "      <td>NaN</td>\n",
              "      <td>NaN</td>\n",
              "      <td>NaN</td>\n",
              "      <td>NaN</td>\n",
              "      <td>NaN</td>\n",
              "      <td>NaN</td>\n",
              "      <td>NaN</td>\n",
              "      <td>NaN</td>\n",
              "      <td>NaN</td>\n",
              "      <td>NaN</td>\n",
              "      <td>NaN</td>\n",
              "      <td>NaN</td>\n",
              "      <td>NaN</td>\n",
              "      <td>NaN</td>\n",
              "      <td>NaN</td>\n",
              "      <td>NaN</td>\n",
              "      <td>NaN</td>\n",
              "      <td>NaN</td>\n",
              "      <td>NaN</td>\n",
              "    </tr>\n",
              "  </tbody>\n",
              "</table>\n",
              "<p>5 rows × 355 columns</p>\n",
              "</div>"
            ],
            "text/plain": [
              "  Time from Start to Finish (seconds)  ...                                        Q35_B_OTHER\n",
              "0               Duration (in seconds)  ...  In the next 2 years, do you hope to become mor...\n",
              "1                                1838  ...                                                NaN\n",
              "2                              289287  ...                                                NaN\n",
              "3                                 860  ...                                                NaN\n",
              "4                                 507  ...                                                NaN\n",
              "\n",
              "[5 rows x 355 columns]"
            ]
          },
          "metadata": {},
          "execution_count": 8
        }
      ]
    },
    {
      "cell_type": "code",
      "metadata": {
        "colab": {
          "base_uri": "https://localhost:8080/"
        },
        "id": "rbZDoGJVzmx4",
        "outputId": "c0649259-2a3b-43d5-bcd4-5351ad60d8fa"
      },
      "source": [
        "df.shape"
      ],
      "execution_count": 9,
      "outputs": [
        {
          "output_type": "execute_result",
          "data": {
            "text/plain": [
              "(20037, 355)"
            ]
          },
          "metadata": {},
          "execution_count": 9
        }
      ]
    },
    {
      "cell_type": "code",
      "metadata": {
        "id": "etBI_N2ozskI",
        "colab": {
          "base_uri": "https://localhost:8080/"
        },
        "outputId": "17beea81-29b7-4b6d-8bf1-69507ddd2a49"
      },
      "source": [
        "list(df.columns)"
      ],
      "execution_count": 10,
      "outputs": [
        {
          "output_type": "execute_result",
          "data": {
            "text/plain": [
              "['Time from Start to Finish (seconds)',\n",
              " 'Q1',\n",
              " 'Q2',\n",
              " 'Q3',\n",
              " 'Q4',\n",
              " 'Q5',\n",
              " 'Q6',\n",
              " 'Q7_Part_1',\n",
              " 'Q7_Part_2',\n",
              " 'Q7_Part_3',\n",
              " 'Q7_Part_4',\n",
              " 'Q7_Part_5',\n",
              " 'Q7_Part_6',\n",
              " 'Q7_Part_7',\n",
              " 'Q7_Part_8',\n",
              " 'Q7_Part_9',\n",
              " 'Q7_Part_10',\n",
              " 'Q7_Part_11',\n",
              " 'Q7_Part_12',\n",
              " 'Q7_OTHER',\n",
              " 'Q8',\n",
              " 'Q9_Part_1',\n",
              " 'Q9_Part_2',\n",
              " 'Q9_Part_3',\n",
              " 'Q9_Part_4',\n",
              " 'Q9_Part_5',\n",
              " 'Q9_Part_6',\n",
              " 'Q9_Part_7',\n",
              " 'Q9_Part_8',\n",
              " 'Q9_Part_9',\n",
              " 'Q9_Part_10',\n",
              " 'Q9_Part_11',\n",
              " 'Q9_OTHER',\n",
              " 'Q10_Part_1',\n",
              " 'Q10_Part_2',\n",
              " 'Q10_Part_3',\n",
              " 'Q10_Part_4',\n",
              " 'Q10_Part_5',\n",
              " 'Q10_Part_6',\n",
              " 'Q10_Part_7',\n",
              " 'Q10_Part_8',\n",
              " 'Q10_Part_9',\n",
              " 'Q10_Part_10',\n",
              " 'Q10_Part_11',\n",
              " 'Q10_Part_12',\n",
              " 'Q10_Part_13',\n",
              " 'Q10_OTHER',\n",
              " 'Q11',\n",
              " 'Q12_Part_1',\n",
              " 'Q12_Part_2',\n",
              " 'Q12_Part_3',\n",
              " 'Q12_OTHER',\n",
              " 'Q13',\n",
              " 'Q14_Part_1',\n",
              " 'Q14_Part_2',\n",
              " 'Q14_Part_3',\n",
              " 'Q14_Part_4',\n",
              " 'Q14_Part_5',\n",
              " 'Q14_Part_6',\n",
              " 'Q14_Part_7',\n",
              " 'Q14_Part_8',\n",
              " 'Q14_Part_9',\n",
              " 'Q14_Part_10',\n",
              " 'Q14_Part_11',\n",
              " 'Q14_OTHER',\n",
              " 'Q15',\n",
              " 'Q16_Part_1',\n",
              " 'Q16_Part_2',\n",
              " 'Q16_Part_3',\n",
              " 'Q16_Part_4',\n",
              " 'Q16_Part_5',\n",
              " 'Q16_Part_6',\n",
              " 'Q16_Part_7',\n",
              " 'Q16_Part_8',\n",
              " 'Q16_Part_9',\n",
              " 'Q16_Part_10',\n",
              " 'Q16_Part_11',\n",
              " 'Q16_Part_12',\n",
              " 'Q16_Part_13',\n",
              " 'Q16_Part_14',\n",
              " 'Q16_Part_15',\n",
              " 'Q16_OTHER',\n",
              " 'Q17_Part_1',\n",
              " 'Q17_Part_2',\n",
              " 'Q17_Part_3',\n",
              " 'Q17_Part_4',\n",
              " 'Q17_Part_5',\n",
              " 'Q17_Part_6',\n",
              " 'Q17_Part_7',\n",
              " 'Q17_Part_8',\n",
              " 'Q17_Part_9',\n",
              " 'Q17_Part_10',\n",
              " 'Q17_Part_11',\n",
              " 'Q17_OTHER',\n",
              " 'Q18_Part_1',\n",
              " 'Q18_Part_2',\n",
              " 'Q18_Part_3',\n",
              " 'Q18_Part_4',\n",
              " 'Q18_Part_5',\n",
              " 'Q18_Part_6',\n",
              " 'Q18_OTHER',\n",
              " 'Q19_Part_1',\n",
              " 'Q19_Part_2',\n",
              " 'Q19_Part_3',\n",
              " 'Q19_Part_4',\n",
              " 'Q19_Part_5',\n",
              " 'Q19_OTHER',\n",
              " 'Q20',\n",
              " 'Q21',\n",
              " 'Q22',\n",
              " 'Q23_Part_1',\n",
              " 'Q23_Part_2',\n",
              " 'Q23_Part_3',\n",
              " 'Q23_Part_4',\n",
              " 'Q23_Part_5',\n",
              " 'Q23_Part_6',\n",
              " 'Q23_Part_7',\n",
              " 'Q23_OTHER',\n",
              " 'Q24',\n",
              " 'Q25',\n",
              " 'Q26_A_Part_1',\n",
              " 'Q26_A_Part_2',\n",
              " 'Q26_A_Part_3',\n",
              " 'Q26_A_Part_4',\n",
              " 'Q26_A_Part_5',\n",
              " 'Q26_A_Part_6',\n",
              " 'Q26_A_Part_7',\n",
              " 'Q26_A_Part_8',\n",
              " 'Q26_A_Part_9',\n",
              " 'Q26_A_Part_10',\n",
              " 'Q26_A_Part_11',\n",
              " 'Q26_A_OTHER',\n",
              " 'Q27_A_Part_1',\n",
              " 'Q27_A_Part_2',\n",
              " 'Q27_A_Part_3',\n",
              " 'Q27_A_Part_4',\n",
              " 'Q27_A_Part_5',\n",
              " 'Q27_A_Part_6',\n",
              " 'Q27_A_Part_7',\n",
              " 'Q27_A_Part_8',\n",
              " 'Q27_A_Part_9',\n",
              " 'Q27_A_Part_10',\n",
              " 'Q27_A_Part_11',\n",
              " 'Q27_A_OTHER',\n",
              " 'Q28_A_Part_1',\n",
              " 'Q28_A_Part_2',\n",
              " 'Q28_A_Part_3',\n",
              " 'Q28_A_Part_4',\n",
              " 'Q28_A_Part_5',\n",
              " 'Q28_A_Part_6',\n",
              " 'Q28_A_Part_7',\n",
              " 'Q28_A_Part_8',\n",
              " 'Q28_A_Part_9',\n",
              " 'Q28_A_Part_10',\n",
              " 'Q28_A_OTHER',\n",
              " 'Q29_A_Part_1',\n",
              " 'Q29_A_Part_2',\n",
              " 'Q29_A_Part_3',\n",
              " 'Q29_A_Part_4',\n",
              " 'Q29_A_Part_5',\n",
              " 'Q29_A_Part_6',\n",
              " 'Q29_A_Part_7',\n",
              " 'Q29_A_Part_8',\n",
              " 'Q29_A_Part_9',\n",
              " 'Q29_A_Part_10',\n",
              " 'Q29_A_Part_11',\n",
              " 'Q29_A_Part_12',\n",
              " 'Q29_A_Part_13',\n",
              " 'Q29_A_Part_14',\n",
              " 'Q29_A_Part_15',\n",
              " 'Q29_A_Part_16',\n",
              " 'Q29_A_Part_17',\n",
              " 'Q29_A_OTHER',\n",
              " 'Q30',\n",
              " 'Q31_A_Part_1',\n",
              " 'Q31_A_Part_2',\n",
              " 'Q31_A_Part_3',\n",
              " 'Q31_A_Part_4',\n",
              " 'Q31_A_Part_5',\n",
              " 'Q31_A_Part_6',\n",
              " 'Q31_A_Part_7',\n",
              " 'Q31_A_Part_8',\n",
              " 'Q31_A_Part_9',\n",
              " 'Q31_A_Part_10',\n",
              " 'Q31_A_Part_11',\n",
              " 'Q31_A_Part_12',\n",
              " 'Q31_A_Part_13',\n",
              " 'Q31_A_Part_14',\n",
              " 'Q31_A_OTHER',\n",
              " 'Q32',\n",
              " 'Q33_A_Part_1',\n",
              " 'Q33_A_Part_2',\n",
              " 'Q33_A_Part_3',\n",
              " 'Q33_A_Part_4',\n",
              " 'Q33_A_Part_5',\n",
              " 'Q33_A_Part_6',\n",
              " 'Q33_A_Part_7',\n",
              " 'Q33_A_OTHER',\n",
              " 'Q34_A_Part_1',\n",
              " 'Q34_A_Part_2',\n",
              " 'Q34_A_Part_3',\n",
              " 'Q34_A_Part_4',\n",
              " 'Q34_A_Part_5',\n",
              " 'Q34_A_Part_6',\n",
              " 'Q34_A_Part_7',\n",
              " 'Q34_A_Part_8',\n",
              " 'Q34_A_Part_9',\n",
              " 'Q34_A_Part_10',\n",
              " 'Q34_A_Part_11',\n",
              " 'Q34_A_OTHER',\n",
              " 'Q35_A_Part_1',\n",
              " 'Q35_A_Part_2',\n",
              " 'Q35_A_Part_3',\n",
              " 'Q35_A_Part_4',\n",
              " 'Q35_A_Part_5',\n",
              " 'Q35_A_Part_6',\n",
              " 'Q35_A_Part_7',\n",
              " 'Q35_A_Part_8',\n",
              " 'Q35_A_Part_9',\n",
              " 'Q35_A_Part_10',\n",
              " 'Q35_A_OTHER',\n",
              " 'Q36_Part_1',\n",
              " 'Q36_Part_2',\n",
              " 'Q36_Part_3',\n",
              " 'Q36_Part_4',\n",
              " 'Q36_Part_5',\n",
              " 'Q36_Part_6',\n",
              " 'Q36_Part_7',\n",
              " 'Q36_Part_8',\n",
              " 'Q36_Part_9',\n",
              " 'Q36_OTHER',\n",
              " 'Q37_Part_1',\n",
              " 'Q37_Part_2',\n",
              " 'Q37_Part_3',\n",
              " 'Q37_Part_4',\n",
              " 'Q37_Part_5',\n",
              " 'Q37_Part_6',\n",
              " 'Q37_Part_7',\n",
              " 'Q37_Part_8',\n",
              " 'Q37_Part_9',\n",
              " 'Q37_Part_10',\n",
              " 'Q37_Part_11',\n",
              " 'Q37_OTHER',\n",
              " 'Q38',\n",
              " 'Q39_Part_1',\n",
              " 'Q39_Part_2',\n",
              " 'Q39_Part_3',\n",
              " 'Q39_Part_4',\n",
              " 'Q39_Part_5',\n",
              " 'Q39_Part_6',\n",
              " 'Q39_Part_7',\n",
              " 'Q39_Part_8',\n",
              " 'Q39_Part_9',\n",
              " 'Q39_Part_10',\n",
              " 'Q39_Part_11',\n",
              " 'Q39_OTHER',\n",
              " 'Q26_B_Part_1',\n",
              " 'Q26_B_Part_2',\n",
              " 'Q26_B_Part_3',\n",
              " 'Q26_B_Part_4',\n",
              " 'Q26_B_Part_5',\n",
              " 'Q26_B_Part_6',\n",
              " 'Q26_B_Part_7',\n",
              " 'Q26_B_Part_8',\n",
              " 'Q26_B_Part_9',\n",
              " 'Q26_B_Part_10',\n",
              " 'Q26_B_Part_11',\n",
              " 'Q26_B_OTHER',\n",
              " 'Q27_B_Part_1',\n",
              " 'Q27_B_Part_2',\n",
              " 'Q27_B_Part_3',\n",
              " 'Q27_B_Part_4',\n",
              " 'Q27_B_Part_5',\n",
              " 'Q27_B_Part_6',\n",
              " 'Q27_B_Part_7',\n",
              " 'Q27_B_Part_8',\n",
              " 'Q27_B_Part_9',\n",
              " 'Q27_B_Part_10',\n",
              " 'Q27_B_Part_11',\n",
              " 'Q27_B_OTHER',\n",
              " 'Q28_B_Part_1',\n",
              " 'Q28_B_Part_2',\n",
              " 'Q28_B_Part_3',\n",
              " 'Q28_B_Part_4',\n",
              " 'Q28_B_Part_5',\n",
              " 'Q28_B_Part_6',\n",
              " 'Q28_B_Part_7',\n",
              " 'Q28_B_Part_8',\n",
              " 'Q28_B_Part_9',\n",
              " 'Q28_B_Part_10',\n",
              " 'Q28_B_OTHER',\n",
              " 'Q29_B_Part_1',\n",
              " 'Q29_B_Part_2',\n",
              " 'Q29_B_Part_3',\n",
              " 'Q29_B_Part_4',\n",
              " 'Q29_B_Part_5',\n",
              " 'Q29_B_Part_6',\n",
              " 'Q29_B_Part_7',\n",
              " 'Q29_B_Part_8',\n",
              " 'Q29_B_Part_9',\n",
              " 'Q29_B_Part_10',\n",
              " 'Q29_B_Part_11',\n",
              " 'Q29_B_Part_12',\n",
              " 'Q29_B_Part_13',\n",
              " 'Q29_B_Part_14',\n",
              " 'Q29_B_Part_15',\n",
              " 'Q29_B_Part_16',\n",
              " 'Q29_B_Part_17',\n",
              " 'Q29_B_OTHER',\n",
              " 'Q31_B_Part_1',\n",
              " 'Q31_B_Part_2',\n",
              " 'Q31_B_Part_3',\n",
              " 'Q31_B_Part_4',\n",
              " 'Q31_B_Part_5',\n",
              " 'Q31_B_Part_6',\n",
              " 'Q31_B_Part_7',\n",
              " 'Q31_B_Part_8',\n",
              " 'Q31_B_Part_9',\n",
              " 'Q31_B_Part_10',\n",
              " 'Q31_B_Part_11',\n",
              " 'Q31_B_Part_12',\n",
              " 'Q31_B_Part_13',\n",
              " 'Q31_B_Part_14',\n",
              " 'Q31_B_OTHER',\n",
              " 'Q33_B_Part_1',\n",
              " 'Q33_B_Part_2',\n",
              " 'Q33_B_Part_3',\n",
              " 'Q33_B_Part_4',\n",
              " 'Q33_B_Part_5',\n",
              " 'Q33_B_Part_6',\n",
              " 'Q33_B_Part_7',\n",
              " 'Q33_B_OTHER',\n",
              " 'Q34_B_Part_1',\n",
              " 'Q34_B_Part_2',\n",
              " 'Q34_B_Part_3',\n",
              " 'Q34_B_Part_4',\n",
              " 'Q34_B_Part_5',\n",
              " 'Q34_B_Part_6',\n",
              " 'Q34_B_Part_7',\n",
              " 'Q34_B_Part_8',\n",
              " 'Q34_B_Part_9',\n",
              " 'Q34_B_Part_10',\n",
              " 'Q34_B_Part_11',\n",
              " 'Q34_B_OTHER',\n",
              " 'Q35_B_Part_1',\n",
              " 'Q35_B_Part_2',\n",
              " 'Q35_B_Part_3',\n",
              " 'Q35_B_Part_4',\n",
              " 'Q35_B_Part_5',\n",
              " 'Q35_B_Part_6',\n",
              " 'Q35_B_Part_7',\n",
              " 'Q35_B_Part_8',\n",
              " 'Q35_B_Part_9',\n",
              " 'Q35_B_Part_10',\n",
              " 'Q35_B_OTHER']"
            ]
          },
          "metadata": {},
          "execution_count": 10
        }
      ]
    },
    {
      "cell_type": "code",
      "metadata": {
        "id": "HSuP81RtmCAW"
      },
      "source": [
        "df=df.iloc[1:]"
      ],
      "execution_count": 11,
      "outputs": []
    },
    {
      "cell_type": "markdown",
      "metadata": {
        "id": "j3tlgQD1LMe0"
      },
      "source": [
        "#Q1: Tuổi của người khảo sát"
      ]
    },
    {
      "cell_type": "code",
      "metadata": {
        "colab": {
          "base_uri": "https://localhost:8080/"
        },
        "id": "vbX4gF90NJ_7",
        "outputId": "4fec42dd-b67f-42a8-fcdf-ae614c92019e"
      },
      "source": [
        "df['Q1'].value_counts()"
      ],
      "execution_count": null,
      "outputs": [
        {
          "output_type": "execute_result",
          "data": {
            "text/plain": [
              "25-29    4011\n",
              "22-24    3786\n",
              "18-21    3469\n",
              "30-34    2811\n",
              "35-39    1991\n",
              "40-44    1397\n",
              "45-49     988\n",
              "50-54     698\n",
              "55-59     411\n",
              "60-69     398\n",
              "70+        76\n",
              "Name: Q1, dtype: int64"
            ]
          },
          "metadata": {},
          "execution_count": 37
        }
      ]
    },
    {
      "cell_type": "code",
      "metadata": {
        "colab": {
          "base_uri": "https://localhost:8080/"
        },
        "id": "VAXDltTXNMBC",
        "outputId": "b15ac2b2-6415-405d-cca7-d0b321387f15"
      },
      "source": [
        "df['Q1'].isnull().sum(axis=0)"
      ],
      "execution_count": null,
      "outputs": [
        {
          "output_type": "execute_result",
          "data": {
            "text/plain": [
              "0"
            ]
          },
          "metadata": {},
          "execution_count": 38
        }
      ]
    },
    {
      "cell_type": "code",
      "metadata": {
        "colab": {
          "base_uri": "https://localhost:8080/"
        },
        "id": "BCvR1Jlg3_ZF",
        "outputId": "8c0f3bee-54cb-4bab-a713-5eba00e82189"
      },
      "source": [
        "# age max, age min\n",
        "df['Q1_Part_1'], df['Q1_Part_2'] = df['Q1'].str.split('-', 1).str\n",
        "# Ở cột age max('Q1_part_2') những sample bị thiếu là những sample có age thuộc khoảng 70+ nên ở cột ('Q1_part_2') giá trị null sẽ được điền là 75\n",
        "df['Q1_Part_2']=df['Q1_Part_2'].fillna(75)"
      ],
      "execution_count": null,
      "outputs": [
        {
          "output_type": "stream",
          "name": "stderr",
          "text": [
            "/usr/local/lib/python3.7/dist-packages/ipykernel_launcher.py:2: FutureWarning:\n",
            "\n",
            "Columnar iteration over characters will be deprecated in future releases.\n",
            "\n"
          ]
        }
      ]
    },
    {
      "cell_type": "code",
      "metadata": {
        "id": "wMcS2eiUPG0S"
      },
      "source": [
        "# Chuyển kiểu dữ liệu của 2 attribute age min'Q1_Part_1' và age max'Q1_Part_2' thành kiểu float\n",
        "\n",
        "df[\"Q1_Part_1\"] = pd.to_numeric(df[\"Q1_Part_1\"], errors='coerce').astype('float')\n",
        "df[\"Q1_Part_2\"] = pd.to_numeric(df[\"Q1_Part_2\"], errors='coerce').astype('float')"
      ],
      "execution_count": null,
      "outputs": []
    },
    {
      "cell_type": "code",
      "metadata": {
        "id": "rHB6h4H3TqJ6"
      },
      "source": [
        "# Lấy trung bình tuổi\n",
        "df['Q1'] = (df['Q1_Part_1'] + df['Q1_Part_2'])/2"
      ],
      "execution_count": null,
      "outputs": []
    },
    {
      "cell_type": "code",
      "metadata": {
        "colab": {
          "base_uri": "https://localhost:8080/",
          "height": 542
        },
        "id": "KqsMz_DdRviB",
        "outputId": "f8fb7848-1468-4374-c7d4-48a1deac852a"
      },
      "source": [
        "import matplotlib.pyplot as plt\n",
        "import seaborn as sns\n",
        "import plotly.express as px\n",
        "\n",
        "age = pd.DataFrame(df['Q1'].value_counts())\n",
        "age.sort_index(inplace=True)\n",
        "age.reset_index(inplace = True)\n",
        "age.columns = [\"Age\", \"Count\"]\n",
        "\n",
        "\n",
        "fig = px.bar(data_frame=age, \n",
        "      x = \"Age\", \n",
        "      y = \"Count\", \n",
        "      title= \"Age Distribution\", \n",
        "      template=\"seaborn\")\n",
        "fig.update_layout(title_x=0.5)\n",
        "\n"
      ],
      "execution_count": null,
      "outputs": [
        {
          "output_type": "display_data",
          "data": {
            "text/html": [
              "<html>\n",
              "<head><meta charset=\"utf-8\" /></head>\n",
              "<body>\n",
              "    <div>\n",
              "            <script src=\"https://cdnjs.cloudflare.com/ajax/libs/mathjax/2.7.5/MathJax.js?config=TeX-AMS-MML_SVG\"></script><script type=\"text/javascript\">if (window.MathJax) {MathJax.Hub.Config({SVG: {font: \"STIX-Web\"}});}</script>\n",
              "                <script type=\"text/javascript\">window.PlotlyConfig = {MathJaxConfig: 'local'};</script>\n",
              "        <script src=\"https://cdn.plot.ly/plotly-latest.min.js\"></script>    \n",
              "            <div id=\"aef8bc7f-e57f-4430-bc63-ed8ca772acb8\" class=\"plotly-graph-div\" style=\"height:525px; width:100%;\"></div>\n",
              "            <script type=\"text/javascript\">\n",
              "                \n",
              "                    window.PLOTLYENV=window.PLOTLYENV || {};\n",
              "                    \n",
              "                if (document.getElementById(\"aef8bc7f-e57f-4430-bc63-ed8ca772acb8\")) {\n",
              "                    Plotly.newPlot(\n",
              "                        'aef8bc7f-e57f-4430-bc63-ed8ca772acb8',\n",
              "                        [{\"alignmentgroup\": \"True\", \"hoverlabel\": {\"namelength\": 0}, \"hovertemplate\": \"Age=%{x}<br>Count=%{y}\", \"legendgroup\": \"\", \"marker\": {\"color\": \"rgb(76,114,176)\"}, \"name\": \"\", \"offsetgroup\": \"\", \"orientation\": \"v\", \"showlegend\": false, \"textposition\": \"auto\", \"type\": \"bar\", \"x\": [19.5, 23.0, 27.0, 32.0, 37.0, 42.0, 47.0, 52.0, 57.0, 64.5], \"xaxis\": \"x\", \"y\": [3469, 3786, 4011, 2811, 1991, 1397, 988, 698, 411, 398], \"yaxis\": \"y\"}],\n",
              "                        {\"barmode\": \"relative\", \"legend\": {\"tracegroupgap\": 0}, \"template\": {\"data\": {\"bar\": [{\"error_x\": {\"color\": \"rgb(36,36,36)\"}, \"error_y\": {\"color\": \"rgb(36,36,36)\"}, \"marker\": {\"line\": {\"color\": \"rgb(234,234,242)\", \"width\": 0.5}}, \"type\": \"bar\"}], \"barpolar\": [{\"marker\": {\"line\": {\"color\": \"rgb(234,234,242)\", \"width\": 0.5}}, \"type\": \"barpolar\"}], \"carpet\": [{\"aaxis\": {\"endlinecolor\": \"rgb(36,36,36)\", \"gridcolor\": \"white\", \"linecolor\": \"white\", \"minorgridcolor\": \"white\", \"startlinecolor\": \"rgb(36,36,36)\"}, \"baxis\": {\"endlinecolor\": \"rgb(36,36,36)\", \"gridcolor\": \"white\", \"linecolor\": \"white\", \"minorgridcolor\": \"white\", \"startlinecolor\": \"rgb(36,36,36)\"}, \"type\": \"carpet\"}], \"choropleth\": [{\"colorbar\": {\"outlinewidth\": 0, \"tickcolor\": \"rgb(36,36,36)\", \"ticklen\": 8, \"ticks\": \"outside\", \"tickwidth\": 2}, \"type\": \"choropleth\"}], \"contour\": [{\"colorbar\": {\"outlinewidth\": 0, \"tickcolor\": \"rgb(36,36,36)\", \"ticklen\": 8, \"ticks\": \"outside\", \"tickwidth\": 2}, \"colorscale\": [[0.0, \"rgb(2,4,25)\"], [0.06274509803921569, \"rgb(24,15,41)\"], [0.12549019607843137, \"rgb(47,23,57)\"], [0.18823529411764706, \"rgb(71,28,72)\"], [0.25098039215686274, \"rgb(97,30,82)\"], [0.3137254901960784, \"rgb(123,30,89)\"], [0.3764705882352941, \"rgb(150,27,91)\"], [0.4392156862745098, \"rgb(177,22,88)\"], [0.5019607843137255, \"rgb(203,26,79)\"], [0.5647058823529412, \"rgb(223,47,67)\"], [0.6274509803921569, \"rgb(236,76,61)\"], [0.6901960784313725, \"rgb(242,107,73)\"], [0.7529411764705882, \"rgb(244,135,95)\"], [0.8156862745098039, \"rgb(245,162,122)\"], [0.8784313725490196, \"rgb(246,188,153)\"], [0.9411764705882353, \"rgb(247,212,187)\"], [1.0, \"rgb(250,234,220)\"]], \"type\": \"contour\"}], \"contourcarpet\": [{\"colorbar\": {\"outlinewidth\": 0, \"tickcolor\": \"rgb(36,36,36)\", \"ticklen\": 8, \"ticks\": \"outside\", \"tickwidth\": 2}, \"type\": \"contourcarpet\"}], \"heatmap\": [{\"colorbar\": {\"outlinewidth\": 0, \"tickcolor\": \"rgb(36,36,36)\", \"ticklen\": 8, \"ticks\": \"outside\", \"tickwidth\": 2}, \"colorscale\": [[0.0, \"rgb(2,4,25)\"], [0.06274509803921569, \"rgb(24,15,41)\"], [0.12549019607843137, \"rgb(47,23,57)\"], [0.18823529411764706, \"rgb(71,28,72)\"], [0.25098039215686274, \"rgb(97,30,82)\"], [0.3137254901960784, \"rgb(123,30,89)\"], [0.3764705882352941, \"rgb(150,27,91)\"], [0.4392156862745098, \"rgb(177,22,88)\"], [0.5019607843137255, \"rgb(203,26,79)\"], [0.5647058823529412, \"rgb(223,47,67)\"], [0.6274509803921569, \"rgb(236,76,61)\"], [0.6901960784313725, \"rgb(242,107,73)\"], [0.7529411764705882, \"rgb(244,135,95)\"], [0.8156862745098039, \"rgb(245,162,122)\"], [0.8784313725490196, \"rgb(246,188,153)\"], [0.9411764705882353, \"rgb(247,212,187)\"], [1.0, \"rgb(250,234,220)\"]], \"type\": \"heatmap\"}], \"heatmapgl\": [{\"colorbar\": {\"outlinewidth\": 0, \"tickcolor\": \"rgb(36,36,36)\", \"ticklen\": 8, \"ticks\": \"outside\", \"tickwidth\": 2}, \"colorscale\": [[0.0, \"rgb(2,4,25)\"], [0.06274509803921569, \"rgb(24,15,41)\"], [0.12549019607843137, \"rgb(47,23,57)\"], [0.18823529411764706, \"rgb(71,28,72)\"], [0.25098039215686274, \"rgb(97,30,82)\"], [0.3137254901960784, \"rgb(123,30,89)\"], [0.3764705882352941, \"rgb(150,27,91)\"], [0.4392156862745098, \"rgb(177,22,88)\"], [0.5019607843137255, \"rgb(203,26,79)\"], [0.5647058823529412, \"rgb(223,47,67)\"], [0.6274509803921569, \"rgb(236,76,61)\"], [0.6901960784313725, \"rgb(242,107,73)\"], [0.7529411764705882, \"rgb(244,135,95)\"], [0.8156862745098039, \"rgb(245,162,122)\"], [0.8784313725490196, \"rgb(246,188,153)\"], [0.9411764705882353, \"rgb(247,212,187)\"], [1.0, \"rgb(250,234,220)\"]], \"type\": \"heatmapgl\"}], \"histogram\": [{\"marker\": {\"colorbar\": {\"outlinewidth\": 0, \"tickcolor\": \"rgb(36,36,36)\", \"ticklen\": 8, \"ticks\": \"outside\", \"tickwidth\": 2}}, \"type\": \"histogram\"}], \"histogram2d\": [{\"colorbar\": {\"outlinewidth\": 0, \"tickcolor\": \"rgb(36,36,36)\", \"ticklen\": 8, \"ticks\": \"outside\", \"tickwidth\": 2}, \"colorscale\": [[0.0, \"rgb(2,4,25)\"], [0.06274509803921569, \"rgb(24,15,41)\"], [0.12549019607843137, \"rgb(47,23,57)\"], [0.18823529411764706, \"rgb(71,28,72)\"], [0.25098039215686274, \"rgb(97,30,82)\"], [0.3137254901960784, \"rgb(123,30,89)\"], [0.3764705882352941, \"rgb(150,27,91)\"], [0.4392156862745098, \"rgb(177,22,88)\"], [0.5019607843137255, \"rgb(203,26,79)\"], [0.5647058823529412, \"rgb(223,47,67)\"], [0.6274509803921569, \"rgb(236,76,61)\"], [0.6901960784313725, \"rgb(242,107,73)\"], [0.7529411764705882, \"rgb(244,135,95)\"], [0.8156862745098039, \"rgb(245,162,122)\"], [0.8784313725490196, \"rgb(246,188,153)\"], [0.9411764705882353, \"rgb(247,212,187)\"], [1.0, \"rgb(250,234,220)\"]], \"type\": \"histogram2d\"}], \"histogram2dcontour\": [{\"colorbar\": {\"outlinewidth\": 0, \"tickcolor\": \"rgb(36,36,36)\", \"ticklen\": 8, \"ticks\": \"outside\", \"tickwidth\": 2}, \"colorscale\": [[0.0, \"rgb(2,4,25)\"], [0.06274509803921569, \"rgb(24,15,41)\"], [0.12549019607843137, \"rgb(47,23,57)\"], [0.18823529411764706, \"rgb(71,28,72)\"], [0.25098039215686274, \"rgb(97,30,82)\"], [0.3137254901960784, \"rgb(123,30,89)\"], [0.3764705882352941, \"rgb(150,27,91)\"], [0.4392156862745098, \"rgb(177,22,88)\"], [0.5019607843137255, \"rgb(203,26,79)\"], [0.5647058823529412, \"rgb(223,47,67)\"], [0.6274509803921569, \"rgb(236,76,61)\"], [0.6901960784313725, \"rgb(242,107,73)\"], [0.7529411764705882, \"rgb(244,135,95)\"], [0.8156862745098039, \"rgb(245,162,122)\"], [0.8784313725490196, \"rgb(246,188,153)\"], [0.9411764705882353, \"rgb(247,212,187)\"], [1.0, \"rgb(250,234,220)\"]], \"type\": \"histogram2dcontour\"}], \"mesh3d\": [{\"colorbar\": {\"outlinewidth\": 0, \"tickcolor\": \"rgb(36,36,36)\", \"ticklen\": 8, \"ticks\": \"outside\", \"tickwidth\": 2}, \"type\": \"mesh3d\"}], \"parcoords\": [{\"line\": {\"colorbar\": {\"outlinewidth\": 0, \"tickcolor\": \"rgb(36,36,36)\", \"ticklen\": 8, \"ticks\": \"outside\", \"tickwidth\": 2}}, \"type\": \"parcoords\"}], \"pie\": [{\"automargin\": true, \"type\": \"pie\"}], \"scatter\": [{\"marker\": {\"colorbar\": {\"outlinewidth\": 0, \"tickcolor\": \"rgb(36,36,36)\", \"ticklen\": 8, \"ticks\": \"outside\", \"tickwidth\": 2}}, \"type\": \"scatter\"}], \"scatter3d\": [{\"line\": {\"colorbar\": {\"outlinewidth\": 0, \"tickcolor\": \"rgb(36,36,36)\", \"ticklen\": 8, \"ticks\": \"outside\", \"tickwidth\": 2}}, \"marker\": {\"colorbar\": {\"outlinewidth\": 0, \"tickcolor\": \"rgb(36,36,36)\", \"ticklen\": 8, \"ticks\": \"outside\", \"tickwidth\": 2}}, \"type\": \"scatter3d\"}], \"scattercarpet\": [{\"marker\": {\"colorbar\": {\"outlinewidth\": 0, \"tickcolor\": \"rgb(36,36,36)\", \"ticklen\": 8, \"ticks\": \"outside\", \"tickwidth\": 2}}, \"type\": \"scattercarpet\"}], \"scattergeo\": [{\"marker\": {\"colorbar\": {\"outlinewidth\": 0, \"tickcolor\": \"rgb(36,36,36)\", \"ticklen\": 8, \"ticks\": \"outside\", \"tickwidth\": 2}}, \"type\": \"scattergeo\"}], \"scattergl\": [{\"marker\": {\"colorbar\": {\"outlinewidth\": 0, \"tickcolor\": \"rgb(36,36,36)\", \"ticklen\": 8, \"ticks\": \"outside\", \"tickwidth\": 2}}, \"type\": \"scattergl\"}], \"scattermapbox\": [{\"marker\": {\"colorbar\": {\"outlinewidth\": 0, \"tickcolor\": \"rgb(36,36,36)\", \"ticklen\": 8, \"ticks\": \"outside\", \"tickwidth\": 2}}, \"type\": \"scattermapbox\"}], \"scatterpolar\": [{\"marker\": {\"colorbar\": {\"outlinewidth\": 0, \"tickcolor\": \"rgb(36,36,36)\", \"ticklen\": 8, \"ticks\": \"outside\", \"tickwidth\": 2}}, \"type\": \"scatterpolar\"}], \"scatterpolargl\": [{\"marker\": {\"colorbar\": {\"outlinewidth\": 0, \"tickcolor\": \"rgb(36,36,36)\", \"ticklen\": 8, \"ticks\": \"outside\", \"tickwidth\": 2}}, \"type\": \"scatterpolargl\"}], \"scatterternary\": [{\"marker\": {\"colorbar\": {\"outlinewidth\": 0, \"tickcolor\": \"rgb(36,36,36)\", \"ticklen\": 8, \"ticks\": \"outside\", \"tickwidth\": 2}}, \"type\": \"scatterternary\"}], \"surface\": [{\"colorbar\": {\"outlinewidth\": 0, \"tickcolor\": \"rgb(36,36,36)\", \"ticklen\": 8, \"ticks\": \"outside\", \"tickwidth\": 2}, \"colorscale\": [[0.0, \"rgb(2,4,25)\"], [0.06274509803921569, \"rgb(24,15,41)\"], [0.12549019607843137, \"rgb(47,23,57)\"], [0.18823529411764706, \"rgb(71,28,72)\"], [0.25098039215686274, \"rgb(97,30,82)\"], [0.3137254901960784, \"rgb(123,30,89)\"], [0.3764705882352941, \"rgb(150,27,91)\"], [0.4392156862745098, \"rgb(177,22,88)\"], [0.5019607843137255, \"rgb(203,26,79)\"], [0.5647058823529412, \"rgb(223,47,67)\"], [0.6274509803921569, \"rgb(236,76,61)\"], [0.6901960784313725, \"rgb(242,107,73)\"], [0.7529411764705882, \"rgb(244,135,95)\"], [0.8156862745098039, \"rgb(245,162,122)\"], [0.8784313725490196, \"rgb(246,188,153)\"], [0.9411764705882353, \"rgb(247,212,187)\"], [1.0, \"rgb(250,234,220)\"]], \"type\": \"surface\"}], \"table\": [{\"cells\": {\"fill\": {\"color\": \"rgb(231,231,240)\"}, \"line\": {\"color\": \"white\"}}, \"header\": {\"fill\": {\"color\": \"rgb(183,183,191)\"}, \"line\": {\"color\": \"white\"}}, \"type\": \"table\"}]}, \"layout\": {\"annotationdefaults\": {\"arrowcolor\": \"rgb(67,103,167)\"}, \"coloraxis\": {\"colorbar\": {\"outlinewidth\": 0, \"tickcolor\": \"rgb(36,36,36)\", \"ticklen\": 8, \"ticks\": \"outside\", \"tickwidth\": 2}}, \"colorscale\": {\"sequential\": [[0.0, \"rgb(2,4,25)\"], [0.06274509803921569, \"rgb(24,15,41)\"], [0.12549019607843137, \"rgb(47,23,57)\"], [0.18823529411764706, \"rgb(71,28,72)\"], [0.25098039215686274, \"rgb(97,30,82)\"], [0.3137254901960784, \"rgb(123,30,89)\"], [0.3764705882352941, \"rgb(150,27,91)\"], [0.4392156862745098, \"rgb(177,22,88)\"], [0.5019607843137255, \"rgb(203,26,79)\"], [0.5647058823529412, \"rgb(223,47,67)\"], [0.6274509803921569, \"rgb(236,76,61)\"], [0.6901960784313725, \"rgb(242,107,73)\"], [0.7529411764705882, \"rgb(244,135,95)\"], [0.8156862745098039, \"rgb(245,162,122)\"], [0.8784313725490196, \"rgb(246,188,153)\"], [0.9411764705882353, \"rgb(247,212,187)\"], [1.0, \"rgb(250,234,220)\"]], \"sequentialminus\": [[0.0, \"rgb(2,4,25)\"], [0.06274509803921569, \"rgb(24,15,41)\"], [0.12549019607843137, \"rgb(47,23,57)\"], [0.18823529411764706, \"rgb(71,28,72)\"], [0.25098039215686274, \"rgb(97,30,82)\"], [0.3137254901960784, \"rgb(123,30,89)\"], [0.3764705882352941, \"rgb(150,27,91)\"], [0.4392156862745098, \"rgb(177,22,88)\"], [0.5019607843137255, \"rgb(203,26,79)\"], [0.5647058823529412, \"rgb(223,47,67)\"], [0.6274509803921569, \"rgb(236,76,61)\"], [0.6901960784313725, \"rgb(242,107,73)\"], [0.7529411764705882, \"rgb(244,135,95)\"], [0.8156862745098039, \"rgb(245,162,122)\"], [0.8784313725490196, \"rgb(246,188,153)\"], [0.9411764705882353, \"rgb(247,212,187)\"], [1.0, \"rgb(250,234,220)\"]]}, \"colorway\": [\"rgb(76,114,176)\", \"rgb(221,132,82)\", \"rgb(85,168,104)\", \"rgb(196,78,82)\", \"rgb(129,114,179)\", \"rgb(147,120,96)\", \"rgb(218,139,195)\", \"rgb(140,140,140)\", \"rgb(204,185,116)\", \"rgb(100,181,205)\"], \"font\": {\"color\": \"rgb(36,36,36)\"}, \"geo\": {\"bgcolor\": \"white\", \"lakecolor\": \"white\", \"landcolor\": \"rgb(234,234,242)\", \"showlakes\": true, \"showland\": true, \"subunitcolor\": \"white\"}, \"hoverlabel\": {\"align\": \"left\"}, \"hovermode\": \"closest\", \"paper_bgcolor\": \"white\", \"plot_bgcolor\": \"rgb(234,234,242)\", \"polar\": {\"angularaxis\": {\"gridcolor\": \"white\", \"linecolor\": \"white\", \"showgrid\": true, \"ticks\": \"\"}, \"bgcolor\": \"rgb(234,234,242)\", \"radialaxis\": {\"gridcolor\": \"white\", \"linecolor\": \"white\", \"showgrid\": true, \"ticks\": \"\"}}, \"scene\": {\"xaxis\": {\"backgroundcolor\": \"rgb(234,234,242)\", \"gridcolor\": \"white\", \"gridwidth\": 2, \"linecolor\": \"white\", \"showbackground\": true, \"showgrid\": true, \"ticks\": \"\", \"zerolinecolor\": \"white\"}, \"yaxis\": {\"backgroundcolor\": \"rgb(234,234,242)\", \"gridcolor\": \"white\", \"gridwidth\": 2, \"linecolor\": \"white\", \"showbackground\": true, \"showgrid\": true, \"ticks\": \"\", \"zerolinecolor\": \"white\"}, \"zaxis\": {\"backgroundcolor\": \"rgb(234,234,242)\", \"gridcolor\": \"white\", \"gridwidth\": 2, \"linecolor\": \"white\", \"showbackground\": true, \"showgrid\": true, \"ticks\": \"\", \"zerolinecolor\": \"white\"}}, \"shapedefaults\": {\"fillcolor\": \"rgb(67,103,167)\", \"line\": {\"width\": 0}, \"opacity\": 0.5}, \"ternary\": {\"aaxis\": {\"gridcolor\": \"white\", \"linecolor\": \"white\", \"showgrid\": true, \"ticks\": \"\"}, \"baxis\": {\"gridcolor\": \"white\", \"linecolor\": \"white\", \"showgrid\": true, \"ticks\": \"\"}, \"bgcolor\": \"rgb(234,234,242)\", \"caxis\": {\"gridcolor\": \"white\", \"linecolor\": \"white\", \"showgrid\": true, \"ticks\": \"\"}}, \"xaxis\": {\"automargin\": true, \"gridcolor\": \"white\", \"linecolor\": \"white\", \"showgrid\": true, \"ticks\": \"\", \"title\": {\"standoff\": 15}, \"zerolinecolor\": \"white\"}, \"yaxis\": {\"automargin\": true, \"gridcolor\": \"white\", \"linecolor\": \"white\", \"showgrid\": true, \"ticks\": \"\", \"title\": {\"standoff\": 15}, \"zerolinecolor\": \"white\"}}}, \"title\": {\"text\": \"Age Distribution\", \"x\": 0.5}, \"xaxis\": {\"anchor\": \"y\", \"domain\": [0.0, 1.0], \"title\": {\"text\": \"Age\"}}, \"yaxis\": {\"anchor\": \"x\", \"domain\": [0.0, 1.0], \"title\": {\"text\": \"Count\"}}},\n",
              "                        {\"responsive\": true}\n",
              "                    ).then(function(){\n",
              "                            \n",
              "var gd = document.getElementById('aef8bc7f-e57f-4430-bc63-ed8ca772acb8');\n",
              "var x = new MutationObserver(function (mutations, observer) {{\n",
              "        var display = window.getComputedStyle(gd).display;\n",
              "        if (!display || display === 'none') {{\n",
              "            console.log([gd, 'removed!']);\n",
              "            Plotly.purge(gd);\n",
              "            observer.disconnect();\n",
              "        }}\n",
              "}});\n",
              "\n",
              "// Listen for the removal of the full notebook cells\n",
              "var notebookContainer = gd.closest('#notebook-container');\n",
              "if (notebookContainer) {{\n",
              "    x.observe(notebookContainer, {childList: true});\n",
              "}}\n",
              "\n",
              "// Listen for the clearing of the current output cell\n",
              "var outputEl = gd.closest('.output');\n",
              "if (outputEl) {{\n",
              "    x.observe(outputEl, {childList: true});\n",
              "}}\n",
              "\n",
              "                        })\n",
              "                };\n",
              "                \n",
              "            </script>\n",
              "        </div>\n",
              "</body>\n",
              "</html>"
            ]
          },
          "metadata": {}
        }
      ]
    },
    {
      "cell_type": "markdown",
      "metadata": {
        "id": "oUwWa-0ZfXIQ"
      },
      "source": [
        "Từ biểu đồ trên, ta thấy được rằng độ tuổi từ 25-29 chiếm nhiều nhất và sau đó là những độ tuổi từ 18-21, 22-24 "
      ]
    },
    {
      "cell_type": "markdown",
      "metadata": {
        "id": "GZcFLyf9NA-C"
      },
      "source": [
        "#Q2: Giới tính"
      ]
    },
    {
      "cell_type": "code",
      "metadata": {
        "colab": {
          "base_uri": "https://localhost:8080/"
        },
        "id": "9d1y5H0UdGZq",
        "outputId": "1a55a8d5-fb48-4875-8c3c-edf115e1b77f"
      },
      "source": [
        "df['Q2'].value_counts()"
      ],
      "execution_count": null,
      "outputs": [
        {
          "output_type": "execute_result",
          "data": {
            "text/plain": [
              "Man                                       15789\n",
              "Woman                                      3878\n",
              "Prefer not to say                           263\n",
              "Prefer to self-describe                      54\n",
              "Nonbinary                                    52\n",
              "What is your gender? - Selected Choice        1\n",
              "Name: Q2, dtype: int64"
            ]
          },
          "metadata": {},
          "execution_count": 48
        }
      ]
    },
    {
      "cell_type": "markdown",
      "metadata": {
        "id": "aUQRbuMdeQDt"
      },
      "source": [
        "Q2: giới tính"
      ]
    },
    {
      "cell_type": "code",
      "metadata": {
        "colab": {
          "base_uri": "https://localhost:8080/"
        },
        "id": "Y6xVwdws7v-u",
        "outputId": "f546b11a-54c4-4df9-bb38-6815aa5a8bb3"
      },
      "source": [
        "\n",
        "df['Q2'].isnull().sum(axis = 0)"
      ],
      "execution_count": null,
      "outputs": [
        {
          "output_type": "execute_result",
          "data": {
            "text/plain": [
              "0"
            ]
          },
          "metadata": {},
          "execution_count": 44
        }
      ]
    },
    {
      "cell_type": "code",
      "metadata": {
        "colab": {
          "base_uri": "https://localhost:8080/",
          "height": 542
        },
        "id": "mI22qnUFjdiE",
        "outputId": "0be3bdf0-d523-4f39-b894-fe06ad2b9552"
      },
      "source": [
        "gender = pd.DataFrame(df['Q2'].value_counts())\n",
        "gender.sort_index(inplace=True)\n",
        "gender.reset_index(inplace = True)\n",
        "gender.columns = [\"Gender\", \"Count\"]\n",
        "gender\n",
        "\n",
        "fig = px.bar(data_frame=gender, \n",
        "      x = \"Gender\", \n",
        "      y = \"Count\", \n",
        "      title= \"Gender Distribution\", \n",
        "      template=\"seaborn\")\n",
        "fig.update_layout(title_x=0.5)"
      ],
      "execution_count": null,
      "outputs": [
        {
          "output_type": "display_data",
          "data": {
            "text/html": [
              "<html>\n",
              "<head><meta charset=\"utf-8\" /></head>\n",
              "<body>\n",
              "    <div>\n",
              "            <script src=\"https://cdnjs.cloudflare.com/ajax/libs/mathjax/2.7.5/MathJax.js?config=TeX-AMS-MML_SVG\"></script><script type=\"text/javascript\">if (window.MathJax) {MathJax.Hub.Config({SVG: {font: \"STIX-Web\"}});}</script>\n",
              "                <script type=\"text/javascript\">window.PlotlyConfig = {MathJaxConfig: 'local'};</script>\n",
              "        <script src=\"https://cdn.plot.ly/plotly-latest.min.js\"></script>    \n",
              "            <div id=\"773d5a8c-32b5-419e-a2ed-c31d75017d07\" class=\"plotly-graph-div\" style=\"height:525px; width:100%;\"></div>\n",
              "            <script type=\"text/javascript\">\n",
              "                \n",
              "                    window.PLOTLYENV=window.PLOTLYENV || {};\n",
              "                    \n",
              "                if (document.getElementById(\"773d5a8c-32b5-419e-a2ed-c31d75017d07\")) {\n",
              "                    Plotly.newPlot(\n",
              "                        '773d5a8c-32b5-419e-a2ed-c31d75017d07',\n",
              "                        [{\"alignmentgroup\": \"True\", \"hoverlabel\": {\"namelength\": 0}, \"hovertemplate\": \"Gender=%{x}<br>Count=%{y}\", \"legendgroup\": \"\", \"marker\": {\"color\": \"rgb(76,114,176)\"}, \"name\": \"\", \"offsetgroup\": \"\", \"orientation\": \"v\", \"showlegend\": false, \"textposition\": \"auto\", \"type\": \"bar\", \"x\": [\"Man\", \"Nonbinary\", \"Prefer not to say\", \"Prefer to self-describe\", \"Woman\"], \"xaxis\": \"x\", \"y\": [15789, 52, 263, 54, 3878], \"yaxis\": \"y\"}],\n",
              "                        {\"barmode\": \"relative\", \"legend\": {\"tracegroupgap\": 0}, \"template\": {\"data\": {\"bar\": [{\"error_x\": {\"color\": \"rgb(36,36,36)\"}, \"error_y\": {\"color\": \"rgb(36,36,36)\"}, \"marker\": {\"line\": {\"color\": \"rgb(234,234,242)\", \"width\": 0.5}}, \"type\": \"bar\"}], \"barpolar\": [{\"marker\": {\"line\": {\"color\": \"rgb(234,234,242)\", \"width\": 0.5}}, \"type\": \"barpolar\"}], \"carpet\": [{\"aaxis\": {\"endlinecolor\": \"rgb(36,36,36)\", \"gridcolor\": \"white\", \"linecolor\": \"white\", \"minorgridcolor\": \"white\", \"startlinecolor\": \"rgb(36,36,36)\"}, \"baxis\": {\"endlinecolor\": \"rgb(36,36,36)\", \"gridcolor\": \"white\", \"linecolor\": \"white\", \"minorgridcolor\": \"white\", \"startlinecolor\": \"rgb(36,36,36)\"}, \"type\": \"carpet\"}], \"choropleth\": [{\"colorbar\": {\"outlinewidth\": 0, \"tickcolor\": \"rgb(36,36,36)\", \"ticklen\": 8, \"ticks\": \"outside\", \"tickwidth\": 2}, \"type\": \"choropleth\"}], \"contour\": [{\"colorbar\": {\"outlinewidth\": 0, \"tickcolor\": \"rgb(36,36,36)\", \"ticklen\": 8, \"ticks\": \"outside\", \"tickwidth\": 2}, \"colorscale\": [[0.0, \"rgb(2,4,25)\"], [0.06274509803921569, \"rgb(24,15,41)\"], [0.12549019607843137, \"rgb(47,23,57)\"], [0.18823529411764706, \"rgb(71,28,72)\"], [0.25098039215686274, \"rgb(97,30,82)\"], [0.3137254901960784, \"rgb(123,30,89)\"], [0.3764705882352941, \"rgb(150,27,91)\"], [0.4392156862745098, \"rgb(177,22,88)\"], [0.5019607843137255, \"rgb(203,26,79)\"], [0.5647058823529412, \"rgb(223,47,67)\"], [0.6274509803921569, \"rgb(236,76,61)\"], [0.6901960784313725, \"rgb(242,107,73)\"], [0.7529411764705882, \"rgb(244,135,95)\"], [0.8156862745098039, \"rgb(245,162,122)\"], [0.8784313725490196, \"rgb(246,188,153)\"], [0.9411764705882353, \"rgb(247,212,187)\"], [1.0, \"rgb(250,234,220)\"]], \"type\": \"contour\"}], \"contourcarpet\": [{\"colorbar\": {\"outlinewidth\": 0, \"tickcolor\": \"rgb(36,36,36)\", \"ticklen\": 8, \"ticks\": \"outside\", \"tickwidth\": 2}, \"type\": \"contourcarpet\"}], \"heatmap\": [{\"colorbar\": {\"outlinewidth\": 0, \"tickcolor\": \"rgb(36,36,36)\", \"ticklen\": 8, \"ticks\": \"outside\", \"tickwidth\": 2}, \"colorscale\": [[0.0, \"rgb(2,4,25)\"], [0.06274509803921569, \"rgb(24,15,41)\"], [0.12549019607843137, \"rgb(47,23,57)\"], [0.18823529411764706, \"rgb(71,28,72)\"], [0.25098039215686274, \"rgb(97,30,82)\"], [0.3137254901960784, \"rgb(123,30,89)\"], [0.3764705882352941, \"rgb(150,27,91)\"], [0.4392156862745098, \"rgb(177,22,88)\"], [0.5019607843137255, \"rgb(203,26,79)\"], [0.5647058823529412, \"rgb(223,47,67)\"], [0.6274509803921569, \"rgb(236,76,61)\"], [0.6901960784313725, \"rgb(242,107,73)\"], [0.7529411764705882, \"rgb(244,135,95)\"], [0.8156862745098039, \"rgb(245,162,122)\"], [0.8784313725490196, \"rgb(246,188,153)\"], [0.9411764705882353, \"rgb(247,212,187)\"], [1.0, \"rgb(250,234,220)\"]], \"type\": \"heatmap\"}], \"heatmapgl\": [{\"colorbar\": {\"outlinewidth\": 0, \"tickcolor\": \"rgb(36,36,36)\", \"ticklen\": 8, \"ticks\": \"outside\", \"tickwidth\": 2}, \"colorscale\": [[0.0, \"rgb(2,4,25)\"], [0.06274509803921569, \"rgb(24,15,41)\"], [0.12549019607843137, \"rgb(47,23,57)\"], [0.18823529411764706, \"rgb(71,28,72)\"], [0.25098039215686274, \"rgb(97,30,82)\"], [0.3137254901960784, \"rgb(123,30,89)\"], [0.3764705882352941, \"rgb(150,27,91)\"], [0.4392156862745098, \"rgb(177,22,88)\"], [0.5019607843137255, \"rgb(203,26,79)\"], [0.5647058823529412, \"rgb(223,47,67)\"], [0.6274509803921569, \"rgb(236,76,61)\"], [0.6901960784313725, \"rgb(242,107,73)\"], [0.7529411764705882, \"rgb(244,135,95)\"], [0.8156862745098039, \"rgb(245,162,122)\"], [0.8784313725490196, \"rgb(246,188,153)\"], [0.9411764705882353, \"rgb(247,212,187)\"], [1.0, \"rgb(250,234,220)\"]], \"type\": \"heatmapgl\"}], \"histogram\": [{\"marker\": {\"colorbar\": {\"outlinewidth\": 0, \"tickcolor\": \"rgb(36,36,36)\", \"ticklen\": 8, \"ticks\": \"outside\", \"tickwidth\": 2}}, \"type\": \"histogram\"}], \"histogram2d\": [{\"colorbar\": {\"outlinewidth\": 0, \"tickcolor\": \"rgb(36,36,36)\", \"ticklen\": 8, \"ticks\": \"outside\", \"tickwidth\": 2}, \"colorscale\": [[0.0, \"rgb(2,4,25)\"], [0.06274509803921569, \"rgb(24,15,41)\"], [0.12549019607843137, \"rgb(47,23,57)\"], [0.18823529411764706, \"rgb(71,28,72)\"], [0.25098039215686274, \"rgb(97,30,82)\"], [0.3137254901960784, \"rgb(123,30,89)\"], [0.3764705882352941, \"rgb(150,27,91)\"], [0.4392156862745098, \"rgb(177,22,88)\"], [0.5019607843137255, \"rgb(203,26,79)\"], [0.5647058823529412, \"rgb(223,47,67)\"], [0.6274509803921569, \"rgb(236,76,61)\"], [0.6901960784313725, \"rgb(242,107,73)\"], [0.7529411764705882, \"rgb(244,135,95)\"], [0.8156862745098039, \"rgb(245,162,122)\"], [0.8784313725490196, \"rgb(246,188,153)\"], [0.9411764705882353, \"rgb(247,212,187)\"], [1.0, \"rgb(250,234,220)\"]], \"type\": \"histogram2d\"}], \"histogram2dcontour\": [{\"colorbar\": {\"outlinewidth\": 0, \"tickcolor\": \"rgb(36,36,36)\", \"ticklen\": 8, \"ticks\": \"outside\", \"tickwidth\": 2}, \"colorscale\": [[0.0, \"rgb(2,4,25)\"], [0.06274509803921569, \"rgb(24,15,41)\"], [0.12549019607843137, \"rgb(47,23,57)\"], [0.18823529411764706, \"rgb(71,28,72)\"], [0.25098039215686274, \"rgb(97,30,82)\"], [0.3137254901960784, \"rgb(123,30,89)\"], [0.3764705882352941, \"rgb(150,27,91)\"], [0.4392156862745098, \"rgb(177,22,88)\"], [0.5019607843137255, \"rgb(203,26,79)\"], [0.5647058823529412, \"rgb(223,47,67)\"], [0.6274509803921569, \"rgb(236,76,61)\"], [0.6901960784313725, \"rgb(242,107,73)\"], [0.7529411764705882, \"rgb(244,135,95)\"], [0.8156862745098039, \"rgb(245,162,122)\"], [0.8784313725490196, \"rgb(246,188,153)\"], [0.9411764705882353, \"rgb(247,212,187)\"], [1.0, \"rgb(250,234,220)\"]], \"type\": \"histogram2dcontour\"}], \"mesh3d\": [{\"colorbar\": {\"outlinewidth\": 0, \"tickcolor\": \"rgb(36,36,36)\", \"ticklen\": 8, \"ticks\": \"outside\", \"tickwidth\": 2}, \"type\": \"mesh3d\"}], \"parcoords\": [{\"line\": {\"colorbar\": {\"outlinewidth\": 0, \"tickcolor\": \"rgb(36,36,36)\", \"ticklen\": 8, \"ticks\": \"outside\", \"tickwidth\": 2}}, \"type\": \"parcoords\"}], \"pie\": [{\"automargin\": true, \"type\": \"pie\"}], \"scatter\": [{\"marker\": {\"colorbar\": {\"outlinewidth\": 0, \"tickcolor\": \"rgb(36,36,36)\", \"ticklen\": 8, \"ticks\": \"outside\", \"tickwidth\": 2}}, \"type\": \"scatter\"}], \"scatter3d\": [{\"line\": {\"colorbar\": {\"outlinewidth\": 0, \"tickcolor\": \"rgb(36,36,36)\", \"ticklen\": 8, \"ticks\": \"outside\", \"tickwidth\": 2}}, \"marker\": {\"colorbar\": {\"outlinewidth\": 0, \"tickcolor\": \"rgb(36,36,36)\", \"ticklen\": 8, \"ticks\": \"outside\", \"tickwidth\": 2}}, \"type\": \"scatter3d\"}], \"scattercarpet\": [{\"marker\": {\"colorbar\": {\"outlinewidth\": 0, \"tickcolor\": \"rgb(36,36,36)\", \"ticklen\": 8, \"ticks\": \"outside\", \"tickwidth\": 2}}, \"type\": \"scattercarpet\"}], \"scattergeo\": [{\"marker\": {\"colorbar\": {\"outlinewidth\": 0, \"tickcolor\": \"rgb(36,36,36)\", \"ticklen\": 8, \"ticks\": \"outside\", \"tickwidth\": 2}}, \"type\": \"scattergeo\"}], \"scattergl\": [{\"marker\": {\"colorbar\": {\"outlinewidth\": 0, \"tickcolor\": \"rgb(36,36,36)\", \"ticklen\": 8, \"ticks\": \"outside\", \"tickwidth\": 2}}, \"type\": \"scattergl\"}], \"scattermapbox\": [{\"marker\": {\"colorbar\": {\"outlinewidth\": 0, \"tickcolor\": \"rgb(36,36,36)\", \"ticklen\": 8, \"ticks\": \"outside\", \"tickwidth\": 2}}, \"type\": \"scattermapbox\"}], \"scatterpolar\": [{\"marker\": {\"colorbar\": {\"outlinewidth\": 0, \"tickcolor\": \"rgb(36,36,36)\", \"ticklen\": 8, \"ticks\": \"outside\", \"tickwidth\": 2}}, \"type\": \"scatterpolar\"}], \"scatterpolargl\": [{\"marker\": {\"colorbar\": {\"outlinewidth\": 0, \"tickcolor\": \"rgb(36,36,36)\", \"ticklen\": 8, \"ticks\": \"outside\", \"tickwidth\": 2}}, \"type\": \"scatterpolargl\"}], \"scatterternary\": [{\"marker\": {\"colorbar\": {\"outlinewidth\": 0, \"tickcolor\": \"rgb(36,36,36)\", \"ticklen\": 8, \"ticks\": \"outside\", \"tickwidth\": 2}}, \"type\": \"scatterternary\"}], \"surface\": [{\"colorbar\": {\"outlinewidth\": 0, \"tickcolor\": \"rgb(36,36,36)\", \"ticklen\": 8, \"ticks\": \"outside\", \"tickwidth\": 2}, \"colorscale\": [[0.0, \"rgb(2,4,25)\"], [0.06274509803921569, \"rgb(24,15,41)\"], [0.12549019607843137, \"rgb(47,23,57)\"], [0.18823529411764706, \"rgb(71,28,72)\"], [0.25098039215686274, \"rgb(97,30,82)\"], [0.3137254901960784, \"rgb(123,30,89)\"], [0.3764705882352941, \"rgb(150,27,91)\"], [0.4392156862745098, \"rgb(177,22,88)\"], [0.5019607843137255, \"rgb(203,26,79)\"], [0.5647058823529412, \"rgb(223,47,67)\"], [0.6274509803921569, \"rgb(236,76,61)\"], [0.6901960784313725, \"rgb(242,107,73)\"], [0.7529411764705882, \"rgb(244,135,95)\"], [0.8156862745098039, \"rgb(245,162,122)\"], [0.8784313725490196, \"rgb(246,188,153)\"], [0.9411764705882353, \"rgb(247,212,187)\"], [1.0, \"rgb(250,234,220)\"]], \"type\": \"surface\"}], \"table\": [{\"cells\": {\"fill\": {\"color\": \"rgb(231,231,240)\"}, \"line\": {\"color\": \"white\"}}, \"header\": {\"fill\": {\"color\": \"rgb(183,183,191)\"}, \"line\": {\"color\": \"white\"}}, \"type\": \"table\"}]}, \"layout\": {\"annotationdefaults\": {\"arrowcolor\": \"rgb(67,103,167)\"}, \"coloraxis\": {\"colorbar\": {\"outlinewidth\": 0, \"tickcolor\": \"rgb(36,36,36)\", \"ticklen\": 8, \"ticks\": \"outside\", \"tickwidth\": 2}}, \"colorscale\": {\"sequential\": [[0.0, \"rgb(2,4,25)\"], [0.06274509803921569, \"rgb(24,15,41)\"], [0.12549019607843137, \"rgb(47,23,57)\"], [0.18823529411764706, \"rgb(71,28,72)\"], [0.25098039215686274, \"rgb(97,30,82)\"], [0.3137254901960784, \"rgb(123,30,89)\"], [0.3764705882352941, \"rgb(150,27,91)\"], [0.4392156862745098, \"rgb(177,22,88)\"], [0.5019607843137255, \"rgb(203,26,79)\"], [0.5647058823529412, \"rgb(223,47,67)\"], [0.6274509803921569, \"rgb(236,76,61)\"], [0.6901960784313725, \"rgb(242,107,73)\"], [0.7529411764705882, \"rgb(244,135,95)\"], [0.8156862745098039, \"rgb(245,162,122)\"], [0.8784313725490196, \"rgb(246,188,153)\"], [0.9411764705882353, \"rgb(247,212,187)\"], [1.0, \"rgb(250,234,220)\"]], \"sequentialminus\": [[0.0, \"rgb(2,4,25)\"], [0.06274509803921569, \"rgb(24,15,41)\"], [0.12549019607843137, \"rgb(47,23,57)\"], [0.18823529411764706, \"rgb(71,28,72)\"], [0.25098039215686274, \"rgb(97,30,82)\"], [0.3137254901960784, \"rgb(123,30,89)\"], [0.3764705882352941, \"rgb(150,27,91)\"], [0.4392156862745098, \"rgb(177,22,88)\"], [0.5019607843137255, \"rgb(203,26,79)\"], [0.5647058823529412, \"rgb(223,47,67)\"], [0.6274509803921569, \"rgb(236,76,61)\"], [0.6901960784313725, \"rgb(242,107,73)\"], [0.7529411764705882, \"rgb(244,135,95)\"], [0.8156862745098039, \"rgb(245,162,122)\"], [0.8784313725490196, \"rgb(246,188,153)\"], [0.9411764705882353, \"rgb(247,212,187)\"], [1.0, \"rgb(250,234,220)\"]]}, \"colorway\": [\"rgb(76,114,176)\", \"rgb(221,132,82)\", \"rgb(85,168,104)\", \"rgb(196,78,82)\", \"rgb(129,114,179)\", \"rgb(147,120,96)\", \"rgb(218,139,195)\", \"rgb(140,140,140)\", \"rgb(204,185,116)\", \"rgb(100,181,205)\"], \"font\": {\"color\": \"rgb(36,36,36)\"}, \"geo\": {\"bgcolor\": \"white\", \"lakecolor\": \"white\", \"landcolor\": \"rgb(234,234,242)\", \"showlakes\": true, \"showland\": true, \"subunitcolor\": \"white\"}, \"hoverlabel\": {\"align\": \"left\"}, \"hovermode\": \"closest\", \"paper_bgcolor\": \"white\", \"plot_bgcolor\": \"rgb(234,234,242)\", \"polar\": {\"angularaxis\": {\"gridcolor\": \"white\", \"linecolor\": \"white\", \"showgrid\": true, \"ticks\": \"\"}, \"bgcolor\": \"rgb(234,234,242)\", \"radialaxis\": {\"gridcolor\": \"white\", \"linecolor\": \"white\", \"showgrid\": true, \"ticks\": \"\"}}, \"scene\": {\"xaxis\": {\"backgroundcolor\": \"rgb(234,234,242)\", \"gridcolor\": \"white\", \"gridwidth\": 2, \"linecolor\": \"white\", \"showbackground\": true, \"showgrid\": true, \"ticks\": \"\", \"zerolinecolor\": \"white\"}, \"yaxis\": {\"backgroundcolor\": \"rgb(234,234,242)\", \"gridcolor\": \"white\", \"gridwidth\": 2, \"linecolor\": \"white\", \"showbackground\": true, \"showgrid\": true, \"ticks\": \"\", \"zerolinecolor\": \"white\"}, \"zaxis\": {\"backgroundcolor\": \"rgb(234,234,242)\", \"gridcolor\": \"white\", \"gridwidth\": 2, \"linecolor\": \"white\", \"showbackground\": true, \"showgrid\": true, \"ticks\": \"\", \"zerolinecolor\": \"white\"}}, \"shapedefaults\": {\"fillcolor\": \"rgb(67,103,167)\", \"line\": {\"width\": 0}, \"opacity\": 0.5}, \"ternary\": {\"aaxis\": {\"gridcolor\": \"white\", \"linecolor\": \"white\", \"showgrid\": true, \"ticks\": \"\"}, \"baxis\": {\"gridcolor\": \"white\", \"linecolor\": \"white\", \"showgrid\": true, \"ticks\": \"\"}, \"bgcolor\": \"rgb(234,234,242)\", \"caxis\": {\"gridcolor\": \"white\", \"linecolor\": \"white\", \"showgrid\": true, \"ticks\": \"\"}}, \"xaxis\": {\"automargin\": true, \"gridcolor\": \"white\", \"linecolor\": \"white\", \"showgrid\": true, \"ticks\": \"\", \"title\": {\"standoff\": 15}, \"zerolinecolor\": \"white\"}, \"yaxis\": {\"automargin\": true, \"gridcolor\": \"white\", \"linecolor\": \"white\", \"showgrid\": true, \"ticks\": \"\", \"title\": {\"standoff\": 15}, \"zerolinecolor\": \"white\"}}}, \"title\": {\"text\": \"Gender Distribution\", \"x\": 0.5}, \"xaxis\": {\"anchor\": \"y\", \"domain\": [0.0, 1.0], \"title\": {\"text\": \"Gender\"}}, \"yaxis\": {\"anchor\": \"x\", \"domain\": [0.0, 1.0], \"title\": {\"text\": \"Count\"}}},\n",
              "                        {\"responsive\": true}\n",
              "                    ).then(function(){\n",
              "                            \n",
              "var gd = document.getElementById('773d5a8c-32b5-419e-a2ed-c31d75017d07');\n",
              "var x = new MutationObserver(function (mutations, observer) {{\n",
              "        var display = window.getComputedStyle(gd).display;\n",
              "        if (!display || display === 'none') {{\n",
              "            console.log([gd, 'removed!']);\n",
              "            Plotly.purge(gd);\n",
              "            observer.disconnect();\n",
              "        }}\n",
              "}});\n",
              "\n",
              "// Listen for the removal of the full notebook cells\n",
              "var notebookContainer = gd.closest('#notebook-container');\n",
              "if (notebookContainer) {{\n",
              "    x.observe(notebookContainer, {childList: true});\n",
              "}}\n",
              "\n",
              "// Listen for the clearing of the current output cell\n",
              "var outputEl = gd.closest('.output');\n",
              "if (outputEl) {{\n",
              "    x.observe(outputEl, {childList: true});\n",
              "}}\n",
              "\n",
              "                        })\n",
              "                };\n",
              "                \n",
              "            </script>\n",
              "        </div>\n",
              "</body>\n",
              "</html>"
            ]
          },
          "metadata": {}
        }
      ]
    },
    {
      "cell_type": "code",
      "metadata": {
        "colab": {
          "base_uri": "https://localhost:8080/",
          "height": 542
        },
        "id": "-R0p2Z7HUU4y",
        "outputId": "188aff97-9930-4bf3-c74c-0ad815eb5f13"
      },
      "source": [
        "fig = px.pie(data_frame=df, \n",
        "             names='Q2', \n",
        "             color_discrete_sequence=px.colors.sequential.Teal_r[2:], \n",
        "             labels={\"Q2\":\"Gender\"}, \n",
        "             title = \"Gender Distribution\", \n",
        "             template=\"seaborn\"\n",
        "            )\n",
        "fig.update_layout(\n",
        "    title_x=0.5,\n",
        "    autosize = True\n",
        ")\n",
        "fig.update_traces(textposition='inside', \n",
        "                  textinfo='percent+label')"
      ],
      "execution_count": null,
      "outputs": [
        {
          "output_type": "display_data",
          "data": {
            "text/html": [
              "<html>\n",
              "<head><meta charset=\"utf-8\" /></head>\n",
              "<body>\n",
              "    <div>\n",
              "            <script src=\"https://cdnjs.cloudflare.com/ajax/libs/mathjax/2.7.5/MathJax.js?config=TeX-AMS-MML_SVG\"></script><script type=\"text/javascript\">if (window.MathJax) {MathJax.Hub.Config({SVG: {font: \"STIX-Web\"}});}</script>\n",
              "                <script type=\"text/javascript\">window.PlotlyConfig = {MathJaxConfig: 'local'};</script>\n",
              "        <script src=\"https://cdn.plot.ly/plotly-latest.min.js\"></script>    \n",
              "            <div id=\"67467ef5-a421-411f-8867-0d666a739187\" class=\"plotly-graph-div\" style=\"height:525px; width:100%;\"></div>\n",
              "            <script type=\"text/javascript\">\n",
              "                \n",
              "                    window.PLOTLYENV=window.PLOTLYENV || {};\n",
              "                    \n",
              "                if (document.getElementById(\"67467ef5-a421-411f-8867-0d666a739187\")) {\n",
              "                    Plotly.newPlot(\n",
              "                        '67467ef5-a421-411f-8867-0d666a739187',\n",
              "                        [{\"domain\": {\"x\": [0.0, 1.0], \"y\": [0.0, 1.0]}, \"hoverlabel\": {\"namelength\": 0}, \"hovertemplate\": \"Gender=%{label}\", \"labels\": [\"Man\", \"Man\", \"Man\", \"Man\", \"Man\", \"Man\", \"Man\", \"Woman\", \"Man\", \"Man\", \"Man\", \"Man\", \"Man\", \"Man\", \"Man\", \"Woman\", \"Woman\", \"Man\", \"Man\", \"Man\", \"Woman\", \"Man\", \"Woman\", \"Man\", \"Man\", \"Woman\", \"Man\", \"Man\", \"Man\", \"Man\", \"Woman\", \"Man\", \"Man\", \"Woman\", \"Woman\", \"Man\", \"Man\", \"Man\", \"Man\", \"Man\", \"Man\", \"Man\", \"Man\", \"Man\", \"Woman\", \"Man\", \"Man\", \"Man\", \"Woman\", \"Man\", \"Woman\", \"Man\", \"Man\", \"Man\", \"Man\", \"Man\", \"Man\", \"Woman\", \"Man\", \"Man\", \"Woman\", \"Woman\", \"Man\", \"Prefer to self-describe\", \"Man\", \"Man\", \"Woman\", \"Woman\", \"Man\", \"Woman\", \"Man\", \"Man\", \"Woman\", \"Man\", \"Man\", \"Man\", \"Prefer not to say\", \"Man\", \"Man\", \"Man\", \"Man\", \"Man\", \"Woman\", \"Man\", \"Man\", \"Man\", \"Man\", \"Woman\", \"Man\", \"Man\", \"Man\", \"Woman\", \"Man\", \"Man\", \"Man\", \"Man\", \"Woman\", \"Man\", \"Woman\", \"Woman\", \"Man\", \"Woman\", \"Woman\", \"Man\", \"Man\", \"Man\", \"Woman\", \"Man\", \"Woman\", \"Man\", \"Man\", \"Man\", \"Man\", \"Man\", \"Woman\", \"Man\", \"Man\", \"Man\", \"Woman\", \"Man\", \"Woman\", \"Man\", \"Man\", \"Woman\", \"Man\", \"Man\", \"Man\", \"Man\", \"Man\", \"Man\", \"Man\", \"Woman\", \"Man\", \"Man\", \"Man\", \"Man\", \"Man\", \"Man\", \"Woman\", \"Woman\", \"Woman\", \"Man\", \"Man\", \"Man\", \"Man\", \"Man\", \"Man\", \"Man\", \"Man\", \"Man\", \"Man\", \"Woman\", \"Man\", \"Man\", \"Man\", \"Woman\", \"Woman\", \"Woman\", \"Man\", \"Woman\", \"Man\", \"Man\", \"Man\", \"Man\", \"Man\", \"Man\", \"Man\", \"Man\", \"Woman\", \"Man\", \"Man\", \"Woman\", \"Man\", \"Man\", \"Man\", \"Man\", \"Man\", \"Man\", \"Man\", \"Woman\", \"Woman\", \"Man\", \"Man\", \"Woman\", \"Man\", \"Man\", \"Man\", \"Woman\", \"Man\", \"Man\", \"Man\", \"Woman\", \"Man\", \"Man\", \"Man\", \"Man\", \"Woman\", \"Man\", \"Woman\", \"Woman\", \"Woman\", \"Woman\", \"Man\", \"Man\", \"Man\", \"Man\", \"Man\", \"Man\", \"Man\", \"Man\", \"Man\", \"Man\", \"Man\", \"Woman\", \"Man\", \"Man\", \"Woman\", \"Man\", \"Man\", \"Woman\", \"Woman\", \"Woman\", \"Man\", \"Woman\", \"Man\", \"Man\", \"Woman\", \"Man\", \"Man\", \"Man\", \"Man\", \"Man\", \"Woman\", \"Man\", \"Man\", \"Man\", \"Man\", \"Man\", \"Man\", \"Man\", \"Man\", \"Woman\", \"Man\", \"Woman\", \"Man\", \"Man\", \"Man\", \"Man\", \"Man\", \"Man\", \"Woman\", \"Man\", \"Man\", \"Man\", \"Man\", \"Man\", \"Man\", \"Man\", \"Man\", \"Man\", \"Woman\", \"Man\", \"Woman\", \"Man\", \"Man\", \"Man\", \"Man\", \"Man\", \"Woman\", \"Man\", \"Man\", \"Man\", \"Woman\", \"Man\", \"Man\", \"Man\", \"Man\", \"Man\", \"Man\", \"Man\", \"Man\", \"Woman\", \"Man\", \"Woman\", \"Man\", \"Man\", \"Man\", \"Man\", \"Man\", \"Woman\", \"Man\", \"Man\", \"Man\", \"Man\", \"Man\", \"Man\", \"Woman\", \"Woman\", \"Man\", \"Man\", \"Man\", \"Man\", \"Man\", \"Man\", \"Man\", \"Man\", \"Man\", \"Woman\", \"Woman\", \"Woman\", \"Man\", \"Man\", \"Man\", \"Man\", \"Man\", \"Man\", \"Man\", \"Man\", \"Man\", \"Man\", \"Man\", \"Man\", \"Woman\", \"Woman\", \"Man\", \"Man\", \"Man\", \"Man\", \"Man\", \"Man\", \"Man\", \"Man\", \"Man\", \"Man\", \"Man\", \"Man\", \"Man\", \"Man\", \"Man\", \"Man\", \"Man\", \"Man\", \"Man\", \"Man\", \"Man\", \"Man\", \"Man\", \"Man\", \"Man\", \"Man\", \"Man\", \"Man\", \"Man\", \"Man\", \"Man\", \"Man\", \"Man\", \"Man\", \"Man\", \"Man\", \"Man\", \"Man\", \"Man\", \"Man\", \"Man\", \"Man\", \"Man\", \"Man\", \"Man\", \"Man\", \"Man\", \"Man\", \"Woman\", \"Man\", \"Man\", \"Woman\", \"Man\", \"Man\", \"Man\", \"Man\", \"Man\", \"Man\", \"Woman\", \"Woman\", \"Woman\", \"Man\", \"Man\", \"Man\", \"Man\", \"Man\", \"Woman\", \"Woman\", \"Man\", \"Man\", \"Man\", \"Man\", \"Man\", \"Man\", \"Man\", \"Man\", \"Man\", \"Woman\", \"Man\", \"Man\", \"Man\", \"Man\", \"Man\", \"Man\", \"Man\", \"Woman\", \"Man\", \"Woman\", \"Man\", \"Woman\", \"Man\", \"Man\", \"Man\", \"Man\", \"Man\", \"Man\", \"Man\", \"Man\", \"Man\", \"Man\", \"Man\", \"Woman\", \"Man\", \"Man\", \"Man\", \"Woman\", \"Man\", \"Man\", \"Man\", \"Man\", \"Woman\", \"Woman\", \"Nonbinary\", \"Man\", \"Man\", \"Man\", \"Man\", \"Woman\", \"Man\", \"Woman\", \"Man\", \"Man\", \"Man\", \"Man\", \"Man\", \"Woman\", \"Man\", \"Man\", \"Man\", \"Man\", \"Man\", \"Man\", \"Man\", \"Woman\", \"Man\", \"Woman\", \"Woman\", \"Man\", \"Man\", \"Man\", \"Man\", \"Man\", \"Man\", \"Man\", \"Man\", \"Man\", \"Woman\", \"Man\", \"Man\", \"Man\", \"Man\", \"Man\", \"Man\", \"Woman\", \"Man\", \"Man\", \"Man\", \"Woman\", \"Prefer not to say\", \"Man\", \"Man\", \"Man\", \"Man\", \"Woman\", \"Man\", \"Man\", \"Man\", \"Man\", \"Woman\", \"Man\", \"Man\", \"Woman\", \"Man\", \"Man\", \"Man\", \"Man\", \"Man\", \"Man\", \"Man\", \"Man\", \"Man\", \"Man\", \"Man\", \"Man\", \"Man\", \"Man\", \"Man\", \"Man\", \"Woman\", \"Man\", \"Man\", \"Man\", \"Man\", \"Man\", \"Man\", \"Man\", \"Man\", \"Woman\", \"Man\", \"Man\", \"Man\", \"Man\", \"Man\", \"Woman\", \"Man\", \"Man\", \"Man\", \"Man\", \"Man\", \"Man\", \"Man\", \"Woman\", \"Man\", \"Man\", \"Man\", \"Man\", \"Man\", \"Man\", \"Woman\", \"Man\", \"Woman\", \"Woman\", \"Man\", \"Woman\", \"Man\", \"Woman\", \"Man\", \"Man\", \"Woman\", \"Man\", \"Man\", \"Man\", \"Man\", \"Woman\", \"Man\", \"Man\", \"Woman\", \"Man\", \"Woman\", \"Man\", \"Man\", \"Woman\", \"Man\", \"Woman\", \"Man\", \"Man\", \"Man\", \"Woman\", \"Man\", \"Man\", \"Woman\", \"Man\", \"Man\", \"Woman\", \"Man\", \"Man\", \"Woman\", \"Man\", \"Man\", \"Man\", \"Man\", \"Woman\", \"Man\", \"Man\", \"Man\", \"Man\", \"Man\", \"Man\", \"Man\", \"Man\", \"Man\", \"Man\", \"Man\", \"Man\", \"Man\", \"Man\", \"Prefer not to say\", \"Man\", \"Man\", \"Man\", \"Woman\", \"Man\", \"Man\", \"Man\", \"Woman\", \"Woman\", \"Woman\", \"Man\", \"Woman\", \"Woman\", \"Man\", \"Man\", \"Man\", \"Man\", \"Man\", \"Man\", \"Man\", \"Man\", \"Man\", \"Man\", \"Man\", \"Man\", \"Man\", \"Man\", \"Woman\", \"Woman\", \"Woman\", \"Woman\", \"Man\", \"Man\", \"Prefer not to say\", \"Man\", \"Man\", \"Man\", \"Woman\", \"Man\", \"Man\", \"Man\", \"Man\", \"Woman\", \"Man\", \"Man\", \"Man\", \"Man\", \"Man\", \"Man\", \"Man\", \"Man\", \"Man\", \"Man\", \"Woman\", \"Man\", \"Man\", \"Man\", \"Man\", \"Man\", \"Man\", \"Man\", \"Man\", \"Man\", \"Woman\", \"Man\", \"Man\", \"Woman\", \"Woman\", \"Woman\", \"Man\", \"Man\", \"Man\", \"Man\", \"Man\", \"Man\", \"Man\", \"Man\", \"Man\", \"Man\", \"Man\", \"Prefer to self-describe\", \"Man\", \"Man\", \"Man\", \"Man\", \"Man\", \"Man\", \"Man\", \"Man\", \"Man\", \"Man\", \"Woman\", \"Man\", \"Man\", \"Man\", \"Woman\", \"Man\", \"Man\", \"Man\", \"Woman\", \"Man\", \"Woman\", \"Man\", \"Man\", \"Man\", \"Man\", \"Woman\", \"Man\", \"Woman\", \"Man\", \"Man\", \"Woman\", \"Man\", \"Man\", \"Man\", \"Man\", \"Woman\", \"Man\", \"Man\", \"Woman\", \"Woman\", \"Man\", \"Woman\", \"Prefer to self-describe\", \"Man\", \"Man\", \"Man\", \"Woman\", \"Woman\", \"Man\", \"Woman\", \"Man\", \"Woman\", \"Man\", \"Woman\", \"Woman\", \"Man\", \"Woman\", \"Man\", \"Man\", \"Man\", \"Man\", \"Man\", \"Woman\", \"Man\", \"Man\", \"Man\", \"Man\", \"Woman\", \"Man\", \"Man\", \"Man\", \"Man\", \"Man\", \"Woman\", \"Man\", \"Man\", \"Man\", \"Woman\", \"Man\", \"Man\", \"Man\", \"Man\", \"Man\", \"Man\", \"Woman\", \"Man\", \"Man\", \"Man\", \"Man\", \"Man\", \"Woman\", \"Man\", \"Man\", \"Man\", \"Man\", \"Woman\", \"Woman\", \"Man\", \"Man\", \"Woman\", \"Man\", \"Man\", \"Man\", \"Man\", \"Man\", \"Man\", \"Man\", \"Man\", \"Man\", \"Man\", \"Man\", \"Man\", \"Woman\", \"Woman\", \"Man\", \"Man\", \"Man\", \"Man\", \"Man\", \"Woman\", \"Man\", \"Man\", \"Man\", \"Man\", \"Woman\", \"Man\", \"Woman\", \"Woman\", \"Man\", \"Man\", \"Man\", \"Man\", \"Woman\", \"Woman\", \"Man\", \"Woman\", \"Man\", \"Man\", \"Man\", \"Man\", \"Man\", \"Man\", \"Man\", \"Man\", \"Man\", \"Man\", \"Woman\", \"Man\", \"Man\", \"Woman\", \"Man\", \"Woman\", \"Woman\", \"Man\", \"Woman\", \"Man\", \"Man\", \"Woman\", \"Man\", \"Man\", \"Man\", \"Man\", \"Man\", \"Man\", \"Man\", \"Man\", \"Man\", \"Man\", \"Man\", \"Man\", \"Man\", \"Man\", \"Man\", \"Man\", \"Man\", \"Man\", \"Woman\", \"Man\", \"Woman\", \"Man\", \"Woman\", \"Man\", \"Man\", \"Man\", \"Man\", \"Woman\", \"Man\", \"Woman\", \"Man\", \"Man\", \"Man\", \"Man\", \"Man\", \"Man\", \"Man\", \"Man\", \"Man\", \"Man\", \"Man\", \"Man\", \"Man\", \"Man\", \"Man\", \"Woman\", \"Man\", \"Man\", \"Man\", \"Man\", \"Man\", \"Man\", \"Prefer not to say\", \"Woman\", \"Man\", \"Man\", \"Woman\", \"Man\", \"Man\", \"Woman\", \"Man\", \"Man\", \"Man\", \"Man\", \"Man\", \"Man\", \"Man\", \"Man\", \"Man\", \"Man\", \"Man\", \"Man\", \"Woman\", \"Man\", \"Man\", \"Man\", \"Woman\", \"Man\", \"Man\", \"Man\", \"Man\", \"Man\", \"Man\", \"Man\", \"Man\", \"Man\", \"Man\", \"Woman\", \"Man\", \"Man\", \"Man\", \"Man\", \"Man\", \"Man\", \"Man\", \"Man\", \"Man\", \"Man\", \"Man\", \"Man\", \"Man\", \"Man\", \"Man\", \"Man\", \"Woman\", \"Man\", \"Man\", \"Woman\", \"Man\", \"Man\", \"Man\", \"Man\", \"Man\", \"Man\", \"Woman\", \"Man\", \"Man\", \"Woman\", \"Man\", \"Woman\", \"Woman\", \"Man\", \"Man\", \"Man\", \"Woman\", \"Man\", \"Man\", \"Man\", \"Man\", \"Woman\", \"Man\", \"Man\", \"Woman\", \"Man\", \"Man\", \"Man\", \"Woman\", \"Man\", \"Man\", \"Man\", \"Man\", \"Man\", \"Man\", \"Man\", \"Man\", \"Man\", \"Man\", \"Woman\", \"Man\", \"Man\", \"Man\", \"Man\", \"Man\", \"Woman\", \"Man\", \"Man\", \"Man\", \"Man\", \"Man\", \"Man\", \"Man\", \"Man\", \"Woman\", \"Woman\", \"Man\", \"Woman\", \"Man\", \"Man\", \"Prefer not to say\", \"Man\", \"Woman\", \"Man\", \"Man\", \"Man\", \"Woman\", \"Man\", \"Man\", \"Man\", \"Man\", \"Man\", \"Man\", \"Woman\", \"Man\", \"Woman\", \"Woman\", \"Man\", \"Man\", \"Woman\", \"Man\", \"Man\", \"Man\", \"Man\", \"Man\", \"Man\", \"Man\", \"Woman\", \"Man\", \"Man\", \"Man\", \"Man\", \"Man\", \"Man\", \"Man\", \"Man\", \"Man\", \"Woman\", \"Man\", \"Man\", \"Man\", \"Man\", \"Man\", \"Man\", \"Man\", \"Woman\", \"Man\", \"Man\", \"Man\", \"Woman\", \"Man\", \"Man\", \"Man\", \"Man\", \"Man\", \"Woman\", \"Woman\", \"Man\", \"Man\", \"Man\", \"Man\", \"Woman\", \"Man\", \"Woman\", \"Man\", \"Man\", \"Man\", \"Man\", \"Man\", \"Man\", \"Man\", \"Man\", \"Man\", \"Man\", \"Man\", \"Man\", \"Man\", \"Prefer not to say\", \"Man\", \"Man\", \"Woman\", \"Man\", \"Man\", \"Man\", \"Man\", \"Man\", \"Woman\", \"Man\", \"Man\", \"Man\", \"Man\", \"Woman\", \"Man\", \"Prefer to self-describe\", \"Man\", \"Man\", \"Man\", \"Man\", \"Man\", \"Woman\", \"Man\", \"Man\", \"Man\", \"Man\", \"Man\", \"Man\", \"Man\", \"Man\", \"Man\", \"Man\", \"Woman\", \"Man\", \"Man\", \"Man\", \"Man\", \"Woman\", \"Woman\", \"Prefer to self-describe\", \"Man\", \"Prefer not to say\", \"Man\", \"Man\", \"Man\", \"Man\", \"Man\", \"Man\", \"Woman\", \"Man\", \"Man\", \"Man\", \"Man\", \"Man\", \"Man\", \"Man\", \"Man\", \"Man\", \"Man\", \"Man\", \"Man\", \"Man\", \"Woman\", \"Man\", \"Man\", \"Man\", \"Man\", \"Man\", \"Woman\", \"Man\", \"Woman\", \"Man\", \"Man\", \"Man\", \"Man\", \"Man\", \"Woman\", \"Nonbinary\", \"Woman\", \"Man\", \"Man\", \"Man\", \"Man\", \"Man\", \"Woman\", \"Man\", \"Man\", \"Man\", \"Man\", \"Man\", \"Man\", \"Man\", \"Man\", \"Man\", \"Man\", \"Man\", \"Woman\", \"Man\", \"Man\", \"Man\", \"Woman\", \"Man\", \"Man\", \"Man\", \"Man\", \"Man\", \"Man\", \"Woman\", \"Man\", \"Man\", \"Man\", \"Man\", \"Man\", \"Man\", \"Man\", \"Man\", \"Man\", \"Man\", \"Man\", \"Man\", \"Man\", \"Woman\", \"Man\", \"Man\", \"Man\", \"Man\", \"Woman\", \"Man\", \"Man\", \"Woman\", \"Man\", \"Woman\", \"Prefer not to say\", \"Man\", \"Man\", \"Man\", \"Man\", \"Man\", \"Man\", \"Woman\", \"Man\", \"Man\", \"Man\", \"Man\", \"Woman\", \"Man\", \"Man\", \"Man\", \"Woman\", \"Man\", \"Man\", \"Man\", \"Man\", \"Woman\", \"Man\", \"Man\", \"Man\", \"Man\", \"Man\", \"Man\", \"Man\", \"Man\", \"Man\", \"Man\", \"Man\", \"Man\", \"Man\", \"Man\", \"Man\", \"Man\", \"Man\", \"Man\", \"Man\", \"Woman\", \"Man\", \"Man\", \"Man\", \"Man\", \"Man\", \"Man\", \"Man\", \"Man\", \"Man\", \"Woman\", \"Man\", \"Man\", \"Man\", \"Woman\", \"Woman\", \"Man\", \"Man\", \"Woman\", \"Man\", \"Woman\", \"Man\", \"Man\", \"Woman\", \"Man\", \"Man\", \"Man\", \"Man\", \"Woman\", \"Man\", \"Man\", \"Woman\", \"Man\", \"Man\", \"Man\", \"Woman\", \"Man\", \"Man\", \"Man\", \"Man\", \"Man\", \"Man\", \"Man\", \"Man\", \"Man\", \"Man\", \"Man\", \"Man\", \"Man\", \"Man\", \"Woman\", \"Man\", \"Man\", \"Man\", \"Man\", \"Man\", \"Man\", \"Woman\", \"Man\", \"Man\", \"Man\", \"Man\", \"Woman\", \"Man\", \"Man\", \"Man\", \"Man\", \"Man\", \"Man\", \"Man\", \"Man\", \"Man\", \"Man\", \"Man\", \"Man\", \"Man\", \"Man\", \"Man\", \"Woman\", \"Man\", \"Man\", \"Man\", \"Woman\", \"Man\", \"Man\", \"Man\", \"Man\", \"Woman\", \"Prefer not to say\", \"Woman\", \"Woman\", \"Man\", \"Man\", \"Man\", \"Man\", \"Man\", \"Man\", \"Man\", \"Man\", \"Man\", \"Man\", \"Man\", \"Man\", \"Man\", \"Man\", \"Man\", \"Woman\", \"Man\", \"Man\", \"Man\", \"Man\", \"Man\", \"Man\", \"Man\", \"Man\", \"Woman\", \"Man\", \"Man\", \"Woman\", \"Man\", \"Man\", \"Man\", \"Man\", \"Man\", \"Man\", \"Woman\", \"Woman\", \"Man\", \"Man\", \"Man\", \"Man\", \"Man\", \"Man\", \"Man\", \"Man\", \"Man\", \"Woman\", \"Man\", \"Man\", \"Man\", \"Man\", \"Man\", \"Woman\", \"Man\", \"Man\", \"Woman\", \"Man\", \"Man\", \"Man\", \"Man\", \"Man\", \"Man\", \"Man\", \"Woman\", \"Man\", \"Woman\", \"Man\", \"Woman\", \"Man\", \"Man\", \"Man\", \"Man\", \"Man\", \"Man\", \"Man\", \"Man\", \"Man\", \"Woman\", \"Man\", \"Man\", \"Man\", \"Man\", \"Man\", \"Man\", \"Man\", \"Man\", \"Man\", \"Man\", \"Man\", \"Man\", \"Man\", \"Man\", \"Man\", \"Woman\", \"Man\", \"Woman\", \"Woman\", \"Man\", \"Man\", \"Man\", \"Man\", \"Man\", \"Man\", \"Man\", \"Man\", \"Man\", \"Man\", \"Man\", \"Man\", \"Man\", \"Woman\", \"Man\", \"Man\", \"Woman\", \"Man\", \"Man\", \"Prefer to self-describe\", \"Man\", \"Man\", \"Man\", \"Man\", \"Man\", \"Man\", \"Man\", \"Man\", \"Man\", \"Man\", \"Man\", \"Man\", \"Man\", \"Man\", \"Man\", \"Man\", \"Man\", \"Man\", \"Man\", \"Prefer not to say\", \"Man\", \"Man\", \"Man\", \"Man\", \"Man\", \"Man\", \"Man\", \"Man\", \"Man\", \"Man\", \"Man\", \"Man\", \"Man\", \"Man\", \"Man\", \"Woman\", \"Man\", \"Man\", \"Man\", \"Man\", \"Man\", \"Man\", \"Man\", \"Man\", \"Woman\", \"Man\", \"Man\", \"Man\", \"Man\", \"Man\", \"Man\", \"Man\", \"Man\", \"Woman\", \"Man\", \"Man\", \"Man\", \"Man\", \"Woman\", \"Man\", \"Man\", \"Man\", \"Man\", \"Woman\", \"Man\", \"Man\", \"Man\", \"Man\", \"Man\", \"Man\", \"Man\", \"Man\", \"Man\", \"Man\", \"Man\", \"Man\", \"Man\", \"Man\", \"Man\", \"Man\", \"Man\", \"Man\", \"Woman\", \"Woman\", \"Woman\", \"Man\", \"Man\", \"Woman\", \"Man\", \"Man\", \"Woman\", \"Man\", \"Man\", \"Man\", \"Man\", \"Woman\", \"Man\", \"Woman\", \"Man\", \"Man\", \"Man\", \"Prefer not to say\", \"Man\", \"Man\", \"Man\", \"Man\", \"Man\", \"Man\", \"Man\", \"Woman\", \"Man\", \"Man\", \"Man\", \"Prefer not to say\", \"Woman\", \"Man\", \"Man\", \"Woman\", \"Man\", \"Woman\", \"Man\", \"Man\", \"Man\", \"Man\", \"Man\", \"Woman\", \"Man\", \"Woman\", \"Woman\", \"Man\", \"Woman\", \"Man\", \"Man\", \"Man\", \"Man\", \"Man\", \"Man\", \"Man\", \"Man\", \"Man\", \"Man\", \"Man\", \"Man\", \"Man\", \"Man\", \"Man\", \"Man\", \"Man\", \"Man\", \"Man\", \"Woman\", \"Man\", \"Man\", \"Man\", \"Man\", \"Man\", \"Man\", \"Man\", \"Man\", \"Man\", \"Man\", \"Man\", \"Woman\", \"Man\", \"Man\", \"Woman\", \"Man\", \"Man\", \"Man\", \"Man\", \"Woman\", \"Woman\", \"Woman\", \"Woman\", \"Man\", \"Woman\", \"Man\", \"Man\", \"Man\", \"Man\", \"Man\", \"Man\", \"Man\", \"Man\", \"Man\", \"Man\", \"Man\", \"Man\", \"Man\", \"Man\", \"Man\", \"Man\", \"Woman\", \"Man\", \"Man\", \"Man\", \"Man\", \"Man\", \"Man\", \"Man\", \"Man\", \"Man\", \"Man\", \"Woman\", \"Man\", \"Man\", \"Man\", \"Man\", \"Man\", \"Man\", \"Man\", \"Man\", \"Man\", \"Woman\", \"Man\", \"Man\", \"Man\", \"Woman\", \"Man\", \"Man\", \"Man\", \"Woman\", \"Man\", \"Man\", \"Man\", \"Man\", \"Man\", \"Man\", \"Man\", \"Woman\", \"Man\", \"Man\", \"Man\", \"Man\", \"Man\", \"Man\", \"Man\", \"Man\", \"Man\", \"Woman\", \"Woman\", \"Man\", \"Man\", \"Woman\", \"Man\", \"Woman\", \"Man\", \"Man\", \"Woman\", \"Man\", \"Man\", \"Woman\", \"Woman\", \"Man\", \"Man\", \"Man\", \"Man\", \"Man\", \"Man\", \"Woman\", \"Man\", \"Man\", \"Man\", \"Man\", \"Man\", \"Man\", \"Woman\", \"Man\", \"Man\", \"Man\", \"Man\", \"Man\", \"Man\", \"Man\", \"Man\", \"Man\", \"Man\", \"Man\", \"Man\", \"Man\", \"Man\", \"Man\", \"Man\", \"Man\", \"Man\", \"Man\", \"Man\", \"Man\", \"Man\", \"Man\", \"Man\", \"Man\", \"Man\", \"Man\", \"Man\", \"Man\", \"Man\", \"Man\", \"Man\", \"Woman\", \"Man\", \"Man\", \"Woman\", \"Man\", \"Woman\", \"Prefer not to say\", \"Man\", \"Man\", \"Man\", \"Woman\", \"Man\", \"Man\", \"Man\", \"Man\", \"Man\", \"Man\", \"Man\", \"Woman\", \"Man\", \"Man\", \"Woman\", \"Man\", \"Man\", \"Man\", \"Man\", \"Man\", \"Man\", \"Woman\", \"Woman\", \"Man\", \"Man\", \"Prefer not to say\", \"Woman\", \"Man\", \"Man\", \"Woman\", \"Man\", \"Woman\", \"Woman\", \"Woman\", \"Man\", \"Woman\", \"Man\", \"Man\", \"Woman\", \"Man\", \"Man\", \"Man\", \"Man\", \"Man\", \"Man\", \"Man\", \"Woman\", \"Man\", \"Man\", \"Woman\", \"Man\", \"Man\", \"Man\", \"Woman\", \"Man\", \"Man\", \"Man\", \"Prefer not to say\", \"Man\", \"Prefer not to say\", \"Man\", \"Man\", \"Man\", \"Man\", \"Man\", \"Man\", \"Woman\", \"Man\", \"Man\", \"Man\", \"Woman\", \"Man\", \"Woman\", \"Woman\", \"Man\", \"Man\", \"Man\", \"Man\", \"Man\", \"Man\", \"Man\", \"Man\", \"Man\", \"Man\", \"Man\", \"Man\", \"Man\", \"Woman\", \"Man\", \"Man\", \"Woman\", \"Woman\", \"Woman\", \"Man\", \"Man\", \"Man\", \"Man\", \"Man\", \"Woman\", \"Man\", \"Man\", \"Man\", \"Man\", \"Man\", \"Man\", \"Woman\", \"Man\", \"Man\", \"Man\", \"Man\", \"Man\", \"Man\", \"Man\", \"Man\", \"Man\", \"Man\", \"Man\", \"Man\", \"Woman\", \"Man\", \"Man\", \"Woman\", \"Man\", \"Man\", \"Man\", \"Prefer not to say\", \"Woman\", \"Woman\", \"Man\", \"Woman\", \"Man\", \"Man\", \"Man\", \"Man\", \"Man\", \"Man\", \"Man\", \"Man\", \"Man\", \"Man\", \"Woman\", \"Man\", \"Man\", \"Man\", \"Man\", \"Man\", \"Man\", \"Man\", \"Man\", \"Man\", \"Man\", \"Man\", \"Man\", \"Man\", \"Man\", \"Man\", \"Man\", \"Man\", \"Man\", \"Man\", \"Woman\", \"Man\", \"Man\", \"Woman\", \"Man\", \"Man\", \"Man\", \"Man\", \"Man\", \"Man\", \"Woman\", \"Man\", \"Man\", \"Man\", \"Man\", \"Man\", \"Man\", \"Man\", \"Man\", \"Man\", \"Man\", \"Man\", \"Man\", \"Man\", \"Woman\", \"Man\", \"Woman\", \"Woman\", \"Man\", \"Man\", \"Woman\", \"Man\", \"Woman\", \"Prefer not to say\", \"Man\", \"Man\", \"Man\", \"Man\", \"Man\", \"Man\", \"Man\", \"Man\", \"Man\", \"Man\", \"Man\", \"Man\", \"Man\", \"Woman\", \"Man\", \"Man\", \"Man\", \"Man\", \"Man\", \"Man\", \"Woman\", \"Man\", \"Man\", \"Man\", \"Man\", \"Man\", \"Man\", \"Man\", \"Man\", \"Man\", \"Man\", \"Man\", \"Man\", \"Man\", \"Man\", \"Man\", \"Man\", \"Man\", \"Man\", \"Man\", \"Man\", \"Man\", \"Man\", \"Man\", \"Man\", \"Woman\", \"Man\", \"Man\", \"Woman\", \"Man\", \"Man\", \"Man\", \"Man\", \"Man\", \"Nonbinary\", \"Man\", \"Man\", \"Man\", \"Man\", \"Man\", \"Man\", \"Woman\", \"Man\", \"Man\", \"Man\", \"Man\", \"Man\", \"Man\", \"Man\", \"Man\", \"Man\", \"Man\", \"Man\", \"Man\", \"Man\", \"Man\", \"Man\", \"Man\", \"Man\", \"Man\", \"Nonbinary\", \"Man\", \"Man\", \"Man\", \"Man\", \"Man\", \"Woman\", \"Woman\", \"Man\", \"Man\", \"Man\", \"Woman\", \"Woman\", \"Man\", \"Man\", \"Man\", \"Man\", \"Man\", \"Man\", \"Man\", \"Man\", \"Prefer not to say\", \"Man\", \"Man\", \"Man\", \"Man\", \"Man\", \"Man\", \"Man\", \"Man\", \"Man\", \"Man\", \"Man\", \"Man\", \"Man\", \"Man\", \"Man\", \"Prefer not to say\", \"Man\", \"Man\", \"Woman\", \"Man\", \"Woman\", \"Man\", \"Man\", \"Man\", \"Man\", \"Man\", \"Man\", \"Man\", \"Man\", \"Man\", \"Man\", \"Man\", \"Man\", \"Woman\", \"Man\", \"Woman\", \"Man\", \"Man\", \"Man\", \"Woman\", \"Man\", \"Man\", \"Man\", \"Man\", \"Man\", \"Man\", \"Man\", \"Man\", \"Man\", \"Man\", \"Man\", \"Man\", \"Man\", \"Woman\", \"Woman\", \"Man\", \"Man\", \"Woman\", \"Man\", \"Man\", \"Woman\", \"Woman\", \"Woman\", \"Man\", \"Man\", \"Man\", \"Man\", \"Man\", \"Man\", \"Man\", \"Woman\", \"Man\", \"Man\", \"Man\", \"Man\", \"Man\", \"Man\", \"Woman\", \"Woman\", \"Man\", \"Man\", \"Man\", \"Woman\", \"Man\", \"Woman\", \"Man\", \"Man\", \"Man\", \"Man\", \"Man\", \"Prefer to self-describe\", \"Woman\", \"Man\", \"Man\", \"Man\", \"Man\", \"Man\", \"Man\", \"Man\", \"Man\", \"Man\", \"Man\", \"Woman\", \"Man\", \"Woman\", \"Man\", \"Woman\", \"Man\", \"Man\", \"Man\", \"Man\", \"Man\", \"Woman\", \"Man\", \"Man\", \"Man\", \"Man\", \"Woman\", \"Man\", \"Man\", \"Woman\", \"Man\", \"Man\", \"Man\", \"Man\", \"Man\", \"Man\", \"Man\", \"Man\", \"Man\", \"Man\", \"Man\", \"Woman\", \"Man\", \"Man\", \"Man\", \"Man\", \"Man\", \"Woman\", \"Man\", \"Man\", \"Man\", \"Man\", \"Man\", \"Man\", \"Man\", \"Woman\", \"Man\", \"Woman\", \"Man\", \"Man\", \"Woman\", \"Man\", \"Man\", \"Man\", \"Man\", \"Man\", \"Man\", \"Woman\", \"Man\", \"Man\", \"Woman\", \"Man\", \"Prefer not to say\", \"Man\", \"Prefer not to say\", \"Man\", \"Man\", \"Man\", \"Man\", \"Man\", \"Man\", \"Man\", \"Woman\", \"Prefer not to say\", \"Man\", \"Prefer not to say\", \"Man\", \"Man\", \"Man\", \"Woman\", \"Man\", \"Man\", \"Man\", \"Woman\", \"Prefer not to say\", \"Man\", \"Man\", \"Woman\", \"Woman\", \"Man\", \"Man\", \"Man\", \"Man\", \"Woman\", \"Man\", \"Man\", \"Man\", \"Man\", \"Woman\", \"Man\", \"Man\", \"Woman\", \"Man\", \"Man\", \"Man\", \"Man\", \"Woman\", \"Woman\", \"Man\", \"Man\", \"Man\", \"Man\", \"Man\", \"Woman\", \"Man\", \"Woman\", \"Man\", \"Man\", \"Man\", \"Man\", \"Man\", \"Man\", \"Man\", \"Man\", \"Man\", \"Man\", \"Woman\", \"Man\", \"Man\", \"Man\", \"Woman\", \"Woman\", \"Man\", \"Man\", \"Man\", \"Woman\", \"Woman\", \"Woman\", \"Man\", \"Man\", \"Man\", \"Man\", \"Man\", \"Man\", \"Man\", \"Woman\", \"Man\", \"Man\", \"Woman\", \"Man\", \"Man\", \"Man\", \"Man\", \"Man\", \"Man\", \"Man\", \"Man\", \"Man\", \"Prefer not to say\", \"Woman\", \"Man\", \"Woman\", \"Man\", \"Man\", \"Man\", \"Man\", \"Woman\", \"Nonbinary\", \"Man\", \"Man\", \"Man\", \"Woman\", \"Man\", \"Woman\", \"Man\", \"Woman\", \"Man\", \"Man\", \"Man\", \"Man\", \"Man\", \"Woman\", \"Woman\", \"Man\", \"Man\", \"Man\", \"Man\", \"Man\", \"Man\", \"Man\", \"Man\", \"Man\", \"Man\", \"Man\", \"Man\", \"Man\", \"Man\", \"Man\", \"Man\", \"Man\", \"Man\", \"Man\", \"Man\", \"Woman\", \"Woman\", \"Man\", \"Man\", \"Man\", \"Man\", \"Man\", \"Man\", \"Man\", \"Man\", \"Man\", \"Man\", \"Man\", \"Man\", \"Man\", \"Man\", \"Man\", \"Man\", \"Woman\", \"Man\", \"Man\", \"Man\", \"Woman\", \"Woman\", \"Man\", \"Man\", \"Man\", \"Man\", \"Man\", \"Man\", \"Man\", \"Man\", \"Man\", \"Woman\", \"Man\", \"Woman\", \"Man\", \"Man\", \"Woman\", \"Woman\", \"Man\", \"Woman\", \"Man\", \"Man\", \"Man\", \"Man\", \"Man\", \"Man\", \"Woman\", \"Man\", \"Woman\", \"Man\", \"Man\", \"Man\", \"Man\", \"Man\", \"Man\", \"Man\", \"Man\", \"Man\", \"Man\", \"Man\", \"Man\", \"Man\", \"Man\", \"Man\", \"Man\", \"Man\", \"Man\", \"Man\", \"Man\", \"Man\", \"Man\", \"Man\", \"Man\", \"Prefer not to say\", \"Man\", \"Man\", \"Man\", \"Man\", \"Woman\", \"Man\", \"Man\", \"Woman\", \"Man\", \"Man\", \"Man\", \"Man\", \"Prefer not to say\", \"Man\", \"Man\", \"Woman\", \"Man\", \"Man\", \"Man\", \"Man\", \"Man\", \"Man\", \"Man\", \"Man\", \"Woman\", \"Woman\", \"Woman\", \"Man\", \"Man\", \"Man\", \"Woman\", \"Man\", \"Man\", \"Man\", \"Woman\", \"Man\", \"Man\", \"Man\", \"Man\", \"Man\", \"Woman\", \"Man\", \"Man\", \"Man\", \"Woman\", \"Man\", \"Man\", \"Prefer not to say\", \"Man\", \"Woman\", \"Man\", \"Woman\", \"Woman\", \"Man\", \"Man\", \"Man\", \"Man\", \"Prefer not to say\", \"Man\", \"Man\", \"Man\", \"Woman\", \"Man\", \"Woman\", \"Man\", \"Man\", \"Man\", \"Man\", \"Man\", \"Man\", \"Man\", \"Man\", \"Woman\", \"Man\", \"Man\", \"Man\", \"Man\", \"Man\", \"Man\", \"Man\", \"Man\", \"Man\", \"Man\", \"Man\", \"Man\", \"Man\", \"Man\", \"Man\", \"Man\", \"Man\", \"Woman\", \"Man\", \"Man\", \"Man\", \"Man\", \"Man\", \"Man\", \"Woman\", \"Woman\", \"Woman\", \"Man\", \"Man\", \"Man\", \"Man\", \"Man\", \"Man\", \"Man\", \"Man\", \"Man\", \"Man\", \"Man\", \"Woman\", \"Man\", \"Man\", \"Man\", \"Woman\", \"Man\", \"Woman\", \"Woman\", \"Man\", \"Man\", \"Man\", \"Man\", \"Man\", \"Man\", \"Nonbinary\", \"Man\", \"Prefer not to say\", \"Man\", \"Man\", \"Man\", \"Man\", \"Man\", \"Man\", \"Man\", \"Woman\", \"Man\", \"Man\", \"Man\", \"Man\", \"Woman\", \"Man\", \"Man\", \"Man\", \"Man\", \"Man\", \"Man\", \"Man\", \"Man\", \"Man\", \"Man\", \"Man\", \"Man\", \"Man\", \"Man\", \"Man\", \"Man\", \"Woman\", \"Woman\", \"Man\", \"Man\", \"Woman\", \"Man\", \"Man\", \"Woman\", \"Man\", \"Man\", \"Man\", \"Man\", \"Woman\", \"Woman\", \"Man\", \"Man\", \"Man\", \"Man\", \"Man\", \"Man\", \"Man\", \"Man\", \"Man\", \"Man\", \"Man\", \"Man\", \"Man\", \"Man\", \"Man\", \"Man\", \"Man\", \"Man\", \"Man\", \"Man\", \"Man\", \"Man\", \"Man\", \"Woman\", \"Man\", \"Man\", \"Man\", \"Man\", \"Man\", \"Man\", \"Man\", \"Man\", \"Man\", \"Woman\", \"Man\", \"Man\", \"Man\", \"Man\", \"Man\", \"Woman\", \"Woman\", \"Man\", \"Man\", \"Man\", \"Man\", \"Man\", \"Woman\", \"Woman\", \"Man\", \"Man\", \"Woman\", \"Man\", \"Woman\", \"Woman\", \"Man\", \"Man\", \"Man\", \"Man\", \"Man\", \"Man\", \"Woman\", \"Man\", \"Man\", \"Man\", \"Man\", \"Man\", \"Man\", \"Man\", \"Man\", \"Woman\", \"Man\", \"Man\", \"Man\", \"Prefer to self-describe\", \"Man\", \"Man\", \"Man\", \"Man\", \"Man\", \"Man\", \"Man\", \"Man\", \"Man\", \"Man\", \"Man\", \"Woman\", \"Prefer not to say\", \"Man\", \"Man\", \"Man\", \"Man\", \"Man\", \"Man\", \"Man\", \"Woman\", \"Man\", \"Man\", \"Woman\", \"Man\", \"Man\", \"Woman\", \"Man\", \"Man\", \"Man\", \"Man\", \"Man\", \"Man\", \"Man\", \"Man\", \"Woman\", \"Man\", \"Woman\", \"Woman\", \"Man\", \"Man\", \"Man\", \"Man\", \"Man\", \"Woman\", \"Man\", \"Man\", \"Man\", \"Man\", \"Man\", \"Man\", \"Woman\", \"Man\", \"Woman\", \"Man\", \"Man\", \"Man\", \"Man\", \"Man\", \"Man\", \"Man\", \"Man\", \"Man\", \"Man\", \"Man\", \"Man\", \"Woman\", \"Man\", \"Man\", \"Man\", \"Man\", \"Man\", \"Man\", \"Woman\", \"Man\", \"Man\", \"Man\", \"Man\", \"Man\", \"Man\", \"Man\", \"Man\", \"Woman\", \"Man\", \"Woman\", \"Man\", \"Man\", \"Man\", \"Man\", \"Man\", \"Man\", \"Woman\", \"Man\", \"Woman\", \"Woman\", \"Man\", \"Man\", \"Man\", \"Woman\", \"Woman\", \"Man\", \"Man\", \"Man\", \"Woman\", \"Man\", \"Man\", \"Man\", \"Man\", \"Woman\", \"Man\", \"Man\", \"Man\", \"Man\", \"Man\", \"Man\", \"Man\", \"Man\", \"Man\", \"Woman\", \"Nonbinary\", \"Man\", \"Woman\", \"Man\", \"Man\", \"Man\", \"Man\", \"Man\", \"Woman\", \"Man\", \"Woman\", \"Man\", \"Man\", \"Man\", \"Man\", \"Man\", \"Man\", \"Man\", \"Man\", \"Woman\", \"Man\", \"Man\", \"Woman\", \"Man\", \"Woman\", \"Man\", \"Man\", \"Man\", \"Man\", \"Man\", \"Woman\", \"Woman\", \"Woman\", \"Man\", \"Woman\", \"Man\", \"Woman\", \"Man\", \"Woman\", \"Man\", \"Man\", \"Prefer not to say\", \"Man\", \"Man\", \"Woman\", \"Man\", \"Woman\", \"Man\", \"Man\", \"Woman\", \"Man\", \"Man\", \"Woman\", \"Man\", \"Man\", \"Man\", \"Man\", \"Man\", \"Man\", \"Man\", \"Man\", \"Man\", \"Woman\", \"Man\", \"Woman\", \"Man\", \"Man\", \"Man\", \"Man\", \"Woman\", \"Man\", \"Man\", \"Man\", \"Woman\", \"Man\", \"Man\", \"Man\", \"Man\", \"Man\", \"Man\", \"Man\", \"Man\", \"Man\", \"Man\", \"Man\", \"Man\", \"Woman\", \"Man\", \"Woman\", \"Woman\", \"Man\", \"Man\", \"Man\", \"Man\", \"Man\", \"Man\", \"Man\", \"Man\", \"Woman\", \"Man\", \"Man\", \"Man\", \"Man\", \"Woman\", \"Man\", \"Man\", \"Man\", \"Man\", \"Man\", \"Man\", \"Man\", \"Man\", \"Man\", \"Man\", \"Man\", \"Woman\", \"Woman\", \"Man\", \"Man\", \"Man\", \"Man\", \"Man\", \"Woman\", \"Man\", \"Woman\", \"Man\", \"Man\", \"Woman\", \"Man\", \"Man\", \"Woman\", \"Man\", \"Man\", \"Man\", \"Woman\", \"Woman\", \"Woman\", \"Woman\", \"Man\", \"Man\", \"Man\", \"Man\", \"Man\", \"Man\", \"Man\", \"Man\", \"Man\", \"Man\", \"Woman\", \"Man\", \"Woman\", \"Woman\", \"Man\", \"Woman\", \"Man\", \"Man\", \"Man\", \"Man\", \"Man\", \"Prefer not to say\", \"Man\", \"Man\", \"Woman\", \"Man\", \"Man\", \"Man\", \"Man\", \"Man\", \"Man\", \"Woman\", \"Man\", \"Man\", \"Woman\", \"Man\", \"Man\", \"Woman\", \"Man\", \"Man\", \"Man\", \"Man\", \"Man\", \"Man\", \"Man\", \"Man\", \"Man\", \"Woman\", \"Man\", \"Man\", \"Man\", \"Man\", \"Woman\", \"Prefer not to say\", \"Man\", \"Man\", \"Man\", \"Woman\", \"Man\", \"Man\", \"Man\", \"Man\", \"Man\", \"Man\", \"Man\", \"Man\", \"Man\", \"Man\", \"Man\", \"Woman\", \"Man\", \"Man\", \"Man\", \"Woman\", \"Woman\", \"Man\", \"Man\", \"Woman\", \"Man\", \"Man\", \"Man\", \"Man\", \"Man\", \"Man\", \"Woman\", \"Man\", \"Man\", \"Man\", \"Man\", \"Man\", \"Woman\", \"Man\", \"Man\", \"Woman\", \"Man\", \"Man\", \"Man\", \"Woman\", \"Man\", \"Woman\", \"Man\", \"Man\", \"Man\", \"Woman\", \"Man\", \"Man\", \"Man\", \"Man\", \"Man\", \"Woman\", \"Man\", \"Man\", \"Man\", \"Man\", \"Man\", \"Man\", \"Woman\", \"Man\", \"Man\", \"Man\", \"Man\", \"Man\", \"Man\", \"Woman\", \"Man\", \"Man\", \"Woman\", \"Man\", \"Woman\", \"Man\", \"Woman\", \"Woman\", \"Man\", \"Man\", \"Woman\", \"Man\", \"Man\", \"Man\", \"Man\", \"Woman\", \"Man\", \"Woman\", \"Man\", \"Man\", \"Man\", \"Man\", \"Woman\", \"Woman\", \"Man\", \"Woman\", \"Man\", \"Man\", \"Man\", \"Man\", \"Woman\", \"Man\", \"Nonbinary\", \"Woman\", \"Man\", \"Man\", \"Man\", \"Man\", \"Man\", \"Man\", \"Man\", \"Man\", \"Man\", \"Man\", \"Woman\", \"Man\", \"Woman\", \"Man\", \"Man\", \"Man\", \"Woman\", \"Man\", \"Man\", \"Woman\", \"Man\", \"Man\", \"Woman\", \"Woman\", \"Man\", \"Man\", \"Woman\", \"Man\", \"Man\", \"Man\", \"Woman\", \"Woman\", \"Man\", \"Woman\", \"Man\", \"Man\", \"Man\", \"Man\", \"Man\", \"Man\", \"Woman\", \"Woman\", \"Man\", \"Man\", \"Man\", \"Woman\", \"Man\", \"Man\", \"Prefer not to say\", \"Man\", \"Man\", \"Woman\", \"Woman\", \"Woman\", \"Man\", \"Woman\", \"Man\", \"Man\", \"Man\", \"Man\", \"Man\", \"Man\", \"Man\", \"Man\", \"Man\", \"Man\", \"Man\", \"Man\", \"Woman\", \"Man\", \"Man\", \"Man\", \"Man\", \"Man\", \"Man\", \"Man\", \"Man\", \"Man\", \"Man\", \"Man\", \"Man\", \"Man\", \"Man\", \"Man\", \"Man\", \"Woman\", \"Man\", \"Man\", \"Man\", \"Man\", \"Man\", \"Man\", \"Man\", \"Man\", \"Man\", \"Woman\", \"Man\", \"Woman\", \"Man\", \"Man\", \"Man\", \"Woman\", \"Man\", \"Woman\", \"Man\", \"Man\", \"Man\", \"Man\", \"Man\", \"Man\", \"Man\", \"Man\", \"Man\", \"Man\", \"Woman\", \"Man\", \"Woman\", \"Prefer not to say\", \"Man\", \"Man\", \"Man\", \"Woman\", \"Man\", \"Man\", \"Man\", \"Woman\", \"Man\", \"Man\", \"Man\", \"Woman\", \"Man\", \"Man\", \"Man\", \"Man\", \"Man\", \"Man\", \"Woman\", \"Man\", \"Man\", \"Man\", \"Woman\", \"Man\", \"Man\", \"Man\", \"Man\", \"Man\", \"Man\", \"Woman\", \"Man\", \"Man\", \"Man\", \"Woman\", \"Woman\", \"Man\", \"Woman\", \"Man\", \"Man\", \"Man\", \"Woman\", \"Man\", \"Woman\", \"Man\", \"Man\", \"Man\", \"Man\", \"Man\", \"Man\", \"Man\", \"Man\", \"Woman\", \"Man\", \"Man\", \"Man\", \"Man\", \"Man\", \"Woman\", \"Man\", \"Man\", \"Man\", \"Man\", \"Man\", \"Man\", \"Man\", \"Man\", \"Man\", \"Woman\", \"Man\", \"Man\", \"Man\", \"Man\", \"Man\", \"Man\", \"Man\", \"Man\", \"Man\", \"Woman\", \"Man\", \"Woman\", \"Man\", \"Man\", \"Man\", \"Man\", \"Woman\", \"Woman\", \"Woman\", \"Woman\", \"Man\", \"Man\", \"Man\", \"Man\", \"Man\", \"Man\", \"Man\", \"Man\", \"Man\", \"Man\", \"Man\", \"Man\", \"Woman\", \"Man\", \"Woman\", \"Man\", \"Man\", \"Man\", \"Man\", \"Man\", \"Man\", \"Man\", \"Man\", \"Man\", \"Man\", \"Woman\", \"Man\", \"Man\", \"Man\", \"Man\", \"Man\", \"Woman\", \"Woman\", \"Man\", \"Man\", \"Man\", \"Man\", \"Man\", \"Man\", \"Man\", \"Man\", \"Man\", \"Man\", \"Man\", \"Man\", \"Man\", \"Woman\", \"Woman\", \"Man\", \"Man\", \"Woman\", \"Man\", \"Woman\", \"Man\", \"Man\", \"Man\", \"Man\", \"Man\", \"Man\", \"Man\", \"Man\", \"Man\", \"Man\", \"Man\", \"Man\", \"Man\", \"Woman\", \"Man\", \"Woman\", \"Man\", \"Man\", \"Man\", \"Man\", \"Man\", \"Man\", \"Man\", \"Woman\", \"Man\", \"Man\", \"Man\", \"Man\", \"Man\", \"Man\", \"Prefer to self-describe\", \"Man\", \"Woman\", \"Woman\", \"Man\", \"Woman\", \"Man\", \"Man\", \"Man\", \"Nonbinary\", \"Man\", \"Man\", \"Man\", \"Man\", \"Man\", \"Man\", \"Woman\", \"Man\", \"Woman\", \"Man\", \"Woman\", \"Man\", \"Man\", \"Man\", \"Man\", \"Man\", \"Man\", \"Man\", \"Woman\", \"Man\", \"Woman\", \"Woman\", \"Prefer to self-describe\", \"Man\", \"Man\", \"Man\", \"Woman\", \"Man\", \"Man\", \"Man\", \"Man\", \"Man\", \"Man\", \"Man\", \"Man\", \"Prefer not to say\", \"Man\", \"Woman\", \"Man\", \"Man\", \"Woman\", \"Man\", \"Woman\", \"Woman\", \"Woman\", \"Man\", \"Man\", \"Woman\", \"Man\", \"Man\", \"Man\", \"Man\", \"Woman\", \"Man\", \"Man\", \"Man\", \"Man\", \"Man\", \"Man\", \"Woman\", \"Man\", \"Man\", \"Woman\", \"Woman\", \"Man\", \"Woman\", \"Man\", \"Man\", \"Man\", \"Man\", \"Prefer not to say\", \"Man\", \"Man\", \"Woman\", \"Man\", \"Man\", \"Man\", \"Man\", \"Man\", \"Man\", \"Man\", \"Man\", \"Man\", \"Man\", \"Man\", \"Man\", \"Man\", \"Woman\", \"Man\", \"Man\", \"Man\", \"Man\", \"Man\", \"Man\", \"Man\", \"Man\", \"Man\", \"Man\", \"Man\", \"Man\", \"Man\", \"Man\", \"Woman\", \"Man\", \"Man\", \"Man\", \"Man\", \"Woman\", \"Prefer not to say\", \"Man\", \"Man\", \"Man\", \"Man\", \"Man\", \"Man\", \"Woman\", \"Man\", \"Man\", \"Man\", \"Man\", \"Man\", \"Man\", \"Man\", \"Woman\", \"Woman\", \"Man\", \"Man\", \"Woman\", \"Man\", \"Man\", \"Man\", \"Man\", \"Man\", \"Woman\", \"Woman\", \"Man\", \"Woman\", \"Man\", \"Man\", \"Man\", \"Man\", \"Woman\", \"Woman\", \"Man\", \"Man\", \"Woman\", \"Man\", \"Man\", \"Man\", \"Man\", \"Man\", \"Man\", \"Man\", \"Man\", \"Man\", \"Man\", \"Man\", \"Woman\", \"Man\", \"Man\", \"Man\", \"Man\", \"Woman\", \"Man\", \"Woman\", \"Man\", \"Woman\", \"Man\", \"Man\", \"Man\", \"Man\", \"Woman\", \"Man\", \"Man\", \"Man\", \"Man\", \"Man\", \"Man\", \"Man\", \"Man\", \"Woman\", \"Man\", \"Man\", \"Man\", \"Man\", \"Man\", \"Woman\", \"Man\", \"Man\", \"Man\", \"Man\", \"Man\", \"Man\", \"Man\", \"Man\", \"Man\", \"Woman\", \"Woman\", \"Man\", \"Woman\", \"Man\", \"Man\", \"Man\", \"Man\", \"Woman\", \"Woman\", \"Man\", \"Man\", \"Man\", \"Woman\", \"Man\", \"Man\", \"Woman\", \"Man\", \"Man\", \"Woman\", \"Man\", \"Man\", \"Man\", \"Man\", \"Woman\", \"Man\", \"Man\", \"Man\", \"Man\", \"Woman\", \"Man\", \"Man\", \"Man\", \"Man\", \"Man\", \"Man\", \"Man\", \"Woman\", \"Nonbinary\", \"Man\", \"Man\", \"Man\", \"Man\", \"Woman\", \"Man\", \"Woman\", \"Woman\", \"Man\", \"Woman\", \"Man\", \"Woman\", \"Man\", \"Man\", \"Woman\", \"Man\", \"Man\", \"Man\", \"Woman\", \"Man\", \"Man\", \"Man\", \"Man\", \"Man\", \"Man\", \"Man\", \"Woman\", \"Woman\", \"Man\", \"Woman\", \"Nonbinary\", \"Woman\", \"Man\", \"Man\", \"Man\", \"Man\", \"Man\", \"Woman\", \"Man\", \"Man\", \"Prefer to self-describe\", \"Man\", \"Man\", \"Man\", \"Man\", \"Man\", \"Man\", \"Man\", \"Man\", \"Man\", \"Man\", \"Man\", \"Man\", \"Man\", \"Man\", \"Man\", \"Woman\", \"Man\", \"Man\", \"Man\", \"Man\", \"Man\", \"Man\", \"Man\", \"Man\", \"Woman\", \"Man\", \"Man\", \"Woman\", \"Man\", \"Woman\", \"Man\", \"Woman\", \"Man\", \"Man\", \"Man\", \"Woman\", \"Man\", \"Man\", \"Man\", \"Man\", \"Woman\", \"Man\", \"Man\", \"Man\", \"Man\", \"Man\", \"Man\", \"Man\", \"Man\", \"Man\", \"Woman\", \"Woman\", \"Woman\", \"Man\", \"Man\", \"Man\", \"Man\", \"Man\", \"Woman\", \"Man\", \"Man\", \"Man\", \"Man\", \"Woman\", \"Woman\", \"Woman\", \"Woman\", \"Woman\", \"Man\", \"Man\", \"Man\", \"Man\", \"Man\", \"Woman\", \"Man\", \"Woman\", \"Man\", \"Woman\", \"Man\", \"Man\", \"Man\", \"Woman\", \"Man\", \"Man\", \"Man\", \"Man\", \"Man\", \"Man\", \"Man\", \"Man\", \"Woman\", \"Man\", \"Man\", \"Man\", \"Man\", \"Man\", \"Man\", \"Man\", \"Man\", \"Man\", \"Man\", \"Woman\", \"Man\", \"Man\", \"Man\", \"Man\", \"Man\", \"Man\", \"Woman\", \"Man\", \"Man\", \"Man\", \"Man\", \"Man\", \"Man\", \"Woman\", \"Man\", \"Man\", \"Man\", \"Woman\", \"Man\", \"Man\", \"Man\", \"Man\", \"Man\", \"Man\", \"Man\", \"Woman\", \"Man\", \"Man\", \"Man\", \"Man\", \"Woman\", \"Man\", \"Prefer not to say\", \"Prefer to self-describe\", \"Woman\", \"Man\", \"Man\", \"Man\", \"Man\", \"Man\", \"Man\", \"Man\", \"Man\", \"Man\", \"Woman\", \"Man\", \"Woman\", \"Man\", \"Man\", \"Woman\", \"Woman\", \"Man\", \"Man\", \"Man\", \"Man\", \"Woman\", \"Man\", \"Man\", \"Man\", \"Man\", \"Man\", \"Man\", \"Man\", \"Man\", \"Man\", \"Man\", \"Woman\", \"Man\", \"Man\", \"Man\", \"Man\", \"Woman\", \"Man\", \"Man\", \"Man\", \"Man\", \"Man\", \"Man\", \"Man\", \"Woman\", \"Man\", \"Man\", \"Man\", \"Man\", \"Man\", \"Man\", \"Man\", \"Man\", \"Man\", \"Man\", \"Man\", \"Man\", \"Man\", \"Woman\", \"Man\", \"Woman\", \"Man\", \"Man\", \"Woman\", \"Man\", \"Man\", \"Woman\", \"Man\", \"Man\", \"Man\", \"Man\", \"Man\", \"Man\", \"Man\", \"Man\", \"Man\", \"Man\", \"Man\", \"Man\", \"Woman\", \"Man\", \"Man\", \"Man\", \"Man\", \"Man\", \"Woman\", \"Man\", \"Man\", \"Woman\", \"Man\", \"Man\", \"Man\", \"Man\", \"Woman\", \"Man\", \"Man\", \"Man\", \"Man\", \"Man\", \"Woman\", \"Man\", \"Woman\", \"Man\", \"Woman\", \"Man\", \"Man\", \"Man\", \"Man\", \"Man\", \"Man\", \"Man\", \"Man\", \"Man\", \"Man\", \"Man\", \"Man\", \"Man\", \"Man\", \"Woman\", \"Man\", \"Woman\", \"Man\", \"Man\", \"Man\", \"Man\", \"Man\", \"Man\", \"Man\", \"Man\", \"Man\", \"Woman\", \"Man\", \"Man\", \"Woman\", \"Man\", \"Woman\", \"Woman\", \"Woman\", \"Man\", \"Man\", \"Man\", \"Woman\", \"Man\", \"Woman\", \"Man\", \"Man\", \"Man\", \"Man\", \"Man\", \"Prefer to self-describe\", \"Man\", \"Man\", \"Man\", \"Man\", \"Woman\", \"Prefer not to say\", \"Man\", \"Woman\", \"Man\", \"Man\", \"Man\", \"Man\", \"Man\", \"Man\", \"Man\", \"Man\", \"Man\", \"Man\", \"Man\", \"Man\", \"Man\", \"Man\", \"Man\", \"Man\", \"Man\", \"Woman\", \"Man\", \"Woman\", \"Woman\", \"Man\", \"Man\", \"Man\", \"Woman\", \"Man\", \"Man\", \"Man\", \"Man\", \"Man\", \"Woman\", \"Man\", \"Man\", \"Man\", \"Man\", \"Man\", \"Woman\", \"Woman\", \"Man\", \"Man\", \"Man\", \"Man\", \"Man\", \"Man\", \"Man\", \"Man\", \"Man\", \"Man\", \"Man\", \"Man\", \"Man\", \"Man\", \"Man\", \"Man\", \"Man\", \"Man\", \"Man\", \"Man\", \"Man\", \"Man\", \"Man\", \"Man\", \"Man\", \"Prefer not to say\", \"Man\", \"Man\", \"Man\", \"Man\", \"Man\", \"Man\", \"Man\", \"Man\", \"Man\", \"Man\", \"Man\", \"Man\", \"Woman\", \"Man\", \"Man\", \"Man\", \"Man\", \"Man\", \"Man\", \"Man\", \"Man\", \"Man\", \"Man\", \"Man\", \"Woman\", \"Man\", \"Man\", \"Man\", \"Man\", \"Man\", \"Woman\", \"Woman\", \"Woman\", \"Man\", \"Woman\", \"Woman\", \"Man\", \"Woman\", \"Man\", \"Woman\", \"Man\", \"Man\", \"Woman\", \"Man\", \"Man\", \"Man\", \"Man\", \"Man\", \"Man\", \"Man\", \"Man\", \"Man\", \"Man\", \"Woman\", \"Woman\", \"Man\", \"Woman\", \"Man\", \"Woman\", \"Man\", \"Man\", \"Nonbinary\", \"Man\", \"Man\", \"Woman\", \"Man\", \"Man\", \"Man\", \"Man\", \"Man\", \"Man\", \"Man\", \"Man\", \"Man\", \"Man\", \"Man\", \"Man\", \"Man\", \"Man\", \"Woman\", \"Man\", \"Man\", \"Man\", \"Prefer not to say\", \"Man\", \"Man\", \"Man\", \"Man\", \"Man\", \"Man\", \"Woman\", \"Man\", \"Woman\", \"Man\", \"Man\", \"Woman\", \"Man\", \"Man\", \"Man\", \"Man\", \"Man\", \"Man\", \"Man\", \"Man\", \"Woman\", \"Man\", \"Man\", \"Man\", \"Man\", \"Woman\", \"Man\", \"Man\", \"Man\", \"Man\", \"Prefer to self-describe\", \"Man\", \"Man\", \"Man\", \"Man\", \"Man\", \"Man\", \"Man\", \"Man\", \"Man\", \"Man\", \"Woman\", \"Man\", \"Woman\", \"Man\", \"Man\", \"Woman\", \"Man\", \"Woman\", \"Man\", \"Man\", \"Man\", \"Man\", \"Woman\", \"Man\", \"Man\", \"Man\", \"Man\", \"Man\", \"Man\", \"Man\", \"Man\", \"Woman\", \"Woman\", \"Woman\", \"Man\", \"Woman\", \"Man\", \"Man\", \"Man\", \"Woman\", \"Man\", \"Man\", \"Man\", \"Man\", \"Man\", \"Man\", \"Woman\", \"Man\", \"Man\", \"Prefer not to say\", \"Man\", \"Man\", \"Man\", \"Man\", \"Man\", \"Man\", \"Man\", \"Man\", \"Man\", \"Man\", \"Man\", \"Woman\", \"Man\", \"Man\", \"Man\", \"Man\", \"Man\", \"Man\", \"Woman\", \"Man\", \"Woman\", \"Man\", \"Man\", \"Woman\", \"Man\", \"Man\", \"Man\", \"Man\", \"Man\", \"Woman\", \"Man\", \"Man\", \"Man\", \"Man\", \"Woman\", \"Man\", \"Man\", \"Man\", \"Man\", \"Woman\", \"Woman\", \"Man\", \"Man\", \"Man\", \"Man\", \"Woman\", \"Man\", \"Man\", \"Man\", \"Woman\", \"Man\", \"Prefer to self-describe\", \"Woman\", \"Woman\", \"Woman\", \"Man\", \"Man\", \"Man\", \"Man\", \"Man\", \"Woman\", \"Man\", \"Man\", \"Man\", \"Man\", \"Man\", \"Man\", \"Woman\", \"Man\", \"Woman\", \"Man\", \"Man\", \"Man\", \"Woman\", \"Man\", \"Man\", \"Man\", \"Man\", \"Man\", \"Man\", \"Man\", \"Man\", \"Man\", \"Man\", \"Man\", \"Woman\", \"Woman\", \"Man\", \"Man\", \"Man\", \"Man\", \"Woman\", \"Woman\", \"Woman\", \"Man\", \"Man\", \"Man\", \"Man\", \"Woman\", \"Woman\", \"Man\", \"Man\", \"Man\", \"Man\", \"Man\", \"Woman\", \"Man\", \"Man\", \"Man\", \"Woman\", \"Man\", \"Man\", \"Man\", \"Man\", \"Woman\", \"Man\", \"Man\", \"Man\", \"Woman\", \"Man\", \"Woman\", \"Man\", \"Man\", \"Man\", \"Man\", \"Man\", \"Man\", \"Woman\", \"Man\", \"Man\", \"Man\", \"Woman\", \"Prefer not to say\", \"Woman\", \"Man\", \"Man\", \"Man\", \"Man\", \"Man\", \"Man\", \"Man\", \"Man\", \"Man\", \"Man\", \"Man\", \"Man\", \"Woman\", \"Man\", \"Man\", \"Man\", \"Man\", \"Man\", \"Woman\", \"Woman\", \"Man\", \"Man\", \"Man\", \"Man\", \"Woman\", \"Woman\", \"Man\", \"Man\", \"Man\", \"Man\", \"Man\", \"Woman\", \"Man\", \"Woman\", \"Woman\", \"Man\", \"Man\", \"Man\", \"Man\", \"Man\", \"Man\", \"Woman\", \"Woman\", \"Man\", \"Man\", \"Man\", \"Man\", \"Woman\", \"Man\", \"Man\", \"Man\", \"Woman\", \"Woman\", \"Man\", \"Woman\", \"Man\", \"Man\", \"Man\", \"Man\", \"Man\", \"Woman\", \"Woman\", \"Man\", \"Man\", \"Man\", \"Man\", \"Man\", \"Woman\", \"Man\", \"Man\", \"Man\", \"Woman\", \"Man\", \"Man\", \"Man\", \"Man\", \"Man\", \"Man\", \"Man\", \"Man\", \"Man\", \"Man\", \"Woman\", \"Man\", \"Woman\", \"Man\", \"Man\", \"Woman\", \"Man\", \"Man\", \"Man\", \"Man\", \"Man\", \"Man\", \"Man\", \"Man\", \"Man\", \"Man\", \"Man\", \"Man\", \"Man\", \"Man\", \"Woman\", \"Woman\", \"Man\", \"Woman\", \"Man\", \"Man\", \"Man\", \"Woman\", \"Man\", \"Man\", \"Man\", \"Man\", \"Man\", \"Man\", \"Man\", \"Man\", \"Man\", \"Man\", \"Man\", \"Man\", \"Man\", \"Man\", \"Woman\", \"Man\", \"Prefer not to say\", \"Man\", \"Woman\", \"Man\", \"Man\", \"Man\", \"Man\", \"Man\", \"Man\", \"Man\", \"Man\", \"Man\", \"Man\", \"Man\", \"Woman\", \"Man\", \"Man\", \"Man\", \"Woman\", \"Man\", \"Man\", \"Man\", \"Man\", \"Man\", \"Man\", \"Man\", \"Man\", \"Woman\", \"Man\", \"Man\", \"Woman\", \"Man\", \"Man\", \"Man\", \"Man\", \"Man\", \"Man\", \"Man\", \"Man\", \"Man\", \"Woman\", \"Woman\", \"Woman\", \"Woman\", \"Man\", \"Nonbinary\", \"Man\", \"Man\", \"Woman\", \"Man\", \"Woman\", \"Man\", \"Man\", \"Man\", \"Woman\", \"Man\", \"Man\", \"Woman\", \"Woman\", \"Woman\", \"Man\", \"Man\", \"Man\", \"Man\", \"Man\", \"Man\", \"Woman\", \"Man\", \"Man\", \"Man\", \"Man\", \"Man\", \"Man\", \"Woman\", \"Man\", \"Prefer to self-describe\", \"Man\", \"Man\", \"Man\", \"Woman\", \"Prefer not to say\", \"Man\", \"Man\", \"Man\", \"Man\", \"Man\", \"Man\", \"Man\", \"Man\", \"Prefer not to say\", \"Woman\", \"Woman\", \"Man\", \"Man\", \"Man\", \"Man\", \"Man\", \"Woman\", \"Man\", \"Woman\", \"Man\", \"Man\", \"Man\", \"Woman\", \"Man\", \"Woman\", \"Man\", \"Man\", \"Man\", \"Man\", \"Woman\", \"Man\", \"Man\", \"Prefer not to say\", \"Woman\", \"Man\", \"Man\", \"Man\", \"Man\", \"Woman\", \"Man\", \"Man\", \"Woman\", \"Man\", \"Man\", \"Man\", \"Man\", \"Man\", \"Man\", \"Woman\", \"Woman\", \"Man\", \"Woman\", \"Man\", \"Man\", \"Man\", \"Man\", \"Man\", \"Man\", \"Man\", \"Man\", \"Man\", \"Man\", \"Woman\", \"Man\", \"Man\", \"Man\", \"Man\", \"Man\", \"Man\", \"Man\", \"Prefer not to say\", \"Man\", \"Man\", \"Man\", \"Man\", \"Woman\", \"Man\", \"Man\", \"Man\", \"Woman\", \"Woman\", \"Man\", \"Man\", \"Man\", \"Man\", \"Man\", \"Man\", \"Man\", \"Man\", \"Woman\", \"Man\", \"Prefer not to say\", \"Man\", \"Man\", \"Prefer not to say\", \"Man\", \"Man\", \"Woman\", \"Man\", \"Man\", \"Woman\", \"Man\", \"Man\", \"Woman\", \"Prefer to self-describe\", \"Woman\", \"Man\", \"Man\", \"Man\", \"Man\", \"Man\", \"Woman\", \"Man\", \"Man\", \"Man\", \"Man\", \"Man\", \"Man\", \"Man\", \"Woman\", \"Man\", \"Man\", \"Man\", \"Woman\", \"Man\", \"Man\", \"Man\", \"Woman\", \"Man\", \"Woman\", \"Woman\", \"Man\", \"Woman\", \"Man\", \"Man\", \"Prefer not to say\", \"Man\", \"Man\", \"Man\", \"Man\", \"Man\", \"Man\", \"Man\", \"Man\", \"Man\", \"Man\", \"Man\", \"Man\", \"Man\", \"Man\", \"Woman\", \"Man\", \"Man\", \"Man\", \"Man\", \"Man\", \"Man\", \"Man\", \"Man\", \"Man\", \"Prefer not to say\", \"Man\", \"Man\", \"Man\", \"Woman\", \"Man\", \"Prefer not to say\", \"Man\", \"Woman\", \"Man\", \"Man\", \"Man\", \"Woman\", \"Woman\", \"Man\", \"Man\", \"Man\", \"Man\", \"Man\", \"Man\", \"Man\", \"Man\", \"Man\", \"Man\", \"Man\", \"Woman\", \"Man\", \"Man\", \"Man\", \"Man\", \"Woman\", \"Man\", \"Man\", \"Man\", \"Man\", \"Man\", \"Man\", \"Man\", \"Man\", \"Man\", \"Man\", \"Man\", \"Man\", \"Man\", \"Man\", \"Man\", \"Man\", \"Man\", \"Man\", \"Man\", \"Man\", \"Man\", \"Man\", \"Man\", \"Man\", \"Man\", \"Man\", \"Man\", \"Man\", \"Man\", \"Man\", \"Man\", \"Man\", \"Man\", \"Man\", \"Man\", \"Man\", \"Man\", \"Man\", \"Man\", \"Man\", \"Man\", \"Man\", \"Man\", \"Woman\", \"Man\", \"Man\", \"Man\", \"Man\", \"Man\", \"Man\", \"Man\", \"Man\", \"Man\", \"Woman\", \"Woman\", \"Woman\", \"Man\", \"Man\", \"Man\", \"Man\", \"Man\", \"Nonbinary\", \"Woman\", \"Man\", \"Man\", \"Man\", \"Woman\", \"Man\", \"Man\", \"Man\", \"Man\", \"Woman\", \"Man\", \"Man\", \"Man\", \"Man\", \"Man\", \"Man\", \"Man\", \"Man\", \"Man\", \"Man\", \"Man\", \"Man\", \"Man\", \"Man\", \"Man\", \"Man\", \"Woman\", \"Man\", \"Man\", \"Man\", \"Woman\", \"Man\", \"Man\", \"Woman\", \"Man\", \"Man\", \"Man\", \"Man\", \"Man\", \"Man\", \"Man\", \"Woman\", \"Man\", \"Man\", \"Man\", \"Man\", \"Woman\", \"Man\", \"Woman\", \"Man\", \"Man\", \"Man\", \"Man\", \"Man\", \"Woman\", \"Woman\", \"Woman\", \"Woman\", \"Man\", \"Man\", \"Man\", \"Man\", \"Woman\", \"Man\", \"Man\", \"Man\", \"Woman\", \"Man\", \"Man\", \"Man\", \"Man\", \"Man\", \"Man\", \"Man\", \"Man\", \"Man\", \"Man\", \"Prefer not to say\", \"Woman\", \"Man\", \"Man\", \"Man\", \"Man\", \"Man\", \"Man\", \"Woman\", \"Man\", \"Man\", \"Man\", \"Woman\", \"Man\", \"Man\", \"Man\", \"Man\", \"Man\", \"Man\", \"Man\", \"Man\", \"Man\", \"Man\", \"Man\", \"Woman\", \"Woman\", \"Woman\", \"Man\", \"Man\", \"Prefer not to say\", \"Woman\", \"Man\", \"Prefer not to say\", \"Man\", \"Man\", \"Man\", \"Woman\", \"Man\", \"Man\", \"Man\", \"Woman\", \"Man\", \"Man\", \"Man\", \"Man\", \"Man\", \"Man\", \"Man\", \"Man\", \"Man\", \"Woman\", \"Man\", \"Man\", \"Woman\", \"Man\", \"Man\", \"Man\", \"Man\", \"Man\", \"Woman\", \"Man\", \"Man\", \"Man\", \"Prefer not to say\", \"Man\", \"Man\", \"Man\", \"Man\", \"Man\", \"Man\", \"Man\", \"Man\", \"Man\", \"Woman\", \"Man\", \"Man\", \"Woman\", \"Man\", \"Woman\", \"Woman\", \"Woman\", \"Man\", \"Man\", \"Man\", \"Man\", \"Woman\", \"Man\", \"Woman\", \"Man\", \"Woman\", \"Man\", \"Woman\", \"Man\", \"Man\", \"Man\", \"Man\", \"Man\", \"Man\", \"Woman\", \"Man\", \"Man\", \"Man\", \"Man\", \"Woman\", \"Man\", \"Woman\", \"Man\", \"Man\", \"Man\", \"Man\", \"Man\", \"Woman\", \"Man\", \"Man\", \"Woman\", \"Woman\", \"Man\", \"Man\", \"Man\", \"Man\", \"Man\", \"Man\", \"Man\", \"Man\", \"Man\", \"Man\", \"Woman\", \"Prefer not to say\", \"Man\", \"Man\", \"Man\", \"Woman\", \"Woman\", \"Woman\", \"Man\", \"Man\", \"Man\", \"Man\", \"Man\", \"Man\", \"Man\", \"Man\", \"Man\", \"Man\", \"Woman\", \"Man\", \"Man\", \"Woman\", \"Man\", \"Prefer not to say\", \"Woman\", \"Man\", \"Man\", \"Man\", \"Man\", \"Man\", \"Man\", \"Man\", \"Man\", \"Man\", \"Man\", \"Man\", \"Man\", \"Man\", \"Man\", \"Man\", \"Man\", \"Man\", \"Man\", \"Woman\", \"Man\", \"Man\", \"Woman\", \"Man\", \"Man\", \"Man\", \"Man\", \"Man\", \"Man\", \"Man\", \"Man\", \"Man\", \"Man\", \"Man\", \"Man\", \"Man\", \"Man\", \"Man\", \"Man\", \"Man\", \"Man\", \"Man\", \"Man\", \"Man\", \"Man\", \"Man\", \"Woman\", \"Man\", \"Man\", \"Man\", \"Man\", \"Prefer not to say\", \"Woman\", \"Man\", \"Man\", \"Man\", \"Man\", \"Woman\", \"Man\", \"Man\", \"Man\", \"Man\", \"Man\", \"Woman\", \"Man\", \"Man\", \"Man\", \"Man\", \"Man\", \"Man\", \"Man\", \"Man\", \"Man\", \"Man\", \"Man\", \"Man\", \"Man\", \"Man\", \"Man\", \"Man\", \"Man\", \"Man\", \"Man\", \"Man\", \"Man\", \"Woman\", \"Man\", \"Man\", \"Man\", \"Man\", \"Man\", \"Woman\", \"Prefer not to say\", \"Woman\", \"Man\", \"Man\", \"Woman\", \"Woman\", \"Man\", \"Man\", \"Woman\", \"Woman\", \"Man\", \"Man\", \"Prefer to self-describe\", \"Man\", \"Man\", \"Man\", \"Man\", \"Man\", \"Man\", \"Man\", \"Man\", \"Man\", \"Man\", \"Man\", \"Man\", \"Man\", \"Man\", \"Man\", \"Woman\", \"Man\", \"Man\", \"Man\", \"Man\", \"Man\", \"Woman\", \"Man\", \"Woman\", \"Man\", \"Woman\", \"Man\", \"Man\", \"Man\", \"Man\", \"Man\", \"Man\", \"Man\", \"Woman\", \"Woman\", \"Man\", \"Man\", \"Man\", \"Man\", \"Woman\", \"Man\", \"Man\", \"Man\", \"Man\", \"Man\", \"Man\", \"Woman\", \"Woman\", \"Man\", \"Man\", \"Man\", \"Man\", \"Man\", \"Man\", \"Man\", \"Woman\", \"Woman\", \"Woman\", \"Man\", \"Man\", \"Man\", \"Man\", \"Man\", \"Man\", \"Man\", \"Man\", \"Man\", \"Man\", \"Man\", \"Man\", \"Man\", \"Man\", \"Man\", \"Man\", \"Woman\", \"Woman\", \"Man\", \"Woman\", \"Man\", \"Woman\", \"Man\", \"Man\", \"Man\", \"Man\", \"Man\", \"Prefer to self-describe\", \"Man\", \"Man\", \"Woman\", \"Man\", \"Man\", \"Woman\", \"Man\", \"Man\", \"Man\", \"Man\", \"Woman\", \"Man\", \"Man\", \"Man\", \"Man\", \"Woman\", \"Man\", \"Woman\", \"Man\", \"Man\", \"Man\", \"Man\", \"Man\", \"Woman\", \"Man\", \"Woman\", \"Man\", \"Man\", \"Man\", \"Man\", \"Woman\", \"Woman\", \"Woman\", \"Man\", \"Man\", \"Woman\", \"Man\", \"Woman\", \"Man\", \"Man\", \"Man\", \"Man\", \"Man\", \"Man\", \"Man\", \"Man\", \"Man\", \"Man\", \"Man\", \"Man\", \"Man\", \"Man\", \"Woman\", \"Man\", \"Man\", \"Man\", \"Man\", \"Man\", \"Prefer not to say\", \"Man\", \"Woman\", \"Man\", \"Woman\", \"Man\", \"Woman\", \"Man\", \"Woman\", \"Man\", \"Man\", \"Woman\", \"Man\", \"Man\", \"Man\", \"Woman\", \"Man\", \"Man\", \"Man\", \"Man\", \"Man\", \"Woman\", \"Woman\", \"Man\", \"Man\", \"Woman\", \"Man\", \"Man\", \"Woman\", \"Man\", \"Man\", \"Man\", \"Woman\", \"Man\", \"Man\", \"Woman\", \"Man\", \"Man\", \"Man\", \"Man\", \"Woman\", \"Woman\", \"Man\", \"Woman\", \"Man\", \"Man\", \"Man\", \"Man\", \"Woman\", \"Man\", \"Man\", \"Woman\", \"Woman\", \"Woman\", \"Woman\", \"Man\", \"Man\", \"Woman\", \"Man\", \"Man\", \"Man\", \"Man\", \"Woman\", \"Man\", \"Man\", \"Man\", \"Woman\", \"Man\", \"Woman\", \"Man\", \"Man\", \"Man\", \"Woman\", \"Man\", \"Man\", \"Man\", \"Man\", \"Man\", \"Woman\", \"Woman\", \"Man\", \"Man\", \"Man\", \"Man\", \"Man\", \"Man\", \"Man\", \"Man\", \"Man\", \"Man\", \"Man\", \"Man\", \"Man\", \"Woman\", \"Man\", \"Man\", \"Man\", \"Man\", \"Man\", \"Man\", \"Man\", \"Man\", \"Man\", \"Man\", \"Man\", \"Man\", \"Man\", \"Man\", \"Man\", \"Man\", \"Woman\", \"Man\", \"Man\", \"Man\", \"Man\", \"Man\", \"Man\", \"Man\", \"Man\", \"Man\", \"Man\", \"Man\", \"Man\", \"Woman\", \"Man\", \"Man\", \"Man\", \"Woman\", \"Man\", \"Man\", \"Man\", \"Prefer not to say\", \"Woman\", \"Man\", \"Woman\", \"Man\", \"Man\", \"Man\", \"Man\", \"Man\", \"Man\", \"Man\", \"Man\", \"Man\", \"Man\", \"Man\", \"Man\", \"Man\", \"Man\", \"Man\", \"Man\", \"Man\", \"Man\", \"Woman\", \"Woman\", \"Man\", \"Man\", \"Man\", \"Woman\", \"Man\", \"Man\", \"Man\", \"Man\", \"Woman\", \"Man\", \"Woman\", \"Man\", \"Man\", \"Man\", \"Woman\", \"Man\", \"Woman\", \"Man\", \"Man\", \"Man\", \"Man\", \"Woman\", \"Man\", \"Prefer not to say\", \"Man\", \"Man\", \"Woman\", \"Man\", \"Man\", \"Man\", \"Man\", \"Man\", \"Man\", \"Man\", \"Man\", \"Man\", \"Man\", \"Woman\", \"Man\", \"Man\", \"Man\", \"Man\", \"Man\", \"Woman\", \"Man\", \"Man\", \"Man\", \"Woman\", \"Woman\", \"Woman\", \"Man\", \"Man\", \"Man\", \"Man\", \"Man\", \"Man\", \"Man\", \"Man\", \"Man\", \"Man\", \"Man\", \"Man\", \"Man\", \"Man\", \"Man\", \"Man\", \"Woman\", \"Man\", \"Woman\", \"Man\", \"Man\", \"Man\", \"Man\", \"Man\", \"Woman\", \"Man\", \"Man\", \"Man\", \"Man\", \"Man\", \"Woman\", \"Man\", \"Man\", \"Woman\", \"Man\", \"Man\", \"Woman\", \"Man\", \"Woman\", \"Man\", \"Woman\", \"Man\", \"Man\", \"Man\", \"Man\", \"Man\", \"Man\", \"Man\", \"Woman\", \"Man\", \"Man\", \"Man\", \"Man\", \"Man\", \"Man\", \"Man\", \"Man\", \"Prefer not to say\", \"Man\", \"Man\", \"Man\", \"Man\", \"Man\", \"Man\", \"Man\", \"Man\", \"Man\", \"Woman\", \"Woman\", \"Man\", \"Man\", \"Woman\", \"Woman\", \"Man\", \"Woman\", \"Man\", \"Man\", \"Man\", \"Man\", \"Man\", \"Man\", \"Man\", \"Prefer to self-describe\", \"Man\", \"Woman\", \"Man\", \"Man\", \"Man\", \"Man\", \"Woman\", \"Man\", \"Man\", \"Man\", \"Man\", \"Man\", \"Man\", \"Man\", \"Man\", \"Man\", \"Man\", \"Man\", \"Man\", \"Woman\", \"Man\", \"Man\", \"Woman\", \"Man\", \"Man\", \"Man\", \"Man\", \"Man\", \"Man\", \"Man\", \"Woman\", \"Man\", \"Woman\", \"Man\", \"Man\", \"Man\", \"Man\", \"Man\", \"Man\", \"Man\", \"Man\", \"Man\", \"Woman\", \"Woman\", \"Man\", \"Man\", \"Man\", \"Man\", \"Man\", \"Woman\", \"Man\", \"Man\", \"Woman\", \"Man\", \"Man\", \"Man\", \"Man\", \"Man\", \"Woman\", \"Man\", \"Woman\", \"Man\", \"Prefer not to say\", \"Man\", \"Man\", \"Woman\", \"Man\", \"Man\", \"Man\", \"Man\", \"Man\", \"Man\", \"Man\", \"Man\", \"Woman\", \"Man\", \"Man\", \"Man\", \"Man\", \"Man\", \"Man\", \"Man\", \"Man\", \"Man\", \"Man\", \"Man\", \"Man\", \"Man\", \"Man\", \"Prefer to self-describe\", \"Man\", \"Man\", \"Man\", \"Man\", \"Man\", \"Man\", \"Man\", \"Woman\", \"Woman\", \"Man\", \"Woman\", \"Man\", \"Man\", \"Man\", \"Man\", \"Woman\", \"Man\", \"Man\", \"Man\", \"Man\", \"Man\", \"Man\", \"Man\", \"Woman\", \"Man\", \"Man\", \"Man\", \"Prefer not to say\", \"Man\", \"Man\", \"Man\", \"Woman\", \"Woman\", \"Man\", \"Man\", \"Man\", \"Man\", \"Man\", \"Woman\", \"Man\", \"Man\", \"Man\", \"Man\", \"Man\", \"Man\", \"Man\", \"Woman\", \"Man\", \"Man\", \"Man\", \"Man\", \"Woman\", \"Man\", \"Man\", \"Man\", \"Woman\", \"Man\", \"Woman\", \"Man\", \"Man\", \"Man\", \"Man\", \"Woman\", \"Man\", \"Man\", \"Man\", \"Man\", \"Man\", \"Woman\", \"Man\", \"Woman\", \"Man\", \"Man\", \"Man\", \"Man\", \"Man\", \"Man\", \"Man\", \"Woman\", \"Man\", \"Man\", \"Man\", \"Man\", \"Woman\", \"Man\", \"Man\", \"Man\", \"Man\", \"Man\", \"Man\", \"Man\", \"Man\", \"Man\", \"Man\", \"Man\", \"Man\", \"Man\", \"Man\", \"Woman\", \"Man\", \"Woman\", \"Man\", \"Man\", \"Woman\", \"Man\", \"Man\", \"Woman\", \"Man\", \"Woman\", \"Man\", \"Woman\", \"Man\", \"Man\", \"Man\", \"Man\", \"Man\", \"Woman\", \"Man\", \"Man\", \"Man\", \"Man\", \"Man\", \"Woman\", \"Man\", \"Man\", \"Man\", \"Man\", \"Man\", \"Man\", \"Woman\", \"Man\", \"Man\", \"Woman\", \"Man\", \"Man\", \"Man\", \"Man\", \"Man\", \"Woman\", \"Woman\", \"Man\", \"Man\", \"Man\", \"Man\", \"Man\", \"Man\", \"Man\", \"Man\", \"Woman\", \"Man\", \"Man\", \"Man\", \"Man\", \"Man\", \"Man\", \"Man\", \"Man\", \"Man\", \"Man\", \"Man\", \"Woman\", \"Man\", \"Man\", \"Man\", \"Man\", \"Man\", \"Man\", \"Man\", \"Woman\", \"Man\", \"Man\", \"Man\", \"Man\", \"Man\", \"Man\", \"Man\", \"Man\", \"Man\", \"Man\", \"Man\", \"Woman\", \"Man\", \"Man\", \"Woman\", \"Man\", \"Man\", \"Man\", \"Man\", \"Man\", \"Woman\", \"Man\", \"Man\", \"Man\", \"Man\", \"Man\", \"Prefer not to say\", \"Man\", \"Man\", \"Woman\", \"Man\", \"Woman\", \"Prefer not to say\", \"Man\", \"Man\", \"Man\", \"Man\", \"Man\", \"Man\", \"Man\", \"Man\", \"Man\", \"Man\", \"Man\", \"Man\", \"Man\", \"Woman\", \"Man\", \"Man\", \"Man\", \"Man\", \"Man\", \"Man\", \"Man\", \"Man\", \"Man\", \"Man\", \"Woman\", \"Man\", \"Man\", \"Man\", \"Man\", \"Man\", \"Man\", \"Woman\", \"Woman\", \"Man\", \"Woman\", \"Man\", \"Man\", \"Man\", \"Man\", \"Man\", \"Man\", \"Man\", \"Man\", \"Man\", \"Woman\", \"Man\", \"Man\", \"Man\", \"Man\", \"Man\", \"Woman\", \"Man\", \"Man\", \"Man\", \"Man\", \"Man\", \"Man\", \"Man\", \"Man\", \"Man\", \"Man\", \"Man\", \"Woman\", \"Man\", \"Man\", \"Man\", \"Man\", \"Man\", \"Man\", \"Man\", \"Man\", \"Man\", \"Man\", \"Man\", \"Man\", \"Man\", \"Man\", \"Man\", \"Man\", \"Man\", \"Man\", \"Woman\", \"Man\", \"Man\", \"Man\", \"Man\", \"Man\", \"Woman\", \"Man\", \"Woman\", \"Woman\", \"Man\", \"Man\", \"Man\", \"Man\", \"Man\", \"Woman\", \"Man\", \"Man\", \"Man\", \"Woman\", \"Man\", \"Woman\", \"Man\", \"Woman\", \"Man\", \"Man\", \"Man\", \"Man\", \"Man\", \"Man\", \"Man\", \"Man\", \"Woman\", \"Woman\", \"Man\", \"Woman\", \"Man\", \"Man\", \"Woman\", \"Man\", \"Man\", \"Man\", \"Prefer not to say\", \"Man\", \"Man\", \"Man\", \"Man\", \"Woman\", \"Man\", \"Man\", \"Man\", \"Man\", \"Man\", \"Man\", \"Woman\", \"Woman\", \"Woman\", \"Man\", \"Man\", \"Woman\", \"Woman\", \"Woman\", \"Man\", \"Man\", \"Man\", \"Man\", \"Man\", \"Man\", \"Man\", \"Man\", \"Man\", \"Woman\", \"Man\", \"Woman\", \"Man\", \"Man\", \"Man\", \"Man\", \"Man\", \"Man\", \"Man\", \"Man\", \"Woman\", \"Man\", \"Man\", \"Man\", \"Woman\", \"Man\", \"Man\", \"Man\", \"Man\", \"Man\", \"Man\", \"Woman\", \"Man\", \"Man\", \"Man\", \"Man\", \"Man\", \"Man\", \"Man\", \"Man\", \"Man\", \"Woman\", \"Man\", \"Man\", \"Man\", \"Man\", \"Woman\", \"Man\", \"Man\", \"Man\", \"Man\", \"Man\", \"Man\", \"Man\", \"Man\", \"Man\", \"Man\", \"Man\", \"Man\", \"Man\", \"Man\", \"Man\", \"Prefer not to say\", \"Woman\", \"Man\", \"Man\", \"Man\", \"Man\", \"Man\", \"Prefer to self-describe\", \"Man\", \"Man\", \"Woman\", \"Man\", \"Man\", \"Man\", \"Man\", \"Man\", \"Woman\", \"Man\", \"Man\", \"Man\", \"Man\", \"Man\", \"Man\", \"Man\", \"Man\", \"Man\", \"Man\", \"Man\", \"Man\", \"Woman\", \"Man\", \"Man\", \"Man\", \"Man\", \"Man\", \"Man\", \"Man\", \"Man\", \"Man\", \"Man\", \"Man\", \"Man\", \"Woman\", \"Man\", \"Man\", \"Man\", \"Man\", \"Man\", \"Man\", \"Man\", \"Man\", \"Man\", \"Man\", \"Man\", \"Man\", \"Man\", \"Man\", \"Man\", \"Man\", \"Man\", \"Man\", \"Man\", \"Man\", \"Man\", \"Man\", \"Woman\", \"Man\", \"Man\", \"Woman\", \"Woman\", \"Man\", \"Man\", \"Woman\", \"Man\", \"Man\", \"Man\", \"Man\", \"Woman\", \"Man\", \"Man\", \"Man\", \"Woman\", \"Man\", \"Man\", \"Man\", \"Man\", \"Man\", \"Man\", \"Man\", \"Woman\", \"Man\", \"Woman\", \"Woman\", \"Man\", \"Woman\", \"Man\", \"Woman\", \"Man\", \"Man\", \"Prefer not to say\", \"Man\", \"Woman\", \"Man\", \"Man\", \"Man\", \"Prefer not to say\", \"Man\", \"Man\", \"Woman\", \"Man\", \"Woman\", \"Man\", \"Man\", \"Man\", \"Man\", \"Woman\", \"Man\", \"Man\", \"Woman\", \"Man\", \"Man\", \"Woman\", \"Man\", \"Man\", \"Man\", \"Woman\", \"Man\", \"Man\", \"Woman\", \"Man\", \"Man\", \"Man\", \"Man\", \"Man\", \"Man\", \"Man\", \"Man\", \"Man\", \"Man\", \"Woman\", \"Man\", \"Man\", \"Man\", \"Man\", \"Man\", \"Man\", \"Woman\", \"Prefer not to say\", \"Woman\", \"Man\", \"Woman\", \"Man\", \"Man\", \"Man\", \"Woman\", \"Woman\", \"Woman\", \"Woman\", \"Woman\", \"Man\", \"Woman\", \"Man\", \"Man\", \"Woman\", \"Man\", \"Man\", \"Woman\", \"Man\", \"Man\", \"Woman\", \"Man\", \"Man\", \"Man\", \"Man\", \"Man\", \"Man\", \"Man\", \"Man\", \"Man\", \"Man\", \"Man\", \"Man\", \"Man\", \"Man\", \"Man\", \"Man\", \"Man\", \"Man\", \"Man\", \"Man\", \"Man\", \"Woman\", \"Man\", \"Man\", \"Man\", \"Woman\", \"Man\", \"Man\", \"Man\", \"Man\", \"Man\", \"Man\", \"Man\", \"Woman\", \"Woman\", \"Man\", \"Man\", \"Man\", \"Man\", \"Man\", \"Man\", \"Man\", \"Woman\", \"Man\", \"Man\", \"Man\", \"Man\", \"Man\", \"Man\", \"Woman\", \"Man\", \"Woman\", \"Man\", \"Man\", \"Woman\", \"Man\", \"Man\", \"Man\", \"Man\", \"Man\", \"Man\", \"Woman\", \"Man\", \"Man\", \"Man\", \"Man\", \"Woman\", \"Man\", \"Man\", \"Man\", \"Man\", \"Man\", \"Woman\", \"Woman\", \"Woman\", \"Man\", \"Woman\", \"Man\", \"Woman\", \"Woman\", \"Man\", \"Man\", \"Man\", \"Woman\", \"Man\", \"Man\", \"Man\", \"Woman\", \"Man\", \"Man\", \"Man\", \"Man\", \"Man\", \"Woman\", \"Man\", \"Man\", \"Man\", \"Man\", \"Man\", \"Man\", \"Woman\", \"Man\", \"Man\", \"Man\", \"Man\", \"Man\", \"Man\", \"Woman\", \"Man\", \"Man\", \"Man\", \"Man\", \"Man\", \"Man\", \"Man\", \"Man\", \"Man\", \"Woman\", \"Man\", \"Man\", \"Man\", \"Woman\", \"Man\", \"Man\", \"Man\", \"Man\", \"Man\", \"Man\", \"Man\", \"Man\", \"Man\", \"Prefer not to say\", \"Man\", \"Man\", \"Man\", \"Man\", \"Woman\", \"Man\", \"Man\", \"Man\", \"Man\", \"Man\", \"Man\", \"Woman\", \"Man\", \"Man\", \"Woman\", \"Man\", \"Man\", \"Man\", \"Prefer not to say\", \"Woman\", \"Man\", \"Man\", \"Man\", \"Man\", \"Man\", \"Man\", \"Man\", \"Man\", \"Man\", \"Man\", \"Man\", \"Man\", \"Man\", \"Woman\", \"Man\", \"Woman\", \"Man\", \"Man\", \"Man\", \"Man\", \"Woman\", \"Man\", \"Man\", \"Man\", \"Man\", \"Man\", \"Man\", \"Man\", \"Man\", \"Woman\", \"Man\", \"Man\", \"Man\", \"Woman\", \"Man\", \"Man\", \"Man\", \"Man\", \"Man\", \"Man\", \"Man\", \"Man\", \"Woman\", \"Man\", \"Man\", \"Man\", \"Woman\", \"Man\", \"Man\", \"Man\", \"Man\", \"Man\", \"Man\", \"Man\", \"Woman\", \"Man\", \"Man\", \"Man\", \"Man\", \"Woman\", \"Man\", \"Man\", \"Man\", \"Man\", \"Man\", \"Woman\", \"Man\", \"Man\", \"Man\", \"Man\", \"Man\", \"Man\", \"Woman\", \"Man\", \"Woman\", \"Man\", \"Man\", \"Man\", \"Prefer not to say\", \"Man\", \"Man\", \"Woman\", \"Man\", \"Man\", \"Man\", \"Man\", \"Man\", \"Man\", \"Man\", \"Man\", \"Man\", \"Man\", \"Man\", \"Man\", \"Man\", \"Man\", \"Man\", \"Man\", \"Man\", \"Man\", \"Man\", \"Man\", \"Woman\", \"Man\", \"Man\", \"Woman\", \"Man\", \"Man\", \"Man\", \"Woman\", \"Man\", \"Man\", \"Woman\", \"Man\", \"Man\", \"Man\", \"Man\", \"Man\", \"Man\", \"Woman\", \"Man\", \"Man\", \"Man\", \"Man\", \"Woman\", \"Man\", \"Man\", \"Man\", \"Man\", \"Man\", \"Man\", \"Man\", \"Woman\", \"Man\", \"Man\", \"Man\", \"Woman\", \"Man\", \"Woman\", \"Man\", \"Man\", \"Man\", \"Woman\", \"Man\", \"Man\", \"Man\", \"Man\", \"Man\", \"Woman\", \"Man\", \"Woman\", \"Man\", \"Woman\", \"Man\", \"Woman\", \"Man\", \"Man\", \"Man\", \"Prefer not to say\", \"Man\", \"Man\", \"Man\", \"Man\", \"Man\", \"Man\", \"Man\", \"Man\", \"Woman\", \"Man\", \"Woman\", \"Woman\", \"Man\", \"Man\", \"Man\", \"Man\", \"Man\", \"Man\", \"Man\", \"Man\", \"Man\", \"Man\", \"Man\", \"Man\", \"Man\", \"Man\", \"Man\", \"Man\", \"Man\", \"Man\", \"Man\", \"Man\", \"Prefer not to say\", \"Woman\", \"Man\", \"Man\", \"Man\", \"Woman\", \"Man\", \"Man\", \"Man\", \"Woman\", \"Woman\", \"Man\", \"Man\", \"Man\", \"Man\", \"Man\", \"Man\", \"Woman\", \"Man\", \"Man\", \"Man\", \"Man\", \"Man\", \"Man\", \"Man\", \"Man\", \"Man\", \"Man\", \"Man\", \"Man\", \"Man\", \"Man\", \"Man\", \"Prefer not to say\", \"Man\", \"Woman\", \"Prefer not to say\", \"Man\", \"Man\", \"Man\", \"Woman\", \"Man\", \"Man\", \"Man\", \"Woman\", \"Man\", \"Woman\", \"Man\", \"Woman\", \"Man\", \"Woman\", \"Woman\", \"Woman\", \"Man\", \"Man\", \"Man\", \"Man\", \"Man\", \"Man\", \"Man\", \"Man\", \"Man\", \"Man\", \"Man\", \"Man\", \"Woman\", \"Woman\", \"Man\", \"Man\", \"Man\", \"Woman\", \"Woman\", \"Man\", \"Prefer not to say\", \"Man\", \"Man\", \"Woman\", \"Man\", \"Man\", \"Man\", \"Man\", \"Man\", \"Prefer not to say\", \"Man\", \"Man\", \"Man\", \"Man\", \"Woman\", \"Man\", \"Prefer not to say\", \"Man\", \"Man\", \"Woman\", \"Man\", \"Man\", \"Man\", \"Man\", \"Man\", \"Man\", \"Man\", \"Man\", \"Nonbinary\", \"Man\", \"Man\", \"Man\", \"Woman\", \"Man\", \"Man\", \"Woman\", \"Man\", \"Man\", \"Man\", \"Man\", \"Man\", \"Man\", \"Man\", \"Man\", \"Man\", \"Man\", \"Woman\", \"Man\", \"Man\", \"Woman\", \"Man\", \"Man\", \"Man\", \"Man\", \"Man\", \"Woman\", \"Man\", \"Man\", \"Man\", \"Man\", \"Man\", \"Man\", \"Man\", \"Man\", \"Man\", \"Woman\", \"Man\", \"Man\", \"Man\", \"Woman\", \"Woman\", \"Man\", \"Woman\", \"Man\", \"Man\", \"Man\", \"Man\", \"Man\", \"Man\", \"Man\", \"Man\", \"Man\", \"Man\", \"Man\", \"Woman\", \"Man\", \"Man\", \"Woman\", \"Woman\", \"Man\", \"Man\", \"Man\", \"Woman\", \"Man\", \"Man\", \"Man\", \"Man\", \"Man\", \"Man\", \"Man\", \"Man\", \"Man\", \"Man\", \"Man\", \"Man\", \"Man\", \"Man\", \"Man\", \"Man\", \"Man\", \"Man\", \"Man\", \"Man\", \"Woman\", \"Woman\", \"Woman\", \"Woman\", \"Man\", \"Man\", \"Man\", \"Woman\", \"Man\", \"Man\", \"Man\", \"Man\", \"Man\", \"Man\", \"Man\", \"Woman\", \"Man\", \"Man\", \"Man\", \"Man\", \"Man\", \"Man\", \"Man\", \"Man\", \"Man\", \"Man\", \"Man\", \"Man\", \"Man\", \"Prefer not to say\", \"Man\", \"Woman\", \"Man\", \"Man\", \"Man\", \"Man\", \"Man\", \"Woman\", \"Man\", \"Man\", \"Man\", \"Man\", \"Woman\", \"Woman\", \"Man\", \"Man\", \"Woman\", \"Man\", \"Man\", \"Man\", \"Man\", \"Man\", \"Woman\", \"Woman\", \"Man\", \"Woman\", \"Man\", \"Man\", \"Man\", \"Man\", \"Man\", \"Man\", \"Man\", \"Man\", \"Man\", \"Man\", \"Man\", \"Man\", \"Man\", \"Man\", \"Man\", \"Man\", \"Man\", \"Man\", \"Woman\", \"Man\", \"Woman\", \"Man\", \"Man\", \"Man\", \"Man\", \"Woman\", \"Man\", \"Man\", \"Woman\", \"Man\", \"Man\", \"Man\", \"Man\", \"Man\", \"Man\", \"Man\", \"Man\", \"Man\", \"Man\", \"Man\", \"Man\", \"Man\", \"Man\", \"Man\", \"Woman\", \"Man\", \"Man\", \"Man\", \"Man\", \"Man\", \"Woman\", \"Man\", \"Man\", \"Man\", \"Man\", \"Woman\", \"Man\", \"Man\", \"Man\", \"Woman\", \"Man\", \"Man\", \"Man\", \"Prefer not to say\", \"Man\", \"Man\", \"Man\", \"Woman\", \"Woman\", \"Man\", \"Man\", \"Man\", \"Man\", \"Man\", \"Man\", \"Man\", \"Man\", \"Woman\", \"Man\", \"Man\", \"Woman\", \"Man\", \"Man\", \"Man\", \"Man\", \"Man\", \"Prefer not to say\", \"Woman\", \"Man\", \"Man\", \"Man\", \"Man\", \"Man\", \"Man\", \"Man\", \"Man\", \"Woman\", \"Man\", \"Woman\", \"Man\", \"Woman\", \"Man\", \"Man\", \"Man\", \"Man\", \"Woman\", \"Woman\", \"Woman\", \"Man\", \"Man\", \"Man\", \"Man\", \"Man\", \"Man\", \"Man\", \"Man\", \"Man\", \"Man\", \"Man\", \"Woman\", \"Woman\", \"Woman\", \"Man\", \"Man\", \"Man\", \"Man\", \"Man\", \"Man\", \"Woman\", \"Man\", \"Man\", \"Man\", \"Man\", \"Man\", \"Woman\", \"Man\", \"Prefer not to say\", \"Man\", \"Man\", \"Man\", \"Man\", \"Woman\", \"Woman\", \"Man\", \"Man\", \"Man\", \"Man\", \"Woman\", \"Man\", \"Woman\", \"Man\", \"Woman\", \"Man\", \"Man\", \"Man\", \"Woman\", \"Man\", \"Man\", \"Man\", \"Man\", \"Man\", \"Man\", \"Man\", \"Man\", \"Man\", \"Man\", \"Man\", \"Man\", \"Prefer not to say\", \"Man\", \"Man\", \"Man\", \"Man\", \"Woman\", \"Woman\", \"Woman\", \"Man\", \"Man\", \"Man\", \"Man\", \"Woman\", \"Man\", \"Woman\", \"Man\", \"Man\", \"Man\", \"Man\", \"Man\", \"Man\", \"Man\", \"Man\", \"Man\", \"Man\", \"Man\", \"Man\", \"Man\", \"Man\", \"Man\", \"Woman\", \"Man\", \"Man\", \"Man\", \"Man\", \"Man\", \"Woman\", \"Man\", \"Man\", \"Man\", \"Man\", \"Man\", \"Man\", \"Prefer not to say\", \"Woman\", \"Man\", \"Man\", \"Man\", \"Man\", \"Prefer not to say\", \"Woman\", \"Man\", \"Man\", \"Man\", \"Man\", \"Woman\", \"Man\", \"Man\", \"Woman\", \"Man\", \"Man\", \"Woman\", \"Man\", \"Man\", \"Man\", \"Woman\", \"Woman\", \"Man\", \"Man\", \"Woman\", \"Man\", \"Man\", \"Man\", \"Man\", \"Man\", \"Woman\", \"Man\", \"Man\", \"Man\", \"Man\", \"Man\", \"Man\", \"Woman\", \"Man\", \"Woman\", \"Man\", \"Man\", \"Man\", \"Man\", \"Woman\", \"Man\", \"Man\", \"Man\", \"Man\", \"Man\", \"Man\", \"Man\", \"Man\", \"Man\", \"Woman\", \"Man\", \"Man\", \"Man\", \"Man\", \"Woman\", \"Man\", \"Man\", \"Man\", \"Prefer not to say\", \"Man\", \"Man\", \"Woman\", \"Man\", \"Man\", \"Man\", \"Woman\", \"Man\", \"Man\", \"Man\", \"Man\", \"Man\", \"Man\", \"Man\", \"Man\", \"Man\", \"Man\", \"Man\", \"Man\", \"Woman\", \"Man\", \"Woman\", \"Man\", \"Woman\", \"Man\", \"Man\", \"Man\", \"Woman\", \"Man\", \"Woman\", \"Man\", \"Man\", \"Man\", \"Man\", \"Man\", \"Man\", \"Man\", \"Man\", \"Woman\", \"Man\", \"Man\", \"Man\", \"Man\", \"Woman\", \"Man\", \"Man\", \"Woman\", \"Man\", \"Woman\", \"Man\", \"Man\", \"Man\", \"Man\", \"Man\", \"Man\", \"Woman\", \"Man\", \"Man\", \"Woman\", \"Man\", \"Man\", \"Man\", \"Man\", \"Man\", \"Man\", \"Man\", \"Man\", \"Man\", \"Man\", \"Man\", \"Man\", \"Man\", \"Man\", \"Woman\", \"Man\", \"Woman\", \"Man\", \"Woman\", \"Man\", \"Man\", \"Man\", \"Man\", \"Man\", \"Man\", \"Man\", \"Man\", \"Man\", \"Man\", \"Man\", \"Man\", \"Man\", \"Man\", \"Man\", \"Man\", \"Man\", \"Man\", \"Man\", \"Man\", \"Woman\", \"Man\", \"Woman\", \"Man\", \"Man\", \"Man\", \"Woman\", \"Man\", \"Man\", \"Man\", \"Woman\", \"Man\", \"Man\", \"Man\", \"Man\", \"Man\", \"Man\", \"Man\", \"Man\", \"Man\", \"Man\", \"Man\", \"Man\", \"Nonbinary\", \"Man\", \"Woman\", \"Woman\", \"Man\", \"Man\", \"Man\", \"Man\", \"Man\", \"Man\", \"Man\", \"Man\", \"Man\", \"Man\", \"Man\", \"Woman\", \"Man\", \"Man\", \"Woman\", \"Nonbinary\", \"Man\", \"Woman\", \"Man\", \"Man\", \"Man\", \"Man\", \"Man\", \"Woman\", \"Man\", \"Man\", \"Woman\", \"Woman\", \"Man\", \"Man\", \"Woman\", \"Man\", \"Woman\", \"Man\", \"Man\", \"Man\", \"Man\", \"Prefer not to say\", \"Man\", \"Man\", \"Man\", \"Man\", \"Man\", \"Man\", \"Man\", \"Man\", \"Man\", \"Man\", \"Man\", \"Prefer to self-describe\", \"Man\", \"Woman\", \"Man\", \"Man\", \"Man\", \"Man\", \"Man\", \"Woman\", \"Man\", \"Man\", \"Man\", \"Man\", \"Man\", \"Man\", \"Man\", \"Man\", \"Man\", \"Woman\", \"Man\", \"Man\", \"Man\", \"Man\", \"Woman\", \"Woman\", \"Woman\", \"Man\", \"Man\", \"Man\", \"Woman\", \"Man\", \"Man\", \"Woman\", \"Man\", \"Man\", \"Man\", \"Man\", \"Man\", \"Man\", \"Man\", \"Man\", \"Man\", \"Man\", \"Man\", \"Woman\", \"Man\", \"Man\", \"Man\", \"Man\", \"Man\", \"Man\", \"Woman\", \"Man\", \"Man\", \"Man\", \"Man\", \"Man\", \"Prefer not to say\", \"Man\", \"Man\", \"Man\", \"Man\", \"Man\", \"Man\", \"Man\", \"Man\", \"Man\", \"Man\", \"Woman\", \"Man\", \"Woman\", \"Man\", \"Man\", \"Man\", \"Man\", \"Man\", \"Woman\", \"Woman\", \"Man\", \"Man\", \"Man\", \"Prefer not to say\", \"Man\", \"Man\", \"Woman\", \"Woman\", \"Man\", \"Woman\", \"Man\", \"Man\", \"Man\", \"Man\", \"Woman\", \"Woman\", \"Man\", \"Man\", \"Man\", \"Man\", \"Man\", \"Man\", \"Man\", \"Man\", \"Woman\", \"Man\", \"Man\", \"Man\", \"Man\", \"Woman\", \"Man\", \"Man\", \"Man\", \"Man\", \"Man\", \"Man\", \"Man\", \"Man\", \"Man\", \"Man\", \"Man\", \"Man\", \"Man\", \"Man\", \"Woman\", \"Man\", \"Man\", \"Man\", \"Man\", \"Man\", \"Man\", \"Man\", \"Woman\", \"Man\", \"Man\", \"Man\", \"Woman\", \"Woman\", \"Man\", \"Man\", \"Man\", \"Man\", \"Woman\", \"Man\", \"Man\", \"Man\", \"Woman\", \"Man\", \"Man\", \"Man\", \"Man\", \"Man\", \"Man\", \"Woman\", \"Woman\", \"Man\", \"Man\", \"Man\", \"Man\", \"Man\", \"Man\", \"Man\", \"Woman\", \"Man\", \"Man\", \"Woman\", \"Man\", \"Man\", \"Man\", \"Man\", \"Woman\", \"Man\", \"Prefer not to say\", \"Man\", \"Man\", \"Woman\", \"Man\", \"Woman\", \"Man\", \"Man\", \"Man\", \"Man\", \"Man\", \"Man\", \"Woman\", \"Woman\", \"Man\", \"Man\", \"Man\", \"Woman\", \"Man\", \"Man\", \"Man\", \"Man\", \"Woman\", \"Man\", \"Woman\", \"Woman\", \"Man\", \"Man\", \"Man\", \"Woman\", \"Man\", \"Man\", \"Man\", \"Man\", \"Man\", \"Woman\", \"Man\", \"Man\", \"Man\", \"Man\", \"Man\", \"Man\", \"Man\", \"Man\", \"Man\", \"Man\", \"Man\", \"Man\", \"Man\", \"Man\", \"Man\", \"Man\", \"Man\", \"Man\", \"Man\", \"Man\", \"Man\", \"Man\", \"Man\", \"Man\", \"Man\", \"Woman\", \"Woman\", \"Man\", \"Man\", \"Man\", \"Man\", \"Woman\", \"Woman\", \"Man\", \"Woman\", \"Man\", \"Man\", \"Man\", \"Man\", \"Man\", \"Woman\", \"Man\", \"Man\", \"Woman\", \"Man\", \"Man\", \"Man\", \"Woman\", \"Man\", \"Man\", \"Man\", \"Man\", \"Man\", \"Man\", \"Woman\", \"Man\", \"Man\", \"Man\", \"Woman\", \"Man\", \"Woman\", \"Man\", \"Woman\", \"Woman\", \"Man\", \"Man\", \"Man\", \"Man\", \"Man\", \"Woman\", \"Man\", \"Man\", \"Man\", \"Man\", \"Man\", \"Man\", \"Man\", \"Man\", \"Man\", \"Man\", \"Man\", \"Man\", \"Man\", \"Woman\", \"Prefer not to say\", \"Man\", \"Woman\", \"Man\", \"Man\", \"Man\", \"Man\", \"Man\", \"Man\", \"Man\", \"Man\", \"Man\", \"Man\", \"Man\", \"Man\", \"Man\", \"Man\", \"Man\", \"Woman\", \"Man\", \"Woman\", \"Man\", \"Man\", \"Man\", \"Man\", \"Man\", \"Woman\", \"Woman\", \"Man\", \"Man\", \"Woman\", \"Man\", \"Man\", \"Man\", \"Man\", \"Woman\", \"Woman\", \"Man\", \"Man\", \"Man\", \"Man\", \"Man\", \"Woman\", \"Man\", \"Man\", \"Man\", \"Woman\", \"Man\", \"Woman\", \"Man\", \"Man\", \"Man\", \"Man\", \"Man\", \"Man\", \"Man\", \"Woman\", \"Man\", \"Man\", \"Man\", \"Man\", \"Man\", \"Man\", \"Woman\", \"Man\", \"Man\", \"Woman\", \"Man\", \"Man\", \"Man\", \"Man\", \"Woman\", \"Man\", \"Man\", \"Woman\", \"Man\", \"Man\", \"Man\", \"Man\", \"Woman\", \"Woman\", \"Man\", \"Man\", \"Man\", \"Man\", \"Man\", \"Man\", \"Man\", \"Man\", \"Prefer not to say\", \"Man\", \"Man\", \"Man\", \"Man\", \"Man\", \"Woman\", \"Man\", \"Woman\", \"Man\", \"Woman\", \"Man\", \"Man\", \"Man\", \"Man\", \"Man\", \"Man\", \"Woman\", \"Man\", \"Woman\", \"Woman\", \"Man\", \"Man\", \"Man\", \"Woman\", \"Man\", \"Man\", \"Man\", \"Man\", \"Man\", \"Man\", \"Man\", \"Man\", \"Man\", \"Woman\", \"Man\", \"Man\", \"Man\", \"Woman\", \"Man\", \"Woman\", \"Man\", \"Man\", \"Woman\", \"Man\", \"Woman\", \"Man\", \"Woman\", \"Man\", \"Woman\", \"Woman\", \"Man\", \"Man\", \"Man\", \"Man\", \"Man\", \"Woman\", \"Man\", \"Man\", \"Man\", \"Man\", \"Man\", \"Man\", \"Man\", \"Man\", \"Man\", \"Man\", \"Man\", \"Man\", \"Man\", \"Woman\", \"Man\", \"Man\", \"Man\", \"Man\", \"Woman\", \"Man\", \"Man\", \"Woman\", \"Woman\", \"Man\", \"Man\", \"Man\", \"Woman\", \"Man\", \"Man\", \"Man\", \"Man\", \"Man\", \"Man\", \"Woman\", \"Woman\", \"Man\", \"Man\", \"Man\", \"Woman\", \"Man\", \"Man\", \"Woman\", \"Woman\", \"Man\", \"Man\", \"Man\", \"Prefer not to say\", \"Man\", \"Man\", \"Man\", \"Man\", \"Woman\", \"Man\", \"Woman\", \"Man\", \"Man\", \"Man\", \"Man\", \"Man\", \"Man\", \"Man\", \"Man\", \"Woman\", \"Man\", \"Man\", \"Man\", \"Man\", \"Man\", \"Man\", \"Man\", \"Man\", \"Man\", \"Man\", \"Man\", \"Man\", \"Woman\", \"Woman\", \"Prefer not to say\", \"Man\", \"Man\", \"Man\", \"Man\", \"Man\", \"Man\", \"Man\", \"Man\", \"Man\", \"Man\", \"Man\", \"Man\", \"Man\", \"Woman\", \"Man\", \"Woman\", \"Man\", \"Man\", \"Woman\", \"Man\", \"Man\", \"Woman\", \"Man\", \"Man\", \"Man\", \"Woman\", \"Man\", \"Man\", \"Man\", \"Man\", \"Woman\", \"Woman\", \"Man\", \"Woman\", \"Man\", \"Man\", \"Woman\", \"Man\", \"Woman\", \"Man\", \"Prefer not to say\", \"Man\", \"Woman\", \"Man\", \"Man\", \"Woman\", \"Man\", \"Man\", \"Man\", \"Man\", \"Man\", \"Man\", \"Woman\", \"Man\", \"Woman\", \"Man\", \"Woman\", \"Man\", \"Man\", \"Woman\", \"Man\", \"Man\", \"Man\", \"Man\", \"Man\", \"Woman\", \"Man\", \"Woman\", \"Woman\", \"Man\", \"Man\", \"Man\", \"Woman\", \"Man\", \"Man\", \"Man\", \"Woman\", \"Man\", \"Man\", \"Man\", \"Man\", \"Man\", \"Woman\", \"Woman\", \"Woman\", \"Man\", \"Man\", \"Man\", \"Man\", \"Man\", \"Prefer not to say\", \"Woman\", \"Man\", \"Man\", \"Man\", \"Man\", \"Man\", \"Man\", \"Nonbinary\", \"Man\", \"Man\", \"Man\", \"Man\", \"Woman\", \"Man\", \"Woman\", \"Man\", \"Woman\", \"Man\", \"Man\", \"Woman\", \"Man\", \"Man\", \"Man\", \"Man\", \"Woman\", \"Man\", \"Man\", \"Man\", \"Man\", \"Woman\", \"Man\", \"Man\", \"Man\", \"Woman\", \"Man\", \"Man\", \"Man\", \"Woman\", \"Man\", \"Man\", \"Man\", \"Man\", \"Man\", \"Man\", \"Man\", \"Man\", \"Man\", \"Man\", \"Man\", \"Man\", \"Man\", \"Woman\", \"Man\", \"Man\", \"Woman\", \"Man\", \"Man\", \"Man\", \"Man\", \"Man\", \"Man\", \"Woman\", \"Prefer not to say\", \"Man\", \"Man\", \"Man\", \"Man\", \"Man\", \"Woman\", \"Woman\", \"Man\", \"Man\", \"Man\", \"Man\", \"Woman\", \"Man\", \"Woman\", \"Man\", \"Man\", \"Man\", \"Man\", \"Man\", \"Man\", \"Woman\", \"Man\", \"Man\", \"Man\", \"Man\", \"Woman\", \"Man\", \"Man\", \"Man\", \"Man\", \"Woman\", \"Man\", \"Man\", \"Woman\", \"Woman\", \"Prefer to self-describe\", \"Man\", \"Man\", \"Man\", \"Man\", \"Man\", \"Man\", \"Man\", \"Woman\", \"Woman\", \"Man\", \"Man\", \"Man\", \"Man\", \"Man\", \"Man\", \"Prefer not to say\", \"Man\", \"Man\", \"Man\", \"Man\", \"Man\", \"Man\", \"Man\", \"Man\", \"Man\", \"Man\", \"Man\", \"Man\", \"Man\", \"Man\", \"Man\", \"Woman\", \"Man\", \"Man\", \"Man\", \"Man\", \"Man\", \"Man\", \"Woman\", \"Man\", \"Man\", \"Prefer not to say\", \"Man\", \"Woman\", \"Man\", \"Man\", \"Man\", \"Man\", \"Man\", \"Woman\", \"Man\", \"Man\", \"Man\", \"Man\", \"Man\", \"Man\", \"Man\", \"Woman\", \"Man\", \"Man\", \"Man\", \"Woman\", \"Man\", \"Man\", \"Man\", \"Man\", \"Man\", \"Woman\", \"Man\", \"Man\", \"Man\", \"Man\", \"Woman\", \"Man\", \"Man\", \"Man\", \"Man\", \"Man\", \"Man\", \"Man\", \"Man\", \"Man\", \"Man\", \"Woman\", \"Woman\", \"Man\", \"Man\", \"Woman\", \"Man\", \"Man\", \"Man\", \"Woman\", \"Man\", \"Woman\", \"Woman\", \"Woman\", \"Man\", \"Man\", \"Man\", \"Man\", \"Man\", \"Man\", \"Prefer not to say\", \"Man\", \"Woman\", \"Man\", \"Man\", \"Man\", \"Man\", \"Man\", \"Woman\", \"Man\", \"Man\", \"Woman\", \"Woman\", \"Man\", \"Man\", \"Man\", \"Man\", \"Man\", \"Woman\", \"Prefer not to say\", \"Man\", \"Man\", \"Man\", \"Man\", \"Man\", \"Man\", \"Man\", \"Man\", \"Man\", \"Man\", \"Woman\", \"Man\", \"Man\", \"Man\", \"Man\", \"Man\", \"Woman\", \"Man\", \"Woman\", \"Man\", \"Man\", \"Man\", \"Woman\", \"Man\", \"Man\", \"Man\", \"Man\", \"Woman\", \"Man\", \"Man\", \"Man\", \"Man\", \"Man\", \"Man\", \"Man\", \"Man\", \"Woman\", \"Man\", \"Man\", \"Woman\", \"Woman\", \"Nonbinary\", \"Woman\", \"Woman\", \"Man\", \"Man\", \"Man\", \"Man\", \"Man\", \"Woman\", \"Woman\", \"Man\", \"Man\", \"Man\", \"Man\", \"Man\", \"Man\", \"Man\", \"Man\", \"Woman\", \"Man\", \"Woman\", \"Man\", \"Man\", \"Man\", \"Woman\", \"Man\", \"Man\", \"Man\", \"Man\", \"Man\", \"Man\", \"Woman\", \"Man\", \"Man\", \"Man\", \"Man\", \"Woman\", \"Man\", \"Man\", \"Woman\", \"Man\", \"Man\", \"Man\", \"Man\", \"Man\", \"Man\", \"Woman\", \"Man\", \"Man\", \"Woman\", \"Man\", \"Man\", \"Man\", \"Woman\", \"Man\", \"Man\", \"Man\", \"Man\", \"Man\", \"Woman\", \"Man\", \"Man\", \"Man\", \"Woman\", \"Man\", \"Woman\", \"Man\", \"Man\", \"Woman\", \"Man\", \"Man\", \"Man\", \"Man\", \"Woman\", \"Man\", \"Woman\", \"Man\", \"Man\", \"Man\", \"Man\", \"Woman\", \"Man\", \"Man\", \"Woman\", \"Woman\", \"Man\", \"Man\", \"Man\", \"Man\", \"Woman\", \"Man\", \"Woman\", \"Man\", \"Man\", \"Man\", \"Man\", \"Man\", \"Man\", \"Woman\", \"Man\", \"Man\", \"Man\", \"Woman\", \"Man\", \"Man\", \"Man\", \"Man\", \"Man\", \"Man\", \"Man\", \"Man\", \"Man\", \"Woman\", \"Man\", \"Man\", \"Man\", \"Man\", \"Woman\", \"Prefer not to say\", \"Woman\", \"Woman\", \"Man\", \"Man\", \"Woman\", \"Woman\", \"Man\", \"Man\", \"Man\", \"Woman\", \"Woman\", \"Man\", \"Man\", \"Man\", \"Man\", \"Man\", \"Man\", \"Man\", \"Man\", \"Man\", \"Woman\", \"Man\", \"Man\", \"Man\", \"Man\", \"Man\", \"Man\", \"Woman\", \"Woman\", \"Man\", \"Man\", \"Man\", \"Man\", \"Man\", \"Man\", \"Man\", \"Woman\", \"Man\", \"Man\", \"Man\", \"Man\", \"Man\", \"Man\", \"Woman\", \"Man\", \"Woman\", \"Prefer not to say\", \"Man\", \"Man\", \"Woman\", \"Man\", \"Man\", \"Man\", \"Man\", \"Woman\", \"Man\", \"Man\", \"Man\", \"Man\", \"Man\", \"Man\", \"Man\", \"Man\", \"Man\", \"Man\", \"Man\", \"Man\", \"Man\", \"Man\", \"Man\", \"Man\", \"Man\", \"Woman\", \"Man\", \"Woman\", \"Man\", \"Man\", \"Man\", \"Man\", \"Man\", \"Woman\", \"Woman\", \"Man\", \"Prefer not to say\", \"Nonbinary\", \"Man\", \"Man\", \"Woman\", \"Man\", \"Man\", \"Man\", \"Man\", \"Man\", \"Woman\", \"Man\", \"Man\", \"Man\", \"Woman\", \"Woman\", \"Man\", \"Man\", \"Man\", \"Man\", \"Woman\", \"Woman\", \"Man\", \"Woman\", \"Man\", \"Woman\", \"Man\", \"Prefer not to say\", \"Man\", \"Man\", \"Woman\", \"Man\", \"Man\", \"Man\", \"Woman\", \"Man\", \"Man\", \"Woman\", \"Man\", \"Man\", \"Man\", \"Man\", \"Woman\", \"Man\", \"Man\", \"Woman\", \"Man\", \"Man\", \"Man\", \"Woman\", \"Man\", \"Man\", \"Woman\", \"Man\", \"Man\", \"Man\", \"Man\", \"Man\", \"Woman\", \"Man\", \"Man\", \"Man\", \"Nonbinary\", \"Woman\", \"Man\", \"Man\", \"Man\", \"Woman\", \"Man\", \"Man\", \"Woman\", \"Man\", \"Man\", \"Man\", \"Woman\", \"Man\", \"Man\", \"Man\", \"Woman\", \"Man\", \"Man\", \"Woman\", \"Man\", \"Man\", \"Man\", \"Man\", \"Man\", \"Man\", \"Man\", \"Man\", \"Man\", \"Woman\", \"Man\", \"Woman\", \"Man\", \"Man\", \"Woman\", \"Woman\", \"Man\", \"Man\", \"Man\", \"Man\", \"Woman\", \"Man\", \"Man\", \"Man\", \"Man\", \"Woman\", \"Man\", \"Man\", \"Man\", \"Man\", \"Man\", \"Man\", \"Man\", \"Man\", \"Man\", \"Woman\", \"Woman\", \"Man\", \"Man\", \"Man\", \"Man\", \"Woman\", \"Man\", \"Man\", \"Woman\", \"Man\", \"Man\", \"Man\", \"Man\", \"Man\", \"Man\", \"Woman\", \"Woman\", \"Man\", \"Woman\", \"Man\", \"Man\", \"Man\", \"Man\", \"Man\", \"Man\", \"Man\", \"Man\", \"Man\", \"Man\", \"Man\", \"Man\", \"Man\", \"Man\", \"Man\", \"Woman\", \"Man\", \"Man\", \"Woman\", \"Man\", \"Man\", \"Man\", \"Woman\", \"Man\", \"Man\", \"Man\", \"Man\", \"Man\", \"Man\", \"Man\", \"Man\", \"Man\", \"Man\", \"Man\", \"Woman\", \"Man\", \"Woman\", \"Man\", \"Man\", \"Man\", \"Man\", \"Woman\", \"Woman\", \"Man\", \"Man\", \"Man\", \"Man\", \"Man\", \"Man\", \"Man\", \"Woman\", \"Man\", \"Man\", \"Man\", \"Man\", \"Man\", \"Man\", \"Woman\", \"Man\", \"Woman\", \"Woman\", \"Man\", \"Man\", \"Woman\", \"Man\", \"Man\", \"Woman\", \"Man\", \"Man\", \"Man\", \"Man\", \"Man\", \"Woman\", \"Man\", \"Man\", \"Man\", \"Man\", \"Man\", \"Man\", \"Woman\", \"Woman\", \"Man\", \"Man\", \"Man\", \"Man\", \"Man\", \"Man\", \"Man\", \"Woman\", \"Man\", \"Man\", \"Man\", \"Man\", \"Man\", \"Man\", \"Woman\", \"Man\", \"Woman\", \"Woman\", \"Man\", \"Man\", \"Man\", \"Man\", \"Man\", \"Man\", \"Woman\", \"Man\", \"Man\", \"Man\", \"Man\", \"Man\", \"Woman\", \"Man\", \"Man\", \"Man\", \"Man\", \"Woman\", \"Man\", \"Man\", \"Man\", \"Man\", \"Man\", \"Man\", \"Man\", \"Man\", \"Woman\", \"Man\", \"Man\", \"Woman\", \"Man\", \"Man\", \"Man\", \"Woman\", \"Man\", \"Man\", \"Man\", \"Man\", \"Man\", \"Man\", \"Man\", \"Man\", \"Man\", \"Man\", \"Man\", \"Man\", \"Man\", \"Prefer not to say\", \"Man\", \"Man\", \"Man\", \"Man\", \"Man\", \"Man\", \"Man\", \"Man\", \"Man\", \"Man\", \"Man\", \"Woman\", \"Man\", \"Woman\", \"Woman\", \"Man\", \"Man\", \"Woman\", \"Man\", \"Man\", \"Man\", \"Man\", \"Man\", \"Man\", \"Man\", \"Man\", \"Man\", \"Man\", \"Man\", \"Man\", \"Man\", \"Man\", \"Man\", \"Woman\", \"Man\", \"Man\", \"Man\", \"Man\", \"Woman\", \"Woman\", \"Man\", \"Man\", \"Man\", \"Prefer not to say\", \"Woman\", \"Man\", \"Woman\", \"Woman\", \"Woman\", \"Man\", \"Man\", \"Man\", \"Man\", \"Woman\", \"Woman\", \"Man\", \"Man\", \"Man\", \"Man\", \"Woman\", \"Man\", \"Woman\", \"Man\", \"Man\", \"Man\", \"Woman\", \"Man\", \"Woman\", \"Woman\", \"Woman\", \"Man\", \"Man\", \"Man\", \"Man\", \"Woman\", \"Man\", \"Man\", \"Woman\", \"Man\", \"Man\", \"Man\", \"Woman\", \"Woman\", \"Man\", \"Woman\", \"Man\", \"Man\", \"Man\", \"Woman\", \"Woman\", \"Man\", \"Woman\", \"Man\", \"Man\", \"Man\", \"Man\", \"Man\", \"Man\", \"Woman\", \"Woman\", \"Man\", \"Man\", \"Man\", \"Woman\", \"Man\", \"Man\", \"Woman\", \"Woman\", \"Woman\", \"Man\", \"Woman\", \"Man\", \"Woman\", \"Woman\", \"Man\", \"Man\", \"Man\", \"Man\", \"Woman\", \"Man\", \"Woman\", \"Man\", \"Man\", \"Man\", \"Man\", \"Man\", \"Man\", \"Man\", \"Man\", \"Woman\", \"Man\", \"Man\", \"Man\", \"Woman\", \"Man\", \"Woman\", \"Man\", \"Man\", \"Man\", \"Man\", \"Man\", \"Man\", \"Man\", \"Man\", \"Man\", \"Man\", \"Woman\", \"Woman\", \"Woman\", \"Prefer not to say\", \"Man\", \"Man\", \"Man\", \"Man\", \"Man\", \"Man\", \"Woman\", \"Man\", \"Woman\", \"Man\", \"Woman\", \"Woman\", \"Man\", \"Man\", \"Man\", \"Man\", \"Man\", \"Man\", \"Man\", \"Man\", \"Prefer not to say\", \"Woman\", \"Woman\", \"Man\", \"Man\", \"Man\", \"Woman\", \"Man\", \"Man\", \"Man\", \"Man\", \"Woman\", \"Woman\", \"Man\", \"Man\", \"Woman\", \"Man\", \"Man\", \"Man\", \"Man\", \"Man\", \"Man\", \"Man\", \"Man\", \"Man\", \"Man\", \"Man\", \"Man\", \"Man\", \"Man\", \"Man\", \"Man\", \"Man\", \"Man\", \"Man\", \"Man\", \"Man\", \"Man\", \"Man\", \"Man\", \"Man\", \"Man\", \"Woman\", \"Man\", \"Man\", \"Man\", \"Man\", \"Man\", \"Woman\", \"Man\", \"Woman\", \"Woman\", \"Man\", \"Woman\", \"Man\", \"Man\", \"Man\", \"Man\", \"Man\", \"Man\", \"Man\", \"Man\", \"Man\", \"Woman\", \"Man\", \"Man\", \"Woman\", \"Man\", \"Man\", \"Man\", \"Man\", \"Man\", \"Man\", \"Man\", \"Man\", \"Man\", \"Man\", \"Man\", \"Man\", \"Man\", \"Man\", \"Man\", \"Man\", \"Man\", \"Man\", \"Woman\", \"Man\", \"Man\", \"Man\", \"Woman\", \"Man\", \"Man\", \"Man\", \"Man\", \"Man\", \"Man\", \"Man\", \"Man\", \"Man\", \"Woman\", \"Man\", \"Man\", \"Man\", \"Woman\", \"Man\", \"Man\", \"Man\", \"Woman\", \"Man\", \"Man\", \"Man\", \"Man\", \"Man\", \"Man\", \"Man\", \"Man\", \"Man\", \"Man\", \"Woman\", \"Woman\", \"Man\", \"Man\", \"Man\", \"Man\", \"Man\", \"Man\", \"Man\", \"Woman\", \"Man\", \"Man\", \"Man\", \"Woman\", \"Man\", \"Man\", \"Man\", \"Man\", \"Man\", \"Man\", \"Woman\", \"Man\", \"Woman\", \"Man\", \"Man\", \"Man\", \"Man\", \"Woman\", \"Woman\", \"Man\", \"Man\", \"Woman\", \"Woman\", \"Woman\", \"Woman\", \"Man\", \"Woman\", \"Man\", \"Man\", \"Man\", \"Man\", \"Woman\", \"Prefer to self-describe\", \"Man\", \"Woman\", \"Man\", \"Man\", \"Man\", \"Woman\", \"Woman\", \"Man\", \"Man\", \"Man\", \"Man\", \"Man\", \"Man\", \"Woman\", \"Man\", \"Man\", \"Man\", \"Man\", \"Woman\", \"Man\", \"Man\", \"Man\", \"Man\", \"Man\", \"Man\", \"Woman\", \"Man\", \"Man\", \"Man\", \"Man\", \"Man\", \"Man\", \"Woman\", \"Man\", \"Man\", \"Prefer not to say\", \"Man\", \"Man\", \"Woman\", \"Man\", \"Man\", \"Woman\", \"Man\", \"Man\", \"Woman\", \"Man\", \"Man\", \"Woman\", \"Woman\", \"Man\", \"Man\", \"Man\", \"Man\", \"Man\", \"Man\", \"Man\", \"Man\", \"Man\", \"Man\", \"Man\", \"Man\", \"Woman\", \"Man\", \"Woman\", \"Woman\", \"Man\", \"Prefer not to say\", \"Woman\", \"Man\", \"Man\", \"Man\", \"Man\", \"Man\", \"Woman\", \"Man\", \"Man\", \"Man\", \"Woman\", \"Man\", \"Man\", \"Man\", \"Man\", \"Man\", \"Man\", \"Woman\", \"Man\", \"Man\", \"Woman\", \"Man\", \"Man\", \"Man\", \"Man\", \"Man\", \"Man\", \"Man\", \"Man\", \"Man\", \"Man\", \"Man\", \"Man\", \"Woman\", \"Man\", \"Woman\", \"Man\", \"Man\", \"Man\", \"Man\", \"Man\", \"Man\", \"Man\", \"Man\", \"Man\", \"Man\", \"Woman\", \"Woman\", \"Man\", \"Man\", \"Man\", \"Man\", \"Man\", \"Woman\", \"Man\", \"Man\", \"Man\", \"Man\", \"Man\", \"Man\", \"Man\", \"Man\", \"Man\", \"Man\", \"Woman\", \"Man\", \"Man\", \"Man\", \"Man\", \"Woman\", \"Prefer not to say\", \"Man\", \"Man\", \"Prefer not to say\", \"Man\", \"Woman\", \"Man\", \"Woman\", \"Woman\", \"Man\", \"Man\", \"Man\", \"Man\", \"Man\", \"Man\", \"Man\", \"Prefer not to say\", \"Man\", \"Man\", \"Woman\", \"Man\", \"Man\", \"Man\", \"Man\", \"Man\", \"Man\", \"Man\", \"Man\", \"Woman\", \"Man\", \"Man\", \"Man\", \"Man\", \"Man\", \"Woman\", \"Man\", \"Man\", \"Man\", \"Man\", \"Man\", \"Man\", \"Man\", \"Woman\", \"Man\", \"Man\", \"Woman\", \"Prefer not to say\", \"Man\", \"Man\", \"Woman\", \"Man\", \"Man\", \"Woman\", \"Man\", \"Man\", \"Man\", \"Woman\", \"Man\", \"Man\", \"Man\", \"Man\", \"Man\", \"Man\", \"Man\", \"Man\", \"Man\", \"Woman\", \"Man\", \"Man\", \"Woman\", \"Man\", \"Man\", \"Man\", \"Man\", \"Man\", \"Woman\", \"Man\", \"Man\", \"Man\", \"Man\", \"Man\", \"Man\", \"Man\", \"Man\", \"Man\", \"Woman\", \"Man\", \"Man\", \"Man\", \"Man\", \"Nonbinary\", \"Man\", \"Man\", \"Man\", \"Man\", \"Man\", \"Man\", \"Man\", \"Man\", \"Woman\", \"Man\", \"Woman\", \"Man\", \"Man\", \"Man\", \"Man\", \"Woman\", \"Woman\", \"Woman\", \"Man\", \"Man\", \"Woman\", \"Man\", \"Woman\", \"Man\", \"Man\", \"Man\", \"Man\", \"Man\", \"Man\", \"Man\", \"Man\", \"Man\", \"Woman\", \"Nonbinary\", \"Man\", \"Man\", \"Man\", \"Man\", \"Man\", \"Man\", \"Woman\", \"Man\", \"Woman\", \"Man\", \"Man\", \"Woman\", \"Woman\", \"Woman\", \"Man\", \"Man\", \"Man\", \"Man\", \"Man\", \"Man\", \"Man\", \"Man\", \"Man\", \"Prefer not to say\", \"Man\", \"Man\", \"Man\", \"Man\", \"Man\", \"Woman\", \"Man\", \"Man\", \"Man\", \"Man\", \"Man\", \"Woman\", \"Woman\", \"Man\", \"Man\", \"Man\", \"Man\", \"Woman\", \"Man\", \"Man\", \"Man\", \"Man\", \"Man\", \"Man\", \"Woman\", \"Man\", \"Man\", \"Man\", \"Man\", \"Man\", \"Woman\", \"Man\", \"Man\", \"Man\", \"Man\", \"Man\", \"Man\", \"Man\", \"Woman\", \"Man\", \"Man\", \"Woman\", \"Man\", \"Man\", \"Man\", \"Man\", \"Man\", \"Man\", \"Man\", \"Man\", \"Man\", \"Man\", \"Woman\", \"Man\", \"Woman\", \"Man\", \"Woman\", \"Woman\", \"Man\", \"Man\", \"Man\", \"Woman\", \"Man\", \"Man\", \"Woman\", \"Man\", \"Prefer to self-describe\", \"Woman\", \"Man\", \"Man\", \"Man\", \"Man\", \"Man\", \"Man\", \"Man\", \"Man\", \"Man\", \"Man\", \"Man\", \"Man\", \"Man\", \"Man\", \"Man\", \"Woman\", \"Man\", \"Woman\", \"Man\", \"Man\", \"Woman\", \"Man\", \"Man\", \"Man\", \"Woman\", \"Woman\", \"Man\", \"Man\", \"Woman\", \"Man\", \"Woman\", \"Man\", \"Man\", \"Man\", \"Man\", \"Man\", \"Woman\", \"Woman\", \"Woman\", \"Man\", \"Man\", \"Man\", \"Man\", \"Man\", \"Man\", \"Man\", \"Man\", \"Man\", \"Prefer not to say\", \"Man\", \"Woman\", \"Woman\", \"Man\", \"Man\", \"Man\", \"Man\", \"Man\", \"Woman\", \"Man\", \"Man\", \"Man\", \"Man\", \"Man\", \"Man\", \"Man\", \"Woman\", \"Man\", \"Man\", \"Man\", \"Man\", \"Woman\", \"Woman\", \"Man\", \"Woman\", \"Man\", \"Woman\", \"Man\", \"Man\", \"Man\", \"Woman\", \"Man\", \"Man\", \"Woman\", \"Man\", \"Man\", \"Woman\", \"Man\", \"Man\", \"Man\", \"Woman\", \"Man\", \"Man\", \"Man\", \"Man\", \"Man\", \"Man\", \"Man\", \"Man\", \"Woman\", \"Man\", \"Man\", \"Man\", \"Man\", \"Man\", \"Man\", \"Man\", \"Man\", \"Woman\", \"Man\", \"Man\", \"Man\", \"Man\", \"Man\", \"Man\", \"Prefer to self-describe\", \"Man\", \"Man\", \"Man\", \"Man\", \"Man\", \"Woman\", \"Woman\", \"Woman\", \"Man\", \"Man\", \"Man\", \"Man\", \"Man\", \"Man\", \"Woman\", \"Man\", \"Man\", \"Man\", \"Man\", \"Man\", \"Woman\", \"Woman\", \"Woman\", \"Man\", \"Man\", \"Man\", \"Woman\", \"Man\", \"Man\", \"Man\", \"Woman\", \"Man\", \"Man\", \"Man\", \"Man\", \"Man\", \"Man\", \"Man\", \"Man\", \"Man\", \"Woman\", \"Man\", \"Man\", \"Man\", \"Woman\", \"Man\", \"Man\", \"Woman\", \"Man\", \"Man\", \"Man\", \"Woman\", \"Man\", \"Woman\", \"Woman\", \"Man\", \"Man\", \"Man\", \"Woman\", \"Man\", \"Man\", \"Man\", \"Man\", \"Man\", \"Man\", \"Man\", \"Man\", \"Man\", \"Man\", \"Man\", \"Man\", \"Man\", \"Man\", \"Man\", \"Man\", \"Woman\", \"Woman\", \"Man\", \"Man\", \"Man\", \"Man\", \"Man\", \"Man\", \"Man\", \"Man\", \"Man\", \"Man\", \"Man\", \"Man\", \"Man\", \"Woman\", \"Man\", \"Man\", \"Woman\", \"Man\", \"Woman\", \"Woman\", \"Man\", \"Woman\", \"Man\", \"Man\", \"Man\", \"Man\", \"Man\", \"Man\", \"Man\", \"Man\", \"Man\", \"Man\", \"Man\", \"Man\", \"Man\", \"Man\", \"Man\", \"Man\", \"Man\", \"Man\", \"Man\", \"Man\", \"Man\", \"Man\", \"Man\", \"Woman\", \"Man\", \"Woman\", \"Woman\", \"Man\", \"Man\", \"Man\", \"Man\", \"Man\", \"Woman\", \"Man\", \"Man\", \"Man\", \"Man\", \"Man\", \"Man\", \"Man\", \"Prefer not to say\", \"Man\", \"Man\", \"Man\", \"Man\", \"Man\", \"Man\", \"Man\", \"Man\", \"Man\", \"Man\", \"Man\", \"Man\", \"Man\", \"Woman\", \"Man\", \"Man\", \"Man\", \"Woman\", \"Man\", \"Man\", \"Man\", \"Man\", \"Man\", \"Man\", \"Man\", \"Man\", \"Man\", \"Man\", \"Man\", \"Man\", \"Man\", \"Man\", \"Man\", \"Man\", \"Man\", \"Man\", \"Woman\", \"Man\", \"Man\", \"Man\", \"Man\", \"Man\", \"Woman\", \"Man\", \"Man\", \"Man\", \"Man\", \"Woman\", \"Man\", \"Man\", \"Man\", \"Man\", \"Man\", \"Man\", \"Man\", \"Woman\", \"Woman\", \"Woman\", \"Man\", \"Man\", \"Man\", \"Woman\", \"Man\", \"Man\", \"Woman\", \"Man\", \"Man\", \"Man\", \"Man\", \"Man\", \"Man\", \"Woman\", \"Man\", \"Man\", \"Man\", \"Man\", \"Man\", \"Man\", \"Woman\", \"Man\", \"Woman\", \"Man\", \"Woman\", \"Prefer not to say\", \"Man\", \"Woman\", \"Man\", \"Man\", \"Man\", \"Man\", \"Man\", \"Man\", \"Man\", \"Woman\", \"Man\", \"Prefer not to say\", \"Man\", \"Woman\", \"Man\", \"Man\", \"Woman\", \"Man\", \"Man\", \"Man\", \"Man\", \"Man\", \"Man\", \"Man\", \"Man\", \"Man\", \"Man\", \"Woman\", \"Man\", \"Man\", \"Man\", \"Woman\", \"Man\", \"Man\", \"Man\", \"Man\", \"Man\", \"Man\", \"Man\", \"Man\", \"Man\", \"Man\", \"Man\", \"Man\", \"Man\", \"Woman\", \"Man\", \"Man\", \"Man\", \"Woman\", \"Man\", \"Man\", \"Man\", \"Man\", \"Woman\", \"Man\", \"Man\", \"Man\", \"Man\", \"Man\", \"Man\", \"Man\", \"Man\", \"Man\", \"Man\", \"Man\", \"Man\", \"Man\", \"Man\", \"Woman\", \"Man\", \"Woman\", \"Man\", \"Woman\", \"Woman\", \"Man\", \"Man\", \"Man\", \"Man\", \"Man\", \"Man\", \"Man\", \"Man\", \"Man\", \"Man\", \"Man\", \"Man\", \"Woman\", \"Man\", \"Man\", \"Man\", \"Man\", \"Man\", \"Man\", \"Man\", \"Man\", \"Woman\", \"Woman\", \"Prefer not to say\", \"Man\", \"Man\", \"Man\", \"Man\", \"Woman\", \"Man\", \"Man\", \"Woman\", \"Man\", \"Man\", \"Man\", \"Woman\", \"Woman\", \"Man\", \"Man\", \"Woman\", \"Man\", \"Woman\", \"Man\", \"Man\", \"Man\", \"Man\", \"Man\", \"Man\", \"Man\", \"Woman\", \"Man\", \"Woman\", \"Man\", \"Man\", \"Man\", \"Woman\", \"Man\", \"Prefer not to say\", \"Man\", \"Man\", \"Woman\", \"Woman\", \"Man\", \"Man\", \"Man\", \"Woman\", \"Man\", \"Man\", \"Man\", \"Man\", \"Man\", \"Man\", \"Man\", \"Man\", \"Man\", \"Man\", \"Man\", \"Woman\", \"Man\", \"Man\", \"Man\", \"Man\", \"Man\", \"Man\", \"Man\", \"Man\", \"Man\", \"Man\", \"Man\", \"Man\", \"Man\", \"Man\", \"Prefer not to say\", \"Woman\", \"Woman\", \"Man\", \"Woman\", \"Man\", \"Man\", \"Man\", \"Man\", \"Man\", \"Man\", \"Man\", \"Man\", \"Man\", \"Woman\", \"Man\", \"Man\", \"Man\", \"Man\", \"Man\", \"Woman\", \"Prefer not to say\", \"Woman\", \"Man\", \"Man\", \"Woman\", \"Man\", \"Man\", \"Man\", \"Woman\", \"Man\", \"Man\", \"Man\", \"Man\", \"Man\", \"Man\", \"Man\", \"Woman\", \"Man\", \"Man\", \"Man\", \"Man\", \"Woman\", \"Woman\", \"Man\", \"Man\", \"Man\", \"Man\", \"Man\", \"Man\", \"Woman\", \"Man\", \"Man\", \"Man\", \"Man\", \"Man\", \"Man\", \"Man\", \"Man\", \"Man\", \"Man\", \"Woman\", \"Man\", \"Man\", \"Man\", \"Woman\", \"Woman\", \"Man\", \"Man\", \"Woman\", \"Man\", \"Man\", \"Woman\", \"Prefer not to say\", \"Man\", \"Man\", \"Man\", \"Woman\", \"Woman\", \"Man\", \"Man\", \"Man\", \"Man\", \"Man\", \"Prefer not to say\", \"Woman\", \"Man\", \"Man\", \"Man\", \"Man\", \"Man\", \"Man\", \"Man\", \"Man\", \"Man\", \"Man\", \"Man\", \"Man\", \"Prefer not to say\", \"Man\", \"Man\", \"Man\", \"Man\", \"Man\", \"Man\", \"Man\", \"Man\", \"Man\", \"Man\", \"Man\", \"Man\", \"Man\", \"Woman\", \"Man\", \"Man\", \"Woman\", \"Man\", \"Man\", \"Man\", \"Man\", \"Man\", \"Man\", \"Man\", \"Man\", \"Prefer not to say\", \"Man\", \"Man\", \"Man\", \"Man\", \"Man\", \"Man\", \"Woman\", \"Man\", \"Man\", \"Woman\", \"Man\", \"Woman\", \"Man\", \"Woman\", \"Man\", \"Woman\", \"Man\", \"Woman\", \"Woman\", \"Man\", \"Woman\", \"Man\", \"Man\", \"Man\", \"Man\", \"Man\", \"Man\", \"Woman\", \"Woman\", \"Man\", \"Man\", \"Man\", \"Man\", \"Man\", \"Man\", \"Man\", \"Man\", \"Man\", \"Man\", \"Man\", \"Man\", \"Man\", \"Man\", \"Woman\", \"Man\", \"Man\", \"Man\", \"Man\", \"Man\", \"Man\", \"Man\", \"Man\", \"Man\", \"Man\", \"Woman\", \"Man\", \"Man\", \"Man\", \"Man\", \"Man\", \"Man\", \"Man\", \"Man\", \"Man\", \"Man\", \"Man\", \"Woman\", \"Man\", \"Man\", \"Man\", \"Man\", \"Man\", \"Woman\", \"Man\", \"Man\", \"Woman\", \"Man\", \"Man\", \"Man\", \"Man\", \"Man\", \"Woman\", \"Man\", \"Man\", \"Woman\", \"Woman\", \"Man\", \"Man\", \"Woman\", \"Man\", \"Woman\", \"Man\", \"Man\", \"Man\", \"Man\", \"Man\", \"Man\", \"Woman\", \"Man\", \"Man\", \"Man\", \"Woman\", \"Woman\", \"Man\", \"Man\", \"Man\", \"Man\", \"Woman\", \"Man\", \"Man\", \"Man\", \"Man\", \"Man\", \"Man\", \"Man\", \"Man\", \"Man\", \"Man\", \"Woman\", \"Prefer not to say\", \"Woman\", \"Woman\", \"Man\", \"Man\", \"Prefer to self-describe\", \"Woman\", \"Woman\", \"Woman\", \"Man\", \"Woman\", \"Man\", \"Woman\", \"Man\", \"Man\", \"Man\", \"Woman\", \"Man\", \"Man\", \"Woman\", \"Woman\", \"Woman\", \"Prefer not to say\", \"Man\", \"Woman\", \"Man\", \"Man\", \"Man\", \"Man\", \"Man\", \"Man\", \"Man\", \"Man\", \"Man\", \"Man\", \"Woman\", \"Man\", \"Man\", \"Man\", \"Man\", \"Man\", \"Man\", \"Woman\", \"Man\", \"Man\", \"Woman\", \"Man\", \"Man\", \"Man\", \"Man\", \"Man\", \"Man\", \"Man\", \"Man\", \"Man\", \"Woman\", \"Man\", \"Man\", \"Man\", \"Man\", \"Woman\", \"Man\", \"Man\", \"Woman\", \"Woman\", \"Man\", \"Man\", \"Woman\", \"Man\", \"Man\", \"Man\", \"Man\", \"Man\", \"Man\", \"Woman\", \"Man\", \"Woman\", \"Woman\", \"Man\", \"Man\", \"Man\", \"Man\", \"Man\", \"Man\", \"Man\", \"Man\", \"Man\", \"Man\", \"Man\", \"Man\", \"Man\", \"Man\", \"Man\", \"Woman\", \"Man\", \"Man\", \"Woman\", \"Woman\", \"Man\", \"Woman\", \"Man\", \"Woman\", \"Man\", \"Man\", \"Woman\", \"Man\", \"Man\", \"Prefer not to say\", \"Man\", \"Man\", \"Man\", \"Man\", \"Man\", \"Man\", \"Man\", \"Man\", \"Man\", \"Woman\", \"Woman\", \"Man\", \"Woman\", \"Man\", \"Woman\", \"Woman\", \"Man\", \"Man\", \"Woman\", \"Man\", \"Man\", \"Man\", \"Man\", \"Woman\", \"Woman\", \"Man\", \"Man\", \"Woman\", \"Man\", \"Man\", \"Man\", \"Man\", \"Man\", \"Prefer not to say\", \"Man\", \"Woman\", \"Man\", \"Man\", \"Man\", \"Man\", \"Man\", \"Woman\", \"Man\", \"Man\", \"Man\", \"Woman\", \"Man\", \"Man\", \"Prefer not to say\", \"Woman\", \"Man\", \"Man\", \"Man\", \"Man\", \"Man\", \"Man\", \"Man\", \"Man\", \"Man\", \"Man\", \"Man\", \"Man\", \"Woman\", \"Man\", \"Man\", \"Man\", \"Man\", \"Man\", \"Woman\", \"Man\", \"Man\", \"Man\", \"Man\", \"Prefer not to say\", \"Man\", \"Woman\", \"Man\", \"Man\", \"Prefer not to say\", \"Man\", \"Man\", \"Woman\", \"Man\", \"Man\", \"Man\", \"Man\", \"Man\", \"Man\", \"Woman\", \"Woman\", \"Man\", \"Man\", \"Man\", \"Man\", \"Man\", \"Man\", \"Man\", \"Man\", \"Man\", \"Man\", \"Man\", \"Woman\", \"Man\", \"Woman\", \"Man\", \"Man\", \"Man\", \"Woman\", \"Man\", \"Man\", \"Man\", \"Man\", \"Man\", \"Man\", \"Man\", \"Woman\", \"Woman\", \"Man\", \"Man\", \"Man\", \"Man\", \"Man\", \"Woman\", \"Man\", \"Woman\", \"Man\", \"Man\", \"Man\", \"Man\", \"Woman\", \"Man\", \"Man\", \"Man\", \"Man\", \"Man\", \"Man\", \"Man\", \"Woman\", \"Man\", \"Man\", \"Man\", \"Man\", \"Woman\", \"Woman\", \"Man\", \"Woman\", \"Man\", \"Man\", \"Woman\", \"Woman\", \"Man\", \"Man\", \"Woman\", \"Man\", \"Man\", \"Man\", \"Man\", \"Woman\", \"Man\", \"Man\", \"Man\", \"Man\", \"Man\", \"Man\", \"Woman\", \"Man\", \"Woman\", \"Man\", \"Man\", \"Man\", \"Man\", \"Woman\", \"Man\", \"Man\", \"Man\", \"Man\", \"Man\", \"Man\", \"Woman\", \"Prefer not to say\", \"Woman\", \"Woman\", \"Man\", \"Man\", \"Man\", \"Man\", \"Man\", \"Man\", \"Man\", \"Woman\", \"Man\", \"Man\", \"Man\", \"Woman\", \"Man\", \"Woman\", \"Man\", \"Man\", \"Woman\", \"Man\", \"Man\", \"Woman\", \"Man\", \"Man\", \"Man\", \"Woman\", \"Man\", \"Man\", \"Woman\", \"Man\", \"Man\", \"Man\", \"Man\", \"Woman\", \"Woman\", \"Man\", \"Prefer to self-describe\", \"Man\", \"Woman\", \"Woman\", \"Woman\", \"Man\", \"Man\", \"Man\", \"Man\", \"Man\", \"Man\", \"Man\", \"Man\", \"Man\", \"Man\", \"Man\", \"Man\", \"Woman\", \"Man\", \"Man\", \"Man\", \"Man\", \"Man\", \"Man\", \"Woman\", \"Man\", \"Man\", \"Man\", \"Man\", \"Man\", \"Man\", \"Man\", \"Woman\", \"Man\", \"Man\", \"Man\", \"Woman\", \"Man\", \"Woman\", \"Man\", \"Man\", \"Man\", \"Man\", \"Man\", \"Man\", \"Man\", \"Man\", \"Man\", \"Man\", \"Woman\", \"Woman\", \"Man\", \"Man\", \"Man\", \"Man\", \"Woman\", \"Man\", \"Man\", \"Prefer not to say\", \"Woman\", \"Man\", \"Man\", \"Man\", \"Man\", \"Man\", \"Man\", \"Man\", \"Man\", \"Man\", \"Man\", \"Man\", \"Man\", \"Man\", \"Man\", \"Woman\", \"Man\", \"Man\", \"Man\", \"Man\", \"Man\", \"Man\", \"Man\", \"Woman\", \"Man\", \"Man\", \"Man\", \"Man\", \"Man\", \"Man\", \"Woman\", \"Man\", \"Man\", \"Man\", \"Woman\", \"Man\", \"Man\", \"Man\", \"Man\", \"Man\", \"Man\", \"Man\", \"Man\", \"Man\", \"Man\", \"Woman\", \"Man\", \"Woman\", \"Man\", \"Man\", \"Man\", \"Woman\", \"Man\", \"Man\", \"Man\", \"Woman\", \"Man\", \"Man\", \"Man\", \"Woman\", \"Man\", \"Man\", \"Man\", \"Woman\", \"Man\", \"Woman\", \"Man\", \"Man\", \"Man\", \"Man\", \"Man\", \"Man\", \"Man\", \"Man\", \"Woman\", \"Man\", \"Man\", \"Man\", \"Man\", \"Woman\", \"Woman\", \"Man\", \"Man\", \"Man\", \"Woman\", \"Man\", \"Man\", \"Man\", \"Woman\", \"Man\", \"Man\", \"Man\", \"Woman\", \"Man\", \"Man\", \"Man\", \"Man\", \"Man\", \"Man\", \"Man\", \"Man\", \"Woman\", \"Man\", \"Man\", \"Man\", \"Man\", \"Man\", \"Man\", \"Woman\", \"Man\", \"Man\", \"Man\", \"Man\", \"Man\", \"Man\", \"Woman\", \"Woman\", \"Man\", \"Woman\", \"Man\", \"Woman\", \"Man\", \"Man\", \"Man\", \"Man\", \"Man\", \"Man\", \"Man\", \"Man\", \"Man\", \"Man\", \"Man\", \"Man\", \"Man\", \"Man\", \"Man\", \"Woman\", \"Man\", \"Man\", \"Man\", \"Woman\", \"Man\", \"Man\", \"Woman\", \"Man\", \"Man\", \"Man\", \"Man\", \"Man\", \"Man\", \"Man\", \"Man\", \"Woman\", \"Man\", \"Man\", \"Man\", \"Man\", \"Woman\", \"Man\", \"Man\", \"Man\", \"Man\", \"Man\", \"Man\", \"Man\", \"Man\", \"Man\", \"Man\", \"Woman\", \"Man\", \"Man\", \"Man\", \"Man\", \"Man\", \"Man\", \"Man\", \"Man\", \"Man\", \"Man\", \"Man\", \"Man\", \"Man\", \"Man\", \"Man\", \"Man\", \"Man\", \"Man\", \"Woman\", \"Man\", \"Woman\", \"Man\", \"Man\", \"Woman\", \"Man\", \"Woman\", \"Man\", \"Man\", \"Man\", \"Man\", \"Man\", \"Woman\", \"Woman\", \"Man\", \"Man\", \"Man\", \"Woman\", \"Woman\", \"Man\", \"Man\", \"Man\", \"Man\", \"Man\", \"Man\", \"Man\", \"Man\", \"Man\", \"Woman\", \"Man\", \"Man\", \"Man\", \"Man\", \"Prefer not to say\", \"Man\", \"Man\", \"Man\", \"Woman\", \"Man\", \"Man\", \"Man\", \"Woman\", \"Woman\", \"Man\", \"Man\", \"Man\", \"Woman\", \"Man\", \"Man\", \"Man\", \"Man\", \"Man\", \"Man\", \"Woman\", \"Woman\", \"Man\", \"Man\", \"Man\", \"Man\", \"Man\", \"Man\", \"Man\", \"Man\", \"Man\", \"Man\", \"Man\", \"Man\", \"Woman\", \"Man\", \"Woman\", \"Man\", \"Man\", \"Man\", \"Man\", \"Man\", \"Woman\", \"Man\", \"Man\", \"Man\", \"Man\", \"Man\", \"Woman\", \"Woman\", \"Man\", \"Man\", \"Man\", \"Man\", \"Man\", \"Man\", \"Man\", \"Man\", \"Man\", \"Man\", \"Woman\", \"Man\", \"Man\", \"Man\", \"Man\", \"Woman\", \"Man\", \"Man\", \"Man\", \"Woman\", \"Man\", \"Man\", \"Woman\", \"Man\", \"Man\", \"Prefer not to say\", \"Man\", \"Woman\", \"Woman\", \"Man\", \"Man\", \"Man\", \"Man\", \"Man\", \"Man\", \"Man\", \"Man\", \"Man\", \"Man\", \"Man\", \"Man\", \"Man\", \"Man\", \"Woman\", \"Man\", \"Man\", \"Man\", \"Man\", \"Woman\", \"Man\", \"Man\", \"Woman\", \"Man\", \"Man\", \"Man\", \"Man\", \"Man\", \"Woman\", \"Man\", \"Man\", \"Man\", \"Man\", \"Man\", \"Prefer not to say\", \"Man\", \"Woman\", \"Woman\", \"Man\", \"Man\", \"Man\", \"Man\", \"Man\", \"Man\", \"Man\", \"Man\", \"Man\", \"Man\", \"Man\", \"Man\", \"Man\", \"Man\", \"Man\", \"Man\", \"Man\", \"Woman\", \"Man\", \"Man\", \"Man\", \"Man\", \"Man\", \"Man\", \"Man\", \"Man\", \"Woman\", \"Man\", \"Man\", \"Man\", \"Man\", \"Man\", \"Man\", \"Man\", \"Man\", \"Man\", \"Man\", \"Man\", \"Man\", \"Man\", \"Man\", \"Man\", \"Man\", \"Man\", \"Man\", \"Man\", \"Man\", \"Man\", \"Man\", \"Man\", \"Man\", \"Woman\", \"Man\", \"Man\", \"Woman\", \"Woman\", \"Man\", \"Man\", \"Man\", \"Man\", \"Woman\", \"Man\", \"Man\", \"Man\", \"Woman\", \"Man\", \"Man\", \"Man\", \"Woman\", \"Man\", \"Man\", \"Man\", \"Man\", \"Woman\", \"Man\", \"Man\", \"Man\", \"Man\", \"Man\", \"Man\", \"Man\", \"Man\", \"Man\", \"Man\", \"Woman\", \"Man\", \"Man\", \"Man\", \"Man\", \"Man\", \"Man\", \"Man\", \"Man\", \"Man\", \"Man\", \"Man\", \"Man\", \"Woman\", \"Man\", \"Man\", \"Man\", \"Man\", \"Man\", \"Man\", \"Man\", \"Man\", \"Man\", \"Woman\", \"Man\", \"Man\", \"Man\", \"Woman\", \"Woman\", \"Man\", \"Man\", \"Man\", \"Man\", \"Man\", \"Man\", \"Man\", \"Man\", \"Man\", \"Woman\", \"Woman\", \"Man\", \"Man\", \"Woman\", \"Man\", \"Man\", \"Prefer not to say\", \"Man\", \"Woman\", \"Man\", \"Man\", \"Man\", \"Man\", \"Man\", \"Man\", \"Prefer not to say\", \"Man\", \"Man\", \"Man\", \"Man\", \"Man\", \"Woman\", \"Woman\", \"Man\", \"Man\", \"Man\", \"Man\", \"Woman\", \"Man\", \"Man\", \"Man\", \"Man\", \"Man\", \"Man\", \"Woman\", \"Man\", \"Man\", \"Man\", \"Man\", \"Woman\", \"Man\", \"Man\", \"Man\", \"Man\", \"Man\", \"Man\", \"Man\", \"Man\", \"Woman\", \"Man\", \"Woman\", \"Woman\", \"Man\", \"Man\", \"Woman\", \"Man\", \"Man\", \"Man\", \"Woman\", \"Man\", \"Man\", \"Man\", \"Nonbinary\", \"Man\", \"Man\", \"Man\", \"Man\", \"Man\", \"Man\", \"Man\", \"Woman\", \"Man\", \"Man\", \"Man\", \"Man\", \"Man\", \"Man\", \"Man\", \"Man\", \"Man\", \"Man\", \"Man\", \"Man\", \"Man\", \"Man\", \"Man\", \"Woman\", \"Man\", \"Woman\", \"Man\", \"Man\", \"Man\", \"Woman\", \"Man\", \"Man\", \"Man\", \"Man\", \"Man\", \"Man\", \"Woman\", \"Man\", \"Man\", \"Prefer not to say\", \"Man\", \"Man\", \"Man\", \"Man\", \"Man\", \"Woman\", \"Woman\", \"Woman\", \"Woman\", \"Woman\", \"Man\", \"Man\", \"Man\", \"Man\", \"Man\", \"Man\", \"Woman\", \"Man\", \"Man\", \"Man\", \"Man\", \"Man\", \"Woman\", \"Man\", \"Man\", \"Man\", \"Woman\", \"Man\", \"Man\", \"Man\", \"Woman\", \"Man\", \"Man\", \"Man\", \"Man\", \"Man\", \"Man\", \"Woman\", \"Woman\", \"Man\", \"Man\", \"Man\", \"Man\", \"Man\", \"Woman\", \"Man\", \"Man\", \"Man\", \"Prefer not to say\", \"Man\", \"Man\", \"Woman\", \"Man\", \"Man\", \"Man\", \"Prefer not to say\", \"Man\", \"Man\", \"Man\", \"Man\", \"Man\", \"Man\", \"Woman\", \"Man\", \"Man\", \"Man\", \"Man\", \"Man\", \"Man\", \"Man\", \"Man\", \"Man\", \"Man\", \"Prefer not to say\", \"Man\", \"Man\", \"Man\", \"Man\", \"Man\", \"Man\", \"Man\", \"Man\", \"Woman\", \"Man\", \"Man\", \"Man\", \"Man\", \"Woman\", \"Man\", \"Man\", \"Woman\", \"Woman\", \"Woman\", \"Woman\", \"Woman\", \"Man\", \"Woman\", \"Man\", \"Man\", \"Woman\", \"Woman\", \"Man\", \"Man\", \"Man\", \"Man\", \"Woman\", \"Man\", \"Man\", \"Man\", \"Man\", \"Man\", \"Man\", \"Woman\", \"Man\", \"Woman\", \"Man\", \"Man\", \"Man\", \"Man\", \"Man\", \"Man\", \"Woman\", \"Man\", \"Woman\", \"Man\", \"Man\", \"Man\", \"Man\", \"Man\", \"Man\", \"Woman\", \"Man\", \"Man\", \"Woman\", \"Woman\", \"Man\", \"Man\", \"Man\", \"Man\", \"Woman\", \"Man\", \"Woman\", \"Man\", \"Woman\", \"Man\", \"Man\", \"Man\", \"Man\", \"Man\", \"Man\", \"Man\", \"Man\", \"Man\", \"Woman\", \"Man\", \"Man\", \"Man\", \"Man\", \"Man\", \"Man\", \"Man\", \"Man\", \"Man\", \"Man\", \"Woman\", \"Man\", \"Man\", \"Woman\", \"Man\", \"Woman\", \"Man\", \"Man\", \"Man\", \"Woman\", \"Man\", \"Man\", \"Man\", \"Man\", \"Man\", \"Man\", \"Man\", \"Man\", \"Man\", \"Man\", \"Man\", \"Man\", \"Man\", \"Man\", \"Woman\", \"Man\", \"Man\", \"Man\", \"Man\", \"Man\", \"Woman\", \"Man\", \"Man\", \"Man\", \"Man\", \"Man\", \"Man\", \"Man\", \"Man\", \"Man\", \"Woman\", \"Woman\", \"Woman\", \"Man\", \"Man\", \"Prefer not to say\", \"Man\", \"Man\", \"Man\", \"Nonbinary\", \"Woman\", \"Woman\", \"Man\", \"Man\", \"Man\", \"Woman\", \"Man\", \"Man\", \"Man\", \"Man\", \"Man\", \"Man\", \"Man\", \"Woman\", \"Woman\", \"Man\", \"Man\", \"Man\", \"Man\", \"Man\", \"Man\", \"Man\", \"Man\", \"Man\", \"Man\", \"Man\", \"Man\", \"Man\", \"Man\", \"Man\", \"Man\", \"Man\", \"Man\", \"Man\", \"Prefer not to say\", \"Man\", \"Man\", \"Man\", \"Man\", \"Man\", \"Man\", \"Man\", \"Man\", \"Man\", \"Man\", \"Woman\", \"Man\", \"Man\", \"Woman\", \"Woman\", \"Man\", \"Man\", \"Man\", \"Man\", \"Man\", \"Man\", \"Man\", \"Prefer not to say\", \"Woman\", \"Woman\", \"Man\", \"Man\", \"Woman\", \"Man\", \"Man\", \"Man\", \"Man\", \"Man\", \"Man\", \"Man\", \"Man\", \"Man\", \"Woman\", \"Man\", \"Woman\", \"Man\", \"Man\", \"Man\", \"Woman\", \"Man\", \"Man\", \"Man\", \"Man\", \"Woman\", \"Man\", \"Man\", \"Nonbinary\", \"Prefer not to say\", \"Man\", \"Man\", \"Man\", \"Man\", \"Man\", \"Man\", \"Woman\", \"Man\", \"Man\", \"Man\", \"Man\", \"Man\", \"Man\", \"Man\", \"Man\", \"Man\", \"Man\", \"Man\", \"Woman\", \"Man\", \"Man\", \"Man\", \"Man\", \"Man\", \"Man\", \"Man\", \"Man\", \"Man\", \"Woman\", \"Man\", \"Man\", \"Man\", \"Man\", \"Man\", \"Woman\", \"Man\", \"Man\", \"Woman\", \"Man\", \"Woman\", \"Man\", \"Man\", \"Man\", \"Man\", \"Man\", \"Man\", \"Woman\", \"Man\", \"Woman\", \"Man\", \"Man\", \"Man\", \"Man\", \"Woman\", \"Man\", \"Man\", \"Man\", \"Man\", \"Man\", \"Man\", \"Man\", \"Man\", \"Man\", \"Man\", \"Woman\", \"Man\", \"Man\", \"Woman\", \"Man\", \"Woman\", \"Man\", \"Man\", \"Man\", \"Woman\", \"Man\", \"Woman\", \"Woman\", \"Woman\", \"Woman\", \"Man\", \"Man\", \"Man\", \"Woman\", \"Man\", \"Man\", \"Man\", \"Prefer not to say\", \"Man\", \"Man\", \"Man\", \"Man\", \"Man\", \"Man\", \"Man\", \"Man\", \"Woman\", \"Man\", \"Man\", \"Man\", \"Man\", \"Woman\", \"Man\", \"Man\", \"Man\", \"Man\", \"Man\", \"Man\", \"Woman\", \"Man\", \"Man\", \"Man\", \"Man\", \"Woman\", \"Man\", \"Man\", \"Man\", \"Man\", \"Man\", \"Man\", \"Man\", \"Man\", \"Man\", \"Man\", \"Man\", \"Woman\", \"Man\", \"Man\", \"Man\", \"Woman\", \"Man\", \"Man\", \"Woman\", \"Man\", \"Woman\", \"Woman\", \"Man\", \"Man\", \"Man\", \"Woman\", \"Man\", \"Man\", \"Woman\", \"Man\", \"Man\", \"Man\", \"Man\", \"Man\", \"Man\", \"Woman\", \"Man\", \"Man\", \"Man\", \"Man\", \"Man\", \"Woman\", \"Man\", \"Woman\", \"Woman\", \"Man\", \"Man\", \"Man\", \"Man\", \"Man\", \"Man\", \"Man\", \"Woman\", \"Man\", \"Man\", \"Man\", \"Woman\", \"Man\", \"Woman\", \"Man\", \"Man\", \"Man\", \"Man\", \"Woman\", \"Man\", \"Man\", \"Woman\", \"Woman\", \"Man\", \"Man\", \"Man\", \"Man\", \"Man\", \"Woman\", \"Man\", \"Man\", \"Man\", \"Man\", \"Man\", \"Prefer not to say\", \"Woman\", \"Woman\", \"Man\", \"Woman\", \"Man\", \"Man\", \"Man\", \"Man\", \"Man\", \"Man\", \"Man\", \"Woman\", \"Man\", \"Man\", \"Man\", \"Woman\", \"Man\", \"Man\", \"Man\", \"Woman\", \"Man\", \"Man\", \"Man\", \"Man\", \"Man\", \"Man\", \"Man\", \"Man\", \"Man\", \"Man\", \"Man\", \"Man\", \"Man\", \"Man\", \"Man\", \"Man\", \"Woman\", \"Woman\", \"Woman\", \"Man\", \"Man\", \"Man\", \"Man\", \"Man\", \"Man\", \"Man\", \"Man\", \"Man\", \"Man\", \"Man\", \"Man\", \"Man\", \"Man\", \"Man\", \"Man\", \"Man\", \"Man\", \"Man\", \"Man\", \"Man\", \"Woman\", \"Woman\", \"Man\", \"Man\", \"Man\", \"Man\", \"Man\", \"Man\", \"Man\", \"Man\", \"Man\", \"Man\", \"Man\", \"Man\", \"Man\", \"Woman\", \"Woman\", \"Man\", \"Man\", \"Woman\", \"Man\", \"Woman\", \"Woman\", \"Man\", \"Man\", \"Man\", \"Man\", \"Man\", \"Woman\", \"Man\", \"Woman\", \"Man\", \"Man\", \"Woman\", \"Man\", \"Man\", \"Man\", \"Man\", \"Man\", \"Man\", \"Man\", \"Man\", \"Man\", \"Man\", \"Man\", \"Woman\", \"Woman\", \"Man\", \"Man\", \"Man\", \"Prefer not to say\", \"Man\", \"Man\", \"Man\", \"Man\", \"Man\", \"Woman\", \"Woman\", \"Man\", \"Man\", \"Man\", \"Woman\", \"Woman\", \"Man\", \"Man\", \"Man\", \"Man\", \"Man\", \"Man\", \"Man\", \"Man\", \"Man\", \"Man\", \"Man\", \"Man\", \"Prefer not to say\", \"Woman\", \"Man\", \"Man\", \"Man\", \"Man\", \"Man\", \"Man\", \"Man\", \"Woman\", \"Man\", \"Man\", \"Woman\", \"Man\", \"Woman\", \"Man\", \"Man\", \"Man\", \"Man\", \"Woman\", \"Woman\", \"Woman\", \"Man\", \"Man\", \"Man\", \"Man\", \"Man\", \"Man\", \"Man\", \"Man\", \"Man\", \"Man\", \"Man\", \"Man\", \"Woman\", \"Woman\", \"Man\", \"Woman\", \"Woman\", \"Man\", \"Woman\", \"Man\", \"Man\", \"Man\", \"Man\", \"Man\", \"Man\", \"Man\", \"Man\", \"Man\", \"Man\", \"Man\", \"Man\", \"Man\", \"Man\", \"Man\", \"Man\", \"Man\", \"Man\", \"Man\", \"Woman\", \"Man\", \"Man\", \"Man\", \"Man\", \"Woman\", \"Man\", \"Woman\", \"Man\", \"Woman\", \"Man\", \"Man\", \"Woman\", \"Woman\", \"Woman\", \"Man\", \"Man\", \"Man\", \"Man\", \"Woman\", \"Man\", \"Man\", \"Woman\", \"Man\", \"Woman\", \"Man\", \"Man\", \"Man\", \"Man\", \"Man\", \"Man\", \"Man\", \"Man\", \"Man\", \"Man\", \"Man\", \"Man\", \"Woman\", \"Man\", \"Man\", \"Woman\", \"Man\", \"Man\", \"Man\", \"Man\", \"Man\", \"Man\", \"Man\", \"Man\", \"Man\", \"Woman\", \"Woman\", \"Man\", \"Woman\", \"Man\", \"Man\", \"Woman\", \"Woman\", \"Man\", \"Man\", \"Man\", \"Man\", \"Man\", \"Man\", \"Man\", \"Woman\", \"Man\", \"Woman\", \"Woman\", \"Woman\", \"Man\", \"Man\", \"Man\", \"Man\", \"Man\", \"Man\", \"Man\", \"Woman\", \"Man\", \"Man\", \"Man\", \"Woman\", \"Man\", \"Man\", \"Woman\", \"Man\", \"Nonbinary\", \"Man\", \"Woman\", \"Man\", \"Man\", \"Man\", \"Woman\", \"Woman\", \"Man\", \"Woman\", \"Man\", \"Woman\", \"Man\", \"Man\", \"Man\", \"Man\", \"Man\", \"Man\", \"Man\", \"Man\", \"Man\", \"Man\", \"Man\", \"Man\", \"Woman\", \"Woman\", \"Woman\", \"Woman\", \"Man\", \"Man\", \"Man\", \"Woman\", \"Man\", \"Woman\", \"Man\", \"Man\", \"Man\", \"Man\", \"Man\", \"Woman\", \"Man\", \"Man\", \"Man\", \"Man\", \"Woman\", \"Man\", \"Man\", \"Man\", \"Man\", \"Man\", \"Woman\", \"Man\", \"Man\", \"Man\", \"Woman\", \"Woman\", \"Man\", \"Man\", \"Man\", \"Prefer to self-describe\", \"Woman\", \"Man\", \"Man\", \"Man\", \"Man\", \"Man\", \"Man\", \"Prefer not to say\", \"Man\", \"Man\", \"Man\", \"Man\", \"Man\", \"Woman\", \"Man\", \"Man\", \"Man\", \"Man\", \"Man\", \"Woman\", \"Man\", \"Man\", \"Woman\", \"Man\", \"Man\", \"Man\", \"Woman\", \"Man\", \"Man\", \"Man\", \"Man\", \"Man\", \"Woman\", \"Man\", \"Man\", \"Woman\", \"Man\", \"Nonbinary\", \"Man\", \"Man\", \"Man\", \"Man\", \"Man\", \"Man\", \"Man\", \"Man\", \"Man\", \"Man\", \"Man\", \"Woman\", \"Man\", \"Man\", \"Man\", \"Man\", \"Man\", \"Man\", \"Man\", \"Man\", \"Man\", \"Man\", \"Woman\", \"Man\", \"Woman\", \"Woman\", \"Woman\", \"Man\", \"Woman\", \"Man\", \"Man\", \"Man\", \"Man\", \"Man\", \"Woman\", \"Man\", \"Man\", \"Woman\", \"Man\", \"Man\", \"Woman\", \"Man\", \"Man\", \"Man\", \"Man\", \"Woman\", \"Man\", \"Man\", \"Man\", \"Woman\", \"Woman\", \"Man\", \"Man\", \"Man\", \"Man\", \"Man\", \"Man\", \"Man\", \"Man\", \"Woman\", \"Man\", \"Man\", \"Man\", \"Man\", \"Woman\", \"Man\", \"Man\", \"Man\", \"Man\", \"Man\", \"Man\", \"Man\", \"Man\", \"Man\", \"Man\", \"Man\", \"Woman\", \"Man\", \"Woman\", \"Man\", \"Man\", \"Man\", \"Man\", \"Man\", \"Man\", \"Man\", \"Man\", \"Woman\", \"Man\", \"Man\", \"Woman\", \"Man\", \"Woman\", \"Man\", \"Man\", \"Man\", \"Man\", \"Man\", \"Man\", \"Man\", \"Man\", \"Man\", \"Man\", \"Man\", \"Woman\", \"Woman\", \"Man\", \"Man\", \"Man\", \"Man\", \"Woman\", \"Woman\", \"Woman\", \"Man\", \"Man\", \"Man\", \"Man\", \"Man\", \"Man\", \"Man\", \"Man\", \"Man\", \"Man\", \"Man\", \"Man\", \"Woman\", \"Man\", \"Man\", \"Man\", \"Man\", \"Man\", \"Man\", \"Man\", \"Man\", \"Man\", \"Man\", \"Man\", \"Man\", \"Man\", \"Man\", \"Woman\", \"Man\", \"Woman\", \"Man\", \"Man\", \"Man\", \"Man\", \"Man\", \"Man\", \"Woman\", \"Woman\", \"Man\", \"Prefer not to say\", \"Man\", \"Man\", \"Man\", \"Man\", \"Woman\", \"Man\", \"Man\", \"Man\", \"Man\", \"Woman\", \"Man\", \"Man\", \"Man\", \"Man\", \"Woman\", \"Man\", \"Man\", \"Man\", \"Man\", \"Man\", \"Woman\", \"Man\", \"Man\", \"Man\", \"Man\", \"Man\", \"Man\", \"Man\", \"Man\", \"Man\", \"Man\", \"Woman\", \"Man\", \"Prefer not to say\", \"Man\", \"Man\", \"Man\", \"Man\", \"Man\", \"Man\", \"Man\", \"Man\", \"Man\", \"Man\", \"Man\", \"Man\", \"Man\", \"Man\", \"Man\", \"Woman\", \"Man\", \"Man\", \"Woman\", \"Man\", \"Man\", \"Woman\", \"Man\", \"Man\", \"Man\", \"Man\", \"Man\", \"Man\", \"Man\", \"Man\", \"Man\", \"Man\", \"Man\", \"Man\", \"Man\", \"Man\", \"Woman\", \"Man\", \"Woman\", \"Man\", \"Man\", \"Prefer to self-describe\", \"Woman\", \"Woman\", \"Man\", \"Man\", \"Man\", \"Man\", \"Woman\", \"Man\", \"Man\", \"Man\", \"Man\", \"Man\", \"Woman\", \"Man\", \"Man\", \"Man\", \"Woman\", \"Man\", \"Man\", \"Man\", \"Woman\", \"Man\", \"Man\", \"Man\", \"Man\", \"Woman\", \"Man\", \"Man\", \"Woman\", \"Man\", \"Man\", \"Man\", \"Woman\", \"Man\", \"Man\", \"Man\", \"Woman\", \"Man\", \"Man\", \"Man\", \"Man\", \"Woman\", \"Man\", \"Man\", \"Man\", \"Man\", \"Man\", \"Man\", \"Man\", \"Man\", \"Man\", \"Man\", \"Man\", \"Man\", \"Man\", \"Man\", \"Woman\", \"Man\", \"Man\", \"Man\", \"Man\", \"Man\", \"Woman\", \"Man\", \"Man\", \"Man\", \"Prefer not to say\", \"Man\", \"Man\", \"Man\", \"Woman\", \"Man\", \"Man\", \"Woman\", \"Man\", \"Man\", \"Woman\", \"Man\", \"Man\", \"Man\", \"Woman\", \"Man\", \"Man\", \"Woman\", \"Man\", \"Man\", \"Man\", \"Woman\", \"Man\", \"Man\", \"Man\", \"Man\", \"Man\", \"Man\", \"Man\", \"Man\", \"Man\", \"Man\", \"Man\", \"Man\", \"Man\", \"Man\", \"Man\", \"Man\", \"Woman\", \"Man\", \"Man\", \"Woman\", \"Man\", \"Man\", \"Man\", \"Man\", \"Man\", \"Man\", \"Man\", \"Woman\", \"Man\", \"Man\", \"Woman\", \"Man\", \"Man\", \"Man\", \"Woman\", \"Woman\", \"Woman\", \"Man\", \"Man\", \"Man\", \"Man\", \"Man\", \"Man\", \"Man\", \"Man\", \"Man\", \"Man\", \"Man\", \"Man\", \"Man\", \"Man\", \"Man\", \"Man\", \"Man\", \"Man\", \"Woman\", \"Woman\", \"Man\", \"Man\", \"Man\", \"Man\", \"Man\", \"Man\", \"Man\", \"Man\", \"Man\", \"Man\", \"Man\", \"Man\", \"Man\", \"Woman\", \"Man\", \"Man\", \"Man\", \"Man\", \"Woman\", \"Woman\", \"Man\", \"Man\", \"Man\", \"Man\", \"Man\", \"Woman\", \"Man\", \"Man\", \"Woman\", \"Man\", \"Woman\", \"Man\", \"Man\", \"Man\", \"Man\", \"Man\", \"Man\", \"Man\", \"Woman\", \"Man\", \"Man\", \"Man\", \"Woman\", \"Man\", \"Man\", \"Man\", \"Man\", \"Man\", \"Man\", \"Man\", \"Man\", \"Man\", \"Man\", \"Man\", \"Man\", \"Man\", \"Man\", \"Woman\", \"Man\", \"Man\", \"Woman\", \"Woman\", \"Man\", \"Man\", \"Man\", \"Man\", \"Woman\", \"Man\", \"Man\", \"Man\", \"Man\", \"Man\", \"Man\", \"Man\", \"Man\", \"Woman\", \"Man\", \"Man\", \"Man\", \"Man\", \"Man\", \"Man\", \"Man\", \"Man\", \"Man\", \"Woman\", \"Man\", \"Man\", \"Woman\", \"Man\", \"Man\", \"Woman\", \"Man\", \"Man\", \"Man\", \"Man\", \"Woman\", \"Man\", \"Woman\", \"Woman\", \"Man\", \"Man\", \"Man\", \"Man\", \"Man\", \"Man\", \"Woman\", \"Man\", \"Man\", \"Man\", \"Woman\", \"Man\", \"Man\", \"Man\", \"Man\", \"Man\", \"Man\", \"Man\", \"Woman\", \"Man\", \"Man\", \"Woman\", \"Man\", \"Man\", \"Man\", \"Woman\", \"Man\", \"Man\", \"Man\", \"Man\", \"Man\", \"Man\", \"Man\", \"Man\", \"Man\", \"Man\", \"Man\", \"Woman\", \"Prefer not to say\", \"Man\", \"Man\", \"Woman\", \"Man\", \"Woman\", \"Man\", \"Man\", \"Man\", \"Man\", \"Woman\", \"Man\", \"Woman\", \"Man\", \"Man\", \"Woman\", \"Woman\", \"Man\", \"Man\", \"Man\", \"Man\", \"Man\", \"Man\", \"Man\", \"Man\", \"Man\", \"Man\", \"Man\", \"Man\", \"Man\", \"Man\", \"Man\", \"Man\", \"Man\", \"Woman\", \"Man\", \"Man\", \"Man\", \"Man\", \"Prefer not to say\", \"Woman\", \"Man\", \"Man\", \"Man\", \"Man\", \"Man\", \"Prefer not to say\", \"Man\", \"Man\", \"Woman\", \"Man\", \"Man\", \"Man\", \"Woman\", \"Man\", \"Man\", \"Man\", \"Man\", \"Man\", \"Woman\", \"Man\", \"Man\", \"Man\", \"Man\", \"Man\", \"Man\", \"Man\", \"Man\", \"Man\", \"Man\", \"Man\", \"Man\", \"Man\", \"Man\", \"Man\", \"Woman\", \"Man\", \"Woman\", \"Man\", \"Man\", \"Woman\", \"Man\", \"Man\", \"Man\", \"Woman\", \"Man\", \"Woman\", \"Woman\", \"Man\", \"Man\", \"Man\", \"Prefer not to say\", \"Man\", \"Man\", \"Woman\", \"Woman\", \"Man\", \"Woman\", \"Woman\", \"Man\", \"Man\", \"Man\", \"Woman\", \"Man\", \"Man\", \"Man\", \"Man\", \"Man\", \"Man\", \"Man\", \"Man\", \"Man\", \"Man\", \"Man\", \"Woman\", \"Man\", \"Man\", \"Man\", \"Man\", \"Man\", \"Woman\", \"Man\", \"Man\", \"Man\", \"Woman\", \"Man\", \"Woman\", \"Man\", \"Man\", \"Man\", \"Woman\", \"Man\", \"Man\", \"Woman\", \"Man\", \"Woman\", \"Man\", \"Nonbinary\", \"Man\", \"Woman\", \"Man\", \"Man\", \"Man\", \"Man\", \"Man\", \"Man\", \"Man\", \"Man\", \"Man\", \"Man\", \"Woman\", \"Man\", \"Man\", \"Man\", \"Man\", \"Man\", \"Man\", \"Man\", \"Man\", \"Woman\", \"Man\", \"Man\", \"Man\", \"Man\", \"Man\", \"Man\", \"Man\", \"Man\", \"Man\", \"Man\", \"Woman\", \"Man\", \"Man\", \"Woman\", \"Man\", \"Man\", \"Woman\", \"Woman\", \"Man\", \"Man\", \"Woman\", \"Man\", \"Woman\", \"Man\", \"Man\", \"Man\", \"Man\", \"Man\", \"Man\", \"Woman\", \"Man\", \"Man\", \"Man\", \"Man\", \"Man\", \"Man\", \"Man\", \"Man\", \"Man\", \"Man\", \"Man\", \"Woman\", \"Man\", \"Woman\", \"Man\", \"Man\", \"Man\", \"Woman\", \"Man\", \"Man\", \"Man\", \"Man\", \"Woman\", \"Man\", \"Man\", \"Man\", \"Man\", \"Man\", \"Man\", \"Man\", \"Man\", \"Woman\", \"Woman\", \"Man\", \"Man\", \"Man\", \"Man\", \"Man\", \"Man\", \"Man\", \"Man\", \"Woman\", \"Woman\", \"Man\", \"Nonbinary\", \"Man\", \"Woman\", \"Woman\", \"Woman\", \"Man\", \"Man\", \"Man\", \"Woman\", \"Man\", \"Man\", \"Man\", \"Woman\", \"Prefer not to say\", \"Man\", \"Man\", \"Man\", \"Man\", \"Woman\", \"Man\", \"Woman\", \"Man\", \"Man\", \"Man\", \"Nonbinary\", \"Man\", \"Man\", \"Man\", \"Woman\", \"Man\", \"Man\", \"Woman\", \"Woman\", \"Man\", \"Man\", \"Man\", \"Man\", \"Man\", \"Man\", \"Man\", \"Man\", \"Man\", \"Woman\", \"Man\", \"Man\", \"Man\", \"Man\", \"Man\", \"Woman\", \"Man\", \"Man\", \"Man\", \"Man\", \"Man\", \"Man\", \"Woman\", \"Man\", \"Man\", \"Man\", \"Man\", \"Man\", \"Man\", \"Man\", \"Man\", \"Man\", \"Man\", \"Man\", \"Man\", \"Man\", \"Man\", \"Man\", \"Man\", \"Man\", \"Man\", \"Man\", \"Man\", \"Man\", \"Man\", \"Man\", \"Man\", \"Man\", \"Man\", \"Man\", \"Man\", \"Woman\", \"Woman\", \"Man\", \"Woman\", \"Man\", \"Man\", \"Man\", \"Man\", \"Woman\", \"Man\", \"Man\", \"Man\", \"Woman\", \"Woman\", \"Man\", \"Woman\", \"Woman\", \"Man\", \"Man\", \"Man\", \"Man\", \"Man\", \"Man\", \"Man\", \"Woman\", \"Man\", \"Woman\", \"Man\", \"Man\", \"Man\", \"Man\", \"Man\", \"Man\", \"Man\", \"Man\", \"Man\", \"Man\", \"Man\", \"Man\", \"Woman\", \"Woman\", \"Man\", \"Man\", \"Man\", \"Man\", \"Man\", \"Man\", \"Man\", \"Man\", \"Man\", \"Woman\", \"Man\", \"Man\", \"Prefer not to say\", \"Man\", \"Woman\", \"Woman\", \"Man\", \"Man\", \"Man\", \"Man\", \"Man\", \"Woman\", \"Man\", \"Man\", \"Man\", \"Man\", \"Man\", \"Woman\", \"Woman\", \"Man\", \"Man\", \"Woman\", \"Man\", \"Man\", \"Man\", \"Man\", \"Man\", \"Man\", \"Man\", \"Woman\", \"Man\", \"Woman\", \"Man\", \"Man\", \"Man\", \"Man\", \"Man\", \"Man\", \"Man\", \"Man\", \"Man\", \"Man\", \"Woman\", \"Man\", \"Man\", \"Man\", \"Man\", \"Man\", \"Woman\", \"Man\", \"Man\", \"Man\", \"Man\", \"Man\", \"Woman\", \"Man\", \"Man\", \"Man\", \"Man\", \"Man\", \"Man\", \"Man\", \"Prefer to self-describe\", \"Man\", \"Woman\", \"Woman\", \"Man\", \"Woman\", \"Man\", \"Man\", \"Man\", \"Woman\", \"Man\", \"Man\", \"Man\", \"Man\", \"Nonbinary\", \"Man\", \"Man\", \"Man\", \"Woman\", \"Man\", \"Man\", \"Man\", \"Woman\", \"Woman\", \"Man\", \"Man\", \"Man\", \"Woman\", \"Man\", \"Man\", \"Man\", \"Woman\", \"Man\", \"Man\", \"Prefer not to say\", \"Man\", \"Woman\", \"Man\", \"Man\", \"Man\", \"Man\", \"Man\", \"Man\", \"Man\", \"Man\", \"Man\", \"Man\", \"Man\", \"Man\", \"Nonbinary\", \"Man\", \"Man\", \"Man\", \"Man\", \"Man\", \"Woman\", \"Woman\", \"Man\", \"Man\", \"Man\", \"Man\", \"Woman\", \"Man\", \"Man\", \"Woman\", \"Man\", \"Man\", \"Man\", \"Woman\", \"Man\", \"Man\", \"Man\", \"Man\", \"Man\", \"Man\", \"Woman\", \"Man\", \"Man\", \"Woman\", \"Woman\", \"Man\", \"Man\", \"Man\", \"Man\", \"Prefer not to say\", \"Man\", \"Man\", \"Man\", \"Man\", \"Man\", \"Man\", \"Man\", \"Man\", \"Man\", \"Man\", \"Man\", \"Woman\", \"Man\", \"Man\", \"Man\", \"Man\", \"Man\", \"Man\", \"Woman\", \"Man\", \"Man\", \"Man\", \"Man\", \"Man\", \"Woman\", \"Man\", \"Man\", \"Man\", \"Man\", \"Man\", \"Man\", \"Woman\", \"Man\", \"Man\", \"Woman\", \"Man\", \"Man\", \"Man\", \"Man\", \"Man\", \"Woman\", \"Man\", \"Man\", \"Man\", \"Woman\", \"Man\", \"Man\", \"Man\", \"Woman\", \"Man\", \"Woman\", \"Man\", \"Man\", \"Woman\", \"Man\", \"Man\", \"Man\", \"Man\", \"Man\", \"Man\", \"Man\", \"Man\", \"Woman\", \"Man\", \"Man\", \"Man\", \"Woman\", \"Woman\", \"Man\", \"Man\", \"Woman\", \"Man\", \"Man\", \"Man\", \"Man\", \"Man\", \"Man\", \"Man\", \"Man\", \"Woman\", \"Man\", \"Woman\", \"Man\", \"Man\", \"Man\", \"Woman\", \"Man\", \"Man\", \"Man\", \"Woman\", \"Man\", \"Man\", \"Prefer not to say\", \"Man\", \"Man\", \"Man\", \"Man\", \"Man\", \"Man\", \"Man\", \"Woman\", \"Woman\", \"Man\", \"Man\", \"Man\", \"Man\", \"Man\", \"Man\", \"Man\", \"Man\", \"Man\", \"Man\", \"Man\", \"Man\", \"Man\", \"Woman\", \"Man\", \"Man\", \"Man\", \"Man\", \"Woman\", \"Man\", \"Man\", \"Man\", \"Man\", \"Man\", \"Man\", \"Man\", \"Woman\", \"Man\", \"Man\", \"Man\", \"Man\", \"Man\", \"Man\", \"Man\", \"Man\", \"Man\", \"Man\", \"Man\", \"Man\", \"Man\", \"Man\", \"Man\", \"Man\", \"Man\", \"Woman\", \"Woman\", \"Man\", \"Man\", \"Woman\", \"Man\", \"Woman\", \"Man\", \"Man\", \"Woman\", \"Man\", \"Man\", \"Woman\", \"Man\", \"Man\", \"Man\", \"Woman\", \"Man\", \"Man\", \"Man\", \"Woman\", \"Woman\", \"Man\", \"Man\", \"Man\", \"Man\", \"Man\", \"Man\", \"Man\", \"Man\", \"Man\", \"Man\", \"Woman\", \"Man\", \"Man\", \"Man\", \"Man\", \"Man\", \"Man\", \"Man\", \"Man\", \"Man\", \"Man\", \"Man\", \"Man\", \"Woman\", \"Man\", \"Man\", \"Man\", \"Man\", \"Man\", \"Man\", \"Man\", \"Man\", \"Man\", \"Man\", \"Man\", \"Woman\", \"Man\", \"Man\", \"Man\", \"Man\", \"Man\", \"Woman\", \"Man\", \"Man\", \"Man\", \"Man\", \"Woman\", \"Man\", \"Man\", \"Woman\", \"Woman\", \"Man\", \"Man\", \"Man\", \"Man\", \"Man\", \"Man\", \"Man\", \"Man\", \"Man\", \"Man\", \"Man\", \"Man\", \"Man\", \"Man\", \"Man\", \"Man\", \"Man\", \"Man\", \"Man\", \"Man\", \"Man\", \"Man\", \"Woman\", \"Woman\", \"Woman\", \"Man\", \"Man\", \"Man\", \"Woman\", \"Man\", \"Man\", \"Man\", \"Man\", \"Man\", \"Woman\", \"Woman\", \"Man\", \"Man\", \"Man\", \"Woman\", \"Man\", \"Man\", \"Man\", \"Man\", \"Woman\", \"Man\", \"Man\", \"Man\", \"Woman\", \"Woman\", \"Man\", \"Man\", \"Man\", \"Woman\", \"Man\", \"Man\", \"Man\", \"Woman\", \"Man\", \"Woman\", \"Man\", \"Woman\", \"Woman\", \"Man\", \"Man\", \"Man\", \"Man\", \"Man\", \"Woman\", \"Woman\", \"Man\", \"Woman\", \"Man\", \"Woman\", \"Man\", \"Man\", \"Man\", \"Man\", \"Man\", \"Woman\", \"Man\", \"Woman\", \"Man\", \"Man\", \"Man\", \"Man\", \"Man\", \"Man\", \"Woman\", \"Man\", \"Man\", \"Man\", \"Man\", \"Man\", \"Man\", \"Man\", \"Man\", \"Man\", \"Man\", \"Man\", \"Man\", \"Man\", \"Man\", \"Man\", \"Man\", \"Man\", \"Man\", \"Woman\", \"Man\", \"Man\", \"Man\", \"Woman\", \"Man\", \"Man\", \"Man\", \"Man\", \"Man\", \"Man\", \"Man\", \"Man\", \"Man\", \"Woman\", \"Man\", \"Man\", \"Man\", \"Woman\", \"Woman\", \"Woman\", \"Woman\", \"Man\", \"Man\", \"Man\", \"Man\", \"Man\", \"Man\", \"Woman\", \"Man\", \"Man\", \"Man\", \"Man\", \"Man\", \"Man\", \"Man\", \"Woman\", \"Man\", \"Man\", \"Man\", \"Woman\", \"Man\", \"Man\", \"Man\", \"Man\", \"Woman\", \"Man\", \"Man\", \"Prefer not to say\", \"Man\", \"Man\", \"Man\", \"Man\", \"Man\", \"Man\", \"Man\", \"Man\", \"Man\", \"Man\", \"Man\", \"Man\", \"Man\", \"Man\", \"Man\", \"Man\", \"Man\", \"Man\", \"Man\", \"Man\", \"Man\", \"Man\", \"Woman\", \"Man\", \"Woman\", \"Man\", \"Man\", \"Man\", \"Man\", \"Woman\", \"Man\", \"Man\", \"Man\", \"Man\", \"Man\", \"Man\", \"Man\", \"Woman\", \"Man\", \"Man\", \"Man\", \"Man\", \"Man\", \"Man\", \"Man\", \"Man\", \"Woman\", \"Man\", \"Man\", \"Man\", \"Man\", \"Man\", \"Man\", \"Man\", \"Woman\", \"Man\", \"Man\", \"Man\", \"Man\", \"Woman\", \"Man\", \"Man\", \"Man\", \"Man\", \"Man\", \"Man\", \"Man\", \"Woman\", \"Woman\", \"Man\", \"Man\", \"Man\", \"Man\", \"Man\", \"Woman\", \"Man\", \"Man\", \"Man\", \"Man\", \"Man\", \"Man\", \"Man\", \"Man\", \"Man\", \"Woman\", \"Man\", \"Man\", \"Man\", \"Man\", \"Man\", \"Man\", \"Woman\", \"Man\", \"Man\", \"Man\", \"Woman\", \"Man\", \"Man\", \"Man\", \"Man\", \"Man\", \"Man\", \"Man\", \"Man\", \"Man\", \"Man\", \"Man\", \"Man\", \"Man\", \"Man\", \"Prefer not to say\", \"Woman\", \"Man\", \"Man\", \"Man\", \"Man\", \"Man\", \"Man\", \"Man\", \"Man\", \"Man\", \"Woman\", \"Man\", \"Prefer to self-describe\", \"Man\", \"Man\", \"Man\", \"Woman\", \"Man\", \"Man\", \"Man\", \"Man\", \"Man\", \"Woman\", \"Woman\", \"Man\", \"Man\", \"Man\", \"Man\", \"Man\", \"Man\", \"Woman\", \"Man\", \"Man\", \"Woman\", \"Man\", \"Man\", \"Man\", \"Man\", \"Woman\", \"Man\", \"Woman\", \"Man\", \"Man\", \"Man\", \"Man\", \"Man\", \"Man\", \"Man\", \"Man\", \"Man\", \"Woman\", \"Man\", \"Man\", \"Man\", \"Man\", \"Man\", \"Man\", \"Man\", \"Man\", \"Prefer to self-describe\", \"Man\", \"Woman\", \"Man\", \"Man\", \"Man\", \"Prefer to self-describe\", \"Woman\", \"Man\", \"Man\", \"Man\", \"Man\", \"Man\", \"Woman\", \"Man\", \"Man\", \"Man\", \"Woman\", \"Man\", \"Man\", \"Woman\", \"Man\", \"Man\", \"Man\", \"Man\", \"Man\", \"Man\", \"Man\", \"Man\", \"Man\", \"Man\", \"Woman\", \"Man\", \"Man\", \"Man\", \"Man\", \"Woman\", \"Man\", \"Man\", \"Man\", \"Man\", \"Prefer not to say\", \"Man\", \"Man\", \"Man\", \"Man\", \"Woman\", \"Man\", \"Prefer not to say\", \"Man\", \"Man\", \"Man\", \"Woman\", \"Woman\", \"Man\", \"Woman\", \"Man\", \"Man\", \"Man\", \"Man\", \"Man\", \"Woman\", \"Man\", \"Man\", \"Man\", \"Man\", \"Man\", \"Man\", \"Man\", \"Woman\", \"Woman\", \"Man\", \"Woman\", \"Woman\", \"Man\", \"Man\", \"Man\", \"Man\", \"Woman\", \"Man\", \"Man\", \"Man\", \"Man\", \"Man\", \"Man\", \"Man\", \"Man\", \"Woman\", \"Man\", \"Man\", \"Man\", \"Man\", \"Woman\", \"Man\", \"Man\", \"Man\", \"Man\", \"Man\", \"Man\", \"Man\", \"Man\", \"Man\", \"Prefer to self-describe\", \"Man\", \"Man\", \"Man\", \"Man\", \"Man\", \"Man\", \"Woman\", \"Man\", \"Man\", \"Man\", \"Man\", \"Woman\", \"Man\", \"Woman\", \"Man\", \"Man\", \"Man\", \"Man\", \"Man\", \"Man\", \"Woman\", \"Man\", \"Man\", \"Man\", \"Man\", \"Man\", \"Man\", \"Man\", \"Man\", \"Woman\", \"Man\", \"Man\", \"Man\", \"Woman\", \"Man\", \"Man\", \"Man\", \"Man\", \"Man\", \"Man\", \"Man\", \"Man\", \"Man\", \"Woman\", \"Man\", \"Man\", \"Man\", \"Man\", \"Man\", \"Woman\", \"Woman\", \"Man\", \"Man\", \"Woman\", \"Man\", \"Man\", \"Man\", \"Woman\", \"Woman\", \"Prefer not to say\", \"Man\", \"Woman\", \"Man\", \"Man\", \"Man\", \"Man\", \"Man\", \"Man\", \"Prefer not to say\", \"Man\", \"Man\", \"Man\", \"Woman\", \"Man\", \"Man\", \"Man\", \"Man\", \"Man\", \"Man\", \"Woman\", \"Woman\", \"Man\", \"Man\", \"Man\", \"Man\", \"Man\", \"Man\", \"Man\", \"Man\", \"Man\", \"Man\", \"Man\", \"Man\", \"Woman\", \"Man\", \"Man\", \"Woman\", \"Man\", \"Man\", \"Man\", \"Man\", \"Man\", \"Man\", \"Man\", \"Man\", \"Man\", \"Woman\", \"Man\", \"Man\", \"Man\", \"Man\", \"Man\", \"Man\", \"Man\", \"Man\", \"Man\", \"Man\", \"Man\", \"Man\", \"Man\", \"Man\", \"Man\", \"Woman\", \"Man\", \"Man\", \"Man\", \"Man\", \"Man\", \"Man\", \"Woman\", \"Man\", \"Prefer not to say\", \"Man\", \"Woman\", \"Man\", \"Man\", \"Man\", \"Man\", \"Woman\", \"Woman\", \"Man\", \"Man\", \"Man\", \"Man\", \"Man\", \"Man\", \"Man\", \"Woman\", \"Man\", \"Man\", \"Man\", \"Man\", \"Woman\", \"Woman\", \"Man\", \"Man\", \"Woman\", \"Man\", \"Man\", \"Woman\", \"Woman\", \"Woman\", \"Prefer not to say\", \"Woman\", \"Man\", \"Man\", \"Woman\", \"Man\", \"Man\", \"Man\", \"Woman\", \"Man\", \"Man\", \"Man\", \"Man\", \"Man\", \"Man\", \"Man\", \"Man\", \"Woman\", \"Man\", \"Man\", \"Man\", \"Man\", \"Man\", \"Woman\", \"Man\", \"Man\", \"Man\", \"Man\", \"Woman\", \"Woman\", \"Man\", \"Woman\", \"Man\", \"Man\", \"Woman\", \"Man\", \"Man\", \"Man\", \"Man\", \"Man\", \"Man\", \"Man\", \"Woman\", \"Man\", \"Man\", \"Man\", \"Man\", \"Man\", \"Man\", \"Man\", \"Man\", \"Man\", \"Man\", \"Man\", \"Man\", \"Man\", \"Man\", \"Man\", \"Man\", \"Man\", \"Man\", \"Man\", \"Man\", \"Man\", \"Woman\", \"Man\", \"Man\", \"Woman\", \"Man\", \"Woman\", \"Woman\", \"Man\", \"Man\", \"Man\", \"Man\", \"Man\", \"Man\", \"Woman\", \"Man\", \"Man\", \"Man\", \"Woman\", \"Man\", \"Man\", \"Nonbinary\", \"Man\", \"Man\", \"Man\", \"Woman\", \"Man\", \"Man\", \"Man\", \"Man\", \"Man\", \"Man\", \"Man\", \"Man\", \"Man\", \"Man\", \"Man\", \"Man\", \"Man\", \"Man\", \"Woman\", \"Man\", \"Man\", \"Man\", \"Man\", \"Woman\", \"Woman\", \"Man\", \"Man\", \"Man\", \"Man\", \"Man\", \"Man\", \"Man\", \"Man\", \"Man\", \"Man\", \"Man\", \"Man\", \"Man\", \"Man\", \"Man\", \"Man\", \"Man\", \"Man\", \"Man\", \"Man\", \"Man\", \"Man\", \"Man\", \"Man\", \"Man\", \"Man\", \"Man\", \"Woman\", \"Man\", \"Man\", \"Woman\", \"Woman\", \"Woman\", \"Man\", \"Man\", \"Man\", \"Man\", \"Man\", \"Man\", \"Man\", \"Man\", \"Man\", \"Man\", \"Woman\", \"Man\", \"Man\", \"Woman\", \"Man\", \"Woman\", \"Man\", \"Man\", \"Prefer not to say\", \"Woman\", \"Man\", \"Nonbinary\", \"Man\", \"Man\", \"Man\", \"Man\", \"Man\", \"Man\", \"Man\", \"Man\", \"Man\", \"Man\", \"Man\", \"Man\", \"Man\", \"Woman\", \"Man\", \"Man\", \"Man\", \"Man\", \"Woman\", \"Woman\", \"Man\", \"Man\", \"Man\", \"Woman\", \"Man\", \"Man\", \"Man\", \"Woman\", \"Man\", \"Man\", \"Man\", \"Man\", \"Man\", \"Man\", \"Prefer to self-describe\", \"Woman\", \"Man\", \"Man\", \"Man\", \"Man\", \"Man\", \"Man\", \"Man\", \"Man\", \"Woman\", \"Man\", \"Woman\", \"Man\", \"Man\", \"Man\", \"Man\", \"Woman\", \"Man\", \"Man\", \"Man\", \"Woman\", \"Man\", \"Man\", \"Man\", \"Man\", \"Woman\", \"Woman\", \"Man\", \"Woman\", \"Prefer to self-describe\", \"Man\", \"Man\", \"Man\", \"Man\", \"Man\", \"Man\", \"Man\", \"Man\", \"Man\", \"Man\", \"Man\", \"Man\", \"Man\", \"Man\", \"Man\", \"Man\", \"Man\", \"Man\", \"Man\", \"Man\", \"Man\", \"Woman\", \"Man\", \"Man\", \"Woman\", \"Woman\", \"Man\", \"Man\", \"Man\", \"Man\", \"Man\", \"Man\", \"Man\", \"Man\", \"Man\", \"Man\", \"Man\", \"Man\", \"Man\", \"Man\", \"Man\", \"Man\", \"Man\", \"Man\", \"Man\", \"Man\", \"Man\", \"Man\", \"Man\", \"Man\", \"Man\", \"Man\", \"Man\", \"Woman\", \"Man\", \"Man\", \"Woman\", \"Man\", \"Man\", \"Man\", \"Man\", \"Woman\", \"Man\", \"Man\", \"Woman\", \"Man\", \"Woman\", \"Man\", \"Woman\", \"Woman\", \"Woman\", \"Man\", \"Man\", \"Woman\", \"Man\", \"Man\", \"Man\", \"Man\", \"Man\", \"Prefer not to say\", \"Man\", \"Man\", \"Prefer to self-describe\", \"Prefer to self-describe\", \"Woman\", \"Man\", \"Man\", \"Man\", \"Man\", \"Man\", \"Man\", \"Man\", \"Man\", \"Woman\", \"Man\", \"Man\", \"Man\", \"Man\", \"Man\", \"Man\", \"Woman\", \"Man\", \"Man\", \"Man\", \"Man\", \"Man\", \"Man\", \"Woman\", \"Man\", \"Man\", \"Man\", \"Man\", \"Man\", \"Man\", \"Man\", \"Woman\", \"Man\", \"Man\", \"Man\", \"Man\", \"Woman\", \"Man\", \"Man\", \"Man\", \"Man\", \"Man\", \"Man\", \"Man\", \"Man\", \"Man\", \"Man\", \"Man\", \"Man\", \"Man\", \"Man\", \"Man\", \"Man\", \"Man\", \"Man\", \"Man\", \"Man\", \"Man\", \"Man\", \"Man\", \"Woman\", \"Woman\", \"Man\", \"Man\", \"Man\", \"Man\", \"Man\", \"Man\", \"Man\", \"Man\", \"Woman\", \"Woman\", \"Man\", \"Man\", \"Man\", \"Man\", \"Man\", \"Man\", \"Man\", \"Man\", \"Man\", \"Woman\", \"Man\", \"Man\", \"Man\", \"Man\", \"Man\", \"Woman\", \"Man\", \"Man\", \"Woman\", \"Woman\", \"Man\", \"Man\", \"Woman\", \"Woman\", \"Man\", \"Man\", \"Man\", \"Man\", \"Woman\", \"Man\", \"Woman\", \"Woman\", \"Woman\", \"Man\", \"Man\", \"Man\", \"Man\", \"Man\", \"Man\", \"Man\", \"Woman\", \"Man\", \"Man\", \"Man\", \"Prefer not to say\", \"Man\", \"Man\", \"Woman\", \"Woman\", \"Man\", \"Woman\", \"Man\", \"Man\", \"Woman\", \"Man\", \"Man\", \"Man\", \"Woman\", \"Man\", \"Man\", \"Man\", \"Man\", \"Man\", \"Man\", \"Woman\", \"Man\", \"Man\", \"Man\", \"Man\", \"Woman\", \"Man\", \"Man\", \"Man\", \"Man\", \"Man\", \"Man\", \"Woman\", \"Man\", \"Man\", \"Man\", \"Man\", \"Man\", \"Man\", \"Man\", \"Man\", \"Man\", \"Man\", \"Man\", \"Man\", \"Man\", \"Man\", \"Man\", \"Man\", \"Woman\", \"Man\", \"Man\", \"Man\", \"Man\", \"Man\", \"Man\", \"Man\", \"Man\", \"Woman\", \"Man\", \"Woman\", \"Man\", \"Man\", \"Man\", \"Man\", \"Man\", \"Woman\", \"Woman\", \"Man\", \"Man\", \"Woman\", \"Man\", \"Man\", \"Man\", \"Man\", \"Man\", \"Man\", \"Woman\", \"Man\", \"Man\", \"Woman\", \"Man\", \"Man\", \"Man\", \"Man\", \"Man\", \"Woman\", \"Man\", \"Woman\", \"Man\", \"Man\", \"Woman\", \"Man\", \"Man\", \"Man\", \"Man\", \"Man\", \"Woman\", \"Man\", \"Man\", \"Man\", \"Man\", \"Prefer not to say\", \"Man\", \"Prefer not to say\", \"Woman\", \"Woman\", \"Woman\", \"Woman\", \"Man\", \"Man\", \"Man\", \"Man\", \"Man\", \"Woman\", \"Man\", \"Man\", \"Man\", \"Man\", \"Man\", \"Man\", \"Man\", \"Man\", \"Woman\", \"Man\", \"Man\", \"Woman\", \"Woman\", \"Man\", \"Man\", \"Prefer not to say\", \"Man\", \"Man\", \"Woman\", \"Man\", \"Man\", \"Man\", \"Man\", \"Man\", \"Man\", \"Man\", \"Man\", \"Man\", \"Man\", \"Man\", \"Man\", \"Woman\", \"Man\", \"Man\", \"Man\", \"Man\", \"Man\", \"Man\", \"Man\", \"Woman\", \"Man\", \"Man\", \"Man\", \"Man\", \"Man\", \"Man\", \"Man\", \"Woman\", \"Man\", \"Man\", \"Man\", \"Man\", \"Man\", \"Woman\", \"Woman\", \"Man\", \"Man\", \"Man\", \"Man\", \"Man\", \"Woman\", \"Man\", \"Man\", \"Man\", \"Man\", \"Man\", \"Man\", \"Man\", \"Man\", \"Man\", \"Man\", \"Woman\", \"Man\", \"Man\", \"Man\", \"Man\", \"Man\", \"Man\", \"Man\", \"Man\", \"Woman\", \"Woman\", \"Man\", \"Woman\", \"Man\", \"Man\", \"Woman\", \"Woman\", \"Man\", \"Man\", \"Man\", \"Man\", \"Man\", \"Man\", \"Man\", \"Man\", \"Man\", \"Man\", \"Man\", \"Man\", \"Woman\", \"Man\", \"Man\", \"Woman\", \"Man\", \"Man\", \"Man\", \"Man\", \"Man\", \"Man\", \"Man\", \"Woman\", \"Man\", \"Man\", \"Woman\", \"Man\", \"Man\", \"Woman\", \"Man\", \"Man\", \"Man\", \"Man\", \"Man\", \"Man\", \"Man\", \"Woman\", \"Woman\", \"Man\", \"Man\", \"Man\", \"Man\", \"Man\", \"Man\", \"Man\", \"Man\", \"Man\", \"Man\", \"Prefer not to say\", \"Man\", \"Woman\", \"Man\", \"Man\", \"Man\", \"Woman\", \"Man\", \"Man\", \"Man\", \"Man\", \"Man\", \"Man\", \"Man\", \"Man\", \"Man\", \"Man\", \"Man\", \"Man\", \"Woman\", \"Prefer not to say\", \"Man\", \"Man\", \"Man\", \"Man\", \"Woman\", \"Man\", \"Woman\", \"Man\", \"Man\", \"Man\", \"Prefer not to say\", \"Man\", \"Man\", \"Man\", \"Woman\", \"Man\", \"Man\", \"Man\", \"Man\", \"Man\", \"Man\", \"Woman\", \"Man\", \"Man\", \"Man\", \"Woman\", \"Man\", \"Man\", \"Man\", \"Woman\", \"Man\", \"Man\", \"Man\", \"Man\", \"Man\", \"Woman\", \"Woman\", \"Woman\", \"Man\", \"Man\", \"Woman\", \"Man\", \"Man\", \"Man\", \"Woman\", \"Man\", \"Man\", \"Man\", \"Man\", \"Man\", \"Man\", \"Woman\", \"Man\", \"Man\", \"Man\", \"Man\", \"Man\", \"Man\", \"Man\", \"Prefer to self-describe\", \"Prefer not to say\", \"Man\", \"Woman\", \"Man\", \"Man\", \"Woman\", \"Man\", \"Man\", \"Man\", \"Man\", \"Man\", \"Man\", \"Man\", \"Man\", \"Man\", \"Man\", \"Man\", \"Woman\", \"Man\", \"Man\", \"Prefer not to say\", \"Man\", \"Woman\", \"Man\", \"Man\", \"Man\", \"Man\", \"Man\", \"Man\", \"Man\", \"Man\", \"Man\", \"Man\", \"Man\", \"Man\", \"Man\", \"Man\", \"Woman\", \"Man\", \"Man\", \"Woman\", \"Man\", \"Man\", \"Man\", \"Man\", \"Man\", \"Man\", \"Woman\", \"Man\", \"Man\", \"Man\", \"Man\", \"Man\", \"Man\", \"Man\", \"Woman\", \"Man\", \"Man\", \"Man\", \"Man\", \"Man\", \"Man\", \"Man\", \"Man\", \"Woman\", \"Man\", \"Man\", \"Man\", \"Woman\", \"Man\", \"Man\", \"Man\", \"Woman\", \"Man\", \"Woman\", \"Man\", \"Man\", \"Man\", \"Woman\", \"Man\", \"Woman\", \"Man\", \"Man\", \"Man\", \"Man\", \"Woman\", \"Man\", \"Man\", \"Man\", \"Man\", \"Man\", \"Man\", \"Man\", \"Woman\", \"Man\", \"Woman\", \"Man\", \"Man\", \"Man\", \"Man\", \"Man\", \"Man\", \"Man\", \"Woman\", \"Man\", \"Man\", \"Man\", \"Man\", \"Man\", \"Man\", \"Man\", \"Man\", \"Man\", \"Man\", \"Man\", \"Woman\", \"Man\", \"Woman\", \"Man\", \"Man\", \"Man\", \"Man\", \"Man\", \"Man\", \"Man\", \"Man\", \"Man\", \"Woman\", \"Man\", \"Woman\", \"Man\", \"Man\", \"Man\", \"Man\", \"Man\", \"Woman\", \"Man\", \"Woman\", \"Woman\", \"Man\", \"Man\", \"Man\", \"Man\", \"Man\", \"Woman\", \"Man\", \"Man\", \"Man\", \"Man\", \"Woman\", \"Man\", \"Woman\", \"Man\", \"Man\", \"Man\", \"Man\", \"Man\", \"Woman\", \"Man\", \"Man\", \"Man\", \"Woman\", \"Man\", \"Man\", \"Woman\", \"Man\", \"Man\", \"Man\", \"Man\", \"Man\", \"Man\", \"Man\", \"Man\", \"Man\", \"Man\", \"Man\", \"Woman\", \"Man\", \"Woman\", \"Woman\", \"Man\", \"Woman\", \"Man\", \"Man\", \"Prefer not to say\", \"Man\", \"Woman\", \"Woman\", \"Man\", \"Man\", \"Man\", \"Woman\", \"Man\", \"Man\", \"Woman\", \"Man\", \"Man\", \"Man\", \"Man\", \"Woman\", \"Woman\", \"Nonbinary\", \"Woman\", \"Man\", \"Man\", \"Man\", \"Woman\", \"Man\", \"Man\", \"Man\", \"Man\", \"Man\", \"Man\", \"Man\", \"Man\", \"Woman\", \"Man\", \"Man\", \"Prefer not to say\", \"Man\", \"Man\", \"Woman\", \"Man\", \"Man\", \"Man\", \"Man\", \"Man\", \"Woman\", \"Man\", \"Man\", \"Man\", \"Man\", \"Man\", \"Man\", \"Woman\", \"Man\", \"Man\", \"Man\", \"Woman\", \"Man\", \"Man\", \"Man\", \"Man\", \"Man\", \"Man\", \"Man\", \"Man\", \"Man\", \"Man\", \"Man\", \"Man\", \"Woman\", \"Man\", \"Man\", \"Woman\", \"Woman\", \"Man\", \"Man\", \"Man\", \"Man\", \"Man\", \"Woman\", \"Prefer not to say\", \"Woman\", \"Woman\", \"Woman\", \"Man\", \"Man\", \"Man\", \"Man\", \"Man\", \"Woman\", \"Man\", \"Man\", \"Woman\", \"Woman\", \"Man\", \"Man\", \"Man\", \"Man\", \"Man\", \"Man\", \"Man\", \"Man\", \"Woman\", \"Man\", \"Man\", \"Woman\", \"Man\", \"Man\", \"Man\", \"Man\", \"Man\", \"Woman\", \"Man\", \"Man\", \"Man\", \"Man\", \"Man\", \"Man\", \"Man\", \"Man\", \"Woman\", \"Prefer not to say\", \"Man\", \"Man\", \"Man\", \"Man\", \"Man\", \"Woman\", \"Man\", \"Man\", \"Man\", \"Man\", \"Woman\", \"Man\", \"Man\", \"Man\", \"Man\", \"Man\", \"Man\", \"Man\", \"Man\", \"Man\", \"Man\", \"Man\", \"Man\", \"Man\", \"Prefer not to say\", \"Man\", \"Man\", \"Man\", \"Man\", \"Man\", \"Man\", \"Woman\", \"Man\", \"Man\", \"Woman\", \"Woman\", \"Man\", \"Man\", \"Man\", \"Man\", \"Man\", \"Woman\", \"Man\", \"Man\", \"Man\", \"Man\", \"Man\", \"Man\", \"Man\", \"Man\", \"Man\", \"Man\", \"Prefer not to say\", \"Man\", \"Man\", \"Man\", \"Man\", \"Man\", \"Man\", \"Man\", \"Man\", \"Man\", \"Man\", \"Woman\", \"Man\", \"Man\", \"Woman\", \"Man\", \"Man\", \"Woman\", \"Man\", \"Man\", \"Man\", \"Man\", \"Woman\", \"Woman\", \"Man\", \"Man\", \"Woman\", \"Man\", \"Man\", \"Man\", \"Man\", \"Man\", \"Man\", \"Woman\", \"Man\", \"Woman\", \"Woman\", \"Man\", \"Woman\", \"Man\", \"Man\", \"Woman\", \"Man\", \"Woman\", \"Man\", \"Man\", \"Woman\", \"Man\", \"Prefer to self-describe\", \"Man\", \"Man\", \"Man\", \"Man\", \"Man\", \"Woman\", \"Man\", \"Man\", \"Man\", \"Nonbinary\", \"Man\", \"Man\", \"Man\", \"Man\", \"Man\", \"Woman\", \"Man\", \"Man\", \"Man\", \"Man\", \"Woman\", \"Man\", \"Woman\", \"Man\", \"Man\", \"Woman\", \"Man\", \"Man\", \"Woman\", \"Man\", \"Man\", \"Man\", \"Man\", \"Man\", \"Man\", \"Woman\", \"Man\", \"Man\", \"Man\", \"Woman\", \"Man\", \"Man\", \"Man\", \"Man\", \"Man\", \"Man\", \"Man\", \"Man\", \"Man\", \"Man\", \"Man\", \"Man\", \"Man\", \"Woman\", \"Woman\", \"Woman\", \"Woman\", \"Woman\", \"Man\", \"Man\", \"Man\", \"Man\", \"Man\", \"Man\", \"Man\", \"Man\", \"Man\", \"Woman\", \"Woman\", \"Woman\", \"Man\", \"Man\", \"Man\", \"Man\", \"Man\", \"Man\", \"Woman\", \"Man\", \"Woman\", \"Woman\", \"Man\", \"Man\", \"Man\", \"Man\", \"Man\", \"Man\", \"Man\", \"Man\", \"Woman\", \"Woman\", \"Man\", \"Woman\", \"Woman\", \"Man\", \"Man\", \"Man\", \"Woman\", \"Man\", \"Man\", \"Woman\", \"Woman\", \"Man\", \"Man\", \"Man\", \"Man\", \"Man\", \"Prefer not to say\", \"Man\", \"Man\", \"Man\", \"Man\", \"Man\", \"Man\", \"Man\", \"Man\", \"Man\", \"Man\", \"Man\", \"Man\", \"Nonbinary\", \"Man\", \"Man\", \"Man\", \"Man\", \"Man\", \"Man\", \"Man\", \"Woman\", \"Man\", \"Man\", \"Man\", \"Man\", \"Man\", \"Man\", \"Man\", \"Man\", \"Man\", \"Man\", \"Man\", \"Man\", \"Man\", \"Woman\", \"Man\", \"Man\", \"Man\", \"Woman\", \"Man\", \"Man\", \"Woman\", \"Woman\", \"Man\", \"Man\", \"Man\", \"Man\", \"Man\", \"Woman\", \"Man\", \"Woman\", \"Man\", \"Man\", \"Man\", \"Woman\", \"Man\", \"Man\", \"Man\", \"Man\", \"Woman\", \"Man\", \"Man\", \"Man\", \"Man\", \"Man\", \"Woman\", \"Woman\", \"Man\", \"Woman\", \"Man\", \"Man\", \"Man\", \"Man\", \"Man\", \"Man\", \"Man\", \"Woman\", \"Woman\", \"Woman\", \"Man\", \"Man\", \"Woman\", \"Man\", \"Man\", \"Man\", \"Man\", \"Man\", \"Man\", \"Woman\", \"Woman\", \"Man\", \"Man\", \"Woman\", \"Man\", \"Man\", \"Man\", \"Woman\", \"Man\", \"Man\", \"Man\", \"Man\", \"Man\", \"Man\", \"Woman\", \"Man\", \"Man\", \"Man\", \"Man\", \"Man\", \"Man\", \"Woman\", \"Man\", \"Man\", \"Woman\", \"Man\", \"Man\", \"Man\", \"Man\", \"Man\", \"Man\", \"Man\", \"Man\", \"Man\", \"Woman\", \"Woman\", \"Woman\", \"Man\", \"Woman\", \"Man\", \"Man\", \"Man\", \"Woman\", \"Woman\", \"Man\", \"Man\", \"Man\", \"Woman\", \"Woman\", \"Man\", \"Man\", \"Man\", \"Woman\", \"Man\", \"Man\", \"Man\", \"Man\", \"Man\", \"Man\", \"Man\", \"Man\", \"Man\", \"Man\", \"Man\", \"Woman\", \"Man\", \"Woman\", \"Man\", \"Woman\", \"Man\", \"Man\", \"Man\", \"Man\", \"Woman\", \"Man\", \"Man\", \"Prefer not to say\", \"Man\", \"Woman\", \"Man\", \"Man\", \"Man\", \"Man\", \"Man\", \"Man\", \"Woman\", \"Man\", \"Man\", \"Man\", \"Man\", \"Man\", \"Man\", \"Woman\", \"Man\", \"Man\", \"Man\", \"Man\", \"Man\", \"Man\", \"Man\", \"Man\", \"Man\", \"Man\", \"Man\", \"Man\", \"Woman\", \"Man\", \"Man\", \"Man\", \"Woman\", \"Woman\", \"Man\", \"Man\", \"Man\", \"Man\", \"Man\", \"Man\", \"Man\", \"Man\", \"Man\", \"Woman\", \"Man\", \"Man\", \"Man\", \"Man\", \"Woman\", \"Man\", \"Man\", \"Man\", \"Man\", \"Man\", \"Man\", \"Man\", \"Man\", \"Man\", \"Man\", \"Man\", \"Man\", \"Man\", \"Woman\", \"Man\", \"Man\", \"Man\", \"Woman\", \"Woman\", \"Man\", \"Man\", \"Man\", \"Man\", \"Man\", \"Man\", \"Man\", \"Woman\", \"Man\", \"Man\", \"Man\", \"Man\", \"Man\", \"Man\", \"Man\", \"Man\", \"Man\", \"Man\", \"Man\", \"Man\", \"Man\", \"Man\", \"Man\", \"Man\", \"Man\", \"Man\", \"Woman\", \"Man\", \"Man\", \"Man\", \"Man\", \"Man\", \"Man\", \"Woman\", \"Prefer not to say\", \"Man\", \"Man\", \"Man\", \"Man\", \"Woman\", \"Man\", \"Woman\", \"Man\", \"Man\", \"Woman\", \"Man\", \"Man\", \"Man\", \"Man\", \"Man\", \"Man\", \"Man\", \"Man\", \"Woman\", \"Man\", \"Woman\", \"Man\", \"Man\", \"Man\", \"Man\", \"Man\", \"Man\", \"Man\", \"Man\", \"Man\", \"Man\", \"Man\", \"Man\", \"Man\", \"Man\", \"Man\", \"Man\", \"Man\", \"Man\", \"Man\", \"Man\", \"Woman\", \"Man\", \"Man\", \"Man\", \"Man\", \"Man\", \"Man\", \"Woman\", \"Man\", \"Man\", \"Man\", \"Man\", \"Man\", \"Man\", \"Man\", \"Woman\", \"Man\", \"Man\", \"Man\", \"Man\", \"Man\", \"Man\", \"Man\", \"Man\", \"Man\", \"Man\", \"Man\", \"Woman\", \"Woman\", \"Man\", \"Man\", \"Man\", \"Man\", \"Man\", \"Man\", \"Man\", \"Man\", \"Man\", \"Man\", \"Man\", \"Man\", \"Man\", \"Man\", \"Man\", \"Woman\", \"Man\", \"Man\", \"Man\", \"Man\", \"Woman\", \"Man\", \"Man\", \"Man\", \"Man\", \"Man\", \"Man\", \"Man\", \"Man\", \"Man\", \"Woman\", \"Man\", \"Man\", \"Man\", \"Man\", \"Prefer to self-describe\", \"Man\", \"Man\", \"Man\", \"Man\", \"Woman\", \"Prefer not to say\", \"Man\", \"Man\", \"Woman\", \"Man\", \"Man\", \"Man\", \"Man\", \"Man\", \"Woman\", \"Man\", \"Man\", \"Woman\", \"Woman\", \"Man\", \"Man\", \"Man\", \"Man\", \"Woman\", \"Man\", \"Man\", \"Woman\", \"Man\", \"Man\", \"Man\", \"Man\", \"Man\", \"Man\", \"Woman\", \"Man\", \"Man\", \"Man\", \"Man\", \"Man\", \"Woman\", \"Man\", \"Woman\", \"Woman\", \"Man\", \"Man\", \"Man\", \"Man\", \"Man\", \"Man\", \"Man\", \"Woman\", \"Man\", \"Man\", \"Man\", \"Man\", \"Man\", \"Woman\", \"Man\", \"Man\", \"Woman\", \"Man\", \"Man\", \"Man\", \"Man\", \"Man\", \"Woman\", \"Man\", \"Man\", \"Man\", \"Man\", \"Man\", \"Man\", \"Man\", \"Woman\", \"Man\", \"Man\", \"Woman\", \"Man\", \"Man\", \"Man\", \"Prefer not to say\", \"Man\", \"Man\", \"Man\", \"Man\", \"Man\", \"Man\", \"Man\", \"Man\", \"Man\", \"Woman\", \"Man\", \"Woman\", \"Man\", \"Man\", \"Man\", \"Man\", \"Man\", \"Woman\", \"Man\", \"Man\", \"Man\", \"Man\", \"Man\", \"Woman\", \"Man\", \"Man\", \"Man\", \"Man\", \"Man\", \"Man\", \"Man\", \"Man\", \"Man\", \"Man\", \"Man\", \"Woman\", \"Man\", \"Man\", \"Man\", \"Man\", \"Man\", \"Man\", \"Man\", \"Man\", \"Man\", \"Man\", \"Man\", \"Woman\", \"Woman\", \"Man\", \"Man\", \"Woman\", \"Man\", \"Man\", \"Man\", \"Man\", \"Woman\", \"Man\", \"Man\", \"Woman\", \"Man\", \"Woman\", \"Man\", \"Man\", \"Man\", \"Man\", \"Woman\", \"Man\", \"Man\", \"Man\", \"Man\", \"Man\", \"Man\", \"Man\", \"Man\", \"Woman\", \"Man\", \"Man\", \"Woman\", \"Man\", \"Man\", \"Man\", \"Man\", \"Man\", \"Man\", \"Man\", \"Man\", \"Man\", \"Man\", \"Man\", \"Man\", \"Man\", \"Man\", \"Man\", \"Woman\", \"Man\", \"Man\", \"Woman\", \"Man\", \"Man\", \"Man\", \"Man\", \"Woman\", \"Man\", \"Man\", \"Man\", \"Man\", \"Man\", \"Man\", \"Woman\", \"Man\", \"Man\", \"Man\", \"Man\", \"Woman\", \"Man\", \"Man\", \"Man\", \"Man\", \"Man\", \"Man\", \"Man\", \"Woman\", \"Woman\", \"Man\", \"Woman\", \"Woman\", \"Man\", \"Woman\", \"Man\", \"Man\", \"Man\", \"Man\", \"Man\", \"Man\", \"Man\", \"Man\", \"Woman\", \"Man\", \"Man\", \"Woman\", \"Man\", \"Man\", \"Man\", \"Man\", \"Woman\", \"Man\", \"Woman\", \"Man\", \"Woman\", \"Man\", \"Man\", \"Man\", \"Man\", \"Woman\", \"Man\", \"Woman\", \"Woman\", \"Man\", \"Woman\", \"Man\", \"Man\", \"Man\", \"Man\", \"Man\", \"Man\", \"Prefer not to say\", \"Man\", \"Man\", \"Man\", \"Man\", \"Man\", \"Man\", \"Man\", \"Woman\", \"Prefer not to say\", \"Man\", \"Man\", \"Man\", \"Man\", \"Man\", \"Woman\", \"Man\", \"Man\", \"Man\", \"Woman\", \"Man\", \"Man\", \"Man\", \"Man\", \"Woman\", \"Man\", \"Man\", \"Man\", \"Man\", \"Man\", \"Woman\", \"Man\", \"Man\", \"Man\", \"Man\", \"Man\", \"Man\", \"Man\", \"Man\", \"Man\", \"Woman\", \"Woman\", \"Man\", \"Man\", \"Man\", \"Man\", \"Man\", \"Man\", \"Man\", \"Man\", \"Man\", \"Man\", \"Woman\", \"Man\", \"Man\", \"Man\", \"Man\", \"Man\", \"Woman\", \"Man\", \"Woman\", \"Woman\", \"Man\", \"Woman\", \"Man\", \"Man\", \"Man\", \"Man\", \"Woman\", \"Woman\", \"Man\", \"Man\", \"Woman\", \"Man\", \"Man\", \"Man\", \"Woman\", \"Woman\", \"Man\", \"Woman\", \"Prefer not to say\", \"Man\", \"Man\", \"Man\", \"Man\", \"Man\", \"Man\", \"Man\", \"Man\", \"Man\", \"Man\", \"Man\", \"Man\", \"Man\", \"Woman\", \"Woman\", \"Man\", \"Woman\", \"Woman\", \"Man\", \"Woman\", \"Woman\", \"Man\", \"Man\", \"Man\", \"Man\", \"Woman\", \"Man\", \"Man\", \"Man\", \"Man\", \"Woman\", \"Man\", \"Man\", \"Man\", \"Man\", \"Woman\", \"Man\", \"Man\", \"Man\", \"Man\", \"Man\", \"Man\", \"Man\", \"Man\", \"Man\", \"Man\", \"Woman\", \"Man\", \"Man\", \"Woman\", \"Man\", \"Woman\", \"Man\", \"Man\", \"Man\", \"Man\", \"Man\", \"Man\", \"Man\", \"Man\", \"Man\", \"Man\", \"Woman\", \"Man\", \"Man\", \"Man\", \"Woman\", \"Man\", \"Man\", \"Man\", \"Man\", \"Man\", \"Man\", \"Man\", \"Man\", \"Man\", \"Woman\", \"Man\", \"Man\", \"Man\", \"Man\", \"Man\", \"Man\", \"Man\", \"Woman\", \"Man\", \"Man\", \"Prefer not to say\", \"Man\", \"Man\", \"Man\", \"Woman\", \"Man\", \"Man\", \"Man\", \"Woman\", \"Man\", \"Man\", \"Man\", \"Man\", \"Man\", \"Man\", \"Man\", \"Man\", \"Prefer to self-describe\", \"Man\", \"Man\", \"Man\", \"Man\", \"Man\", \"Woman\", \"Man\", \"Man\", \"Man\", \"Man\", \"Man\", \"Man\", \"Man\", \"Man\", \"Woman\", \"Woman\", \"Woman\", \"Man\", \"Man\", \"Man\", \"Man\", \"Man\", \"Man\", \"Man\", \"Woman\", \"Man\", \"Man\", \"Man\", \"Man\", \"Man\", \"Man\", \"Woman\", \"Man\", \"Woman\", \"Man\", \"Man\", \"Woman\", \"Man\", \"Man\", \"Woman\", \"Man\", \"Man\", \"Man\", \"Man\", \"Man\", \"Woman\", \"Man\", \"Man\", \"Man\", \"Man\", \"Man\", \"Man\", \"Man\", \"Woman\", \"Man\", \"Man\", \"Man\", \"Man\", \"Man\", \"Man\", \"Man\", \"Man\", \"Woman\", \"Woman\", \"Man\", \"Man\", \"Man\", \"Woman\", \"Man\", \"Man\", \"Woman\", \"Man\", \"Man\", \"Man\", \"Prefer not to say\", \"Man\", \"Man\", \"Man\", \"Man\", \"Man\", \"Man\", \"Man\", \"Man\", \"Man\", \"Man\", \"Woman\", \"Man\", \"Man\", \"Man\", \"Man\", \"Man\", \"Man\", \"Man\", \"Man\", \"Woman\", \"Man\", \"Man\", \"Woman\", \"Woman\", \"Man\", \"Man\", \"Woman\", \"Man\", \"Woman\", \"Man\", \"Man\", \"Man\", \"Woman\", \"Man\", \"Man\", \"Woman\", \"Man\", \"Man\", \"Man\", \"Man\", \"Man\", \"Man\", \"Man\", \"Man\", \"Man\", \"Man\", \"Man\", \"Man\", \"Woman\", \"Man\", \"Man\", \"Woman\", \"Man\", \"Man\", \"Man\", \"Man\", \"Prefer not to say\", \"Man\", \"Woman\", \"Woman\", \"Man\", \"Man\", \"Man\", \"Man\", \"Man\", \"Man\", \"Woman\", \"Man\", \"Man\", \"Man\", \"Man\", \"Man\", \"Woman\", \"Man\", \"Woman\", \"Woman\", \"Man\", \"Man\", \"Man\", \"Man\", \"Man\", \"Man\", \"Man\", \"Man\", \"Woman\", \"Man\", \"Man\", \"Man\", \"Man\", \"Man\", \"Woman\", \"Man\", \"Man\", \"Woman\", \"Man\", \"Man\", \"Man\", \"Woman\", \"Man\", \"Man\", \"Man\", \"Man\", \"Man\", \"Man\", \"Man\", \"Woman\", \"Man\", \"Man\", \"Man\", \"Man\", \"Woman\", \"Man\", \"Man\", \"Woman\", \"Man\", \"Woman\", \"Man\", \"Man\", \"Man\", \"Man\", \"Man\", \"Woman\", \"Man\", \"Man\", \"Man\", \"Man\", \"Man\", \"Woman\", \"Woman\", \"Man\", \"Man\", \"Man\", \"Man\", \"Man\", \"Man\", \"Man\", \"Woman\", \"Man\", \"Man\", \"Man\", \"Man\", \"Man\", \"Man\", \"Man\", \"Man\", \"Man\", \"Man\", \"Man\", \"Man\", \"Man\", \"Man\", \"Man\", \"Man\", \"Man\", \"Man\", \"Man\", \"Man\", \"Man\", \"Man\", \"Man\", \"Prefer not to say\", \"Woman\", \"Woman\", \"Man\", \"Man\", \"Woman\", \"Woman\", \"Man\", \"Woman\", \"Woman\", \"Man\", \"Man\", \"Man\", \"Man\", \"Woman\", \"Man\", \"Man\", \"Man\", \"Man\", \"Woman\", \"Man\", \"Man\", \"Man\", \"Man\", \"Woman\", \"Man\", \"Woman\", \"Man\", \"Woman\", \"Woman\", \"Man\", \"Man\", \"Man\", \"Man\", \"Woman\", \"Man\", \"Woman\", \"Man\", \"Man\", \"Man\", \"Man\", \"Man\", \"Woman\", \"Man\", \"Man\", \"Man\", \"Woman\", \"Man\", \"Man\", \"Man\", \"Man\", \"Man\", \"Woman\", \"Man\", \"Woman\", \"Man\", \"Man\", \"Man\", \"Man\", \"Man\", \"Woman\", \"Man\", \"Man\", \"Man\", \"Man\", \"Man\", \"Man\", \"Woman\", \"Man\", \"Woman\", \"Woman\", \"Woman\", \"Man\", \"Man\", \"Man\", \"Man\", \"Man\", \"Man\", \"Man\", \"Man\", \"Man\", \"Woman\", \"Man\", \"Man\", \"Woman\", \"Man\", \"Man\", \"Man\", \"Man\", \"Man\", \"Man\", \"Woman\", \"Man\", \"Man\", \"Woman\", \"Man\", \"Woman\", \"Man\", \"Man\", \"Woman\", \"Man\", \"Man\", \"Man\", \"Man\", \"Woman\", \"Man\", \"Woman\", \"Man\", \"Woman\", \"Woman\", \"Man\", \"Man\", \"Man\", \"Man\", \"Man\", \"Man\", \"Woman\", \"Woman\", \"Woman\", \"Man\", \"Man\", \"Man\", \"Man\", \"Man\", \"Man\", \"Man\", \"Woman\", \"Man\", \"Man\", \"Woman\", \"Man\", \"Man\", \"Man\", \"Man\", \"Man\", \"Man\", \"Man\", \"Man\", \"Man\", \"Man\", \"Man\", \"Man\", \"Man\", \"Man\", \"Man\", \"Man\", \"Woman\", \"Man\", \"Man\", \"Man\", \"Man\", \"Man\", \"Man\", \"Woman\", \"Man\", \"Man\", \"Man\", \"Man\", \"Man\", \"Man\", \"Man\", \"Man\", \"Man\", \"Man\", \"Man\", \"Man\", \"Man\", \"Man\", \"Woman\", \"Man\", \"Man\", \"Man\", \"Man\", \"Man\", \"Woman\", \"Man\", \"Man\", \"Man\", \"Man\", \"Man\", \"Man\", \"Man\", \"Woman\", \"Woman\", \"Man\", \"Man\", \"Woman\", \"Woman\", \"Man\", \"Man\", \"Woman\", \"Man\", \"Woman\", \"Man\", \"Man\", \"Man\", \"Man\", \"Woman\", \"Man\", \"Man\", \"Man\", \"Man\", \"Man\", \"Man\", \"Woman\", \"Man\", \"Woman\", \"Man\", \"Woman\", \"Man\", \"Woman\", \"Man\", \"Man\", \"Man\", \"Man\", \"Woman\", \"Man\", \"Man\", \"Man\", \"Man\", \"Man\", \"Man\", \"Man\", \"Man\", \"Woman\", \"Prefer not to say\", \"Woman\", \"Man\", \"Prefer not to say\", \"Man\", \"Woman\", \"Man\", \"Man\", \"Man\", \"Man\", \"Man\", \"Woman\", \"Woman\", \"Woman\", \"Man\", \"Man\", \"Man\", \"Man\", \"Woman\", \"Man\", \"Woman\", \"Man\", \"Man\", \"Man\", \"Man\", \"Man\", \"Man\", \"Man\", \"Man\", \"Man\", \"Man\", \"Man\", \"Woman\", \"Man\", \"Woman\", \"Man\", \"Man\", \"Man\", \"Man\", \"Man\", \"Woman\", \"Man\", \"Man\", \"Man\", \"Man\", \"Man\", \"Man\", \"Man\", \"Man\", \"Man\", \"Man\", \"Man\", \"Prefer not to say\", \"Man\", \"Man\", \"Man\", \"Man\", \"Woman\", \"Man\", \"Man\", \"Woman\", \"Man\", \"Woman\", \"Woman\", \"Woman\", \"Man\", \"Woman\", \"Man\", \"Man\", \"Man\", \"Woman\", \"Man\", \"Man\", \"Man\", \"Man\", \"Man\", \"Man\", \"Man\", \"Woman\", \"Woman\", \"Man\", \"Man\", \"Woman\", \"Woman\", \"Man\", \"Woman\", \"Man\", \"Man\", \"Man\", \"Man\", \"Man\", \"Man\", \"Man\", \"Man\", \"Man\", \"Man\", \"Man\", \"Man\", \"Man\", \"Woman\", \"Man\", \"Man\", \"Man\", \"Man\", \"Man\", \"Man\", \"Man\", \"Man\", \"Man\", \"Man\", \"Man\", \"Man\", \"Woman\", \"Man\", \"Man\", \"Woman\", \"Man\", \"Man\", \"Man\", \"Man\", \"Man\", \"Man\", \"Man\", \"Man\", \"Man\", \"Man\", \"Man\", \"Man\", \"Woman\", \"Man\", \"Man\", \"Man\", \"Woman\", \"Man\", \"Man\", \"Man\", \"Man\", \"Man\", \"Man\", \"Man\", \"Man\", \"Man\", \"Man\", \"Man\", \"Man\", \"Man\", \"Man\", \"Woman\", \"Man\", \"Man\", \"Man\", \"Man\", \"Man\", \"Woman\", \"Man\", \"Man\", \"Man\", \"Man\", \"Man\", \"Man\", \"Prefer not to say\", \"Man\", \"Man\", \"Man\", \"Man\", \"Man\", \"Man\", \"Woman\", \"Woman\", \"Man\", \"Man\", \"Woman\", \"Man\", \"Man\", \"Woman\", \"Man\", \"Man\", \"Man\", \"Man\", \"Man\", \"Man\", \"Woman\", \"Man\", \"Woman\", \"Man\", \"Man\", \"Man\", \"Man\", \"Prefer not to say\", \"Man\", \"Man\", \"Man\", \"Man\", \"Man\", \"Woman\", \"Man\", \"Man\", \"Woman\", \"Man\", \"Man\", \"Man\", \"Man\", \"Man\", \"Man\", \"Man\", \"Man\", \"Man\", \"Man\", \"Woman\", \"Man\", \"Man\", \"Man\", \"Man\", \"Man\", \"Man\", \"Man\", \"Man\", \"Man\", \"Man\", \"Man\", \"Man\", \"Woman\", \"Man\", \"Man\", \"Man\", \"Man\", \"Man\", \"Man\", \"Woman\", \"Man\", \"Woman\", \"Man\", \"Man\", \"Man\", \"Man\", \"Man\", \"Man\", \"Man\", \"Man\", \"Man\", \"Man\", \"Man\", \"Man\", \"Man\", \"Man\", \"Woman\", \"Man\", \"Woman\", \"Man\", \"Man\", \"Man\", \"Woman\", \"Man\", \"Woman\", \"Woman\", \"Man\", \"Man\", \"Man\", \"Man\", \"Woman\", \"Man\", \"Man\", \"Woman\", \"Woman\", \"Man\", \"Man\", \"Man\", \"Man\", \"Man\", \"Man\", \"Woman\", \"Man\", \"Man\", \"Man\", \"Man\", \"Man\", \"Man\", \"Man\", \"Man\", \"Man\", \"Man\", \"Man\", \"Man\", \"Man\", \"Man\", \"Man\", \"Man\", \"Man\", \"Man\", \"Woman\", \"Man\", \"Man\", \"Man\", \"Man\", \"Man\", \"Man\", \"Woman\", \"Man\", \"Man\", \"Woman\", \"Man\", \"Man\", \"Man\", \"Man\", \"Woman\", \"Man\", \"Man\", \"Man\", \"Man\", \"Man\", \"Woman\", \"Woman\", \"Man\", \"Man\", \"Man\", \"Woman\", \"Man\", \"Man\", \"Woman\", \"Woman\", \"Man\", \"Man\", \"Man\", \"Man\", \"Man\", \"Man\", \"Man\", \"Man\", \"Man\", \"Man\", \"Man\", \"Man\", \"Woman\", \"Man\", \"Woman\", \"Man\", \"Man\", \"Man\", \"Man\", \"Woman\", \"Woman\", \"Man\", \"Man\", \"Man\", \"Man\", \"Man\", \"Woman\", \"Woman\", \"Man\", \"Man\", \"Man\", \"Man\", \"Man\", \"Woman\", \"Man\", \"Woman\", \"Man\", \"Man\", \"Man\", \"Man\", \"Man\", \"Woman\", \"Man\", \"Man\", \"Man\", \"Man\", \"Man\", \"Man\", \"Man\", \"Man\", \"Man\", \"Man\", \"Man\", \"Man\", \"Woman\", \"Nonbinary\", \"Man\", \"Man\", \"Man\", \"Man\", \"Woman\", \"Man\", \"Woman\", \"Man\", \"Man\", \"Woman\", \"Man\", \"Man\", \"Man\", \"Man\", \"Man\", \"Man\", \"Man\", \"Man\", \"Man\", \"Man\", \"Man\", \"Man\", \"Man\", \"Man\", \"Man\", \"Man\", \"Man\", \"Woman\", \"Man\", \"Man\", \"Woman\", \"Man\", \"Woman\", \"Woman\", \"Man\", \"Man\", \"Man\", \"Man\", \"Man\", \"Man\", \"Man\", \"Man\", \"Man\", \"Man\", \"Man\", \"Woman\", \"Woman\", \"Man\", \"Man\", \"Man\", \"Man\", \"Man\", \"Man\", \"Man\", \"Man\", \"Woman\", \"Man\", \"Man\", \"Man\", \"Man\", \"Man\", \"Man\", \"Woman\", \"Man\", \"Man\", \"Woman\", \"Woman\", \"Man\", \"Man\", \"Woman\", \"Woman\", \"Man\", \"Man\", \"Man\", \"Man\", \"Man\", \"Man\", \"Man\", \"Man\", \"Woman\", \"Woman\", \"Man\", \"Man\", \"Woman\", \"Man\", \"Man\", \"Man\", \"Woman\", \"Man\", \"Man\", \"Man\", \"Man\", \"Man\", \"Woman\", \"Man\", \"Man\", \"Man\", \"Woman\", \"Man\", \"Man\", \"Woman\", \"Woman\", \"Man\", \"Man\", \"Man\", \"Man\", \"Man\", \"Man\", \"Man\", \"Man\", \"Man\", \"Man\", \"Man\", \"Woman\", \"Woman\", \"Man\", \"Woman\", \"Man\", \"Man\", \"Man\", \"Man\", \"Woman\", \"Man\", \"Man\", \"Man\", \"Woman\", \"Man\", \"Man\", \"Man\", \"Man\", \"Man\", \"Man\", \"Man\", \"Man\", \"Man\", \"Woman\", \"Man\", \"Man\", \"Man\", \"Man\", \"Woman\", \"Woman\", \"Man\", \"Man\", \"Man\", \"Woman\", \"Man\", \"Man\", \"Woman\", \"Man\", \"Man\", \"Man\", \"Man\", \"Man\", \"Man\", \"Man\", \"Man\", \"Man\", \"Man\", \"Man\", \"Man\", \"Woman\", \"Woman\", \"Man\", \"Man\", \"Man\", \"Woman\", \"Man\", \"Man\", \"Prefer not to say\", \"Man\", \"Woman\", \"Man\", \"Man\", \"Man\", \"Man\", \"Man\", \"Man\", \"Man\", \"Man\", \"Woman\", \"Man\", \"Man\", \"Woman\", \"Man\", \"Man\", \"Man\", \"Man\", \"Man\", \"Man\", \"Man\", \"Man\", \"Man\", \"Woman\", \"Man\", \"Man\", \"Man\", \"Woman\", \"Woman\", \"Man\", \"Woman\", \"Prefer not to say\", \"Man\", \"Man\", \"Man\", \"Man\", \"Woman\", \"Man\", \"Man\", \"Man\", \"Man\", \"Man\", \"Man\", \"Man\", \"Man\", \"Man\", \"Man\", \"Man\", \"Woman\", \"Woman\", \"Man\", \"Man\", \"Man\", \"Woman\", \"Woman\", \"Man\", \"Man\", \"Man\", \"Man\", \"Man\", \"Man\", \"Man\", \"Woman\", \"Woman\", \"Woman\", \"Man\", \"Woman\", \"Prefer not to say\", \"Man\", \"Man\", \"Man\", \"Woman\", \"Man\", \"Woman\", \"Man\", \"Woman\", \"Man\", \"Man\", \"Man\", \"Man\", \"Man\", \"Man\", \"Woman\", \"Man\", \"Man\", \"Woman\", \"Man\", \"Man\", \"Man\", \"Man\", \"Man\", \"Man\", \"Man\", \"Man\", \"Man\", \"Woman\", \"Man\", \"Man\", \"Man\", \"Man\", \"Man\", \"Man\", \"Woman\", \"Woman\", \"Man\", \"Man\", \"Man\", \"Man\", \"Man\", \"Man\", \"Woman\", \"Man\", \"Man\", \"Man\", \"Woman\", \"Man\", \"Man\", \"Man\", \"Man\", \"Man\", \"Woman\", \"Man\", \"Woman\", \"Woman\", \"Woman\", \"Man\", \"Man\", \"Man\", \"Man\", \"Man\", \"Man\", \"Man\", \"Man\", \"Man\", \"Man\", \"Man\", \"Woman\", \"Man\", \"Woman\", \"Man\", \"Woman\", \"Man\", \"Woman\", \"Man\", \"Man\", \"Man\", \"Man\", \"Man\", \"Man\", \"Man\", \"Man\", \"Woman\", \"Man\", \"Woman\", \"Woman\", \"Man\", \"Man\", \"Man\", \"Man\", \"Woman\", \"Man\", \"Man\", \"Man\", \"Woman\", \"Man\", \"Woman\", \"Man\", \"Man\", \"Man\", \"Man\", \"Woman\", \"Man\", \"Woman\", \"Man\", \"Man\", \"Woman\", \"Woman\", \"Man\", \"Woman\", \"Man\", \"Man\", \"Woman\", \"Man\", \"Man\", \"Man\", \"Man\", \"Woman\", \"Man\", \"Man\", \"Man\", \"Man\", \"Man\", \"Man\", \"Man\", \"Woman\", \"Man\", \"Man\", \"Man\", \"Man\", \"Man\", \"Woman\", \"Man\", \"Man\", \"Man\", \"Man\", \"Man\", \"Woman\", \"Man\", \"Man\", \"Man\", \"Man\", \"Man\", \"Man\", \"Man\", \"Man\", \"Man\", \"Man\", \"Man\", \"Man\", \"Man\", \"Woman\", \"Man\", \"Man\", \"Woman\", \"Man\", \"Man\", \"Man\", \"Man\", \"Man\", \"Woman\", \"Man\", \"Woman\", \"Man\", \"Man\", \"Woman\", \"Woman\", \"Man\", \"Man\", \"Man\", \"Man\", \"Man\", \"Man\", \"Man\", \"Man\", \"Man\", \"Man\", \"Man\", \"Man\", \"Man\", \"Man\", \"Man\", \"Man\", \"Man\", \"Man\", \"Man\", \"Man\", \"Man\", \"Man\", \"Man\", \"Woman\", \"Man\", \"Man\", \"Man\", \"Man\", \"Man\", \"Man\", \"Woman\", \"Man\", \"Man\", \"Man\", \"Man\", \"Man\", \"Man\", \"Man\", \"Man\", \"Woman\", \"Prefer not to say\", \"Woman\", \"Man\", \"Man\", \"Man\", \"Woman\", \"Man\", \"Man\", \"Man\", \"Woman\", \"Man\", \"Man\", \"Man\", \"Man\", \"Man\", \"Man\", \"Man\", \"Man\", \"Man\", \"Man\", \"Man\", \"Man\", \"Man\", \"Man\", \"Man\", \"Man\", \"Woman\", \"Man\", \"Man\", \"Man\", \"Man\", \"Woman\", \"Man\", \"Woman\", \"Man\", \"Man\", \"Man\", \"Man\", \"Man\", \"Woman\", \"Man\", \"Man\", \"Man\", \"Man\", \"Woman\", \"Man\", \"Man\", \"Man\", \"Man\", \"Man\", \"Man\", \"Man\", \"Man\", \"Man\", \"Man\", \"Woman\", \"Man\", \"Man\", \"Man\", \"Man\", \"Man\", \"Man\", \"Woman\", \"Woman\", \"Woman\", \"Man\", \"Man\", \"Man\", \"Man\", \"Man\", \"Man\", \"Man\", \"Woman\", \"Man\", \"Man\", \"Man\", \"Woman\", \"Woman\", \"Man\", \"Man\", \"Man\", \"Woman\", \"Man\", \"Man\", \"Man\", \"Woman\", \"Man\", \"Woman\", \"Man\", \"Woman\", \"Man\", \"Woman\", \"Man\", \"Man\", \"Man\", \"Man\", \"Woman\", \"Man\", \"Man\", \"Man\", \"Man\", \"Man\", \"Man\", \"Man\", \"Man\", \"Man\", \"Man\", \"Man\", \"Man\", \"Man\", \"Man\", \"Man\", \"Man\", \"Woman\", \"Man\", \"Man\", \"Man\", \"Man\", \"Woman\", \"Man\", \"Man\", \"Man\", \"Man\", \"Man\", \"Man\", \"Woman\", \"Man\", \"Woman\", \"Man\", \"Man\", \"Prefer not to say\", \"Woman\", \"Woman\", \"Woman\", \"Man\", \"Man\", \"Man\", \"Woman\", \"Woman\", \"Prefer not to say\", \"Man\", \"Man\", \"Man\", \"Man\", \"Man\", \"Man\", \"Man\", \"Man\", \"Man\", \"Man\", \"Man\", \"Woman\", \"Man\", \"Woman\", \"Man\", \"Woman\", \"Man\", \"Woman\", \"Man\", \"Man\", \"Man\", \"Man\", \"Man\", \"Woman\", \"Man\", \"Man\", \"Man\", \"Man\", \"Man\", \"Woman\", \"Man\", \"Woman\", \"Man\", \"Man\", \"Woman\", \"Man\", \"Woman\", \"Man\", \"Woman\", \"Man\", \"Man\", \"Man\", \"Man\", \"Man\", \"Man\", \"Woman\", \"Man\", \"Man\", \"Man\", \"Man\", \"Man\", \"Man\", \"Man\", \"Woman\", \"Man\", \"Man\", \"Man\", \"Woman\", \"Woman\", \"Woman\", \"Man\", \"Man\", \"Man\", \"Man\", \"Man\", \"Man\", \"Nonbinary\", \"Man\", \"Man\", \"Man\", \"Man\", \"Man\", \"Woman\", \"Man\", \"Man\", \"Man\", \"Prefer not to say\", \"Woman\", \"Woman\", \"Man\", \"Woman\", \"Woman\", \"Woman\", \"Man\", \"Man\", \"Man\", \"Man\", \"Man\", \"Man\", \"Man\", \"Man\", \"Man\", \"Man\", \"Woman\", \"Man\", \"Woman\", \"Man\", \"Woman\", \"Man\", \"Man\", \"Man\", \"Man\", \"Man\", \"Man\", \"Man\", \"Man\", \"Prefer to self-describe\", \"Man\", \"Man\", \"Prefer not to say\", \"Woman\", \"Man\", \"Man\", \"Man\", \"Man\", \"Woman\", \"Man\", \"Man\", \"Man\", \"Man\", \"Man\", \"Man\", \"Man\", \"Man\", \"Woman\", \"Woman\", \"Man\", \"Man\", \"Man\", \"Man\", \"Man\", \"Man\", \"Woman\", \"Man\", \"Man\", \"Woman\", \"Man\", \"Man\", \"Man\", \"Man\", \"Man\", \"Man\", \"Man\", \"Man\", \"Man\", \"Man\", \"Man\", \"Man\", \"Man\", \"Woman\", \"Woman\", \"Man\", \"Man\", \"Nonbinary\", \"Woman\", \"Man\", \"Man\", \"Man\", \"Man\", \"Woman\", \"Man\", \"Man\", \"Woman\", \"Man\", \"Prefer not to say\", \"Man\", \"Man\", \"Man\", \"Man\", \"Woman\", \"Man\", \"Man\", \"Woman\", \"Man\", \"Man\", \"Man\", \"Man\", \"Woman\", \"Man\", \"Man\", \"Man\", \"Man\", \"Man\", \"Man\", \"Man\", \"Man\", \"Prefer not to say\", \"Man\", \"Man\", \"Man\", \"Man\", \"Man\", \"Man\", \"Man\", \"Man\", \"Man\", \"Woman\", \"Man\", \"Woman\", \"Man\", \"Man\", \"Man\", \"Man\", \"Man\", \"Woman\", \"Man\", \"Man\", \"Woman\", \"Man\", \"Man\", \"Woman\", \"Man\", \"Man\", \"Man\", \"Man\", \"Man\", \"Man\", \"Man\", \"Man\", \"Man\", \"Man\", \"Man\", \"Man\", \"Man\", \"Man\", \"Man\", \"Man\", \"Woman\", \"Man\", \"Man\", \"Man\", \"Man\", \"Man\", \"Man\", \"Man\", \"Man\", \"Woman\", \"Woman\", \"Man\", \"Man\", \"Man\", \"Man\", \"Man\", \"Man\", \"Man\", \"Man\", \"Man\", \"Man\", \"Man\", \"Man\", \"Man\", \"Man\", \"Man\", \"Man\", \"Man\", \"Man\", \"Woman\", \"Man\", \"Man\", \"Man\", \"Man\", \"Man\", \"Man\", \"Man\", \"Man\", \"Man\", \"Woman\", \"Man\", \"Man\", \"Man\", \"Man\", \"Man\", \"Man\", \"Woman\", \"Woman\", \"Woman\", \"Man\", \"Man\", \"Man\", \"Woman\", \"Man\", \"Man\", \"Man\", \"Man\", \"Man\", \"Man\", \"Man\", \"Man\", \"Man\", \"Man\", \"Man\", \"Woman\", \"Man\", \"Man\", \"Man\", \"Man\", \"Woman\", \"Man\", \"Man\", \"Woman\", \"Man\", \"Man\", \"Man\", \"Woman\", \"Man\", \"Man\", \"Man\", \"Man\", \"Man\", \"Man\", \"Man\", \"Man\", \"Man\", \"Man\", \"Woman\", \"Man\", \"Man\", \"Man\", \"Man\", \"Man\", \"Man\", \"Man\", \"Man\", \"Man\", \"Man\", \"Man\", \"Nonbinary\", \"Man\", \"Man\", \"Man\", \"Man\", \"Woman\", \"Man\", \"Woman\", \"Man\", \"Man\", \"Man\", \"Man\", \"Woman\", \"Man\", \"Woman\", \"Man\", \"Man\", \"Woman\", \"Man\", \"Man\", \"Prefer not to say\", \"Man\", \"Woman\", \"Man\", \"Woman\", \"Man\", \"Man\", \"Man\", \"Man\", \"Man\", \"Woman\", \"Man\", \"Woman\", \"Woman\", \"Man\", \"Man\", \"Man\", \"Man\", \"Man\", \"Man\", \"Man\", \"Man\", \"Man\", \"Man\", \"Man\", \"Man\", \"Man\", \"Man\", \"Man\", \"Man\", \"Man\", \"Man\", \"Man\", \"Man\", \"Man\", \"Man\", \"Man\", \"Man\", \"Man\", \"Man\", \"Man\", \"Man\", \"Prefer not to say\", \"Woman\", \"Man\", \"Man\", \"Man\", \"Man\", \"Man\", \"Man\", \"Man\", \"Man\", \"Man\", \"Man\", \"Woman\", \"Man\", \"Man\", \"Man\", \"Man\", \"Man\", \"Man\", \"Man\", \"Man\", \"Man\", \"Man\", \"Man\", \"Man\", \"Man\", \"Man\", \"Man\", \"Woman\", \"Man\", \"Woman\", \"Man\", \"Woman\", \"Man\", \"Man\", \"Woman\", \"Man\", \"Man\", \"Man\", \"Man\", \"Woman\", \"Man\", \"Man\", \"Man\", \"Man\", \"Man\", \"Woman\", \"Man\", \"Man\", \"Prefer to self-describe\", \"Man\", \"Woman\", \"Man\", \"Woman\", \"Man\", \"Woman\", \"Man\", \"Man\", \"Woman\", \"Man\", \"Man\", \"Woman\", \"Man\", \"Man\", \"Man\", \"Man\", \"Man\", \"Man\", \"Woman\", \"Woman\", \"Man\", \"Man\", \"Man\", \"Man\", \"Man\", \"Man\", \"Man\", \"Man\", \"Man\", \"Woman\", \"Man\", \"Man\", \"Prefer not to say\", \"Man\", \"Man\", \"Man\", \"Man\", \"Man\", \"Woman\", \"Man\", \"Man\", \"Woman\", \"Man\", \"Man\", \"Man\", \"Man\", \"Man\", \"Woman\", \"Man\", \"Man\", \"Woman\", \"Man\", \"Man\", \"Man\", \"Prefer not to say\", \"Man\", \"Woman\", \"Man\", \"Man\", \"Man\", \"Man\", \"Man\", \"Man\", \"Woman\", \"Man\", \"Man\", \"Woman\", \"Man\", \"Man\", \"Man\", \"Man\", \"Man\", \"Man\", \"Woman\", \"Man\", \"Man\", \"Man\", \"Man\", \"Man\", \"Woman\", \"Man\", \"Man\", \"Man\", \"Man\", \"Woman\", \"Man\", \"Man\", \"Man\", \"Man\", \"Man\", \"Man\", \"Man\", \"Man\", \"Man\", \"Woman\", \"Man\", \"Man\", \"Woman\", \"Man\", \"Man\", \"Man\", \"Man\", \"Man\", \"Man\", \"Man\", \"Man\", \"Man\", \"Man\", \"Man\", \"Man\", \"Man\", \"Man\", \"Man\", \"Woman\", \"Man\", \"Man\", \"Man\", \"Man\", \"Man\", \"Man\", \"Man\", \"Man\", \"Man\", \"Man\", \"Man\", \"Prefer not to say\", \"Man\", \"Man\", \"Man\", \"Man\", \"Man\", \"Man\", \"Man\", \"Man\", \"Man\", \"Man\", \"Woman\", \"Man\", \"Man\", \"Man\", \"Man\", \"Man\", \"Man\", \"Man\", \"Man\", \"Man\", \"Man\", \"Man\", \"Woman\", \"Man\", \"Man\", \"Woman\", \"Man\", \"Man\", \"Woman\", \"Man\", \"Man\", \"Man\", \"Man\", \"Man\", \"Nonbinary\", \"Man\", \"Man\", \"Woman\", \"Man\", \"Woman\", \"Man\", \"Man\", \"Man\", \"Man\", \"Man\", \"Woman\", \"Man\", \"Man\", \"Man\", \"Woman\", \"Man\", \"Man\", \"Man\", \"Man\", \"Man\", \"Man\", \"Man\", \"Man\", \"Man\", \"Man\", \"Man\", \"Woman\", \"Woman\", \"Man\", \"Woman\", \"Man\", \"Man\", \"Man\", \"Man\", \"Man\", \"Man\", \"Man\", \"Woman\", \"Man\", \"Man\", \"Man\", \"Man\", \"Man\", \"Woman\", \"Man\", \"Nonbinary\", \"Man\", \"Woman\", \"Woman\", \"Man\", \"Man\", \"Man\", \"Man\", \"Man\", \"Man\", \"Man\", \"Man\", \"Man\", \"Man\", \"Man\", \"Woman\", \"Woman\", \"Man\", \"Man\", \"Man\", \"Man\", \"Man\", \"Man\", \"Man\", \"Woman\", \"Woman\", \"Woman\", \"Man\", \"Man\", \"Man\", \"Man\", \"Man\", \"Man\", \"Woman\", \"Man\", \"Man\", \"Man\", \"Man\", \"Man\", \"Man\", \"Man\", \"Man\", \"Man\", \"Man\", \"Man\", \"Man\", \"Woman\", \"Man\", \"Man\", \"Man\", \"Nonbinary\", \"Man\", \"Man\", \"Man\", \"Prefer not to say\", \"Man\", \"Man\", \"Man\", \"Woman\", \"Man\", \"Man\", \"Man\", \"Man\", \"Man\", \"Woman\", \"Man\", \"Man\", \"Man\", \"Woman\", \"Woman\", \"Man\", \"Man\", \"Man\", \"Nonbinary\", \"Man\", \"Man\", \"Man\", \"Man\", \"Man\", \"Man\", \"Man\", \"Man\", \"Prefer not to say\", \"Man\", \"Man\", \"Man\", \"Man\", \"Man\", \"Man\", \"Man\", \"Man\", \"Woman\", \"Woman\", \"Woman\", \"Woman\", \"Man\", \"Man\", \"Woman\", \"Man\", \"Man\", \"Man\", \"Man\", \"Woman\", \"Man\", \"Man\", \"Man\", \"Man\", \"Woman\", \"Woman\", \"Man\", \"Woman\", \"Man\", \"Man\", \"Man\", \"Man\", \"Woman\", \"Man\", \"Man\", \"Man\", \"Man\", \"Man\", \"Man\", \"Man\", \"Woman\", \"Man\", \"Man\", \"Man\", \"Man\", \"Man\", \"Man\", \"Man\", \"Man\", \"Woman\", \"Man\", \"Woman\", \"Man\", \"Man\", \"Prefer to self-describe\", \"Man\", \"Man\", \"Man\", \"Man\", \"Woman\", \"Man\", \"Man\", \"Man\", \"Man\", \"Man\", \"Man\", \"Woman\", \"Man\", \"Woman\", \"Man\", \"Man\", \"Man\", \"Man\", \"Man\", \"Man\", \"Man\", \"Woman\", \"Man\", \"Woman\", \"Man\", \"Man\", \"Woman\", \"Man\", \"Man\", \"Man\", \"Man\", \"Man\", \"Man\", \"Woman\", \"Man\", \"Woman\", \"Man\", \"Man\", \"Man\", \"Man\", \"Man\", \"Man\", \"Man\", \"Man\", \"Woman\", \"Man\", \"Man\", \"Woman\", \"Man\", \"Man\", \"Man\", \"Man\", \"Woman\", \"Man\", \"Man\", \"Man\", \"Man\", \"Man\", \"Man\", \"Man\", \"Man\", \"Man\", \"Man\", \"Woman\", \"Man\", \"Man\", \"Man\", \"Man\", \"Woman\", \"Woman\", \"Woman\", \"Man\", \"Man\", \"Man\", \"Man\", \"Man\", \"Man\", \"Man\", \"Woman\", \"Woman\", \"Man\", \"Man\", \"Woman\", \"Prefer to self-describe\", \"Woman\", \"Man\", \"Woman\", \"Man\", \"Man\", \"Man\", \"Man\", \"Man\", \"Man\", \"Man\", \"Woman\", \"Man\", \"Man\", \"Man\", \"Man\", \"Man\", \"Man\", \"Man\", \"Man\", \"Man\", \"Woman\", \"Woman\", \"Man\", \"Man\", \"Woman\", \"Man\", \"Man\", \"Man\", \"Man\", \"Man\", \"Man\", \"Man\", \"Woman\", \"Man\", \"Man\", \"Woman\", \"Man\", \"Woman\", \"Man\", \"Man\", \"Man\", \"Man\", \"Man\", \"Man\", \"Man\", \"Man\", \"Man\", \"Man\", \"Woman\", \"Man\", \"Man\", \"Man\", \"Man\", \"Woman\", \"Man\", \"Woman\", \"Man\", \"Man\", \"Man\", \"Woman\", \"Man\", \"Woman\", \"Man\", \"Woman\", \"Man\", \"Woman\", \"Man\", \"Woman\", \"Man\", \"Man\", \"Man\", \"Man\", \"Woman\", \"Man\", \"Man\", \"Man\", \"Woman\", \"Man\", \"Man\", \"Man\", \"Man\", \"Prefer to self-describe\", \"Man\", \"Man\", \"Woman\", \"Man\", \"Man\", \"Man\", \"Man\", \"Man\", \"Woman\", \"Woman\", \"Man\", \"Man\", \"Man\", \"Woman\", \"Man\", \"Man\", \"Man\", \"Woman\", \"Nonbinary\", \"Man\", \"Man\", \"Man\", \"Woman\", \"Man\", \"Man\", \"Man\", \"Woman\", \"Man\", \"Woman\", \"Man\", \"Man\", \"Man\", \"Man\", \"Man\", \"Man\", \"Man\", \"Man\", \"Woman\", \"Man\", \"Woman\", \"Woman\", \"Man\", \"Man\", \"Man\", \"Woman\", \"Woman\", \"Man\", \"Man\", \"Man\", \"Man\", \"Man\", \"Man\", \"Man\", \"Man\", \"Man\", \"Man\", \"Woman\", \"Man\", \"Man\", \"Man\", \"Man\", \"Man\", \"Man\", \"Man\", \"Woman\", \"Man\", \"Woman\", \"Man\", \"Man\", \"Man\", \"Man\", \"Man\", \"Man\", \"Man\", \"Man\", \"Man\", \"Man\", \"Man\", \"Woman\", \"Man\", \"Woman\", \"Man\", \"Man\", \"Woman\", \"Woman\", \"Man\", \"Man\", \"Woman\", \"Man\", \"Man\", \"Man\", \"Woman\", \"Man\", \"Man\", \"Man\", \"Woman\", \"Man\", \"Man\", \"Man\", \"Man\", \"Man\", \"Man\", \"Woman\", \"Man\", \"Man\", \"Woman\", \"Man\", \"Woman\", \"Man\", \"Man\", \"Man\", \"Man\", \"Woman\", \"Man\", \"Man\", \"Man\", \"Man\", \"Man\", \"Man\", \"Woman\", \"Man\", \"Man\", \"Man\", \"Man\", \"Man\", \"Woman\", \"Man\", \"Woman\", \"Man\", \"Man\", \"Woman\", \"Woman\", \"Man\", \"Man\", \"Man\", \"Man\", \"Prefer not to say\", \"Man\", \"Man\", \"Man\", \"Woman\", \"Man\", \"Man\", \"Man\", \"Man\", \"Man\", \"Man\", \"Man\", \"Man\", \"Woman\", \"Man\", \"Man\", \"Man\", \"Man\", \"Man\", \"Prefer to self-describe\", \"Woman\", \"Man\", \"Man\", \"Man\", \"Man\", \"Man\", \"Man\", \"Man\", \"Man\", \"Man\", \"Man\", \"Man\", \"Woman\", \"Man\", \"Man\", \"Woman\", \"Woman\", \"Man\", \"Man\", \"Prefer not to say\", \"Woman\", \"Woman\", \"Man\", \"Man\", \"Man\", \"Man\", \"Woman\", \"Man\", \"Man\", \"Man\", \"Man\", \"Man\", \"Man\", \"Man\", \"Man\", \"Man\", \"Man\", \"Man\", \"Man\", \"Man\", \"Man\", \"Man\", \"Man\", \"Man\", \"Woman\", \"Man\", \"Man\", \"Man\", \"Man\", \"Woman\", \"Woman\", \"Man\", \"Man\", \"Man\", \"Man\", \"Woman\", \"Woman\", \"Prefer not to say\", \"Man\", \"Man\", \"Man\", \"Man\", \"Man\", \"Woman\", \"Man\", \"Man\", \"Man\", \"Man\", \"Man\", \"Man\", \"Man\", \"Man\", \"Man\", \"Man\", \"Man\", \"Man\", \"Woman\", \"Man\", \"Man\", \"Man\", \"Man\", \"Man\", \"Man\", \"Man\", \"Man\", \"Man\", \"Man\", \"Man\", \"Man\", \"Woman\", \"Woman\", \"Man\", \"Man\", \"Man\", \"Man\", \"Prefer to self-describe\", \"Man\", \"Man\", \"Man\", \"Woman\", \"Man\", \"Man\", \"Man\", \"Man\", \"Man\", \"Man\", \"Man\", \"Man\", \"Man\", \"Man\", \"Woman\", \"Man\", \"Man\", \"Man\", \"Man\", \"Man\", \"Man\", \"Woman\", \"Man\", \"Woman\", \"Woman\", \"Man\", \"Man\", \"Man\", \"Man\", \"Man\", \"Man\", \"Man\", \"Woman\", \"Man\", \"Woman\", \"Man\", \"Man\", \"Man\", \"Woman\", \"Man\", \"Man\", \"Woman\", \"Man\", \"Woman\", \"Woman\", \"Man\", \"Nonbinary\", \"Man\", \"Woman\", \"Man\", \"Woman\", \"Man\", \"Man\", \"Man\", \"Man\", \"Man\", \"Man\", \"Man\", \"Man\", \"Man\", \"Man\", \"Man\", \"Man\", \"Man\", \"Man\", \"Woman\", \"Woman\", \"Woman\", \"Man\", \"Woman\", \"Man\", \"Man\", \"Man\", \"Man\", \"Man\", \"Man\", \"Man\", \"Man\", \"Woman\", \"Woman\", \"Man\", \"Man\", \"Man\", \"Man\", \"Man\", \"Man\", \"Man\", \"Man\", \"Man\", \"Woman\", \"Man\", \"Man\", \"Man\", \"Man\", \"Man\", \"Man\", \"Man\", \"Man\", \"Man\", \"Woman\", \"Woman\", \"Man\", \"Man\", \"Man\", \"Man\", \"Man\", \"Man\", \"Woman\", \"Man\", \"Man\", \"Man\", \"Man\", \"Woman\", \"Man\", \"Man\", \"Man\", \"Man\", \"Man\", \"Man\", \"Man\", \"Man\", \"Woman\", \"Man\", \"Man\", \"Man\", \"Man\", \"Man\", \"Woman\", \"Man\", \"Man\", \"Man\", \"Woman\", \"Man\", \"Man\", \"Man\", \"Man\", \"Man\", \"Man\", \"Woman\", \"Man\", \"Man\", \"Man\", \"Man\", \"Man\", \"Man\", \"Man\", \"Woman\", \"Man\", \"Man\", \"Man\", \"Man\", \"Woman\", \"Man\", \"Man\", \"Man\", \"Man\", \"Man\", \"Man\", \"Man\", \"Man\", \"Man\", \"Man\", \"Man\", \"Man\", \"Man\", \"Man\", \"Woman\", \"Man\", \"Nonbinary\", \"Woman\", \"Woman\", \"Prefer not to say\", \"Man\", \"Man\", \"Man\", \"Man\", \"Man\", \"Man\", \"Man\", \"Prefer not to say\", \"Man\", \"Man\", \"Prefer not to say\", \"Woman\", \"Woman\", \"Man\", \"Man\", \"Man\", \"Man\", \"Man\", \"Man\", \"Man\", \"Prefer not to say\", \"Man\", \"Man\", \"Man\", \"Man\", \"Man\", \"Man\", \"Man\", \"Prefer not to say\", \"Man\", \"Man\", \"Prefer not to say\", \"Man\", \"Man\", \"Man\", \"Woman\", \"Man\", \"Man\", \"Man\", \"Man\", \"Man\", \"Man\", \"Man\", \"Woman\", \"Man\", \"Man\", \"Man\", \"Prefer not to say\", \"Man\", \"Man\", \"Man\", \"Man\", \"Man\", \"Man\", \"Woman\", \"Man\", \"Man\", \"Man\", \"Woman\", \"Man\", \"Man\", \"Man\", \"Man\", \"Man\", \"Woman\", \"Man\", \"Man\", \"Man\", \"Man\", \"Man\", \"Man\", \"Woman\", \"Man\", \"Man\", \"Man\", \"Woman\", \"Man\", \"Woman\", \"Woman\", \"Man\", \"Man\", \"Man\", \"Man\", \"Man\", \"Man\", \"Man\", \"Man\", \"Man\", \"Man\", \"Man\", \"Man\", \"Man\", \"Prefer to self-describe\", \"Man\", \"Man\", \"Man\", \"Man\", \"Man\", \"Woman\", \"Woman\", \"Man\", \"Man\", \"Man\", \"Man\", \"Man\", \"Woman\", \"Man\", \"Man\", \"Man\", \"Woman\", \"Woman\", \"Man\", \"Man\", \"Woman\", \"Man\", \"Man\", \"Man\", \"Man\", \"Woman\", \"Man\", \"Man\", \"Man\", \"Man\", \"Man\", \"Man\", \"Man\", \"Man\", \"Man\", \"Woman\", \"Man\", \"Man\", \"Man\", \"Man\", \"Woman\", \"Woman\", \"Man\", \"Man\", \"Man\", \"Man\", \"Man\", \"Man\", \"Man\", \"Woman\", \"Man\", \"Man\", \"Man\", \"Man\", \"Man\", \"Woman\", \"Man\", \"Man\", \"Man\", \"Man\", \"Man\", \"Man\", \"Woman\", \"Man\", \"Man\", \"Man\", \"Man\", \"Man\", \"Prefer not to say\", \"Man\", \"Man\", \"Man\", \"Woman\", \"Man\", \"Man\", \"Man\", \"Man\", \"Man\", \"Man\", \"Man\", \"Man\", \"Man\", \"Man\", \"Man\", \"Man\", \"Man\", \"Man\", \"Man\", \"Man\", \"Man\", \"Man\", \"Woman\", \"Man\", \"Man\", \"Woman\", \"Man\", \"Woman\", \"Woman\", \"Man\", \"Man\", \"Prefer not to say\", \"Woman\", \"Woman\", \"Man\", \"Man\", \"Man\", \"Man\", \"Man\", \"Man\", \"Woman\", \"Man\", \"Woman\", \"Man\", \"Woman\", \"Man\", \"Man\", \"Man\", \"Man\", \"Man\", \"Woman\", \"Woman\", \"Man\", \"Woman\", \"Man\", \"Man\", \"Man\", \"Man\", \"Man\", \"Woman\", \"Man\", \"Prefer not to say\", \"Man\", \"Woman\", \"Woman\", \"Man\", \"Man\", \"Man\", \"Man\", \"Man\", \"Man\", \"Man\", \"Woman\", \"Man\", \"Woman\", \"Man\", \"Man\", \"Woman\", \"Man\", \"Man\", \"Woman\", \"Man\", \"Man\", \"Woman\", \"Man\", \"Man\", \"Man\", \"Man\", \"Man\", \"Man\", \"Man\", \"Man\", \"Man\", \"Man\", \"Woman\", \"Man\", \"Man\", \"Man\", \"Woman\", \"Man\", \"Prefer not to say\", \"Woman\", \"Man\", \"Man\", \"Man\", \"Woman\", \"Man\", \"Woman\", \"Man\", \"Man\", \"Man\", \"Woman\", \"Man\", \"Man\", \"Man\", \"Man\", \"Man\", \"Man\", \"Man\", \"Man\", \"Man\", \"Man\", \"Woman\", \"Man\", \"Man\", \"Woman\", \"Man\", \"Man\", \"Man\", \"Woman\", \"Man\", \"Man\", \"Woman\", \"Prefer not to say\", \"Man\", \"Man\", \"Man\", \"Man\", \"Woman\", \"Man\", \"Woman\", \"Man\", \"Woman\", \"Man\", \"Woman\", \"Man\", \"Man\", \"Man\", \"Man\", \"Woman\", \"Man\", \"Man\", \"Woman\", \"Man\", \"Man\", \"Man\", \"Man\", \"Man\", \"Man\", \"Man\", \"Man\", \"Woman\", \"Man\", \"Man\", \"Man\", \"Man\", \"Man\", \"Man\", \"Man\", \"Man\", \"Man\", \"Man\", \"Man\", \"Man\", \"Woman\", \"Man\", \"Woman\", \"Man\", \"Woman\", \"Man\", \"Woman\", \"Man\", \"Man\", \"Woman\", \"Man\", \"Man\", \"Man\", \"Man\", \"Man\", \"Man\", \"Man\", \"Man\", \"Man\", \"Man\", \"Man\", \"Man\", \"Man\", \"Prefer not to say\", \"Man\", \"Man\", \"Man\", \"Man\", \"Man\", \"Man\", \"Man\", \"Man\", \"Nonbinary\", \"Woman\", \"Man\", \"Man\", \"Man\", \"Man\", \"Man\", \"Man\", \"Woman\", \"Man\", \"Man\", \"Man\", \"Man\", \"Man\", \"Man\", \"Man\", \"Man\", \"Man\", \"Man\", \"Man\", \"Man\", \"Man\", \"Man\", \"Woman\", \"Man\", \"Man\", \"Man\", \"Woman\", \"Man\", \"Man\", \"Man\", \"Man\", \"Woman\", \"Man\", \"Man\", \"Prefer not to say\", \"Man\", \"Man\", \"Man\", \"Woman\", \"Man\", \"Man\", \"Woman\", \"Man\", \"Man\", \"Woman\", \"Woman\", \"Man\", \"Man\", \"Man\", \"Man\", \"Man\", \"Man\", \"Man\", \"Woman\", \"Man\", \"Man\", \"Woman\", \"Man\", \"Man\", \"Man\", \"Man\", \"Man\", \"Man\", \"Man\", \"Man\", \"Man\", \"Man\", \"Man\", \"Man\", \"Man\", \"Woman\", \"Man\", \"Man\", \"Man\", \"Man\", \"Man\", \"Man\", \"Man\", \"Man\", \"Nonbinary\", \"Man\", \"Woman\", \"Man\", \"Woman\", \"Man\", \"Man\", \"Man\", \"Man\", \"Man\", \"Man\", \"Man\", \"Man\", \"Man\", \"Man\", \"Man\", \"Man\", \"Woman\", \"Woman\", \"Woman\", \"Man\", \"Man\", \"Man\", \"Man\", \"Man\", \"Woman\", \"Man\", \"Man\", \"Man\", \"Man\", \"Man\", \"Man\", \"Woman\", \"Man\", \"Man\", \"Man\", \"Woman\", \"Man\", \"Man\", \"Man\", \"Man\", \"Woman\", \"Man\", \"Man\", \"Man\", \"Man\", \"Man\", \"Woman\", \"Man\", \"Woman\", \"Man\", \"Woman\", \"Woman\", \"Man\", \"Man\", \"Man\", \"Man\", \"Man\", \"Man\", \"Woman\", \"Man\", \"Man\", \"Man\", \"Man\", \"Woman\", \"Woman\", \"Man\", \"Woman\", \"Man\", \"Man\", \"Man\", \"Man\", \"Man\", \"Man\", \"Man\", \"Man\", \"Man\", \"Woman\", \"Woman\", \"Man\", \"Man\", \"Woman\", \"Man\", \"Man\", \"Man\", \"Man\", \"Woman\", \"Man\", \"Man\", \"Woman\", \"Man\", \"Man\", \"Man\", \"Man\", \"Man\", \"Man\", \"Man\", \"Woman\", \"Man\", \"Man\", \"Man\", \"Woman\", \"Man\", \"Man\", \"Man\", \"Man\", \"Man\", \"Man\", \"Man\", \"Woman\", \"Man\", \"Man\", \"Man\", \"Man\", \"Man\", \"Man\", \"Man\", \"Woman\", \"Man\", \"Man\", \"Man\", \"Woman\", \"Man\", \"Man\", \"Man\", \"Man\", \"Man\", \"Man\", \"Man\", \"Man\", \"Man\", \"Man\", \"Man\", \"Man\", \"Man\", \"Prefer not to say\", \"Woman\", \"Woman\", \"Man\", \"Man\", \"Woman\", \"Man\", \"Man\", \"Prefer not to say\", \"Man\", \"Woman\", \"Man\", \"Woman\", \"Man\", \"Man\", \"Man\", \"Man\", \"Man\", \"Man\", \"Man\", \"Woman\", \"Woman\", \"Man\", \"Man\", \"Man\", \"Man\", \"Man\", \"Woman\", \"Man\", \"Man\", \"Woman\", \"Man\", \"Man\", \"Man\", \"Man\", \"Nonbinary\", \"Man\", \"Man\", \"Woman\", \"Woman\", \"Man\", \"Man\", \"Man\", \"Man\", \"Man\", \"Man\", \"Man\", \"Man\", \"Man\", \"Man\", \"Man\", \"Woman\", \"Man\", \"Woman\", \"Man\", \"Man\", \"Man\", \"Man\", \"Man\", \"Man\", \"Man\", \"Woman\", \"Woman\", \"Man\", \"Man\", \"Woman\", \"Man\", \"Man\", \"Man\", \"Man\", \"Man\", \"Man\", \"Man\", \"Man\", \"Man\", \"Man\", \"Man\", \"Man\", \"Man\", \"Man\", \"Man\", \"Man\", \"Woman\", \"Man\", \"Man\", \"Man\", \"Man\", \"Man\", \"Man\", \"Prefer not to say\", \"Man\", \"Woman\", \"Man\", \"Man\", \"Man\", \"Man\", \"Man\", \"Man\", \"Man\", \"Man\", \"Man\", \"Man\", \"Man\", \"Woman\", \"Man\", \"Woman\", \"Woman\", \"Man\", \"Man\", \"Man\", \"Man\", \"Man\", \"Man\", \"Man\", \"Man\", \"Man\", \"Man\", \"Man\", \"Man\", \"Man\", \"Man\", \"Man\", \"Man\", \"Woman\", \"Man\", \"Man\", \"Man\", \"Man\", \"Man\", \"Man\", \"Woman\", \"Woman\", \"Man\", \"Man\", \"Man\", \"Man\", \"Woman\", \"Man\", \"Man\", \"Woman\", \"Man\", \"Man\", \"Man\", \"Woman\", \"Woman\", \"Man\", \"Man\", \"Man\", \"Woman\", \"Woman\", \"Man\", \"Man\", \"Man\", \"Man\", \"Man\", \"Man\", \"Woman\", \"Man\", \"Man\", \"Woman\", \"Man\", \"Man\", \"Man\", \"Man\", \"Man\", \"Man\", \"Woman\", \"Woman\", \"Man\", \"Woman\", \"Man\", \"Man\", \"Woman\", \"Man\", \"Man\", \"Man\", \"Man\", \"Man\", \"Woman\", \"Man\", \"Man\", \"Man\", \"Man\", \"Man\", \"Man\", \"Man\", \"Man\", \"Man\", \"Woman\", \"Man\", \"Man\", \"Man\", \"Man\", \"Woman\", \"Man\", \"Man\", \"Man\", \"Man\", \"Woman\", \"Man\", \"Man\", \"Man\", \"Man\", \"Man\", \"Man\", \"Man\", \"Man\", \"Man\", \"Man\", \"Woman\", \"Man\", \"Man\", \"Man\", \"Man\", \"Man\", \"Man\", \"Man\", \"Man\", \"Man\", \"Woman\", \"Man\", \"Man\", \"Woman\", \"Man\", \"Man\", \"Man\", \"Man\", \"Man\", \"Man\", \"Man\", \"Man\", \"Man\", \"Man\", \"Man\", \"Man\", \"Woman\", \"Woman\", \"Man\", \"Man\", \"Man\", \"Man\", \"Man\", \"Man\", \"Man\", \"Man\", \"Man\", \"Man\", \"Man\", \"Woman\", \"Man\", \"Man\", \"Man\", \"Man\", \"Man\", \"Man\", \"Man\", \"Man\", \"Prefer to self-describe\", \"Man\", \"Man\", \"Man\", \"Woman\", \"Man\", \"Man\", \"Man\", \"Man\", \"Man\", \"Man\", \"Man\", \"Man\", \"Woman\", \"Woman\", \"Man\", \"Man\", \"Man\", \"Woman\", \"Man\", \"Man\", \"Woman\", \"Man\", \"Man\", \"Man\", \"Man\", \"Man\", \"Woman\", \"Man\", \"Woman\", \"Man\", \"Man\", \"Man\", \"Woman\", \"Man\", \"Man\", \"Man\", \"Woman\", \"Man\", \"Man\", \"Man\", \"Man\", \"Man\", \"Woman\", \"Woman\", \"Man\", \"Man\", \"Man\", \"Man\", \"Woman\", \"Man\", \"Man\", \"Man\", \"Man\", \"Man\", \"Man\", \"Man\", \"Man\", \"Woman\", \"Man\", \"Man\", \"Woman\", \"Man\", \"Man\", \"Man\", \"Man\", \"Man\", \"Man\", \"Man\", \"Woman\", \"Man\", \"Man\", \"Man\", \"Man\", \"Man\", \"Woman\", \"Man\", \"Man\", \"Man\", \"Man\", \"Man\", \"Man\", \"Man\", \"Man\", \"Woman\", \"Man\", \"Man\", \"Man\", \"Man\", \"Woman\", \"Man\", \"Man\", \"Woman\", \"Woman\", \"Man\", \"Man\", \"Man\", \"Woman\", \"Man\", \"Man\", \"Man\", \"Man\", \"Man\", \"Man\", \"Man\", \"Man\", \"Man\", \"Woman\", \"Woman\", \"Man\", \"Man\", \"Man\", \"Woman\", \"Man\", \"Man\", \"Man\", \"Man\", \"Man\", \"Man\", \"Man\", \"Man\", \"Woman\", \"Man\", \"Man\", \"Man\", \"Man\", \"Man\", \"Man\", \"Man\", \"Woman\", \"Man\", \"Man\", \"Man\", \"Man\", \"Man\", \"Woman\", \"Man\", \"Man\", \"Man\", \"Man\", \"Man\", \"Man\", \"Man\", \"Man\", \"Man\", \"Man\", \"Man\", \"Man\", \"Man\", \"Woman\", \"Man\", \"Man\", \"Woman\", \"Woman\", \"Man\", \"Man\", \"Man\", \"Prefer not to say\", \"Man\", \"Man\", \"Man\", \"Man\", \"Man\", \"Woman\", \"Man\", \"Man\", \"Man\", \"Man\", \"Man\", \"Man\", \"Man\", \"Man\", \"Man\", \"Woman\", \"Man\", \"Man\", \"Man\", \"Man\", \"Man\", \"Man\", \"Woman\", \"Man\", \"Woman\", \"Man\", \"Man\", \"Man\", \"Woman\", \"Woman\", \"Man\", \"Woman\", \"Man\", \"Man\", \"Man\", \"Woman\", \"Man\", \"Man\", \"Man\", \"Man\", \"Man\", \"Man\", \"Woman\", \"Man\", \"Man\", \"Woman\", \"Woman\", \"Woman\", \"Woman\", \"Woman\", \"Woman\", \"Man\", \"Man\", \"Man\", \"Man\", \"Man\", \"Woman\", \"Man\", \"Man\", \"Man\", \"Man\", \"Man\", \"Man\", \"Man\", \"Man\", \"Woman\", \"Man\", \"Woman\", \"Man\", \"Man\", \"Man\", \"Man\", \"Man\", \"Man\", \"Woman\", \"Woman\", \"Man\", \"Man\", \"Man\", \"Man\", \"Woman\", \"Man\", \"Woman\", \"Woman\", \"Man\", \"Man\", \"Man\", \"Man\", \"Woman\", \"Man\", \"Man\", \"Man\", \"Man\", \"Man\", \"Man\", \"Man\", \"Man\", \"Man\", \"Man\", \"Man\", \"Man\", \"Man\", \"Man\", \"Man\", \"Man\", \"Man\", \"Man\", \"Man\", \"Man\", \"Man\", \"Man\", \"Man\", \"Woman\", \"Man\", \"Woman\", \"Man\", \"Man\", \"Woman\", \"Man\", \"Man\", \"Man\", \"Woman\", \"Man\", \"Man\", \"Man\", \"Man\", \"Man\", \"Man\", \"Man\", \"Prefer to self-describe\", \"Man\", \"Woman\", \"Man\", \"Man\", \"Woman\", \"Man\", \"Man\", \"Woman\", \"Woman\", \"Woman\", \"Woman\", \"Man\", \"Man\", \"Man\", \"Man\", \"Woman\", \"Man\", \"Woman\", \"Man\", \"Woman\", \"Man\", \"Woman\", \"Woman\", \"Man\", \"Woman\", \"Man\", \"Man\", \"Woman\", \"Man\", \"Man\", \"Man\", \"Man\", \"Man\", \"Man\", \"Man\", \"Man\", \"Woman\", \"Man\", \"Woman\", \"Woman\", \"Man\", \"Man\", \"Man\", \"Man\", \"Man\", \"Man\", \"Man\", \"Man\", \"Man\", \"Man\", \"Man\", \"Man\", \"Man\", \"Man\", \"Man\", \"Man\", \"Man\", \"Man\", \"Man\", \"Man\", \"Prefer not to say\", \"Man\", \"Man\", \"Man\", \"Man\", \"Man\", \"Woman\", \"Woman\", \"Man\", \"Man\", \"Man\", \"Woman\", \"Man\", \"Man\", \"Man\", \"Man\", \"Man\", \"Man\", \"Man\", \"Man\", \"Woman\", \"Man\", \"Man\", \"Man\", \"Woman\", \"Woman\", \"Man\", \"Man\", \"Man\", \"Man\", \"Woman\", \"Woman\", \"Woman\", \"Man\", \"Man\", \"Man\", \"Man\", \"Man\", \"Man\", \"Man\", \"Man\", \"Man\", \"Man\", \"Man\", \"Woman\", \"Man\", \"Man\", \"Man\", \"Man\", \"Man\", \"Man\", \"Man\", \"Man\", \"Man\", \"Man\", \"Man\", \"Man\", \"Man\", \"Man\", \"Man\", \"Man\", \"Woman\", \"Woman\", \"Man\", \"Man\", \"Man\", \"Man\", \"Man\", \"Man\", \"Man\", \"Man\", \"Man\", \"Woman\", \"Man\", \"Man\", \"Man\", \"Woman\", \"Woman\", \"Man\", \"Man\", \"Man\", \"Man\", \"Man\", \"Man\", \"Man\", \"Man\", \"Man\", \"Man\", \"Man\", \"Man\", \"Man\", \"Man\", \"Man\", \"Man\", \"Man\", \"Man\", \"Man\", \"Man\", \"Man\", \"Woman\", \"Man\", \"Prefer not to say\", \"Man\", \"Man\", \"Woman\", \"Man\", \"Woman\", \"Man\", \"Man\", \"Woman\", \"Man\", \"Man\", \"Man\", \"Man\", \"Man\", \"Man\", \"Woman\", \"Woman\", \"Woman\", \"Prefer not to say\", \"Man\", \"Man\", \"Man\", \"Man\", \"Man\", \"Woman\", \"Woman\", \"Man\", \"Man\", \"Man\", \"Woman\", \"Woman\", \"Man\", \"Man\", \"Man\", \"Man\", \"Man\", \"Man\", \"Man\", \"Man\", \"Man\", \"Prefer not to say\", \"Man\", \"Man\", \"Man\", \"Man\", \"Man\", \"Man\", \"Man\", \"Man\", \"Woman\", \"Man\", \"Man\", \"Man\", \"Man\", \"Man\", \"Woman\", \"Man\", \"Man\", \"Woman\", \"Woman\", \"Man\", \"Man\", \"Man\", \"Woman\", \"Man\", \"Man\", \"Man\", \"Man\", \"Man\", \"Man\", \"Man\", \"Man\", \"Man\", \"Man\", \"Woman\", \"Man\", \"Man\", \"Man\", \"Woman\", \"Man\", \"Man\", \"Man\", \"Man\", \"Woman\", \"Man\", \"Man\", \"Man\", \"Woman\", \"Woman\", \"Man\", \"Woman\", \"Man\", \"Man\", \"Man\", \"Man\", \"Man\", \"Man\", \"Man\", \"Man\", \"Man\", \"Man\", \"Woman\", \"Man\", \"Man\", \"Man\", \"Man\", \"Man\", \"Man\", \"Man\", \"Man\", \"Man\", \"Man\", \"Man\", \"Man\", \"Man\", \"Man\", \"Woman\", \"Man\", \"Man\", \"Man\", \"Man\", \"Man\", \"Man\", \"Man\", \"Man\", \"Man\", \"Woman\", \"Man\", \"Man\", \"Man\", \"Man\", \"Man\", \"Woman\", \"Woman\", \"Man\", \"Prefer not to say\", \"Man\", \"Man\", \"Prefer not to say\", \"Woman\", \"Man\", \"Man\", \"Man\", \"Man\", \"Man\", \"Woman\", \"Man\", \"Man\", \"Man\", \"Man\", \"Man\", \"Woman\", \"Man\", \"Man\", \"Man\"], \"legendgroup\": \"\", \"name\": \"\", \"showlegend\": true, \"textinfo\": \"percent+label\", \"textposition\": \"inside\", \"type\": \"pie\"}],\n",
              "                        {\"autosize\": true, \"legend\": {\"tracegroupgap\": 0}, \"piecolorway\": [\"rgb(79, 144, 166)\", \"rgb(104, 171, 184)\", \"rgb(133, 196, 201)\", \"rgb(168, 219, 217)\", \"rgb(209, 238, 234)\"], \"template\": {\"data\": {\"bar\": [{\"error_x\": {\"color\": \"rgb(36,36,36)\"}, \"error_y\": {\"color\": \"rgb(36,36,36)\"}, \"marker\": {\"line\": {\"color\": \"rgb(234,234,242)\", \"width\": 0.5}}, \"type\": \"bar\"}], \"barpolar\": [{\"marker\": {\"line\": {\"color\": \"rgb(234,234,242)\", \"width\": 0.5}}, \"type\": \"barpolar\"}], \"carpet\": [{\"aaxis\": {\"endlinecolor\": \"rgb(36,36,36)\", \"gridcolor\": \"white\", \"linecolor\": \"white\", \"minorgridcolor\": \"white\", \"startlinecolor\": \"rgb(36,36,36)\"}, \"baxis\": {\"endlinecolor\": \"rgb(36,36,36)\", \"gridcolor\": \"white\", \"linecolor\": \"white\", \"minorgridcolor\": \"white\", \"startlinecolor\": \"rgb(36,36,36)\"}, \"type\": \"carpet\"}], \"choropleth\": [{\"colorbar\": {\"outlinewidth\": 0, \"tickcolor\": \"rgb(36,36,36)\", \"ticklen\": 8, \"ticks\": \"outside\", \"tickwidth\": 2}, \"type\": \"choropleth\"}], \"contour\": [{\"colorbar\": {\"outlinewidth\": 0, \"tickcolor\": \"rgb(36,36,36)\", \"ticklen\": 8, \"ticks\": \"outside\", \"tickwidth\": 2}, \"colorscale\": [[0.0, \"rgb(2,4,25)\"], [0.06274509803921569, \"rgb(24,15,41)\"], [0.12549019607843137, \"rgb(47,23,57)\"], [0.18823529411764706, \"rgb(71,28,72)\"], [0.25098039215686274, \"rgb(97,30,82)\"], [0.3137254901960784, \"rgb(123,30,89)\"], [0.3764705882352941, \"rgb(150,27,91)\"], [0.4392156862745098, \"rgb(177,22,88)\"], [0.5019607843137255, \"rgb(203,26,79)\"], [0.5647058823529412, \"rgb(223,47,67)\"], [0.6274509803921569, \"rgb(236,76,61)\"], [0.6901960784313725, \"rgb(242,107,73)\"], [0.7529411764705882, \"rgb(244,135,95)\"], [0.8156862745098039, \"rgb(245,162,122)\"], [0.8784313725490196, \"rgb(246,188,153)\"], [0.9411764705882353, \"rgb(247,212,187)\"], [1.0, \"rgb(250,234,220)\"]], \"type\": \"contour\"}], \"contourcarpet\": [{\"colorbar\": {\"outlinewidth\": 0, \"tickcolor\": \"rgb(36,36,36)\", \"ticklen\": 8, \"ticks\": \"outside\", \"tickwidth\": 2}, \"type\": \"contourcarpet\"}], \"heatmap\": [{\"colorbar\": {\"outlinewidth\": 0, \"tickcolor\": \"rgb(36,36,36)\", \"ticklen\": 8, \"ticks\": \"outside\", \"tickwidth\": 2}, \"colorscale\": [[0.0, \"rgb(2,4,25)\"], [0.06274509803921569, \"rgb(24,15,41)\"], [0.12549019607843137, \"rgb(47,23,57)\"], [0.18823529411764706, \"rgb(71,28,72)\"], [0.25098039215686274, \"rgb(97,30,82)\"], [0.3137254901960784, \"rgb(123,30,89)\"], [0.3764705882352941, \"rgb(150,27,91)\"], [0.4392156862745098, \"rgb(177,22,88)\"], [0.5019607843137255, \"rgb(203,26,79)\"], [0.5647058823529412, \"rgb(223,47,67)\"], [0.6274509803921569, \"rgb(236,76,61)\"], [0.6901960784313725, \"rgb(242,107,73)\"], [0.7529411764705882, \"rgb(244,135,95)\"], [0.8156862745098039, \"rgb(245,162,122)\"], [0.8784313725490196, \"rgb(246,188,153)\"], [0.9411764705882353, \"rgb(247,212,187)\"], [1.0, \"rgb(250,234,220)\"]], \"type\": \"heatmap\"}], \"heatmapgl\": [{\"colorbar\": {\"outlinewidth\": 0, \"tickcolor\": \"rgb(36,36,36)\", \"ticklen\": 8, \"ticks\": \"outside\", \"tickwidth\": 2}, \"colorscale\": [[0.0, \"rgb(2,4,25)\"], [0.06274509803921569, \"rgb(24,15,41)\"], [0.12549019607843137, \"rgb(47,23,57)\"], [0.18823529411764706, \"rgb(71,28,72)\"], [0.25098039215686274, \"rgb(97,30,82)\"], [0.3137254901960784, \"rgb(123,30,89)\"], [0.3764705882352941, \"rgb(150,27,91)\"], [0.4392156862745098, \"rgb(177,22,88)\"], [0.5019607843137255, \"rgb(203,26,79)\"], [0.5647058823529412, \"rgb(223,47,67)\"], [0.6274509803921569, \"rgb(236,76,61)\"], [0.6901960784313725, \"rgb(242,107,73)\"], [0.7529411764705882, \"rgb(244,135,95)\"], [0.8156862745098039, \"rgb(245,162,122)\"], [0.8784313725490196, \"rgb(246,188,153)\"], [0.9411764705882353, \"rgb(247,212,187)\"], [1.0, \"rgb(250,234,220)\"]], \"type\": \"heatmapgl\"}], \"histogram\": [{\"marker\": {\"colorbar\": {\"outlinewidth\": 0, \"tickcolor\": \"rgb(36,36,36)\", \"ticklen\": 8, \"ticks\": \"outside\", \"tickwidth\": 2}}, \"type\": \"histogram\"}], \"histogram2d\": [{\"colorbar\": {\"outlinewidth\": 0, \"tickcolor\": \"rgb(36,36,36)\", \"ticklen\": 8, \"ticks\": \"outside\", \"tickwidth\": 2}, \"colorscale\": [[0.0, \"rgb(2,4,25)\"], [0.06274509803921569, \"rgb(24,15,41)\"], [0.12549019607843137, \"rgb(47,23,57)\"], [0.18823529411764706, \"rgb(71,28,72)\"], [0.25098039215686274, \"rgb(97,30,82)\"], [0.3137254901960784, \"rgb(123,30,89)\"], [0.3764705882352941, \"rgb(150,27,91)\"], [0.4392156862745098, \"rgb(177,22,88)\"], [0.5019607843137255, \"rgb(203,26,79)\"], [0.5647058823529412, \"rgb(223,47,67)\"], [0.6274509803921569, \"rgb(236,76,61)\"], [0.6901960784313725, \"rgb(242,107,73)\"], [0.7529411764705882, \"rgb(244,135,95)\"], [0.8156862745098039, \"rgb(245,162,122)\"], [0.8784313725490196, \"rgb(246,188,153)\"], [0.9411764705882353, \"rgb(247,212,187)\"], [1.0, \"rgb(250,234,220)\"]], \"type\": \"histogram2d\"}], \"histogram2dcontour\": [{\"colorbar\": {\"outlinewidth\": 0, \"tickcolor\": \"rgb(36,36,36)\", \"ticklen\": 8, \"ticks\": \"outside\", \"tickwidth\": 2}, \"colorscale\": [[0.0, \"rgb(2,4,25)\"], [0.06274509803921569, \"rgb(24,15,41)\"], [0.12549019607843137, \"rgb(47,23,57)\"], [0.18823529411764706, \"rgb(71,28,72)\"], [0.25098039215686274, \"rgb(97,30,82)\"], [0.3137254901960784, \"rgb(123,30,89)\"], [0.3764705882352941, \"rgb(150,27,91)\"], [0.4392156862745098, \"rgb(177,22,88)\"], [0.5019607843137255, \"rgb(203,26,79)\"], [0.5647058823529412, \"rgb(223,47,67)\"], [0.6274509803921569, \"rgb(236,76,61)\"], [0.6901960784313725, \"rgb(242,107,73)\"], [0.7529411764705882, \"rgb(244,135,95)\"], [0.8156862745098039, \"rgb(245,162,122)\"], [0.8784313725490196, \"rgb(246,188,153)\"], [0.9411764705882353, \"rgb(247,212,187)\"], [1.0, \"rgb(250,234,220)\"]], \"type\": \"histogram2dcontour\"}], \"mesh3d\": [{\"colorbar\": {\"outlinewidth\": 0, \"tickcolor\": \"rgb(36,36,36)\", \"ticklen\": 8, \"ticks\": \"outside\", \"tickwidth\": 2}, \"type\": \"mesh3d\"}], \"parcoords\": [{\"line\": {\"colorbar\": {\"outlinewidth\": 0, \"tickcolor\": \"rgb(36,36,36)\", \"ticklen\": 8, \"ticks\": \"outside\", \"tickwidth\": 2}}, \"type\": \"parcoords\"}], \"pie\": [{\"automargin\": true, \"type\": \"pie\"}], \"scatter\": [{\"marker\": {\"colorbar\": {\"outlinewidth\": 0, \"tickcolor\": \"rgb(36,36,36)\", \"ticklen\": 8, \"ticks\": \"outside\", \"tickwidth\": 2}}, \"type\": \"scatter\"}], \"scatter3d\": [{\"line\": {\"colorbar\": {\"outlinewidth\": 0, \"tickcolor\": \"rgb(36,36,36)\", \"ticklen\": 8, \"ticks\": \"outside\", \"tickwidth\": 2}}, \"marker\": {\"colorbar\": {\"outlinewidth\": 0, \"tickcolor\": \"rgb(36,36,36)\", \"ticklen\": 8, \"ticks\": \"outside\", \"tickwidth\": 2}}, \"type\": \"scatter3d\"}], \"scattercarpet\": [{\"marker\": {\"colorbar\": {\"outlinewidth\": 0, \"tickcolor\": \"rgb(36,36,36)\", \"ticklen\": 8, \"ticks\": \"outside\", \"tickwidth\": 2}}, \"type\": \"scattercarpet\"}], \"scattergeo\": [{\"marker\": {\"colorbar\": {\"outlinewidth\": 0, \"tickcolor\": \"rgb(36,36,36)\", \"ticklen\": 8, \"ticks\": \"outside\", \"tickwidth\": 2}}, \"type\": \"scattergeo\"}], \"scattergl\": [{\"marker\": {\"colorbar\": {\"outlinewidth\": 0, \"tickcolor\": \"rgb(36,36,36)\", \"ticklen\": 8, \"ticks\": \"outside\", \"tickwidth\": 2}}, \"type\": \"scattergl\"}], \"scattermapbox\": [{\"marker\": {\"colorbar\": {\"outlinewidth\": 0, \"tickcolor\": \"rgb(36,36,36)\", \"ticklen\": 8, \"ticks\": \"outside\", \"tickwidth\": 2}}, \"type\": \"scattermapbox\"}], \"scatterpolar\": [{\"marker\": {\"colorbar\": {\"outlinewidth\": 0, \"tickcolor\": \"rgb(36,36,36)\", \"ticklen\": 8, \"ticks\": \"outside\", \"tickwidth\": 2}}, \"type\": \"scatterpolar\"}], \"scatterpolargl\": [{\"marker\": {\"colorbar\": {\"outlinewidth\": 0, \"tickcolor\": \"rgb(36,36,36)\", \"ticklen\": 8, \"ticks\": \"outside\", \"tickwidth\": 2}}, \"type\": \"scatterpolargl\"}], \"scatterternary\": [{\"marker\": {\"colorbar\": {\"outlinewidth\": 0, \"tickcolor\": \"rgb(36,36,36)\", \"ticklen\": 8, \"ticks\": \"outside\", \"tickwidth\": 2}}, \"type\": \"scatterternary\"}], \"surface\": [{\"colorbar\": {\"outlinewidth\": 0, \"tickcolor\": \"rgb(36,36,36)\", \"ticklen\": 8, \"ticks\": \"outside\", \"tickwidth\": 2}, \"colorscale\": [[0.0, \"rgb(2,4,25)\"], [0.06274509803921569, \"rgb(24,15,41)\"], [0.12549019607843137, \"rgb(47,23,57)\"], [0.18823529411764706, \"rgb(71,28,72)\"], [0.25098039215686274, \"rgb(97,30,82)\"], [0.3137254901960784, \"rgb(123,30,89)\"], [0.3764705882352941, \"rgb(150,27,91)\"], [0.4392156862745098, \"rgb(177,22,88)\"], [0.5019607843137255, \"rgb(203,26,79)\"], [0.5647058823529412, \"rgb(223,47,67)\"], [0.6274509803921569, \"rgb(236,76,61)\"], [0.6901960784313725, \"rgb(242,107,73)\"], [0.7529411764705882, \"rgb(244,135,95)\"], [0.8156862745098039, \"rgb(245,162,122)\"], [0.8784313725490196, \"rgb(246,188,153)\"], [0.9411764705882353, \"rgb(247,212,187)\"], [1.0, \"rgb(250,234,220)\"]], \"type\": \"surface\"}], \"table\": [{\"cells\": {\"fill\": {\"color\": \"rgb(231,231,240)\"}, \"line\": {\"color\": \"white\"}}, \"header\": {\"fill\": {\"color\": \"rgb(183,183,191)\"}, \"line\": {\"color\": \"white\"}}, \"type\": \"table\"}]}, \"layout\": {\"annotationdefaults\": {\"arrowcolor\": \"rgb(67,103,167)\"}, \"coloraxis\": {\"colorbar\": {\"outlinewidth\": 0, \"tickcolor\": \"rgb(36,36,36)\", \"ticklen\": 8, \"ticks\": \"outside\", \"tickwidth\": 2}}, \"colorscale\": {\"sequential\": [[0.0, \"rgb(2,4,25)\"], [0.06274509803921569, \"rgb(24,15,41)\"], [0.12549019607843137, \"rgb(47,23,57)\"], [0.18823529411764706, \"rgb(71,28,72)\"], [0.25098039215686274, \"rgb(97,30,82)\"], [0.3137254901960784, \"rgb(123,30,89)\"], [0.3764705882352941, \"rgb(150,27,91)\"], [0.4392156862745098, \"rgb(177,22,88)\"], [0.5019607843137255, \"rgb(203,26,79)\"], [0.5647058823529412, \"rgb(223,47,67)\"], [0.6274509803921569, \"rgb(236,76,61)\"], [0.6901960784313725, \"rgb(242,107,73)\"], [0.7529411764705882, \"rgb(244,135,95)\"], [0.8156862745098039, \"rgb(245,162,122)\"], [0.8784313725490196, \"rgb(246,188,153)\"], [0.9411764705882353, \"rgb(247,212,187)\"], [1.0, \"rgb(250,234,220)\"]], \"sequentialminus\": [[0.0, \"rgb(2,4,25)\"], [0.06274509803921569, \"rgb(24,15,41)\"], [0.12549019607843137, \"rgb(47,23,57)\"], [0.18823529411764706, \"rgb(71,28,72)\"], [0.25098039215686274, \"rgb(97,30,82)\"], [0.3137254901960784, \"rgb(123,30,89)\"], [0.3764705882352941, \"rgb(150,27,91)\"], [0.4392156862745098, \"rgb(177,22,88)\"], [0.5019607843137255, \"rgb(203,26,79)\"], [0.5647058823529412, \"rgb(223,47,67)\"], [0.6274509803921569, \"rgb(236,76,61)\"], [0.6901960784313725, \"rgb(242,107,73)\"], [0.7529411764705882, \"rgb(244,135,95)\"], [0.8156862745098039, \"rgb(245,162,122)\"], [0.8784313725490196, \"rgb(246,188,153)\"], [0.9411764705882353, \"rgb(247,212,187)\"], [1.0, \"rgb(250,234,220)\"]]}, \"colorway\": [\"rgb(76,114,176)\", \"rgb(221,132,82)\", \"rgb(85,168,104)\", \"rgb(196,78,82)\", \"rgb(129,114,179)\", \"rgb(147,120,96)\", \"rgb(218,139,195)\", \"rgb(140,140,140)\", \"rgb(204,185,116)\", \"rgb(100,181,205)\"], \"font\": {\"color\": \"rgb(36,36,36)\"}, \"geo\": {\"bgcolor\": \"white\", \"lakecolor\": \"white\", \"landcolor\": \"rgb(234,234,242)\", \"showlakes\": true, \"showland\": true, \"subunitcolor\": \"white\"}, \"hoverlabel\": {\"align\": \"left\"}, \"hovermode\": \"closest\", \"paper_bgcolor\": \"white\", \"plot_bgcolor\": \"rgb(234,234,242)\", \"polar\": {\"angularaxis\": {\"gridcolor\": \"white\", \"linecolor\": \"white\", \"showgrid\": true, \"ticks\": \"\"}, \"bgcolor\": \"rgb(234,234,242)\", \"radialaxis\": {\"gridcolor\": \"white\", \"linecolor\": \"white\", \"showgrid\": true, \"ticks\": \"\"}}, \"scene\": {\"xaxis\": {\"backgroundcolor\": \"rgb(234,234,242)\", \"gridcolor\": \"white\", \"gridwidth\": 2, \"linecolor\": \"white\", \"showbackground\": true, \"showgrid\": true, \"ticks\": \"\", \"zerolinecolor\": \"white\"}, \"yaxis\": {\"backgroundcolor\": \"rgb(234,234,242)\", \"gridcolor\": \"white\", \"gridwidth\": 2, \"linecolor\": \"white\", \"showbackground\": true, \"showgrid\": true, \"ticks\": \"\", \"zerolinecolor\": \"white\"}, \"zaxis\": {\"backgroundcolor\": \"rgb(234,234,242)\", \"gridcolor\": \"white\", \"gridwidth\": 2, \"linecolor\": \"white\", \"showbackground\": true, \"showgrid\": true, \"ticks\": \"\", \"zerolinecolor\": \"white\"}}, \"shapedefaults\": {\"fillcolor\": \"rgb(67,103,167)\", \"line\": {\"width\": 0}, \"opacity\": 0.5}, \"ternary\": {\"aaxis\": {\"gridcolor\": \"white\", \"linecolor\": \"white\", \"showgrid\": true, \"ticks\": \"\"}, \"baxis\": {\"gridcolor\": \"white\", \"linecolor\": \"white\", \"showgrid\": true, \"ticks\": \"\"}, \"bgcolor\": \"rgb(234,234,242)\", \"caxis\": {\"gridcolor\": \"white\", \"linecolor\": \"white\", \"showgrid\": true, \"ticks\": \"\"}}, \"xaxis\": {\"automargin\": true, \"gridcolor\": \"white\", \"linecolor\": \"white\", \"showgrid\": true, \"ticks\": \"\", \"title\": {\"standoff\": 15}, \"zerolinecolor\": \"white\"}, \"yaxis\": {\"automargin\": true, \"gridcolor\": \"white\", \"linecolor\": \"white\", \"showgrid\": true, \"ticks\": \"\", \"title\": {\"standoff\": 15}, \"zerolinecolor\": \"white\"}}}, \"title\": {\"text\": \"Gender Distribution\", \"x\": 0.5}},\n",
              "                        {\"responsive\": true}\n",
              "                    ).then(function(){\n",
              "                            \n",
              "var gd = document.getElementById('67467ef5-a421-411f-8867-0d666a739187');\n",
              "var x = new MutationObserver(function (mutations, observer) {{\n",
              "        var display = window.getComputedStyle(gd).display;\n",
              "        if (!display || display === 'none') {{\n",
              "            console.log([gd, 'removed!']);\n",
              "            Plotly.purge(gd);\n",
              "            observer.disconnect();\n",
              "        }}\n",
              "}});\n",
              "\n",
              "// Listen for the removal of the full notebook cells\n",
              "var notebookContainer = gd.closest('#notebook-container');\n",
              "if (notebookContainer) {{\n",
              "    x.observe(notebookContainer, {childList: true});\n",
              "}}\n",
              "\n",
              "// Listen for the clearing of the current output cell\n",
              "var outputEl = gd.closest('.output');\n",
              "if (outputEl) {{\n",
              "    x.observe(outputEl, {childList: true});\n",
              "}}\n",
              "\n",
              "                        })\n",
              "                };\n",
              "                \n",
              "            </script>\n",
              "        </div>\n",
              "</body>\n",
              "</html>"
            ]
          },
          "metadata": {}
        }
      ]
    },
    {
      "cell_type": "markdown",
      "metadata": {
        "id": "nQCISeUT93Tf"
      },
      "source": [
        "Từ biểu đồ piechart trên chúng ta thấy được Nam chiếm 79,8% gần bằng 80 %,nữ chỉ chiếm 19,6% tức là gần 1/5 số người khảo sát -> Như vây, có vẻ như vấn đề giới tính cũng đang rất ảnh hướng tới ngành nghề này."
      ]
    },
    {
      "cell_type": "markdown",
      "metadata": {
        "id": "19JQsgHONpgH"
      },
      "source": [
        "#Q3: Quốc gia "
      ]
    },
    {
      "cell_type": "code",
      "metadata": {
        "colab": {
          "base_uri": "https://localhost:8080/"
        },
        "id": "2s30aAeM9aJF",
        "outputId": "488b817c-eb2b-4dba-817c-a88c055cadb0"
      },
      "source": [
        "df['Q3'].head()"
      ],
      "execution_count": null,
      "outputs": [
        {
          "output_type": "execute_result",
          "data": {
            "text/plain": [
              "1                    Colombia\n",
              "2    United States of America\n",
              "3                   Argentina\n",
              "4    United States of America\n",
              "5                       Japan\n",
              "Name: Q3, dtype: object"
            ]
          },
          "metadata": {},
          "execution_count": 47
        }
      ]
    },
    {
      "cell_type": "code",
      "metadata": {
        "colab": {
          "base_uri": "https://localhost:8080/"
        },
        "id": "JTf6sQMX_nV9",
        "outputId": "1fd22111-9274-42c0-dad1-9d0d3e676c59"
      },
      "source": [
        "df['Q3'].value_counts"
      ],
      "execution_count": null,
      "outputs": [
        {
          "output_type": "execute_result",
          "data": {
            "text/plain": [
              "<bound method IndexOpsMixin.value_counts of 1                                                 Colombia\n",
              "2                                 United States of America\n",
              "3                                                Argentina\n",
              "4                                 United States of America\n",
              "5                                                    Japan\n",
              "                               ...                        \n",
              "20032                                               Turkey\n",
              "20033    United Kingdom of Great Britain and Northern I...\n",
              "20034                                               Brazil\n",
              "20035                                                India\n",
              "20036                                             Pakistan\n",
              "Name: Q3, Length: 20036, dtype: object>"
            ]
          },
          "metadata": {},
          "execution_count": 48
        }
      ]
    },
    {
      "cell_type": "code",
      "metadata": {
        "colab": {
          "base_uri": "https://localhost:8080/"
        },
        "id": "6c2M8d05Atjm",
        "outputId": "d815a0e8-18fd-4a94-c35b-d4a76c0019b2"
      },
      "source": [
        "df['Q3'].isnull().sum(axis=0)"
      ],
      "execution_count": null,
      "outputs": [
        {
          "output_type": "execute_result",
          "data": {
            "text/plain": [
              "0"
            ]
          },
          "metadata": {},
          "execution_count": 49
        }
      ]
    },
    {
      "cell_type": "code",
      "metadata": {
        "id": "ca3hyidnCURj"
      },
      "source": [
        "country = pd.DataFrame(df['Q3'].value_counts())\n",
        "country.sort_index(inplace=True)\n",
        "country.reset_index(inplace = True)\n",
        "country.columns = [\"Country\", \"Count\"]\n"
      ],
      "execution_count": null,
      "outputs": []
    },
    {
      "cell_type": "code",
      "metadata": {
        "colab": {
          "base_uri": "https://localhost:8080/",
          "height": 359
        },
        "id": "_Dl7Ob_9FwlG",
        "outputId": "9c1c9a40-73de-40f5-d94f-ae92a4716c0c"
      },
      "source": [
        "#top 10 quốc gia có người tham gia khảo sát nhiều nhất \n",
        "country_t10 = country.sort_values('Count',ascending=False).head(10)\n",
        "country_t10"
      ],
      "execution_count": null,
      "outputs": [
        {
          "output_type": "execute_result",
          "data": {
            "text/html": [
              "<div>\n",
              "<style scoped>\n",
              "    .dataframe tbody tr th:only-of-type {\n",
              "        vertical-align: middle;\n",
              "    }\n",
              "\n",
              "    .dataframe tbody tr th {\n",
              "        vertical-align: top;\n",
              "    }\n",
              "\n",
              "    .dataframe thead th {\n",
              "        text-align: right;\n",
              "    }\n",
              "</style>\n",
              "<table border=\"1\" class=\"dataframe\">\n",
              "  <thead>\n",
              "    <tr style=\"text-align: right;\">\n",
              "      <th></th>\n",
              "      <th>Country</th>\n",
              "      <th>Count</th>\n",
              "    </tr>\n",
              "  </thead>\n",
              "  <tbody>\n",
              "    <tr>\n",
              "      <th>15</th>\n",
              "      <td>India</td>\n",
              "      <td>5851</td>\n",
              "    </tr>\n",
              "    <tr>\n",
              "      <th>53</th>\n",
              "      <td>United States of America</td>\n",
              "      <td>2237</td>\n",
              "    </tr>\n",
              "    <tr>\n",
              "      <th>29</th>\n",
              "      <td>Other</td>\n",
              "      <td>1388</td>\n",
              "    </tr>\n",
              "    <tr>\n",
              "      <th>5</th>\n",
              "      <td>Brazil</td>\n",
              "      <td>694</td>\n",
              "    </tr>\n",
              "    <tr>\n",
              "      <th>21</th>\n",
              "      <td>Japan</td>\n",
              "      <td>638</td>\n",
              "    </tr>\n",
              "    <tr>\n",
              "      <th>37</th>\n",
              "      <td>Russia</td>\n",
              "      <td>582</td>\n",
              "    </tr>\n",
              "    <tr>\n",
              "      <th>52</th>\n",
              "      <td>United Kingdom of Great Britain and Northern I...</td>\n",
              "      <td>489</td>\n",
              "    </tr>\n",
              "    <tr>\n",
              "      <th>28</th>\n",
              "      <td>Nigeria</td>\n",
              "      <td>476</td>\n",
              "    </tr>\n",
              "    <tr>\n",
              "      <th>8</th>\n",
              "      <td>China</td>\n",
              "      <td>474</td>\n",
              "    </tr>\n",
              "    <tr>\n",
              "      <th>12</th>\n",
              "      <td>Germany</td>\n",
              "      <td>404</td>\n",
              "    </tr>\n",
              "  </tbody>\n",
              "</table>\n",
              "</div>"
            ],
            "text/plain": [
              "                                              Country  Count\n",
              "15                                              India   5851\n",
              "53                           United States of America   2237\n",
              "29                                              Other   1388\n",
              "5                                              Brazil    694\n",
              "21                                              Japan    638\n",
              "37                                             Russia    582\n",
              "52  United Kingdom of Great Britain and Northern I...    489\n",
              "28                                            Nigeria    476\n",
              "8                                               China    474\n",
              "12                                            Germany    404"
            ]
          },
          "metadata": {},
          "execution_count": 52
        }
      ]
    },
    {
      "cell_type": "code",
      "metadata": {
        "colab": {
          "base_uri": "https://localhost:8080/",
          "height": 542
        },
        "id": "38cB4zp0H99h",
        "outputId": "b4735ccd-acae-4c29-a9c3-8a245010d5d4"
      },
      "source": [
        "fig = px.bar(data_frame=country_t10, \n",
        "      x = \"Country\", \n",
        "      y = \"Count\", \n",
        "      title= \"Country Top10 Distribution\", \n",
        "      template=\"seaborn\")\n",
        "fig.update_layout(title_x=0.5)"
      ],
      "execution_count": null,
      "outputs": [
        {
          "output_type": "display_data",
          "data": {
            "text/html": [
              "<html>\n",
              "<head><meta charset=\"utf-8\" /></head>\n",
              "<body>\n",
              "    <div>\n",
              "            <script src=\"https://cdnjs.cloudflare.com/ajax/libs/mathjax/2.7.5/MathJax.js?config=TeX-AMS-MML_SVG\"></script><script type=\"text/javascript\">if (window.MathJax) {MathJax.Hub.Config({SVG: {font: \"STIX-Web\"}});}</script>\n",
              "                <script type=\"text/javascript\">window.PlotlyConfig = {MathJaxConfig: 'local'};</script>\n",
              "        <script src=\"https://cdn.plot.ly/plotly-latest.min.js\"></script>    \n",
              "            <div id=\"c0da23ec-6f68-45c8-b607-ea2c878984e0\" class=\"plotly-graph-div\" style=\"height:525px; width:100%;\"></div>\n",
              "            <script type=\"text/javascript\">\n",
              "                \n",
              "                    window.PLOTLYENV=window.PLOTLYENV || {};\n",
              "                    \n",
              "                if (document.getElementById(\"c0da23ec-6f68-45c8-b607-ea2c878984e0\")) {\n",
              "                    Plotly.newPlot(\n",
              "                        'c0da23ec-6f68-45c8-b607-ea2c878984e0',\n",
              "                        [{\"alignmentgroup\": \"True\", \"hoverlabel\": {\"namelength\": 0}, \"hovertemplate\": \"Country=%{x}<br>Count=%{y}\", \"legendgroup\": \"\", \"marker\": {\"color\": \"rgb(76,114,176)\"}, \"name\": \"\", \"offsetgroup\": \"\", \"orientation\": \"v\", \"showlegend\": false, \"textposition\": \"auto\", \"type\": \"bar\", \"x\": [\"India\", \"United States of America\", \"Other\", \"Brazil\", \"Japan\", \"Russia\", \"United Kingdom of Great Britain and Northern Ireland\", \"Nigeria\", \"China\", \"Germany\"], \"xaxis\": \"x\", \"y\": [5851, 2237, 1388, 694, 638, 582, 489, 476, 474, 404], \"yaxis\": \"y\"}],\n",
              "                        {\"barmode\": \"relative\", \"legend\": {\"tracegroupgap\": 0}, \"template\": {\"data\": {\"bar\": [{\"error_x\": {\"color\": \"rgb(36,36,36)\"}, \"error_y\": {\"color\": \"rgb(36,36,36)\"}, \"marker\": {\"line\": {\"color\": \"rgb(234,234,242)\", \"width\": 0.5}}, \"type\": \"bar\"}], \"barpolar\": [{\"marker\": {\"line\": {\"color\": \"rgb(234,234,242)\", \"width\": 0.5}}, \"type\": \"barpolar\"}], \"carpet\": [{\"aaxis\": {\"endlinecolor\": \"rgb(36,36,36)\", \"gridcolor\": \"white\", \"linecolor\": \"white\", \"minorgridcolor\": \"white\", \"startlinecolor\": \"rgb(36,36,36)\"}, \"baxis\": {\"endlinecolor\": \"rgb(36,36,36)\", \"gridcolor\": \"white\", \"linecolor\": \"white\", \"minorgridcolor\": \"white\", \"startlinecolor\": \"rgb(36,36,36)\"}, \"type\": \"carpet\"}], \"choropleth\": [{\"colorbar\": {\"outlinewidth\": 0, \"tickcolor\": \"rgb(36,36,36)\", \"ticklen\": 8, \"ticks\": \"outside\", \"tickwidth\": 2}, \"type\": \"choropleth\"}], \"contour\": [{\"colorbar\": {\"outlinewidth\": 0, \"tickcolor\": \"rgb(36,36,36)\", \"ticklen\": 8, \"ticks\": \"outside\", \"tickwidth\": 2}, \"colorscale\": [[0.0, \"rgb(2,4,25)\"], [0.06274509803921569, \"rgb(24,15,41)\"], [0.12549019607843137, \"rgb(47,23,57)\"], [0.18823529411764706, \"rgb(71,28,72)\"], [0.25098039215686274, \"rgb(97,30,82)\"], [0.3137254901960784, \"rgb(123,30,89)\"], [0.3764705882352941, \"rgb(150,27,91)\"], [0.4392156862745098, \"rgb(177,22,88)\"], [0.5019607843137255, \"rgb(203,26,79)\"], [0.5647058823529412, \"rgb(223,47,67)\"], [0.6274509803921569, \"rgb(236,76,61)\"], [0.6901960784313725, \"rgb(242,107,73)\"], [0.7529411764705882, \"rgb(244,135,95)\"], [0.8156862745098039, \"rgb(245,162,122)\"], [0.8784313725490196, \"rgb(246,188,153)\"], [0.9411764705882353, \"rgb(247,212,187)\"], [1.0, \"rgb(250,234,220)\"]], \"type\": \"contour\"}], \"contourcarpet\": [{\"colorbar\": {\"outlinewidth\": 0, \"tickcolor\": \"rgb(36,36,36)\", \"ticklen\": 8, \"ticks\": \"outside\", \"tickwidth\": 2}, \"type\": \"contourcarpet\"}], \"heatmap\": [{\"colorbar\": {\"outlinewidth\": 0, \"tickcolor\": \"rgb(36,36,36)\", \"ticklen\": 8, \"ticks\": \"outside\", \"tickwidth\": 2}, \"colorscale\": [[0.0, \"rgb(2,4,25)\"], [0.06274509803921569, \"rgb(24,15,41)\"], [0.12549019607843137, \"rgb(47,23,57)\"], [0.18823529411764706, \"rgb(71,28,72)\"], [0.25098039215686274, \"rgb(97,30,82)\"], [0.3137254901960784, \"rgb(123,30,89)\"], [0.3764705882352941, \"rgb(150,27,91)\"], [0.4392156862745098, \"rgb(177,22,88)\"], [0.5019607843137255, \"rgb(203,26,79)\"], [0.5647058823529412, \"rgb(223,47,67)\"], [0.6274509803921569, \"rgb(236,76,61)\"], [0.6901960784313725, \"rgb(242,107,73)\"], [0.7529411764705882, \"rgb(244,135,95)\"], [0.8156862745098039, \"rgb(245,162,122)\"], [0.8784313725490196, \"rgb(246,188,153)\"], [0.9411764705882353, \"rgb(247,212,187)\"], [1.0, \"rgb(250,234,220)\"]], \"type\": \"heatmap\"}], \"heatmapgl\": [{\"colorbar\": {\"outlinewidth\": 0, \"tickcolor\": \"rgb(36,36,36)\", \"ticklen\": 8, \"ticks\": \"outside\", \"tickwidth\": 2}, \"colorscale\": [[0.0, \"rgb(2,4,25)\"], [0.06274509803921569, \"rgb(24,15,41)\"], [0.12549019607843137, \"rgb(47,23,57)\"], [0.18823529411764706, \"rgb(71,28,72)\"], [0.25098039215686274, \"rgb(97,30,82)\"], [0.3137254901960784, \"rgb(123,30,89)\"], [0.3764705882352941, \"rgb(150,27,91)\"], [0.4392156862745098, \"rgb(177,22,88)\"], [0.5019607843137255, \"rgb(203,26,79)\"], [0.5647058823529412, \"rgb(223,47,67)\"], [0.6274509803921569, \"rgb(236,76,61)\"], [0.6901960784313725, \"rgb(242,107,73)\"], [0.7529411764705882, \"rgb(244,135,95)\"], [0.8156862745098039, \"rgb(245,162,122)\"], [0.8784313725490196, \"rgb(246,188,153)\"], [0.9411764705882353, \"rgb(247,212,187)\"], [1.0, \"rgb(250,234,220)\"]], \"type\": \"heatmapgl\"}], \"histogram\": [{\"marker\": {\"colorbar\": {\"outlinewidth\": 0, \"tickcolor\": \"rgb(36,36,36)\", \"ticklen\": 8, \"ticks\": \"outside\", \"tickwidth\": 2}}, \"type\": \"histogram\"}], \"histogram2d\": [{\"colorbar\": {\"outlinewidth\": 0, \"tickcolor\": \"rgb(36,36,36)\", \"ticklen\": 8, \"ticks\": \"outside\", \"tickwidth\": 2}, \"colorscale\": [[0.0, \"rgb(2,4,25)\"], [0.06274509803921569, \"rgb(24,15,41)\"], [0.12549019607843137, \"rgb(47,23,57)\"], [0.18823529411764706, \"rgb(71,28,72)\"], [0.25098039215686274, \"rgb(97,30,82)\"], [0.3137254901960784, \"rgb(123,30,89)\"], [0.3764705882352941, \"rgb(150,27,91)\"], [0.4392156862745098, \"rgb(177,22,88)\"], [0.5019607843137255, \"rgb(203,26,79)\"], [0.5647058823529412, \"rgb(223,47,67)\"], [0.6274509803921569, \"rgb(236,76,61)\"], [0.6901960784313725, \"rgb(242,107,73)\"], [0.7529411764705882, \"rgb(244,135,95)\"], [0.8156862745098039, \"rgb(245,162,122)\"], [0.8784313725490196, \"rgb(246,188,153)\"], [0.9411764705882353, \"rgb(247,212,187)\"], [1.0, \"rgb(250,234,220)\"]], \"type\": \"histogram2d\"}], \"histogram2dcontour\": [{\"colorbar\": {\"outlinewidth\": 0, \"tickcolor\": \"rgb(36,36,36)\", \"ticklen\": 8, \"ticks\": \"outside\", \"tickwidth\": 2}, \"colorscale\": [[0.0, \"rgb(2,4,25)\"], [0.06274509803921569, \"rgb(24,15,41)\"], [0.12549019607843137, \"rgb(47,23,57)\"], [0.18823529411764706, \"rgb(71,28,72)\"], [0.25098039215686274, \"rgb(97,30,82)\"], [0.3137254901960784, \"rgb(123,30,89)\"], [0.3764705882352941, \"rgb(150,27,91)\"], [0.4392156862745098, \"rgb(177,22,88)\"], [0.5019607843137255, \"rgb(203,26,79)\"], [0.5647058823529412, \"rgb(223,47,67)\"], [0.6274509803921569, \"rgb(236,76,61)\"], [0.6901960784313725, \"rgb(242,107,73)\"], [0.7529411764705882, \"rgb(244,135,95)\"], [0.8156862745098039, \"rgb(245,162,122)\"], [0.8784313725490196, \"rgb(246,188,153)\"], [0.9411764705882353, \"rgb(247,212,187)\"], [1.0, \"rgb(250,234,220)\"]], \"type\": \"histogram2dcontour\"}], \"mesh3d\": [{\"colorbar\": {\"outlinewidth\": 0, \"tickcolor\": \"rgb(36,36,36)\", \"ticklen\": 8, \"ticks\": \"outside\", \"tickwidth\": 2}, \"type\": \"mesh3d\"}], \"parcoords\": [{\"line\": {\"colorbar\": {\"outlinewidth\": 0, \"tickcolor\": \"rgb(36,36,36)\", \"ticklen\": 8, \"ticks\": \"outside\", \"tickwidth\": 2}}, \"type\": \"parcoords\"}], \"pie\": [{\"automargin\": true, \"type\": \"pie\"}], \"scatter\": [{\"marker\": {\"colorbar\": {\"outlinewidth\": 0, \"tickcolor\": \"rgb(36,36,36)\", \"ticklen\": 8, \"ticks\": \"outside\", \"tickwidth\": 2}}, \"type\": \"scatter\"}], \"scatter3d\": [{\"line\": {\"colorbar\": {\"outlinewidth\": 0, \"tickcolor\": \"rgb(36,36,36)\", \"ticklen\": 8, \"ticks\": \"outside\", \"tickwidth\": 2}}, \"marker\": {\"colorbar\": {\"outlinewidth\": 0, \"tickcolor\": \"rgb(36,36,36)\", \"ticklen\": 8, \"ticks\": \"outside\", \"tickwidth\": 2}}, \"type\": \"scatter3d\"}], \"scattercarpet\": [{\"marker\": {\"colorbar\": {\"outlinewidth\": 0, \"tickcolor\": \"rgb(36,36,36)\", \"ticklen\": 8, \"ticks\": \"outside\", \"tickwidth\": 2}}, \"type\": \"scattercarpet\"}], \"scattergeo\": [{\"marker\": {\"colorbar\": {\"outlinewidth\": 0, \"tickcolor\": \"rgb(36,36,36)\", \"ticklen\": 8, \"ticks\": \"outside\", \"tickwidth\": 2}}, \"type\": \"scattergeo\"}], \"scattergl\": [{\"marker\": {\"colorbar\": {\"outlinewidth\": 0, \"tickcolor\": \"rgb(36,36,36)\", \"ticklen\": 8, \"ticks\": \"outside\", \"tickwidth\": 2}}, \"type\": \"scattergl\"}], \"scattermapbox\": [{\"marker\": {\"colorbar\": {\"outlinewidth\": 0, \"tickcolor\": \"rgb(36,36,36)\", \"ticklen\": 8, \"ticks\": \"outside\", \"tickwidth\": 2}}, \"type\": \"scattermapbox\"}], \"scatterpolar\": [{\"marker\": {\"colorbar\": {\"outlinewidth\": 0, \"tickcolor\": \"rgb(36,36,36)\", \"ticklen\": 8, \"ticks\": \"outside\", \"tickwidth\": 2}}, \"type\": \"scatterpolar\"}], \"scatterpolargl\": [{\"marker\": {\"colorbar\": {\"outlinewidth\": 0, \"tickcolor\": \"rgb(36,36,36)\", \"ticklen\": 8, \"ticks\": \"outside\", \"tickwidth\": 2}}, \"type\": \"scatterpolargl\"}], \"scatterternary\": [{\"marker\": {\"colorbar\": {\"outlinewidth\": 0, \"tickcolor\": \"rgb(36,36,36)\", \"ticklen\": 8, \"ticks\": \"outside\", \"tickwidth\": 2}}, \"type\": \"scatterternary\"}], \"surface\": [{\"colorbar\": {\"outlinewidth\": 0, \"tickcolor\": \"rgb(36,36,36)\", \"ticklen\": 8, \"ticks\": \"outside\", \"tickwidth\": 2}, \"colorscale\": [[0.0, \"rgb(2,4,25)\"], [0.06274509803921569, \"rgb(24,15,41)\"], [0.12549019607843137, \"rgb(47,23,57)\"], [0.18823529411764706, \"rgb(71,28,72)\"], [0.25098039215686274, \"rgb(97,30,82)\"], [0.3137254901960784, \"rgb(123,30,89)\"], [0.3764705882352941, \"rgb(150,27,91)\"], [0.4392156862745098, \"rgb(177,22,88)\"], [0.5019607843137255, \"rgb(203,26,79)\"], [0.5647058823529412, \"rgb(223,47,67)\"], [0.6274509803921569, \"rgb(236,76,61)\"], [0.6901960784313725, \"rgb(242,107,73)\"], [0.7529411764705882, \"rgb(244,135,95)\"], [0.8156862745098039, \"rgb(245,162,122)\"], [0.8784313725490196, \"rgb(246,188,153)\"], [0.9411764705882353, \"rgb(247,212,187)\"], [1.0, \"rgb(250,234,220)\"]], \"type\": \"surface\"}], \"table\": [{\"cells\": {\"fill\": {\"color\": \"rgb(231,231,240)\"}, \"line\": {\"color\": \"white\"}}, \"header\": {\"fill\": {\"color\": \"rgb(183,183,191)\"}, \"line\": {\"color\": \"white\"}}, \"type\": \"table\"}]}, \"layout\": {\"annotationdefaults\": {\"arrowcolor\": \"rgb(67,103,167)\"}, \"coloraxis\": {\"colorbar\": {\"outlinewidth\": 0, \"tickcolor\": \"rgb(36,36,36)\", \"ticklen\": 8, \"ticks\": \"outside\", \"tickwidth\": 2}}, \"colorscale\": {\"sequential\": [[0.0, \"rgb(2,4,25)\"], [0.06274509803921569, \"rgb(24,15,41)\"], [0.12549019607843137, \"rgb(47,23,57)\"], [0.18823529411764706, \"rgb(71,28,72)\"], [0.25098039215686274, \"rgb(97,30,82)\"], [0.3137254901960784, \"rgb(123,30,89)\"], [0.3764705882352941, \"rgb(150,27,91)\"], [0.4392156862745098, \"rgb(177,22,88)\"], [0.5019607843137255, \"rgb(203,26,79)\"], [0.5647058823529412, \"rgb(223,47,67)\"], [0.6274509803921569, \"rgb(236,76,61)\"], [0.6901960784313725, \"rgb(242,107,73)\"], [0.7529411764705882, \"rgb(244,135,95)\"], [0.8156862745098039, \"rgb(245,162,122)\"], [0.8784313725490196, \"rgb(246,188,153)\"], [0.9411764705882353, \"rgb(247,212,187)\"], [1.0, \"rgb(250,234,220)\"]], \"sequentialminus\": [[0.0, \"rgb(2,4,25)\"], [0.06274509803921569, \"rgb(24,15,41)\"], [0.12549019607843137, \"rgb(47,23,57)\"], [0.18823529411764706, \"rgb(71,28,72)\"], [0.25098039215686274, \"rgb(97,30,82)\"], [0.3137254901960784, \"rgb(123,30,89)\"], [0.3764705882352941, \"rgb(150,27,91)\"], [0.4392156862745098, \"rgb(177,22,88)\"], [0.5019607843137255, \"rgb(203,26,79)\"], [0.5647058823529412, \"rgb(223,47,67)\"], [0.6274509803921569, \"rgb(236,76,61)\"], [0.6901960784313725, \"rgb(242,107,73)\"], [0.7529411764705882, \"rgb(244,135,95)\"], [0.8156862745098039, \"rgb(245,162,122)\"], [0.8784313725490196, \"rgb(246,188,153)\"], [0.9411764705882353, \"rgb(247,212,187)\"], [1.0, \"rgb(250,234,220)\"]]}, \"colorway\": [\"rgb(76,114,176)\", \"rgb(221,132,82)\", \"rgb(85,168,104)\", \"rgb(196,78,82)\", \"rgb(129,114,179)\", \"rgb(147,120,96)\", \"rgb(218,139,195)\", \"rgb(140,140,140)\", \"rgb(204,185,116)\", \"rgb(100,181,205)\"], \"font\": {\"color\": \"rgb(36,36,36)\"}, \"geo\": {\"bgcolor\": \"white\", \"lakecolor\": \"white\", \"landcolor\": \"rgb(234,234,242)\", \"showlakes\": true, \"showland\": true, \"subunitcolor\": \"white\"}, \"hoverlabel\": {\"align\": \"left\"}, \"hovermode\": \"closest\", \"paper_bgcolor\": \"white\", \"plot_bgcolor\": \"rgb(234,234,242)\", \"polar\": {\"angularaxis\": {\"gridcolor\": \"white\", \"linecolor\": \"white\", \"showgrid\": true, \"ticks\": \"\"}, \"bgcolor\": \"rgb(234,234,242)\", \"radialaxis\": {\"gridcolor\": \"white\", \"linecolor\": \"white\", \"showgrid\": true, \"ticks\": \"\"}}, \"scene\": {\"xaxis\": {\"backgroundcolor\": \"rgb(234,234,242)\", \"gridcolor\": \"white\", \"gridwidth\": 2, \"linecolor\": \"white\", \"showbackground\": true, \"showgrid\": true, \"ticks\": \"\", \"zerolinecolor\": \"white\"}, \"yaxis\": {\"backgroundcolor\": \"rgb(234,234,242)\", \"gridcolor\": \"white\", \"gridwidth\": 2, \"linecolor\": \"white\", \"showbackground\": true, \"showgrid\": true, \"ticks\": \"\", \"zerolinecolor\": \"white\"}, \"zaxis\": {\"backgroundcolor\": \"rgb(234,234,242)\", \"gridcolor\": \"white\", \"gridwidth\": 2, \"linecolor\": \"white\", \"showbackground\": true, \"showgrid\": true, \"ticks\": \"\", \"zerolinecolor\": \"white\"}}, \"shapedefaults\": {\"fillcolor\": \"rgb(67,103,167)\", \"line\": {\"width\": 0}, \"opacity\": 0.5}, \"ternary\": {\"aaxis\": {\"gridcolor\": \"white\", \"linecolor\": \"white\", \"showgrid\": true, \"ticks\": \"\"}, \"baxis\": {\"gridcolor\": \"white\", \"linecolor\": \"white\", \"showgrid\": true, \"ticks\": \"\"}, \"bgcolor\": \"rgb(234,234,242)\", \"caxis\": {\"gridcolor\": \"white\", \"linecolor\": \"white\", \"showgrid\": true, \"ticks\": \"\"}}, \"xaxis\": {\"automargin\": true, \"gridcolor\": \"white\", \"linecolor\": \"white\", \"showgrid\": true, \"ticks\": \"\", \"title\": {\"standoff\": 15}, \"zerolinecolor\": \"white\"}, \"yaxis\": {\"automargin\": true, \"gridcolor\": \"white\", \"linecolor\": \"white\", \"showgrid\": true, \"ticks\": \"\", \"title\": {\"standoff\": 15}, \"zerolinecolor\": \"white\"}}}, \"title\": {\"text\": \"Country Top10 Distribution\", \"x\": 0.5}, \"xaxis\": {\"anchor\": \"y\", \"domain\": [0.0, 1.0], \"title\": {\"text\": \"Country\"}}, \"yaxis\": {\"anchor\": \"x\", \"domain\": [0.0, 1.0], \"title\": {\"text\": \"Count\"}}},\n",
              "                        {\"responsive\": true}\n",
              "                    ).then(function(){\n",
              "                            \n",
              "var gd = document.getElementById('c0da23ec-6f68-45c8-b607-ea2c878984e0');\n",
              "var x = new MutationObserver(function (mutations, observer) {{\n",
              "        var display = window.getComputedStyle(gd).display;\n",
              "        if (!display || display === 'none') {{\n",
              "            console.log([gd, 'removed!']);\n",
              "            Plotly.purge(gd);\n",
              "            observer.disconnect();\n",
              "        }}\n",
              "}});\n",
              "\n",
              "// Listen for the removal of the full notebook cells\n",
              "var notebookContainer = gd.closest('#notebook-container');\n",
              "if (notebookContainer) {{\n",
              "    x.observe(notebookContainer, {childList: true});\n",
              "}}\n",
              "\n",
              "// Listen for the clearing of the current output cell\n",
              "var outputEl = gd.closest('.output');\n",
              "if (outputEl) {{\n",
              "    x.observe(outputEl, {childList: true});\n",
              "}}\n",
              "\n",
              "                        })\n",
              "                };\n",
              "                \n",
              "            </script>\n",
              "        </div>\n",
              "</body>\n",
              "</html>"
            ]
          },
          "metadata": {}
        }
      ]
    },
    {
      "cell_type": "markdown",
      "metadata": {
        "id": "JX-83QH8N8XY"
      },
      "source": [
        "Từ biểu đồ, số nười khỏa sát ở quốc giá India chiếm nhiều nhất(5851)"
      ]
    },
    {
      "cell_type": "markdown",
      "metadata": {
        "id": "I38ytqXsOKwZ"
      },
      "source": [
        "#Q4 - trình độ học vấn đã đạt được hoặc dự định "
      ]
    },
    {
      "cell_type": "code",
      "metadata": {
        "colab": {
          "base_uri": "https://localhost:8080/"
        },
        "id": "J82L9CnrKovX",
        "outputId": "90ac3123-2ae5-471b-9a01-07339a249fcc"
      },
      "source": [
        "df['Q4'].head()"
      ],
      "execution_count": null,
      "outputs": [
        {
          "output_type": "execute_result",
          "data": {
            "text/plain": [
              "1      Doctoral degree\n",
              "2      Master’s degree\n",
              "3    Bachelor’s degree\n",
              "4      Master’s degree\n",
              "5      Master’s degree\n",
              "Name: Q4, dtype: object"
            ]
          },
          "metadata": {},
          "execution_count": 54
        }
      ]
    },
    {
      "cell_type": "code",
      "metadata": {
        "colab": {
          "base_uri": "https://localhost:8080/"
        },
        "id": "x2xmeKGkMc9T",
        "outputId": "0be629ba-54e5-421b-8215-15290c5c58a7"
      },
      "source": [
        "df['Q4'].value_counts()"
      ],
      "execution_count": null,
      "outputs": [
        {
          "output_type": "execute_result",
          "data": {
            "text/plain": [
              "Master’s degree                                                      7859\n",
              "Bachelor’s degree                                                    6978\n",
              "Doctoral degree                                                      2302\n",
              "Some college/university study without earning a bachelor’s degree    1092\n",
              "Professional degree                                                   699\n",
              "I prefer not to answer                                                399\n",
              "No formal education past high school                                  240\n",
              "Name: Q4, dtype: int64"
            ]
          },
          "metadata": {},
          "execution_count": 55
        }
      ]
    },
    {
      "cell_type": "code",
      "metadata": {
        "colab": {
          "base_uri": "https://localhost:8080/"
        },
        "id": "a3uCCpdAVTw9",
        "outputId": "1beaf9f0-e439-43cd-e5d0-4566262b0948"
      },
      "source": [
        "df['Q4'].isnull().sum(axis=0)"
      ],
      "execution_count": null,
      "outputs": [
        {
          "output_type": "execute_result",
          "data": {
            "text/plain": [
              "467"
            ]
          },
          "metadata": {},
          "execution_count": 56
        }
      ]
    },
    {
      "cell_type": "code",
      "metadata": {
        "id": "JQjnXS-YVho7"
      },
      "source": [
        "# Điền dữ liệu null thành 'I prefer not to answer ' bởi có ý nghĩa tương đối giống nhau\n",
        "df['Q4']=df['Q4'].fillna('I prefer not to answer ')"
      ],
      "execution_count": null,
      "outputs": []
    },
    {
      "cell_type": "code",
      "metadata": {
        "colab": {
          "base_uri": "https://localhost:8080/",
          "height": 297
        },
        "id": "hoTk009BNIoZ",
        "outputId": "647d8383-f668-4f6d-d5db-759e8b8421df"
      },
      "source": [
        "education = pd.DataFrame(df['Q4'].value_counts())\n",
        "education.sort_index(inplace=True)\n",
        "education.reset_index(inplace = True)\n",
        "education.columns = [\"Education\", \"Count\"]\n",
        "education"
      ],
      "execution_count": null,
      "outputs": [
        {
          "output_type": "execute_result",
          "data": {
            "text/html": [
              "<div>\n",
              "<style scoped>\n",
              "    .dataframe tbody tr th:only-of-type {\n",
              "        vertical-align: middle;\n",
              "    }\n",
              "\n",
              "    .dataframe tbody tr th {\n",
              "        vertical-align: top;\n",
              "    }\n",
              "\n",
              "    .dataframe thead th {\n",
              "        text-align: right;\n",
              "    }\n",
              "</style>\n",
              "<table border=\"1\" class=\"dataframe\">\n",
              "  <thead>\n",
              "    <tr style=\"text-align: right;\">\n",
              "      <th></th>\n",
              "      <th>Education</th>\n",
              "      <th>Count</th>\n",
              "    </tr>\n",
              "  </thead>\n",
              "  <tbody>\n",
              "    <tr>\n",
              "      <th>0</th>\n",
              "      <td>Bachelor’s degree</td>\n",
              "      <td>6978</td>\n",
              "    </tr>\n",
              "    <tr>\n",
              "      <th>1</th>\n",
              "      <td>Doctoral degree</td>\n",
              "      <td>2302</td>\n",
              "    </tr>\n",
              "    <tr>\n",
              "      <th>2</th>\n",
              "      <td>I prefer not to answer</td>\n",
              "      <td>399</td>\n",
              "    </tr>\n",
              "    <tr>\n",
              "      <th>3</th>\n",
              "      <td>I prefer not to answer</td>\n",
              "      <td>467</td>\n",
              "    </tr>\n",
              "    <tr>\n",
              "      <th>4</th>\n",
              "      <td>Master’s degree</td>\n",
              "      <td>7859</td>\n",
              "    </tr>\n",
              "    <tr>\n",
              "      <th>5</th>\n",
              "      <td>No formal education past high school</td>\n",
              "      <td>240</td>\n",
              "    </tr>\n",
              "    <tr>\n",
              "      <th>6</th>\n",
              "      <td>Professional degree</td>\n",
              "      <td>699</td>\n",
              "    </tr>\n",
              "    <tr>\n",
              "      <th>7</th>\n",
              "      <td>Some college/university study without earning ...</td>\n",
              "      <td>1092</td>\n",
              "    </tr>\n",
              "  </tbody>\n",
              "</table>\n",
              "</div>"
            ],
            "text/plain": [
              "                                           Education  Count\n",
              "0                                  Bachelor’s degree   6978\n",
              "1                                    Doctoral degree   2302\n",
              "2                             I prefer not to answer    399\n",
              "3                            I prefer not to answer     467\n",
              "4                                    Master’s degree   7859\n",
              "5               No formal education past high school    240\n",
              "6                                Professional degree    699\n",
              "7  Some college/university study without earning ...   1092"
            ]
          },
          "metadata": {},
          "execution_count": 58
        }
      ]
    },
    {
      "cell_type": "code",
      "metadata": {
        "colab": {
          "base_uri": "https://localhost:8080/",
          "height": 542
        },
        "id": "N-6yE4rnNgCa",
        "outputId": "f9dbefc8-27d1-4f12-bc4e-40300b935bc0"
      },
      "source": [
        "fig = px.bar(data_frame=education, \n",
        "      x = \"Education\", \n",
        "      y = \"Count\", \n",
        "      title= \" Education Distribution\", \n",
        "      template=\"seaborn\")\n",
        "fig.update_layout(title_x=0.5)"
      ],
      "execution_count": null,
      "outputs": [
        {
          "output_type": "display_data",
          "data": {
            "text/html": [
              "<html>\n",
              "<head><meta charset=\"utf-8\" /></head>\n",
              "<body>\n",
              "    <div>\n",
              "            <script src=\"https://cdnjs.cloudflare.com/ajax/libs/mathjax/2.7.5/MathJax.js?config=TeX-AMS-MML_SVG\"></script><script type=\"text/javascript\">if (window.MathJax) {MathJax.Hub.Config({SVG: {font: \"STIX-Web\"}});}</script>\n",
              "                <script type=\"text/javascript\">window.PlotlyConfig = {MathJaxConfig: 'local'};</script>\n",
              "        <script src=\"https://cdn.plot.ly/plotly-latest.min.js\"></script>    \n",
              "            <div id=\"096c3931-e243-41c5-8543-7fc2052e1c70\" class=\"plotly-graph-div\" style=\"height:525px; width:100%;\"></div>\n",
              "            <script type=\"text/javascript\">\n",
              "                \n",
              "                    window.PLOTLYENV=window.PLOTLYENV || {};\n",
              "                    \n",
              "                if (document.getElementById(\"096c3931-e243-41c5-8543-7fc2052e1c70\")) {\n",
              "                    Plotly.newPlot(\n",
              "                        '096c3931-e243-41c5-8543-7fc2052e1c70',\n",
              "                        [{\"alignmentgroup\": \"True\", \"hoverlabel\": {\"namelength\": 0}, \"hovertemplate\": \"Education=%{x}<br>Count=%{y}\", \"legendgroup\": \"\", \"marker\": {\"color\": \"rgb(76,114,176)\"}, \"name\": \"\", \"offsetgroup\": \"\", \"orientation\": \"v\", \"showlegend\": false, \"textposition\": \"auto\", \"type\": \"bar\", \"x\": [\"Bachelor\\u2019s degree\", \"Doctoral degree\", \"I prefer not to answer\", \"I prefer not to answer \", \"Master\\u2019s degree\", \"No formal education past high school\", \"Professional degree\", \"Some college/university study without earning a bachelor\\u2019s degree\"], \"xaxis\": \"x\", \"y\": [6978, 2302, 399, 467, 7859, 240, 699, 1092], \"yaxis\": \"y\"}],\n",
              "                        {\"barmode\": \"relative\", \"legend\": {\"tracegroupgap\": 0}, \"template\": {\"data\": {\"bar\": [{\"error_x\": {\"color\": \"rgb(36,36,36)\"}, \"error_y\": {\"color\": \"rgb(36,36,36)\"}, \"marker\": {\"line\": {\"color\": \"rgb(234,234,242)\", \"width\": 0.5}}, \"type\": \"bar\"}], \"barpolar\": [{\"marker\": {\"line\": {\"color\": \"rgb(234,234,242)\", \"width\": 0.5}}, \"type\": \"barpolar\"}], \"carpet\": [{\"aaxis\": {\"endlinecolor\": \"rgb(36,36,36)\", \"gridcolor\": \"white\", \"linecolor\": \"white\", \"minorgridcolor\": \"white\", \"startlinecolor\": \"rgb(36,36,36)\"}, \"baxis\": {\"endlinecolor\": \"rgb(36,36,36)\", \"gridcolor\": \"white\", \"linecolor\": \"white\", \"minorgridcolor\": \"white\", \"startlinecolor\": \"rgb(36,36,36)\"}, \"type\": \"carpet\"}], \"choropleth\": [{\"colorbar\": {\"outlinewidth\": 0, \"tickcolor\": \"rgb(36,36,36)\", \"ticklen\": 8, \"ticks\": \"outside\", \"tickwidth\": 2}, \"type\": \"choropleth\"}], \"contour\": [{\"colorbar\": {\"outlinewidth\": 0, \"tickcolor\": \"rgb(36,36,36)\", \"ticklen\": 8, \"ticks\": \"outside\", \"tickwidth\": 2}, \"colorscale\": [[0.0, \"rgb(2,4,25)\"], [0.06274509803921569, \"rgb(24,15,41)\"], [0.12549019607843137, \"rgb(47,23,57)\"], [0.18823529411764706, \"rgb(71,28,72)\"], [0.25098039215686274, \"rgb(97,30,82)\"], [0.3137254901960784, \"rgb(123,30,89)\"], [0.3764705882352941, \"rgb(150,27,91)\"], [0.4392156862745098, \"rgb(177,22,88)\"], [0.5019607843137255, \"rgb(203,26,79)\"], [0.5647058823529412, \"rgb(223,47,67)\"], [0.6274509803921569, \"rgb(236,76,61)\"], [0.6901960784313725, \"rgb(242,107,73)\"], [0.7529411764705882, \"rgb(244,135,95)\"], [0.8156862745098039, \"rgb(245,162,122)\"], [0.8784313725490196, \"rgb(246,188,153)\"], [0.9411764705882353, \"rgb(247,212,187)\"], [1.0, \"rgb(250,234,220)\"]], \"type\": \"contour\"}], \"contourcarpet\": [{\"colorbar\": {\"outlinewidth\": 0, \"tickcolor\": \"rgb(36,36,36)\", \"ticklen\": 8, \"ticks\": \"outside\", \"tickwidth\": 2}, \"type\": \"contourcarpet\"}], \"heatmap\": [{\"colorbar\": {\"outlinewidth\": 0, \"tickcolor\": \"rgb(36,36,36)\", \"ticklen\": 8, \"ticks\": \"outside\", \"tickwidth\": 2}, \"colorscale\": [[0.0, \"rgb(2,4,25)\"], [0.06274509803921569, \"rgb(24,15,41)\"], [0.12549019607843137, \"rgb(47,23,57)\"], [0.18823529411764706, \"rgb(71,28,72)\"], [0.25098039215686274, \"rgb(97,30,82)\"], [0.3137254901960784, \"rgb(123,30,89)\"], [0.3764705882352941, \"rgb(150,27,91)\"], [0.4392156862745098, \"rgb(177,22,88)\"], [0.5019607843137255, \"rgb(203,26,79)\"], [0.5647058823529412, \"rgb(223,47,67)\"], [0.6274509803921569, \"rgb(236,76,61)\"], [0.6901960784313725, \"rgb(242,107,73)\"], [0.7529411764705882, \"rgb(244,135,95)\"], [0.8156862745098039, \"rgb(245,162,122)\"], [0.8784313725490196, \"rgb(246,188,153)\"], [0.9411764705882353, \"rgb(247,212,187)\"], [1.0, \"rgb(250,234,220)\"]], \"type\": \"heatmap\"}], \"heatmapgl\": [{\"colorbar\": {\"outlinewidth\": 0, \"tickcolor\": \"rgb(36,36,36)\", \"ticklen\": 8, \"ticks\": \"outside\", \"tickwidth\": 2}, \"colorscale\": [[0.0, \"rgb(2,4,25)\"], [0.06274509803921569, \"rgb(24,15,41)\"], [0.12549019607843137, \"rgb(47,23,57)\"], [0.18823529411764706, \"rgb(71,28,72)\"], [0.25098039215686274, \"rgb(97,30,82)\"], [0.3137254901960784, \"rgb(123,30,89)\"], [0.3764705882352941, \"rgb(150,27,91)\"], [0.4392156862745098, \"rgb(177,22,88)\"], [0.5019607843137255, \"rgb(203,26,79)\"], [0.5647058823529412, \"rgb(223,47,67)\"], [0.6274509803921569, \"rgb(236,76,61)\"], [0.6901960784313725, \"rgb(242,107,73)\"], [0.7529411764705882, \"rgb(244,135,95)\"], [0.8156862745098039, \"rgb(245,162,122)\"], [0.8784313725490196, \"rgb(246,188,153)\"], [0.9411764705882353, \"rgb(247,212,187)\"], [1.0, \"rgb(250,234,220)\"]], \"type\": \"heatmapgl\"}], \"histogram\": [{\"marker\": {\"colorbar\": {\"outlinewidth\": 0, \"tickcolor\": \"rgb(36,36,36)\", \"ticklen\": 8, \"ticks\": \"outside\", \"tickwidth\": 2}}, \"type\": \"histogram\"}], \"histogram2d\": [{\"colorbar\": {\"outlinewidth\": 0, \"tickcolor\": \"rgb(36,36,36)\", \"ticklen\": 8, \"ticks\": \"outside\", \"tickwidth\": 2}, \"colorscale\": [[0.0, \"rgb(2,4,25)\"], [0.06274509803921569, \"rgb(24,15,41)\"], [0.12549019607843137, \"rgb(47,23,57)\"], [0.18823529411764706, \"rgb(71,28,72)\"], [0.25098039215686274, \"rgb(97,30,82)\"], [0.3137254901960784, \"rgb(123,30,89)\"], [0.3764705882352941, \"rgb(150,27,91)\"], [0.4392156862745098, \"rgb(177,22,88)\"], [0.5019607843137255, \"rgb(203,26,79)\"], [0.5647058823529412, \"rgb(223,47,67)\"], [0.6274509803921569, \"rgb(236,76,61)\"], [0.6901960784313725, \"rgb(242,107,73)\"], [0.7529411764705882, \"rgb(244,135,95)\"], [0.8156862745098039, \"rgb(245,162,122)\"], [0.8784313725490196, \"rgb(246,188,153)\"], [0.9411764705882353, \"rgb(247,212,187)\"], [1.0, \"rgb(250,234,220)\"]], \"type\": \"histogram2d\"}], \"histogram2dcontour\": [{\"colorbar\": {\"outlinewidth\": 0, \"tickcolor\": \"rgb(36,36,36)\", \"ticklen\": 8, \"ticks\": \"outside\", \"tickwidth\": 2}, \"colorscale\": [[0.0, \"rgb(2,4,25)\"], [0.06274509803921569, \"rgb(24,15,41)\"], [0.12549019607843137, \"rgb(47,23,57)\"], [0.18823529411764706, \"rgb(71,28,72)\"], [0.25098039215686274, \"rgb(97,30,82)\"], [0.3137254901960784, \"rgb(123,30,89)\"], [0.3764705882352941, \"rgb(150,27,91)\"], [0.4392156862745098, \"rgb(177,22,88)\"], [0.5019607843137255, \"rgb(203,26,79)\"], [0.5647058823529412, \"rgb(223,47,67)\"], [0.6274509803921569, \"rgb(236,76,61)\"], [0.6901960784313725, \"rgb(242,107,73)\"], [0.7529411764705882, \"rgb(244,135,95)\"], [0.8156862745098039, \"rgb(245,162,122)\"], [0.8784313725490196, \"rgb(246,188,153)\"], [0.9411764705882353, \"rgb(247,212,187)\"], [1.0, \"rgb(250,234,220)\"]], \"type\": \"histogram2dcontour\"}], \"mesh3d\": [{\"colorbar\": {\"outlinewidth\": 0, \"tickcolor\": \"rgb(36,36,36)\", \"ticklen\": 8, \"ticks\": \"outside\", \"tickwidth\": 2}, \"type\": \"mesh3d\"}], \"parcoords\": [{\"line\": {\"colorbar\": {\"outlinewidth\": 0, \"tickcolor\": \"rgb(36,36,36)\", \"ticklen\": 8, \"ticks\": \"outside\", \"tickwidth\": 2}}, \"type\": \"parcoords\"}], \"pie\": [{\"automargin\": true, \"type\": \"pie\"}], \"scatter\": [{\"marker\": {\"colorbar\": {\"outlinewidth\": 0, \"tickcolor\": \"rgb(36,36,36)\", \"ticklen\": 8, \"ticks\": \"outside\", \"tickwidth\": 2}}, \"type\": \"scatter\"}], \"scatter3d\": [{\"line\": {\"colorbar\": {\"outlinewidth\": 0, \"tickcolor\": \"rgb(36,36,36)\", \"ticklen\": 8, \"ticks\": \"outside\", \"tickwidth\": 2}}, \"marker\": {\"colorbar\": {\"outlinewidth\": 0, \"tickcolor\": \"rgb(36,36,36)\", \"ticklen\": 8, \"ticks\": \"outside\", \"tickwidth\": 2}}, \"type\": \"scatter3d\"}], \"scattercarpet\": [{\"marker\": {\"colorbar\": {\"outlinewidth\": 0, \"tickcolor\": \"rgb(36,36,36)\", \"ticklen\": 8, \"ticks\": \"outside\", \"tickwidth\": 2}}, \"type\": \"scattercarpet\"}], \"scattergeo\": [{\"marker\": {\"colorbar\": {\"outlinewidth\": 0, \"tickcolor\": \"rgb(36,36,36)\", \"ticklen\": 8, \"ticks\": \"outside\", \"tickwidth\": 2}}, \"type\": \"scattergeo\"}], \"scattergl\": [{\"marker\": {\"colorbar\": {\"outlinewidth\": 0, \"tickcolor\": \"rgb(36,36,36)\", \"ticklen\": 8, \"ticks\": \"outside\", \"tickwidth\": 2}}, \"type\": \"scattergl\"}], \"scattermapbox\": [{\"marker\": {\"colorbar\": {\"outlinewidth\": 0, \"tickcolor\": \"rgb(36,36,36)\", \"ticklen\": 8, \"ticks\": \"outside\", \"tickwidth\": 2}}, \"type\": \"scattermapbox\"}], \"scatterpolar\": [{\"marker\": {\"colorbar\": {\"outlinewidth\": 0, \"tickcolor\": \"rgb(36,36,36)\", \"ticklen\": 8, \"ticks\": \"outside\", \"tickwidth\": 2}}, \"type\": \"scatterpolar\"}], \"scatterpolargl\": [{\"marker\": {\"colorbar\": {\"outlinewidth\": 0, \"tickcolor\": \"rgb(36,36,36)\", \"ticklen\": 8, \"ticks\": \"outside\", \"tickwidth\": 2}}, \"type\": \"scatterpolargl\"}], \"scatterternary\": [{\"marker\": {\"colorbar\": {\"outlinewidth\": 0, \"tickcolor\": \"rgb(36,36,36)\", \"ticklen\": 8, \"ticks\": \"outside\", \"tickwidth\": 2}}, \"type\": \"scatterternary\"}], \"surface\": [{\"colorbar\": {\"outlinewidth\": 0, \"tickcolor\": \"rgb(36,36,36)\", \"ticklen\": 8, \"ticks\": \"outside\", \"tickwidth\": 2}, \"colorscale\": [[0.0, \"rgb(2,4,25)\"], [0.06274509803921569, \"rgb(24,15,41)\"], [0.12549019607843137, \"rgb(47,23,57)\"], [0.18823529411764706, \"rgb(71,28,72)\"], [0.25098039215686274, \"rgb(97,30,82)\"], [0.3137254901960784, \"rgb(123,30,89)\"], [0.3764705882352941, \"rgb(150,27,91)\"], [0.4392156862745098, \"rgb(177,22,88)\"], [0.5019607843137255, \"rgb(203,26,79)\"], [0.5647058823529412, \"rgb(223,47,67)\"], [0.6274509803921569, \"rgb(236,76,61)\"], [0.6901960784313725, \"rgb(242,107,73)\"], [0.7529411764705882, \"rgb(244,135,95)\"], [0.8156862745098039, \"rgb(245,162,122)\"], [0.8784313725490196, \"rgb(246,188,153)\"], [0.9411764705882353, \"rgb(247,212,187)\"], [1.0, \"rgb(250,234,220)\"]], \"type\": \"surface\"}], \"table\": [{\"cells\": {\"fill\": {\"color\": \"rgb(231,231,240)\"}, \"line\": {\"color\": \"white\"}}, \"header\": {\"fill\": {\"color\": \"rgb(183,183,191)\"}, \"line\": {\"color\": \"white\"}}, \"type\": \"table\"}]}, \"layout\": {\"annotationdefaults\": {\"arrowcolor\": \"rgb(67,103,167)\"}, \"coloraxis\": {\"colorbar\": {\"outlinewidth\": 0, \"tickcolor\": \"rgb(36,36,36)\", \"ticklen\": 8, \"ticks\": \"outside\", \"tickwidth\": 2}}, \"colorscale\": {\"sequential\": [[0.0, \"rgb(2,4,25)\"], [0.06274509803921569, \"rgb(24,15,41)\"], [0.12549019607843137, \"rgb(47,23,57)\"], [0.18823529411764706, \"rgb(71,28,72)\"], [0.25098039215686274, \"rgb(97,30,82)\"], [0.3137254901960784, \"rgb(123,30,89)\"], [0.3764705882352941, \"rgb(150,27,91)\"], [0.4392156862745098, \"rgb(177,22,88)\"], [0.5019607843137255, \"rgb(203,26,79)\"], [0.5647058823529412, \"rgb(223,47,67)\"], [0.6274509803921569, \"rgb(236,76,61)\"], [0.6901960784313725, \"rgb(242,107,73)\"], [0.7529411764705882, \"rgb(244,135,95)\"], [0.8156862745098039, \"rgb(245,162,122)\"], [0.8784313725490196, \"rgb(246,188,153)\"], [0.9411764705882353, \"rgb(247,212,187)\"], [1.0, \"rgb(250,234,220)\"]], \"sequentialminus\": [[0.0, \"rgb(2,4,25)\"], [0.06274509803921569, \"rgb(24,15,41)\"], [0.12549019607843137, \"rgb(47,23,57)\"], [0.18823529411764706, \"rgb(71,28,72)\"], [0.25098039215686274, \"rgb(97,30,82)\"], [0.3137254901960784, \"rgb(123,30,89)\"], [0.3764705882352941, \"rgb(150,27,91)\"], [0.4392156862745098, \"rgb(177,22,88)\"], [0.5019607843137255, \"rgb(203,26,79)\"], [0.5647058823529412, \"rgb(223,47,67)\"], [0.6274509803921569, \"rgb(236,76,61)\"], [0.6901960784313725, \"rgb(242,107,73)\"], [0.7529411764705882, \"rgb(244,135,95)\"], [0.8156862745098039, \"rgb(245,162,122)\"], [0.8784313725490196, \"rgb(246,188,153)\"], [0.9411764705882353, \"rgb(247,212,187)\"], [1.0, \"rgb(250,234,220)\"]]}, \"colorway\": [\"rgb(76,114,176)\", \"rgb(221,132,82)\", \"rgb(85,168,104)\", \"rgb(196,78,82)\", \"rgb(129,114,179)\", \"rgb(147,120,96)\", \"rgb(218,139,195)\", \"rgb(140,140,140)\", \"rgb(204,185,116)\", \"rgb(100,181,205)\"], \"font\": {\"color\": \"rgb(36,36,36)\"}, \"geo\": {\"bgcolor\": \"white\", \"lakecolor\": \"white\", \"landcolor\": \"rgb(234,234,242)\", \"showlakes\": true, \"showland\": true, \"subunitcolor\": \"white\"}, \"hoverlabel\": {\"align\": \"left\"}, \"hovermode\": \"closest\", \"paper_bgcolor\": \"white\", \"plot_bgcolor\": \"rgb(234,234,242)\", \"polar\": {\"angularaxis\": {\"gridcolor\": \"white\", \"linecolor\": \"white\", \"showgrid\": true, \"ticks\": \"\"}, \"bgcolor\": \"rgb(234,234,242)\", \"radialaxis\": {\"gridcolor\": \"white\", \"linecolor\": \"white\", \"showgrid\": true, \"ticks\": \"\"}}, \"scene\": {\"xaxis\": {\"backgroundcolor\": \"rgb(234,234,242)\", \"gridcolor\": \"white\", \"gridwidth\": 2, \"linecolor\": \"white\", \"showbackground\": true, \"showgrid\": true, \"ticks\": \"\", \"zerolinecolor\": \"white\"}, \"yaxis\": {\"backgroundcolor\": \"rgb(234,234,242)\", \"gridcolor\": \"white\", \"gridwidth\": 2, \"linecolor\": \"white\", \"showbackground\": true, \"showgrid\": true, \"ticks\": \"\", \"zerolinecolor\": \"white\"}, \"zaxis\": {\"backgroundcolor\": \"rgb(234,234,242)\", \"gridcolor\": \"white\", \"gridwidth\": 2, \"linecolor\": \"white\", \"showbackground\": true, \"showgrid\": true, \"ticks\": \"\", \"zerolinecolor\": \"white\"}}, \"shapedefaults\": {\"fillcolor\": \"rgb(67,103,167)\", \"line\": {\"width\": 0}, \"opacity\": 0.5}, \"ternary\": {\"aaxis\": {\"gridcolor\": \"white\", \"linecolor\": \"white\", \"showgrid\": true, \"ticks\": \"\"}, \"baxis\": {\"gridcolor\": \"white\", \"linecolor\": \"white\", \"showgrid\": true, \"ticks\": \"\"}, \"bgcolor\": \"rgb(234,234,242)\", \"caxis\": {\"gridcolor\": \"white\", \"linecolor\": \"white\", \"showgrid\": true, \"ticks\": \"\"}}, \"xaxis\": {\"automargin\": true, \"gridcolor\": \"white\", \"linecolor\": \"white\", \"showgrid\": true, \"ticks\": \"\", \"title\": {\"standoff\": 15}, \"zerolinecolor\": \"white\"}, \"yaxis\": {\"automargin\": true, \"gridcolor\": \"white\", \"linecolor\": \"white\", \"showgrid\": true, \"ticks\": \"\", \"title\": {\"standoff\": 15}, \"zerolinecolor\": \"white\"}}}, \"title\": {\"text\": \" Education Distribution\", \"x\": 0.5}, \"xaxis\": {\"anchor\": \"y\", \"domain\": [0.0, 1.0], \"title\": {\"text\": \"Education\"}}, \"yaxis\": {\"anchor\": \"x\", \"domain\": [0.0, 1.0], \"title\": {\"text\": \"Count\"}}},\n",
              "                        {\"responsive\": true}\n",
              "                    ).then(function(){\n",
              "                            \n",
              "var gd = document.getElementById('096c3931-e243-41c5-8543-7fc2052e1c70');\n",
              "var x = new MutationObserver(function (mutations, observer) {{\n",
              "        var display = window.getComputedStyle(gd).display;\n",
              "        if (!display || display === 'none') {{\n",
              "            console.log([gd, 'removed!']);\n",
              "            Plotly.purge(gd);\n",
              "            observer.disconnect();\n",
              "        }}\n",
              "}});\n",
              "\n",
              "// Listen for the removal of the full notebook cells\n",
              "var notebookContainer = gd.closest('#notebook-container');\n",
              "if (notebookContainer) {{\n",
              "    x.observe(notebookContainer, {childList: true});\n",
              "}}\n",
              "\n",
              "// Listen for the clearing of the current output cell\n",
              "var outputEl = gd.closest('.output');\n",
              "if (outputEl) {{\n",
              "    x.observe(outputEl, {childList: true});\n",
              "}}\n",
              "\n",
              "                        })\n",
              "                };\n",
              "                \n",
              "            </script>\n",
              "        </div>\n",
              "</body>\n",
              "</html>"
            ]
          },
          "metadata": {}
        }
      ]
    },
    {
      "cell_type": "markdown",
      "metadata": {
        "id": "S2dGBo6BObDd"
      },
      "source": [
        "Trình độ đã đạt được và dự định học là Master’s degree và Bachelor’s degree"
      ]
    },
    {
      "cell_type": "markdown",
      "metadata": {
        "id": "XF3Ko696Owyh"
      },
      "source": [
        "#Q5: vị trí công việc hiện tại (Job)"
      ]
    },
    {
      "cell_type": "code",
      "metadata": {
        "colab": {
          "base_uri": "https://localhost:8080/"
        },
        "id": "kQvCfgC0VQUL",
        "outputId": "527bd050-580b-4b14-b072-9666f353450c"
      },
      "source": [
        "df['Q5'].head()"
      ],
      "execution_count": null,
      "outputs": [
        {
          "output_type": "execute_result",
          "data": {
            "text/plain": [
              "1              Student\n",
              "2        Data Engineer\n",
              "3    Software Engineer\n",
              "4       Data Scientist\n",
              "5    Software Engineer\n",
              "Name: Q5, dtype: object"
            ]
          },
          "metadata": {},
          "execution_count": 60
        }
      ]
    },
    {
      "cell_type": "code",
      "metadata": {
        "colab": {
          "base_uri": "https://localhost:8080/"
        },
        "id": "KFg7AhQpgUnV",
        "outputId": "35d2c33e-e4c9-4507-8a5d-94ec6bc3fc6f"
      },
      "source": [
        "df['Q5'].value_counts()"
      ],
      "execution_count": null,
      "outputs": [
        {
          "output_type": "execute_result",
          "data": {
            "text/plain": [
              "Student                      5171\n",
              "Data Scientist               2676\n",
              "Software Engineer            1968\n",
              "Other                        1737\n",
              "Currently not employed       1652\n",
              "Data Analyst                 1475\n",
              "Research Scientist           1174\n",
              "Machine Learning Engineer    1082\n",
              "Business Analyst              798\n",
              "Product/Project Manager       692\n",
              "Data Engineer                 437\n",
              "Statistician                  290\n",
              "DBA/Database Engineer         125\n",
              "Name: Q5, dtype: int64"
            ]
          },
          "metadata": {},
          "execution_count": 61
        }
      ]
    },
    {
      "cell_type": "code",
      "metadata": {
        "colab": {
          "base_uri": "https://localhost:8080/"
        },
        "id": "DvZo1qK4gbnd",
        "outputId": "a72654ac-0585-486d-dbcb-a12d8a3eb456"
      },
      "source": [
        "df['Q5'].isnull().sum(axis=0)"
      ],
      "execution_count": null,
      "outputs": [
        {
          "output_type": "execute_result",
          "data": {
            "text/plain": [
              "759"
            ]
          },
          "metadata": {},
          "execution_count": 62
        }
      ]
    },
    {
      "cell_type": "code",
      "metadata": {
        "id": "rAFT69sqjZQE"
      },
      "source": [
        "#Điền dữ liệu thiếu bởi dữ liệu nhiều nhất\n",
        "df.Q5.fillna(df.Q5.mode()[0],inplace=True)"
      ],
      "execution_count": null,
      "outputs": []
    },
    {
      "cell_type": "code",
      "metadata": {
        "colab": {
          "base_uri": "https://localhost:8080/",
          "height": 452
        },
        "id": "MUKkd99-msQv",
        "outputId": "5fec03f9-64c1-4941-9ae4-f953c86ecad1"
      },
      "source": [
        "job = pd.DataFrame(df['Q5'].value_counts())\n",
        "job.sort_index(inplace=True)\n",
        "job.reset_index(inplace = True)\n",
        "job.columns = [\"Job\", \"Count\"]\n",
        "job"
      ],
      "execution_count": null,
      "outputs": [
        {
          "output_type": "execute_result",
          "data": {
            "text/html": [
              "<div>\n",
              "<style scoped>\n",
              "    .dataframe tbody tr th:only-of-type {\n",
              "        vertical-align: middle;\n",
              "    }\n",
              "\n",
              "    .dataframe tbody tr th {\n",
              "        vertical-align: top;\n",
              "    }\n",
              "\n",
              "    .dataframe thead th {\n",
              "        text-align: right;\n",
              "    }\n",
              "</style>\n",
              "<table border=\"1\" class=\"dataframe\">\n",
              "  <thead>\n",
              "    <tr style=\"text-align: right;\">\n",
              "      <th></th>\n",
              "      <th>Job</th>\n",
              "      <th>Count</th>\n",
              "    </tr>\n",
              "  </thead>\n",
              "  <tbody>\n",
              "    <tr>\n",
              "      <th>0</th>\n",
              "      <td>Business Analyst</td>\n",
              "      <td>798</td>\n",
              "    </tr>\n",
              "    <tr>\n",
              "      <th>1</th>\n",
              "      <td>Currently not employed</td>\n",
              "      <td>1652</td>\n",
              "    </tr>\n",
              "    <tr>\n",
              "      <th>2</th>\n",
              "      <td>DBA/Database Engineer</td>\n",
              "      <td>125</td>\n",
              "    </tr>\n",
              "    <tr>\n",
              "      <th>3</th>\n",
              "      <td>Data Analyst</td>\n",
              "      <td>1475</td>\n",
              "    </tr>\n",
              "    <tr>\n",
              "      <th>4</th>\n",
              "      <td>Data Engineer</td>\n",
              "      <td>437</td>\n",
              "    </tr>\n",
              "    <tr>\n",
              "      <th>5</th>\n",
              "      <td>Data Scientist</td>\n",
              "      <td>2676</td>\n",
              "    </tr>\n",
              "    <tr>\n",
              "      <th>6</th>\n",
              "      <td>Machine Learning Engineer</td>\n",
              "      <td>1082</td>\n",
              "    </tr>\n",
              "    <tr>\n",
              "      <th>7</th>\n",
              "      <td>Other</td>\n",
              "      <td>1737</td>\n",
              "    </tr>\n",
              "    <tr>\n",
              "      <th>8</th>\n",
              "      <td>Product/Project Manager</td>\n",
              "      <td>692</td>\n",
              "    </tr>\n",
              "    <tr>\n",
              "      <th>9</th>\n",
              "      <td>Research Scientist</td>\n",
              "      <td>1174</td>\n",
              "    </tr>\n",
              "    <tr>\n",
              "      <th>10</th>\n",
              "      <td>Software Engineer</td>\n",
              "      <td>1968</td>\n",
              "    </tr>\n",
              "    <tr>\n",
              "      <th>11</th>\n",
              "      <td>Statistician</td>\n",
              "      <td>290</td>\n",
              "    </tr>\n",
              "    <tr>\n",
              "      <th>12</th>\n",
              "      <td>Student</td>\n",
              "      <td>5930</td>\n",
              "    </tr>\n",
              "  </tbody>\n",
              "</table>\n",
              "</div>"
            ],
            "text/plain": [
              "                          Job  Count\n",
              "0            Business Analyst    798\n",
              "1      Currently not employed   1652\n",
              "2       DBA/Database Engineer    125\n",
              "3                Data Analyst   1475\n",
              "4               Data Engineer    437\n",
              "5              Data Scientist   2676\n",
              "6   Machine Learning Engineer   1082\n",
              "7                       Other   1737\n",
              "8     Product/Project Manager    692\n",
              "9          Research Scientist   1174\n",
              "10          Software Engineer   1968\n",
              "11               Statistician    290\n",
              "12                    Student   5930"
            ]
          },
          "metadata": {},
          "execution_count": 64
        }
      ]
    },
    {
      "cell_type": "code",
      "metadata": {
        "colab": {
          "base_uri": "https://localhost:8080/",
          "height": 542
        },
        "id": "q_6NxxyJmKTj",
        "outputId": "9583cadb-c39a-4193-a802-f19ee1c25176"
      },
      "source": [
        "fig = px.bar(data_frame=job, \n",
        "      x = \"Job\", \n",
        "      y = \"Count\", \n",
        "      title= \" Job Distribution\", \n",
        "      template=\"seaborn\")\n",
        "fig.update_layout(title_x=0.5)"
      ],
      "execution_count": null,
      "outputs": [
        {
          "output_type": "display_data",
          "data": {
            "text/html": [
              "<html>\n",
              "<head><meta charset=\"utf-8\" /></head>\n",
              "<body>\n",
              "    <div>\n",
              "            <script src=\"https://cdnjs.cloudflare.com/ajax/libs/mathjax/2.7.5/MathJax.js?config=TeX-AMS-MML_SVG\"></script><script type=\"text/javascript\">if (window.MathJax) {MathJax.Hub.Config({SVG: {font: \"STIX-Web\"}});}</script>\n",
              "                <script type=\"text/javascript\">window.PlotlyConfig = {MathJaxConfig: 'local'};</script>\n",
              "        <script src=\"https://cdn.plot.ly/plotly-latest.min.js\"></script>    \n",
              "            <div id=\"78105548-7fa7-4fb1-ab1f-5805eb32c858\" class=\"plotly-graph-div\" style=\"height:525px; width:100%;\"></div>\n",
              "            <script type=\"text/javascript\">\n",
              "                \n",
              "                    window.PLOTLYENV=window.PLOTLYENV || {};\n",
              "                    \n",
              "                if (document.getElementById(\"78105548-7fa7-4fb1-ab1f-5805eb32c858\")) {\n",
              "                    Plotly.newPlot(\n",
              "                        '78105548-7fa7-4fb1-ab1f-5805eb32c858',\n",
              "                        [{\"alignmentgroup\": \"True\", \"hoverlabel\": {\"namelength\": 0}, \"hovertemplate\": \"Job=%{x}<br>Count=%{y}\", \"legendgroup\": \"\", \"marker\": {\"color\": \"rgb(76,114,176)\"}, \"name\": \"\", \"offsetgroup\": \"\", \"orientation\": \"v\", \"showlegend\": false, \"textposition\": \"auto\", \"type\": \"bar\", \"x\": [\"Business Analyst\", \"Currently not employed\", \"DBA/Database Engineer\", \"Data Analyst\", \"Data Engineer\", \"Data Scientist\", \"Machine Learning Engineer\", \"Other\", \"Product/Project Manager\", \"Research Scientist\", \"Software Engineer\", \"Statistician\", \"Student\"], \"xaxis\": \"x\", \"y\": [798, 1652, 125, 1475, 437, 2676, 1082, 1737, 692, 1174, 1968, 290, 5930], \"yaxis\": \"y\"}],\n",
              "                        {\"barmode\": \"relative\", \"legend\": {\"tracegroupgap\": 0}, \"template\": {\"data\": {\"bar\": [{\"error_x\": {\"color\": \"rgb(36,36,36)\"}, \"error_y\": {\"color\": \"rgb(36,36,36)\"}, \"marker\": {\"line\": {\"color\": \"rgb(234,234,242)\", \"width\": 0.5}}, \"type\": \"bar\"}], \"barpolar\": [{\"marker\": {\"line\": {\"color\": \"rgb(234,234,242)\", \"width\": 0.5}}, \"type\": \"barpolar\"}], \"carpet\": [{\"aaxis\": {\"endlinecolor\": \"rgb(36,36,36)\", \"gridcolor\": \"white\", \"linecolor\": \"white\", \"minorgridcolor\": \"white\", \"startlinecolor\": \"rgb(36,36,36)\"}, \"baxis\": {\"endlinecolor\": \"rgb(36,36,36)\", \"gridcolor\": \"white\", \"linecolor\": \"white\", \"minorgridcolor\": \"white\", \"startlinecolor\": \"rgb(36,36,36)\"}, \"type\": \"carpet\"}], \"choropleth\": [{\"colorbar\": {\"outlinewidth\": 0, \"tickcolor\": \"rgb(36,36,36)\", \"ticklen\": 8, \"ticks\": \"outside\", \"tickwidth\": 2}, \"type\": \"choropleth\"}], \"contour\": [{\"colorbar\": {\"outlinewidth\": 0, \"tickcolor\": \"rgb(36,36,36)\", \"ticklen\": 8, \"ticks\": \"outside\", \"tickwidth\": 2}, \"colorscale\": [[0.0, \"rgb(2,4,25)\"], [0.06274509803921569, \"rgb(24,15,41)\"], [0.12549019607843137, \"rgb(47,23,57)\"], [0.18823529411764706, \"rgb(71,28,72)\"], [0.25098039215686274, \"rgb(97,30,82)\"], [0.3137254901960784, \"rgb(123,30,89)\"], [0.3764705882352941, \"rgb(150,27,91)\"], [0.4392156862745098, \"rgb(177,22,88)\"], [0.5019607843137255, \"rgb(203,26,79)\"], [0.5647058823529412, \"rgb(223,47,67)\"], [0.6274509803921569, \"rgb(236,76,61)\"], [0.6901960784313725, \"rgb(242,107,73)\"], [0.7529411764705882, \"rgb(244,135,95)\"], [0.8156862745098039, \"rgb(245,162,122)\"], [0.8784313725490196, \"rgb(246,188,153)\"], [0.9411764705882353, \"rgb(247,212,187)\"], [1.0, \"rgb(250,234,220)\"]], \"type\": \"contour\"}], \"contourcarpet\": [{\"colorbar\": {\"outlinewidth\": 0, \"tickcolor\": \"rgb(36,36,36)\", \"ticklen\": 8, \"ticks\": \"outside\", \"tickwidth\": 2}, \"type\": \"contourcarpet\"}], \"heatmap\": [{\"colorbar\": {\"outlinewidth\": 0, \"tickcolor\": \"rgb(36,36,36)\", \"ticklen\": 8, \"ticks\": \"outside\", \"tickwidth\": 2}, \"colorscale\": [[0.0, \"rgb(2,4,25)\"], [0.06274509803921569, \"rgb(24,15,41)\"], [0.12549019607843137, \"rgb(47,23,57)\"], [0.18823529411764706, \"rgb(71,28,72)\"], [0.25098039215686274, \"rgb(97,30,82)\"], [0.3137254901960784, \"rgb(123,30,89)\"], [0.3764705882352941, \"rgb(150,27,91)\"], [0.4392156862745098, \"rgb(177,22,88)\"], [0.5019607843137255, \"rgb(203,26,79)\"], [0.5647058823529412, \"rgb(223,47,67)\"], [0.6274509803921569, \"rgb(236,76,61)\"], [0.6901960784313725, \"rgb(242,107,73)\"], [0.7529411764705882, \"rgb(244,135,95)\"], [0.8156862745098039, \"rgb(245,162,122)\"], [0.8784313725490196, \"rgb(246,188,153)\"], [0.9411764705882353, \"rgb(247,212,187)\"], [1.0, \"rgb(250,234,220)\"]], \"type\": \"heatmap\"}], \"heatmapgl\": [{\"colorbar\": {\"outlinewidth\": 0, \"tickcolor\": \"rgb(36,36,36)\", \"ticklen\": 8, \"ticks\": \"outside\", \"tickwidth\": 2}, \"colorscale\": [[0.0, \"rgb(2,4,25)\"], [0.06274509803921569, \"rgb(24,15,41)\"], [0.12549019607843137, \"rgb(47,23,57)\"], [0.18823529411764706, \"rgb(71,28,72)\"], [0.25098039215686274, \"rgb(97,30,82)\"], [0.3137254901960784, \"rgb(123,30,89)\"], [0.3764705882352941, \"rgb(150,27,91)\"], [0.4392156862745098, \"rgb(177,22,88)\"], [0.5019607843137255, \"rgb(203,26,79)\"], [0.5647058823529412, \"rgb(223,47,67)\"], [0.6274509803921569, \"rgb(236,76,61)\"], [0.6901960784313725, \"rgb(242,107,73)\"], [0.7529411764705882, \"rgb(244,135,95)\"], [0.8156862745098039, \"rgb(245,162,122)\"], [0.8784313725490196, \"rgb(246,188,153)\"], [0.9411764705882353, \"rgb(247,212,187)\"], [1.0, \"rgb(250,234,220)\"]], \"type\": \"heatmapgl\"}], \"histogram\": [{\"marker\": {\"colorbar\": {\"outlinewidth\": 0, \"tickcolor\": \"rgb(36,36,36)\", \"ticklen\": 8, \"ticks\": \"outside\", \"tickwidth\": 2}}, \"type\": \"histogram\"}], \"histogram2d\": [{\"colorbar\": {\"outlinewidth\": 0, \"tickcolor\": \"rgb(36,36,36)\", \"ticklen\": 8, \"ticks\": \"outside\", \"tickwidth\": 2}, \"colorscale\": [[0.0, \"rgb(2,4,25)\"], [0.06274509803921569, \"rgb(24,15,41)\"], [0.12549019607843137, \"rgb(47,23,57)\"], [0.18823529411764706, \"rgb(71,28,72)\"], [0.25098039215686274, \"rgb(97,30,82)\"], [0.3137254901960784, \"rgb(123,30,89)\"], [0.3764705882352941, \"rgb(150,27,91)\"], [0.4392156862745098, \"rgb(177,22,88)\"], [0.5019607843137255, \"rgb(203,26,79)\"], [0.5647058823529412, \"rgb(223,47,67)\"], [0.6274509803921569, \"rgb(236,76,61)\"], [0.6901960784313725, \"rgb(242,107,73)\"], [0.7529411764705882, \"rgb(244,135,95)\"], [0.8156862745098039, \"rgb(245,162,122)\"], [0.8784313725490196, \"rgb(246,188,153)\"], [0.9411764705882353, \"rgb(247,212,187)\"], [1.0, \"rgb(250,234,220)\"]], \"type\": \"histogram2d\"}], \"histogram2dcontour\": [{\"colorbar\": {\"outlinewidth\": 0, \"tickcolor\": \"rgb(36,36,36)\", \"ticklen\": 8, \"ticks\": \"outside\", \"tickwidth\": 2}, \"colorscale\": [[0.0, \"rgb(2,4,25)\"], [0.06274509803921569, \"rgb(24,15,41)\"], [0.12549019607843137, \"rgb(47,23,57)\"], [0.18823529411764706, \"rgb(71,28,72)\"], [0.25098039215686274, \"rgb(97,30,82)\"], [0.3137254901960784, \"rgb(123,30,89)\"], [0.3764705882352941, \"rgb(150,27,91)\"], [0.4392156862745098, \"rgb(177,22,88)\"], [0.5019607843137255, \"rgb(203,26,79)\"], [0.5647058823529412, \"rgb(223,47,67)\"], [0.6274509803921569, \"rgb(236,76,61)\"], [0.6901960784313725, \"rgb(242,107,73)\"], [0.7529411764705882, \"rgb(244,135,95)\"], [0.8156862745098039, \"rgb(245,162,122)\"], [0.8784313725490196, \"rgb(246,188,153)\"], [0.9411764705882353, \"rgb(247,212,187)\"], [1.0, \"rgb(250,234,220)\"]], \"type\": \"histogram2dcontour\"}], \"mesh3d\": [{\"colorbar\": {\"outlinewidth\": 0, \"tickcolor\": \"rgb(36,36,36)\", \"ticklen\": 8, \"ticks\": \"outside\", \"tickwidth\": 2}, \"type\": \"mesh3d\"}], \"parcoords\": [{\"line\": {\"colorbar\": {\"outlinewidth\": 0, \"tickcolor\": \"rgb(36,36,36)\", \"ticklen\": 8, \"ticks\": \"outside\", \"tickwidth\": 2}}, \"type\": \"parcoords\"}], \"pie\": [{\"automargin\": true, \"type\": \"pie\"}], \"scatter\": [{\"marker\": {\"colorbar\": {\"outlinewidth\": 0, \"tickcolor\": \"rgb(36,36,36)\", \"ticklen\": 8, \"ticks\": \"outside\", \"tickwidth\": 2}}, \"type\": \"scatter\"}], \"scatter3d\": [{\"line\": {\"colorbar\": {\"outlinewidth\": 0, \"tickcolor\": \"rgb(36,36,36)\", \"ticklen\": 8, \"ticks\": \"outside\", \"tickwidth\": 2}}, \"marker\": {\"colorbar\": {\"outlinewidth\": 0, \"tickcolor\": \"rgb(36,36,36)\", \"ticklen\": 8, \"ticks\": \"outside\", \"tickwidth\": 2}}, \"type\": \"scatter3d\"}], \"scattercarpet\": [{\"marker\": {\"colorbar\": {\"outlinewidth\": 0, \"tickcolor\": \"rgb(36,36,36)\", \"ticklen\": 8, \"ticks\": \"outside\", \"tickwidth\": 2}}, \"type\": \"scattercarpet\"}], \"scattergeo\": [{\"marker\": {\"colorbar\": {\"outlinewidth\": 0, \"tickcolor\": \"rgb(36,36,36)\", \"ticklen\": 8, \"ticks\": \"outside\", \"tickwidth\": 2}}, \"type\": \"scattergeo\"}], \"scattergl\": [{\"marker\": {\"colorbar\": {\"outlinewidth\": 0, \"tickcolor\": \"rgb(36,36,36)\", \"ticklen\": 8, \"ticks\": \"outside\", \"tickwidth\": 2}}, \"type\": \"scattergl\"}], \"scattermapbox\": [{\"marker\": {\"colorbar\": {\"outlinewidth\": 0, \"tickcolor\": \"rgb(36,36,36)\", \"ticklen\": 8, \"ticks\": \"outside\", \"tickwidth\": 2}}, \"type\": \"scattermapbox\"}], \"scatterpolar\": [{\"marker\": {\"colorbar\": {\"outlinewidth\": 0, \"tickcolor\": \"rgb(36,36,36)\", \"ticklen\": 8, \"ticks\": \"outside\", \"tickwidth\": 2}}, \"type\": \"scatterpolar\"}], \"scatterpolargl\": [{\"marker\": {\"colorbar\": {\"outlinewidth\": 0, \"tickcolor\": \"rgb(36,36,36)\", \"ticklen\": 8, \"ticks\": \"outside\", \"tickwidth\": 2}}, \"type\": \"scatterpolargl\"}], \"scatterternary\": [{\"marker\": {\"colorbar\": {\"outlinewidth\": 0, \"tickcolor\": \"rgb(36,36,36)\", \"ticklen\": 8, \"ticks\": \"outside\", \"tickwidth\": 2}}, \"type\": \"scatterternary\"}], \"surface\": [{\"colorbar\": {\"outlinewidth\": 0, \"tickcolor\": \"rgb(36,36,36)\", \"ticklen\": 8, \"ticks\": \"outside\", \"tickwidth\": 2}, \"colorscale\": [[0.0, \"rgb(2,4,25)\"], [0.06274509803921569, \"rgb(24,15,41)\"], [0.12549019607843137, \"rgb(47,23,57)\"], [0.18823529411764706, \"rgb(71,28,72)\"], [0.25098039215686274, \"rgb(97,30,82)\"], [0.3137254901960784, \"rgb(123,30,89)\"], [0.3764705882352941, \"rgb(150,27,91)\"], [0.4392156862745098, \"rgb(177,22,88)\"], [0.5019607843137255, \"rgb(203,26,79)\"], [0.5647058823529412, \"rgb(223,47,67)\"], [0.6274509803921569, \"rgb(236,76,61)\"], [0.6901960784313725, \"rgb(242,107,73)\"], [0.7529411764705882, \"rgb(244,135,95)\"], [0.8156862745098039, \"rgb(245,162,122)\"], [0.8784313725490196, \"rgb(246,188,153)\"], [0.9411764705882353, \"rgb(247,212,187)\"], [1.0, \"rgb(250,234,220)\"]], \"type\": \"surface\"}], \"table\": [{\"cells\": {\"fill\": {\"color\": \"rgb(231,231,240)\"}, \"line\": {\"color\": \"white\"}}, \"header\": {\"fill\": {\"color\": \"rgb(183,183,191)\"}, \"line\": {\"color\": \"white\"}}, \"type\": \"table\"}]}, \"layout\": {\"annotationdefaults\": {\"arrowcolor\": \"rgb(67,103,167)\"}, \"coloraxis\": {\"colorbar\": {\"outlinewidth\": 0, \"tickcolor\": \"rgb(36,36,36)\", \"ticklen\": 8, \"ticks\": \"outside\", \"tickwidth\": 2}}, \"colorscale\": {\"sequential\": [[0.0, \"rgb(2,4,25)\"], [0.06274509803921569, \"rgb(24,15,41)\"], [0.12549019607843137, \"rgb(47,23,57)\"], [0.18823529411764706, \"rgb(71,28,72)\"], [0.25098039215686274, \"rgb(97,30,82)\"], [0.3137254901960784, \"rgb(123,30,89)\"], [0.3764705882352941, \"rgb(150,27,91)\"], [0.4392156862745098, \"rgb(177,22,88)\"], [0.5019607843137255, \"rgb(203,26,79)\"], [0.5647058823529412, \"rgb(223,47,67)\"], [0.6274509803921569, \"rgb(236,76,61)\"], [0.6901960784313725, \"rgb(242,107,73)\"], [0.7529411764705882, \"rgb(244,135,95)\"], [0.8156862745098039, \"rgb(245,162,122)\"], [0.8784313725490196, \"rgb(246,188,153)\"], [0.9411764705882353, \"rgb(247,212,187)\"], [1.0, \"rgb(250,234,220)\"]], \"sequentialminus\": [[0.0, \"rgb(2,4,25)\"], [0.06274509803921569, \"rgb(24,15,41)\"], [0.12549019607843137, \"rgb(47,23,57)\"], [0.18823529411764706, \"rgb(71,28,72)\"], [0.25098039215686274, \"rgb(97,30,82)\"], [0.3137254901960784, \"rgb(123,30,89)\"], [0.3764705882352941, \"rgb(150,27,91)\"], [0.4392156862745098, \"rgb(177,22,88)\"], [0.5019607843137255, \"rgb(203,26,79)\"], [0.5647058823529412, \"rgb(223,47,67)\"], [0.6274509803921569, \"rgb(236,76,61)\"], [0.6901960784313725, \"rgb(242,107,73)\"], [0.7529411764705882, \"rgb(244,135,95)\"], [0.8156862745098039, \"rgb(245,162,122)\"], [0.8784313725490196, \"rgb(246,188,153)\"], [0.9411764705882353, \"rgb(247,212,187)\"], [1.0, \"rgb(250,234,220)\"]]}, \"colorway\": [\"rgb(76,114,176)\", \"rgb(221,132,82)\", \"rgb(85,168,104)\", \"rgb(196,78,82)\", \"rgb(129,114,179)\", \"rgb(147,120,96)\", \"rgb(218,139,195)\", \"rgb(140,140,140)\", \"rgb(204,185,116)\", \"rgb(100,181,205)\"], \"font\": {\"color\": \"rgb(36,36,36)\"}, \"geo\": {\"bgcolor\": \"white\", \"lakecolor\": \"white\", \"landcolor\": \"rgb(234,234,242)\", \"showlakes\": true, \"showland\": true, \"subunitcolor\": \"white\"}, \"hoverlabel\": {\"align\": \"left\"}, \"hovermode\": \"closest\", \"paper_bgcolor\": \"white\", \"plot_bgcolor\": \"rgb(234,234,242)\", \"polar\": {\"angularaxis\": {\"gridcolor\": \"white\", \"linecolor\": \"white\", \"showgrid\": true, \"ticks\": \"\"}, \"bgcolor\": \"rgb(234,234,242)\", \"radialaxis\": {\"gridcolor\": \"white\", \"linecolor\": \"white\", \"showgrid\": true, \"ticks\": \"\"}}, \"scene\": {\"xaxis\": {\"backgroundcolor\": \"rgb(234,234,242)\", \"gridcolor\": \"white\", \"gridwidth\": 2, \"linecolor\": \"white\", \"showbackground\": true, \"showgrid\": true, \"ticks\": \"\", \"zerolinecolor\": \"white\"}, \"yaxis\": {\"backgroundcolor\": \"rgb(234,234,242)\", \"gridcolor\": \"white\", \"gridwidth\": 2, \"linecolor\": \"white\", \"showbackground\": true, \"showgrid\": true, \"ticks\": \"\", \"zerolinecolor\": \"white\"}, \"zaxis\": {\"backgroundcolor\": \"rgb(234,234,242)\", \"gridcolor\": \"white\", \"gridwidth\": 2, \"linecolor\": \"white\", \"showbackground\": true, \"showgrid\": true, \"ticks\": \"\", \"zerolinecolor\": \"white\"}}, \"shapedefaults\": {\"fillcolor\": \"rgb(67,103,167)\", \"line\": {\"width\": 0}, \"opacity\": 0.5}, \"ternary\": {\"aaxis\": {\"gridcolor\": \"white\", \"linecolor\": \"white\", \"showgrid\": true, \"ticks\": \"\"}, \"baxis\": {\"gridcolor\": \"white\", \"linecolor\": \"white\", \"showgrid\": true, \"ticks\": \"\"}, \"bgcolor\": \"rgb(234,234,242)\", \"caxis\": {\"gridcolor\": \"white\", \"linecolor\": \"white\", \"showgrid\": true, \"ticks\": \"\"}}, \"xaxis\": {\"automargin\": true, \"gridcolor\": \"white\", \"linecolor\": \"white\", \"showgrid\": true, \"ticks\": \"\", \"title\": {\"standoff\": 15}, \"zerolinecolor\": \"white\"}, \"yaxis\": {\"automargin\": true, \"gridcolor\": \"white\", \"linecolor\": \"white\", \"showgrid\": true, \"ticks\": \"\", \"title\": {\"standoff\": 15}, \"zerolinecolor\": \"white\"}}}, \"title\": {\"text\": \" Job Distribution\", \"x\": 0.5}, \"xaxis\": {\"anchor\": \"y\", \"domain\": [0.0, 1.0], \"title\": {\"text\": \"Job\"}}, \"yaxis\": {\"anchor\": \"x\", \"domain\": [0.0, 1.0], \"title\": {\"text\": \"Count\"}}},\n",
              "                        {\"responsive\": true}\n",
              "                    ).then(function(){\n",
              "                            \n",
              "var gd = document.getElementById('78105548-7fa7-4fb1-ab1f-5805eb32c858');\n",
              "var x = new MutationObserver(function (mutations, observer) {{\n",
              "        var display = window.getComputedStyle(gd).display;\n",
              "        if (!display || display === 'none') {{\n",
              "            console.log([gd, 'removed!']);\n",
              "            Plotly.purge(gd);\n",
              "            observer.disconnect();\n",
              "        }}\n",
              "}});\n",
              "\n",
              "// Listen for the removal of the full notebook cells\n",
              "var notebookContainer = gd.closest('#notebook-container');\n",
              "if (notebookContainer) {{\n",
              "    x.observe(notebookContainer, {childList: true});\n",
              "}}\n",
              "\n",
              "// Listen for the clearing of the current output cell\n",
              "var outputEl = gd.closest('.output');\n",
              "if (outputEl) {{\n",
              "    x.observe(outputEl, {childList: true});\n",
              "}}\n",
              "\n",
              "                        })\n",
              "                };\n",
              "                \n",
              "            </script>\n",
              "        </div>\n",
              "</body>\n",
              "</html>"
            ]
          },
          "metadata": {}
        }
      ]
    },
    {
      "cell_type": "markdown",
      "metadata": {
        "id": "8FBgckrePKcl"
      },
      "source": [
        "Như vậy, người khảo sát chiếm nhiều nhất và chủ yếu là học sinh"
      ]
    },
    {
      "cell_type": "markdown",
      "metadata": {
        "id": "mPFOpc7NPTzf"
      },
      "source": [
        "#Q6: thời gian viết code"
      ]
    },
    {
      "cell_type": "code",
      "metadata": {
        "colab": {
          "base_uri": "https://localhost:8080/"
        },
        "id": "SYl3qc7lnNwz",
        "outputId": "abf81575-9e02-4eb6-b42f-97025e02e5a3"
      },
      "source": [
        "df['Q6'].head()"
      ],
      "execution_count": null,
      "outputs": [
        {
          "output_type": "execute_result",
          "data": {
            "text/plain": [
              "1     5-10 years\n",
              "2     5-10 years\n",
              "3    10-20 years\n",
              "4     5-10 years\n",
              "5      3-5 years\n",
              "Name: Q6, dtype: object"
            ]
          },
          "metadata": {},
          "execution_count": 66
        }
      ]
    },
    {
      "cell_type": "code",
      "metadata": {
        "colab": {
          "base_uri": "https://localhost:8080/"
        },
        "id": "T9Ai_TEvomR7",
        "outputId": "19d3e924-81a7-4c07-fa51-a8138dbf9e25"
      },
      "source": [
        "df['Q6'].value_counts()"
      ],
      "execution_count": null,
      "outputs": [
        {
          "output_type": "execute_result",
          "data": {
            "text/plain": [
              "3-5 years                    4546\n",
              "1-2 years                    4505\n",
              "< 1 years                    3313\n",
              "5-10 years                   2552\n",
              "10-20 years                  1751\n",
              "20+ years                    1329\n",
              "I have never written code    1124\n",
              "Name: Q6, dtype: int64"
            ]
          },
          "metadata": {},
          "execution_count": 67
        }
      ]
    },
    {
      "cell_type": "code",
      "metadata": {
        "colab": {
          "base_uri": "https://localhost:8080/"
        },
        "id": "-wegiVIitQ_P",
        "outputId": "edfdc12b-e6ad-4818-fa7a-1f8103f5181e"
      },
      "source": [
        "df['Q6'].isnull().sum(axis=0)"
      ],
      "execution_count": null,
      "outputs": [
        {
          "output_type": "execute_result",
          "data": {
            "text/plain": [
              "916"
            ]
          },
          "metadata": {},
          "execution_count": 68
        }
      ]
    },
    {
      "cell_type": "code",
      "metadata": {
        "id": "QSMrQworE5oD"
      },
      "source": [
        "df['Q6'].replace('I have never written code','0',inplace=True)"
      ],
      "execution_count": null,
      "outputs": []
    },
    {
      "cell_type": "code",
      "metadata": {
        "id": "-K_kPFcaUoiJ"
      },
      "source": [
        "# điền dữ liệu thiếu = dữ liệu xuất hiện nhiều nhất \n",
        "\n",
        "df.Q6.fillna(df.Q6.mode()[0],inplace=True)"
      ],
      "execution_count": null,
      "outputs": []
    },
    {
      "cell_type": "code",
      "metadata": {
        "colab": {
          "base_uri": "https://localhost:8080/"
        },
        "id": "8rspG9tvJWhJ",
        "outputId": "5d218c83-d448-48ca-91ee-b3758b6bdeac"
      },
      "source": [
        "df['Q6'].value_counts()"
      ],
      "execution_count": null,
      "outputs": [
        {
          "output_type": "execute_result",
          "data": {
            "text/plain": [
              "3-5 years      5462\n",
              "1-2 years      4505\n",
              "< 1 years      3313\n",
              "5-10 years     2552\n",
              "10-20 years    1751\n",
              "20+ years      1329\n",
              "0              1124\n",
              "Name: Q6, dtype: int64"
            ]
          },
          "metadata": {},
          "execution_count": 71
        }
      ]
    },
    {
      "cell_type": "code",
      "metadata": {
        "id": "EBgb8sTkiwyn"
      },
      "source": [
        "df['Q6'] = df['Q6'].str.replace('< ', '1-')\n",
        "df['Q6'] = df['Q6'].str.replace('+', '-20')"
      ],
      "execution_count": null,
      "outputs": []
    },
    {
      "cell_type": "code",
      "metadata": {
        "colab": {
          "base_uri": "https://localhost:8080/"
        },
        "id": "lREA-4ezjAKW",
        "outputId": "afcba000-26cc-4614-a90a-979f0ed44e32"
      },
      "source": [
        "df['Q6'].value_counts()"
      ],
      "execution_count": null,
      "outputs": [
        {
          "output_type": "execute_result",
          "data": {
            "text/plain": [
              "3-5 years      5462\n",
              "1-2 years      4505\n",
              "1-1 years      3313\n",
              "5-10 years     2552\n",
              "10-20 years    1751\n",
              "20-20 years    1329\n",
              "0              1124\n",
              "Name: Q6, dtype: int64"
            ]
          },
          "metadata": {},
          "execution_count": 73
        }
      ]
    },
    {
      "cell_type": "code",
      "metadata": {
        "id": "pEBEwMUPYvsL"
      },
      "source": [
        "# \n",
        "df['Q6'] = df['Q6'].str.replace('years', '')\n"
      ],
      "execution_count": null,
      "outputs": []
    },
    {
      "cell_type": "code",
      "metadata": {
        "colab": {
          "base_uri": "https://localhost:8080/"
        },
        "id": "PZ20kJDTMUV4",
        "outputId": "9cac31f3-39f3-4be3-8029-db338e175cf7"
      },
      "source": [
        "df['Q6'].value_counts()"
      ],
      "execution_count": null,
      "outputs": [
        {
          "output_type": "execute_result",
          "data": {
            "text/plain": [
              "3-5       5462\n",
              "1-2       4505\n",
              "1-1       3313\n",
              "5-10      2552\n",
              "10-20     1751\n",
              "20-20     1329\n",
              "0         1124\n",
              "Name: Q6, dtype: int64"
            ]
          },
          "metadata": {},
          "execution_count": 75
        }
      ]
    },
    {
      "cell_type": "code",
      "metadata": {
        "colab": {
          "base_uri": "https://localhost:8080/"
        },
        "id": "ULU4WFdcG2PE",
        "outputId": "f43962f6-50d0-40ab-cad9-a3533873eecb"
      },
      "source": [
        "# tách thành 2 cột year min, year max\n",
        "\n",
        "df['Q6_Part_1'], df['Q6_Part_2'] = df['Q6'].str.split('-', 1).str"
      ],
      "execution_count": null,
      "outputs": [
        {
          "output_type": "stream",
          "name": "stderr",
          "text": [
            "/usr/local/lib/python3.7/dist-packages/ipykernel_launcher.py:3: FutureWarning:\n",
            "\n",
            "Columnar iteration over characters will be deprecated in future releases.\n",
            "\n"
          ]
        }
      ]
    },
    {
      "cell_type": "code",
      "metadata": {
        "id": "Mk9K1-38XGTw"
      },
      "source": [
        "# Chuyển kiểu dữ liệu thanhf float\n",
        "\n",
        "df[\"Q6_Part_1\"] = pd.to_numeric(df[\"Q6_Part_1\"], errors='coerce').astype('float')\n",
        "df[\"Q6_Part_2\"] = pd.to_numeric(df[\"Q6_Part_2\"], errors='coerce').astype('float')"
      ],
      "execution_count": null,
      "outputs": []
    },
    {
      "cell_type": "code",
      "metadata": {
        "id": "rcARJaVvKqCj"
      },
      "source": [
        "# tính trung bình của max và min -> trả về giá trị của số năm trung bình viết code\n",
        "df['Q6'] = (df['Q6_Part_1'] + df['Q6_Part_2'])/2"
      ],
      "execution_count": null,
      "outputs": []
    },
    {
      "cell_type": "code",
      "metadata": {
        "colab": {
          "base_uri": "https://localhost:8080/"
        },
        "id": "fY3Op_7NXUXY",
        "outputId": "be8e8f79-575d-44ab-9fc7-ac5961c11ce4"
      },
      "source": [
        "df['Q6'].value_counts()"
      ],
      "execution_count": null,
      "outputs": [
        {
          "output_type": "execute_result",
          "data": {
            "text/plain": [
              "4.0     5462\n",
              "1.5     4505\n",
              "1.0     3313\n",
              "7.5     2552\n",
              "15.0    1751\n",
              "20.0    1329\n",
              "Name: Q6, dtype: int64"
            ]
          },
          "metadata": {},
          "execution_count": 83
        }
      ]
    },
    {
      "cell_type": "code",
      "metadata": {
        "id": "fsaPe0s2jtsD"
      },
      "source": [
        "df.Q6.fillna(df.Q6.mode()[0],inplace=True)"
      ],
      "execution_count": null,
      "outputs": []
    },
    {
      "cell_type": "code",
      "metadata": {
        "colab": {
          "base_uri": "https://localhost:8080/"
        },
        "id": "9UvvHFvBXs5O",
        "outputId": "41b7f0e6-8556-4081-f37a-f92e369d8574"
      },
      "source": [
        "df['Q6'].isnull().sum(axis=0)"
      ],
      "execution_count": null,
      "outputs": [
        {
          "output_type": "execute_result",
          "data": {
            "text/plain": [
              "0"
            ]
          },
          "metadata": {},
          "execution_count": 86
        }
      ]
    },
    {
      "cell_type": "code",
      "metadata": {
        "id": "BEk5lScKj3Qi"
      },
      "source": [
        "year_code = pd.DataFrame(df['Q6'].value_counts())\n",
        "year_code.sort_index(inplace=True)\n",
        "year_code.reset_index(inplace = True)\n",
        "year_code.columns = [\"Year_code\", \"Count\"]\n"
      ],
      "execution_count": null,
      "outputs": []
    },
    {
      "cell_type": "code",
      "metadata": {
        "colab": {
          "base_uri": "https://localhost:8080/",
          "height": 204
        },
        "id": "1BZSnGHXkScK",
        "outputId": "1b44f605-f873-42fc-c23c-7574cd87603a"
      },
      "source": [
        "year_code.head()"
      ],
      "execution_count": null,
      "outputs": [
        {
          "output_type": "execute_result",
          "data": {
            "text/html": [
              "<div>\n",
              "<style scoped>\n",
              "    .dataframe tbody tr th:only-of-type {\n",
              "        vertical-align: middle;\n",
              "    }\n",
              "\n",
              "    .dataframe tbody tr th {\n",
              "        vertical-align: top;\n",
              "    }\n",
              "\n",
              "    .dataframe thead th {\n",
              "        text-align: right;\n",
              "    }\n",
              "</style>\n",
              "<table border=\"1\" class=\"dataframe\">\n",
              "  <thead>\n",
              "    <tr style=\"text-align: right;\">\n",
              "      <th></th>\n",
              "      <th>Year_code</th>\n",
              "      <th>Count</th>\n",
              "    </tr>\n",
              "  </thead>\n",
              "  <tbody>\n",
              "    <tr>\n",
              "      <th>0</th>\n",
              "      <td>1.0</td>\n",
              "      <td>3313</td>\n",
              "    </tr>\n",
              "    <tr>\n",
              "      <th>1</th>\n",
              "      <td>1.5</td>\n",
              "      <td>4505</td>\n",
              "    </tr>\n",
              "    <tr>\n",
              "      <th>2</th>\n",
              "      <td>4.0</td>\n",
              "      <td>6586</td>\n",
              "    </tr>\n",
              "    <tr>\n",
              "      <th>3</th>\n",
              "      <td>7.5</td>\n",
              "      <td>2552</td>\n",
              "    </tr>\n",
              "    <tr>\n",
              "      <th>4</th>\n",
              "      <td>15.0</td>\n",
              "      <td>1751</td>\n",
              "    </tr>\n",
              "  </tbody>\n",
              "</table>\n",
              "</div>"
            ],
            "text/plain": [
              "   Year_code  Count\n",
              "0        1.0   3313\n",
              "1        1.5   4505\n",
              "2        4.0   6586\n",
              "3        7.5   2552\n",
              "4       15.0   1751"
            ]
          },
          "metadata": {},
          "execution_count": 88
        }
      ]
    },
    {
      "cell_type": "code",
      "metadata": {
        "colab": {
          "base_uri": "https://localhost:8080/",
          "height": 308
        },
        "id": "aLvaolwhkWth",
        "outputId": "0fd7bf57-b362-4779-faac-b9af581c83bf"
      },
      "source": [
        "ax = plt.subplots()\n",
        "ax=df.Q6.value_counts().plot(kind='bar')\n",
        "ax.set_xlabel(\"So Nam Kinh Nghiem\")\n",
        "ax.set_ylabel(\"So luong\")\n",
        "ax.set_title(\"Bieu Do Theo So Nam Kinh Nghiem Trung Binh\")\n",
        "plt.show()"
      ],
      "execution_count": null,
      "outputs": [
        {
          "output_type": "display_data",
          "data": {
            "image/png": "[encoded data removed]",
            "text/plain": [
              "<Figure size 432x288 with 1 Axes>"
            ]
          },
          "metadata": {
            "needs_background": "light"
          }
        }
      ]
    },
    {
      "cell_type": "markdown",
      "metadata": {
        "id": "HzV4D3c_Qiwv"
      },
      "source": [
        "Số người khảo sát viết code chiếm nhiều nhất là 4 năm "
      ]
    },
    {
      "cell_type": "markdown",
      "metadata": {
        "id": "XNnMiKbMQcYv"
      },
      "source": [
        "#Q7: Những ngôn ngữ lập trình sử dụng"
      ]
    },
    {
      "cell_type": "code",
      "metadata": {
        "colab": {
          "base_uri": "https://localhost:8080/",
          "height": 204
        },
        "id": "IykGM4yskvXc",
        "outputId": "df569ebf-90f3-4105-ece3-4aaafd5f8ed5"
      },
      "source": [
        "df_Q7 = df.iloc[:,range(7,20)]\n",
        "df_Q7.head()"
      ],
      "execution_count": null,
      "outputs": [
        {
          "output_type": "execute_result",
          "data": {
            "text/html": [
              "<div>\n",
              "<style scoped>\n",
              "    .dataframe tbody tr th:only-of-type {\n",
              "        vertical-align: middle;\n",
              "    }\n",
              "\n",
              "    .dataframe tbody tr th {\n",
              "        vertical-align: top;\n",
              "    }\n",
              "\n",
              "    .dataframe thead th {\n",
              "        text-align: right;\n",
              "    }\n",
              "</style>\n",
              "<table border=\"1\" class=\"dataframe\">\n",
              "  <thead>\n",
              "    <tr style=\"text-align: right;\">\n",
              "      <th></th>\n",
              "      <th>Q7_Part_1</th>\n",
              "      <th>Q7_Part_2</th>\n",
              "      <th>Q7_Part_3</th>\n",
              "      <th>Q7_Part_4</th>\n",
              "      <th>Q7_Part_5</th>\n",
              "      <th>Q7_Part_6</th>\n",
              "      <th>Q7_Part_7</th>\n",
              "      <th>Q7_Part_8</th>\n",
              "      <th>Q7_Part_9</th>\n",
              "      <th>Q7_Part_10</th>\n",
              "      <th>Q7_Part_11</th>\n",
              "      <th>Q7_Part_12</th>\n",
              "      <th>Q7_OTHER</th>\n",
              "    </tr>\n",
              "  </thead>\n",
              "  <tbody>\n",
              "    <tr>\n",
              "      <th>1</th>\n",
              "      <td>Python</td>\n",
              "      <td>R</td>\n",
              "      <td>SQL</td>\n",
              "      <td>C</td>\n",
              "      <td>NaN</td>\n",
              "      <td>NaN</td>\n",
              "      <td>Javascript</td>\n",
              "      <td>NaN</td>\n",
              "      <td>NaN</td>\n",
              "      <td>NaN</td>\n",
              "      <td>MATLAB</td>\n",
              "      <td>NaN</td>\n",
              "      <td>Other</td>\n",
              "    </tr>\n",
              "    <tr>\n",
              "      <th>2</th>\n",
              "      <td>Python</td>\n",
              "      <td>R</td>\n",
              "      <td>SQL</td>\n",
              "      <td>NaN</td>\n",
              "      <td>NaN</td>\n",
              "      <td>NaN</td>\n",
              "      <td>NaN</td>\n",
              "      <td>NaN</td>\n",
              "      <td>NaN</td>\n",
              "      <td>NaN</td>\n",
              "      <td>NaN</td>\n",
              "      <td>NaN</td>\n",
              "      <td>NaN</td>\n",
              "    </tr>\n",
              "    <tr>\n",
              "      <th>3</th>\n",
              "      <td>NaN</td>\n",
              "      <td>NaN</td>\n",
              "      <td>NaN</td>\n",
              "      <td>NaN</td>\n",
              "      <td>NaN</td>\n",
              "      <td>Java</td>\n",
              "      <td>Javascript</td>\n",
              "      <td>NaN</td>\n",
              "      <td>NaN</td>\n",
              "      <td>Bash</td>\n",
              "      <td>NaN</td>\n",
              "      <td>NaN</td>\n",
              "      <td>NaN</td>\n",
              "    </tr>\n",
              "    <tr>\n",
              "      <th>4</th>\n",
              "      <td>Python</td>\n",
              "      <td>NaN</td>\n",
              "      <td>SQL</td>\n",
              "      <td>NaN</td>\n",
              "      <td>NaN</td>\n",
              "      <td>NaN</td>\n",
              "      <td>NaN</td>\n",
              "      <td>NaN</td>\n",
              "      <td>NaN</td>\n",
              "      <td>Bash</td>\n",
              "      <td>NaN</td>\n",
              "      <td>NaN</td>\n",
              "      <td>NaN</td>\n",
              "    </tr>\n",
              "    <tr>\n",
              "      <th>5</th>\n",
              "      <td>Python</td>\n",
              "      <td>NaN</td>\n",
              "      <td>NaN</td>\n",
              "      <td>NaN</td>\n",
              "      <td>NaN</td>\n",
              "      <td>NaN</td>\n",
              "      <td>NaN</td>\n",
              "      <td>NaN</td>\n",
              "      <td>NaN</td>\n",
              "      <td>NaN</td>\n",
              "      <td>NaN</td>\n",
              "      <td>NaN</td>\n",
              "      <td>NaN</td>\n",
              "    </tr>\n",
              "  </tbody>\n",
              "</table>\n",
              "</div>"
            ],
            "text/plain": [
              "  Q7_Part_1 Q7_Part_2 Q7_Part_3  ... Q7_Part_11 Q7_Part_12 Q7_OTHER\n",
              "1    Python         R       SQL  ...     MATLAB        NaN    Other\n",
              "2    Python         R       SQL  ...        NaN        NaN      NaN\n",
              "3       NaN       NaN       NaN  ...        NaN        NaN      NaN\n",
              "4    Python       NaN       SQL  ...        NaN        NaN      NaN\n",
              "5    Python       NaN       NaN  ...        NaN        NaN      NaN\n",
              "\n",
              "[5 rows x 13 columns]"
            ]
          },
          "metadata": {},
          "execution_count": 90
        }
      ]
    },
    {
      "cell_type": "code",
      "metadata": {
        "id": "0oEcWvEjmYTO",
        "colab": {
          "base_uri": "https://localhost:8080/",
          "height": 452
        },
        "outputId": "889a7250-c235-4512-b48e-198d3ca78afa"
      },
      "source": [
        "df_Q7 = pd.DataFrame()\n",
        "\n",
        "for c in df.columns:\n",
        "    if(c.startswith(\"Q7_\")):\n",
        "        Q7 = df[c].value_counts()\n",
        "        df_Q7 = df_Q7.append({'Q7':Q7.index[0], 'Count':Q7[0]}, ignore_index=True)\n",
        "df_Q7 = df_Q7.set_index('Q7').drop('None')\n",
        "df_Q7 = df_Q7.sort_values(by='Count', ascending=False)\n",
        "df_Q7"
      ],
      "execution_count": null,
      "outputs": [
        {
          "output_type": "execute_result",
          "data": {
            "text/html": [
              "<div>\n",
              "<style scoped>\n",
              "    .dataframe tbody tr th:only-of-type {\n",
              "        vertical-align: middle;\n",
              "    }\n",
              "\n",
              "    .dataframe tbody tr th {\n",
              "        vertical-align: top;\n",
              "    }\n",
              "\n",
              "    .dataframe thead th {\n",
              "        text-align: right;\n",
              "    }\n",
              "</style>\n",
              "<table border=\"1\" class=\"dataframe\">\n",
              "  <thead>\n",
              "    <tr style=\"text-align: right;\">\n",
              "      <th></th>\n",
              "      <th>Count</th>\n",
              "    </tr>\n",
              "    <tr>\n",
              "      <th>Q7</th>\n",
              "      <th></th>\n",
              "    </tr>\n",
              "  </thead>\n",
              "  <tbody>\n",
              "    <tr>\n",
              "      <th>Python</th>\n",
              "      <td>15530.0</td>\n",
              "    </tr>\n",
              "    <tr>\n",
              "      <th>SQL</th>\n",
              "      <td>7535.0</td>\n",
              "    </tr>\n",
              "    <tr>\n",
              "      <th>R</th>\n",
              "      <td>4277.0</td>\n",
              "    </tr>\n",
              "    <tr>\n",
              "      <th>C++</th>\n",
              "      <td>3827.0</td>\n",
              "    </tr>\n",
              "    <tr>\n",
              "      <th>Java</th>\n",
              "      <td>3367.0</td>\n",
              "    </tr>\n",
              "    <tr>\n",
              "      <th>C</th>\n",
              "      <td>3315.0</td>\n",
              "    </tr>\n",
              "    <tr>\n",
              "      <th>Javascript</th>\n",
              "      <td>2995.0</td>\n",
              "    </tr>\n",
              "    <tr>\n",
              "      <th>MATLAB</th>\n",
              "      <td>2217.0</td>\n",
              "    </tr>\n",
              "    <tr>\n",
              "      <th>Other</th>\n",
              "      <td>1945.0</td>\n",
              "    </tr>\n",
              "    <tr>\n",
              "      <th>Bash</th>\n",
              "      <td>1776.0</td>\n",
              "    </tr>\n",
              "    <tr>\n",
              "      <th>Julia</th>\n",
              "      <td>262.0</td>\n",
              "    </tr>\n",
              "    <tr>\n",
              "      <th>Swift</th>\n",
              "      <td>198.0</td>\n",
              "    </tr>\n",
              "  </tbody>\n",
              "</table>\n",
              "</div>"
            ],
            "text/plain": [
              "              Count\n",
              "Q7                 \n",
              "Python      15530.0\n",
              "SQL          7535.0\n",
              "R            4277.0\n",
              "C++          3827.0\n",
              "Java         3367.0\n",
              "C            3315.0\n",
              "Javascript   2995.0\n",
              "MATLAB       2217.0\n",
              "Other        1945.0\n",
              "Bash         1776.0\n",
              "Julia         262.0\n",
              "Swift         198.0"
            ]
          },
          "metadata": {},
          "execution_count": 91
        }
      ]
    },
    {
      "cell_type": "code",
      "metadata": {
        "colab": {
          "base_uri": "https://localhost:8080/",
          "height": 442
        },
        "id": "730QuMhDwOkg",
        "outputId": "14bdc0b5-9603-43c3-91bb-a5fdacc9a6df"
      },
      "source": [
        "plt.figure(figsize=(9,7))\n",
        "\n",
        "bars = sns.barplot(x='Count', y=df_Q7.index, data=df_Q7)"
      ],
      "execution_count": null,
      "outputs": [
        {
          "output_type": "display_data",
          "data": {
            "image/png": "[encoded data removed]",
            "text/plain": [
              "<Figure size 648x504 with 1 Axes>"
            ]
          },
          "metadata": {
            "needs_background": "light"
          }
        }
      ]
    },
    {
      "cell_type": "markdown",
      "metadata": {
        "id": "a3gy-xNazCgj"
      },
      "source": [
        "Từ hình trên ta thấy Python là ngôn ngữ mà những người học hoặc làm về data scien sử dụng nhiều nhất."
      ]
    },
    {
      "cell_type": "markdown",
      "metadata": {
        "id": "8dMCM7-GQ3Eq"
      },
      "source": [
        "#Q8: Ngôn ngữ khuyến khích sử dụng đầu tiên cho việc học data science"
      ]
    },
    {
      "cell_type": "code",
      "metadata": {
        "colab": {
          "base_uri": "https://localhost:8080/"
        },
        "id": "it0-WRQbxeu9",
        "outputId": "e1797508-4885-4f99-ac8e-029f30dcbba0"
      },
      "source": [
        "\n",
        "df['Q8'].head()"
      ],
      "execution_count": null,
      "outputs": [
        {
          "output_type": "execute_result",
          "data": {
            "text/plain": [
              "1    Python\n",
              "2    Python\n",
              "3         R\n",
              "4    Python\n",
              "5    Python\n",
              "Name: Q8, dtype: object"
            ]
          },
          "metadata": {},
          "execution_count": 94
        }
      ]
    },
    {
      "cell_type": "code",
      "metadata": {
        "colab": {
          "base_uri": "https://localhost:8080/"
        },
        "id": "I5I77QavyA6V",
        "outputId": "e93c0c00-d997-4441-c6b0-fde3b21e1a4b"
      },
      "source": [
        "df['Q8'].isnull().sum(axis=0)"
      ],
      "execution_count": null,
      "outputs": [
        {
          "output_type": "execute_result",
          "data": {
            "text/plain": [
              "2215"
            ]
          },
          "metadata": {},
          "execution_count": 95
        }
      ]
    },
    {
      "cell_type": "code",
      "metadata": {
        "colab": {
          "base_uri": "https://localhost:8080/"
        },
        "id": "zCJGfkUzyQYF",
        "outputId": "c447fb01-1912-4e3e-861a-1fb52fbb68f5"
      },
      "source": [
        "df['Q8'].value_counts()"
      ],
      "execution_count": null,
      "outputs": [
        {
          "output_type": "execute_result",
          "data": {
            "text/plain": [
              "Python        14241\n",
              "R              1259\n",
              "SQL             849\n",
              "C++             325\n",
              "C               301\n",
              "MATLAB          195\n",
              "Java            167\n",
              "Other           151\n",
              "Julia           121\n",
              "Javascript       88\n",
              "None             81\n",
              "Bash             26\n",
              "Swift            17\n",
              "Name: Q8, dtype: int64"
            ]
          },
          "metadata": {},
          "execution_count": 96
        }
      ]
    },
    {
      "cell_type": "code",
      "metadata": {
        "id": "2YnsxHFfyVGN"
      },
      "source": [
        "df.Q8.fillna(df.Q8.mode()[0],inplace=True)"
      ],
      "execution_count": null,
      "outputs": []
    },
    {
      "cell_type": "code",
      "metadata": {
        "colab": {
          "base_uri": "https://localhost:8080/",
          "height": 321
        },
        "id": "66LU5CksytwE",
        "outputId": "d714ed9e-84f3-4d54-8d09-5fa101b1d6ea"
      },
      "source": [
        "df.Q8.value_counts().plot(kind = 'bar')"
      ],
      "execution_count": null,
      "outputs": [
        {
          "output_type": "execute_result",
          "data": {
            "text/plain": [
              "<matplotlib.axes._subplots.AxesSubplot at 0x7f45f66bd450>"
            ]
          },
          "metadata": {},
          "execution_count": 98
        },
        {
          "output_type": "display_data",
          "data": {
            "image/png": "[encoded data removed]",
            "text/plain": [
              "<Figure size 432x288 with 1 Axes>"
            ]
          },
          "metadata": {
            "needs_background": "light"
          }
        }
      ]
    },
    {
      "cell_type": "markdown",
      "metadata": {
        "id": "8o0PByLN0-7o"
      },
      "source": [
        "Từ đồ thị, Python là ngôn ngữ khuyến khích nhất cho việc học data science"
      ]
    },
    {
      "cell_type": "markdown",
      "metadata": {
        "id": "N-4mm-zaXfCt"
      },
      "source": [
        "#Q9: IDE su dung "
      ]
    },
    {
      "cell_type": "code",
      "metadata": {
        "id": "qIsoA13M0-Vi",
        "colab": {
          "base_uri": "https://localhost:8080/",
          "height": 421
        },
        "outputId": "949bcbaa-ae91-458a-f704-c1250a5084cb"
      },
      "source": [
        "\n",
        "df_Q9 = pd.DataFrame()\n",
        "\n",
        "for c in df.columns:\n",
        "    if(c.startswith(\"Q9_\")):\n",
        "        Q9 = df[c].value_counts()\n",
        "        df_Q9 = df_Q9.append({'Q9':Q9.index[0], 'Count':Q9[0]}, ignore_index=True)\n",
        "df_Q9 = df_Q9.set_index('Q9').drop('None')\n",
        "df_Q9 = df_Q9.sort_values(by='Count', ascending=False)\n",
        "df_Q9"
      ],
      "execution_count": null,
      "outputs": [
        {
          "output_type": "execute_result",
          "data": {
            "text/html": [
              "<div>\n",
              "<style scoped>\n",
              "    .dataframe tbody tr th:only-of-type {\n",
              "        vertical-align: middle;\n",
              "    }\n",
              "\n",
              "    .dataframe tbody tr th {\n",
              "        vertical-align: top;\n",
              "    }\n",
              "\n",
              "    .dataframe thead th {\n",
              "        text-align: right;\n",
              "    }\n",
              "</style>\n",
              "<table border=\"1\" class=\"dataframe\">\n",
              "  <thead>\n",
              "    <tr style=\"text-align: right;\">\n",
              "      <th></th>\n",
              "      <th>Count</th>\n",
              "    </tr>\n",
              "    <tr>\n",
              "      <th>Q9</th>\n",
              "      <th></th>\n",
              "    </tr>\n",
              "  </thead>\n",
              "  <tbody>\n",
              "    <tr>\n",
              "      <th>Jupyter (JupyterLab, Jupyter Notebooks, etc)</th>\n",
              "      <td>11211.0</td>\n",
              "    </tr>\n",
              "    <tr>\n",
              "      <th>Visual Studio Code (VSCode)</th>\n",
              "      <td>5873.0</td>\n",
              "    </tr>\n",
              "    <tr>\n",
              "      <th>PyCharm</th>\n",
              "      <td>5099.0</td>\n",
              "    </tr>\n",
              "    <tr>\n",
              "      <th>RStudio</th>\n",
              "      <td>3826.0</td>\n",
              "    </tr>\n",
              "    <tr>\n",
              "      <th>Spyder</th>\n",
              "      <td>3290.0</td>\n",
              "    </tr>\n",
              "    <tr>\n",
              "      <th>Notepad++</th>\n",
              "      <td>3132.0</td>\n",
              "    </tr>\n",
              "    <tr>\n",
              "      <th>Sublime Text</th>\n",
              "      <td>2452.0</td>\n",
              "    </tr>\n",
              "    <tr>\n",
              "      <th>Visual Studio</th>\n",
              "      <td>2445.0</td>\n",
              "    </tr>\n",
              "    <tr>\n",
              "      <th>MATLAB</th>\n",
              "      <td>1604.0</td>\n",
              "    </tr>\n",
              "    <tr>\n",
              "      <th>Vim / Emacs</th>\n",
              "      <td>1502.0</td>\n",
              "    </tr>\n",
              "    <tr>\n",
              "      <th>Other</th>\n",
              "      <td>1162.0</td>\n",
              "    </tr>\n",
              "  </tbody>\n",
              "</table>\n",
              "</div>"
            ],
            "text/plain": [
              "                                                 Count\n",
              "Q9                                                    \n",
              "Jupyter (JupyterLab, Jupyter Notebooks, etc)   11211.0\n",
              "Visual Studio Code (VSCode)                     5873.0\n",
              " PyCharm                                        5099.0\n",
              " RStudio                                        3826.0\n",
              "  Spyder                                        3290.0\n",
              "  Notepad++                                     3132.0\n",
              "  Sublime Text                                  2452.0\n",
              "Visual Studio                                   2445.0\n",
              " MATLAB                                         1604.0\n",
              "  Vim / Emacs                                   1502.0\n",
              "Other                                           1162.0"
            ]
          },
          "metadata": {},
          "execution_count": 99
        }
      ]
    },
    {
      "cell_type": "code",
      "metadata": {
        "colab": {
          "base_uri": "https://localhost:8080/",
          "height": 442
        },
        "id": "nCloY2Tc2zj8",
        "outputId": "7a0b4519-8b23-4042-f541-dacae7a0295a"
      },
      "source": [
        "plt.figure(figsize=(9,7))\n",
        "\n",
        "bars = sns.barplot(x='Count', y=df_Q9.index, data=df_Q9)"
      ],
      "execution_count": null,
      "outputs": [
        {
          "output_type": "display_data",
          "data": {
            "image/png": "[encoded data removed]",
            "text/plain": [
              "<Figure size 648x504 with 1 Axes>"
            ]
          },
          "metadata": {
            "needs_background": "light"
          }
        }
      ]
    },
    {
      "cell_type": "markdown",
      "metadata": {
        "id": "Drqm0cLR1sWY"
      },
      "source": [
        "Từ đồ thị trên, Jupyter (JupyterLab, Jupyter Notebooks, etc) là IDE được sử dụng nhiều nhất"
      ]
    },
    {
      "cell_type": "markdown",
      "metadata": {
        "id": "UGwr_FHK_tnU"
      },
      "source": [
        "#Q10: Các sản phẩm được lưu trữ mà thường sử dụng:"
      ]
    },
    {
      "cell_type": "code",
      "metadata": {
        "colab": {
          "base_uri": "https://localhost:8080/"
        },
        "id": "Y_r1DA-j1r08",
        "outputId": "7f2781cd-e798-4839-ac9e-fd44445e5152"
      },
      "source": [
        "\n",
        "df_Q10=df.iloc[:,range(33,47)]\n",
        "set(df_Q10)"
      ],
      "execution_count": 12,
      "outputs": [
        {
          "output_type": "execute_result",
          "data": {
            "text/plain": [
              "{'Q10_OTHER',\n",
              " 'Q10_Part_1',\n",
              " 'Q10_Part_10',\n",
              " 'Q10_Part_11',\n",
              " 'Q10_Part_12',\n",
              " 'Q10_Part_13',\n",
              " 'Q10_Part_2',\n",
              " 'Q10_Part_3',\n",
              " 'Q10_Part_4',\n",
              " 'Q10_Part_5',\n",
              " 'Q10_Part_6',\n",
              " 'Q10_Part_7',\n",
              " 'Q10_Part_8',\n",
              " 'Q10_Part_9'}"
            ]
          },
          "metadata": {},
          "execution_count": 12
        }
      ]
    },
    {
      "cell_type": "code",
      "metadata": {
        "id": "w3ywOJ0E1i-E",
        "colab": {
          "base_uri": "https://localhost:8080/",
          "height": 483
        },
        "outputId": "f1842bb8-bec7-418b-ad79-8e4bb5a2878f"
      },
      "source": [
        "\n",
        "df_Q10 = pd.DataFrame()\n",
        "\n",
        "for c in df.columns:\n",
        "    if(c.startswith(\"Q10_\")):\n",
        "        Q10 = df[c].value_counts()\n",
        "        df_Q10 = df_Q10.append({'Q10':Q10.index[0], 'Count':Q10[0]}, ignore_index=True)\n",
        "df_Q10 = df_Q10.set_index('Q10').drop('None')\n",
        "df_Q10= df_Q10.sort_values(by='Count', ascending=False)\n",
        "df_Q10"
      ],
      "execution_count": 13,
      "outputs": [
        {
          "output_type": "execute_result",
          "data": {
            "text/html": [
              "<div>\n",
              "<style scoped>\n",
              "    .dataframe tbody tr th:only-of-type {\n",
              "        vertical-align: middle;\n",
              "    }\n",
              "\n",
              "    .dataframe tbody tr th {\n",
              "        vertical-align: top;\n",
              "    }\n",
              "\n",
              "    .dataframe thead th {\n",
              "        text-align: right;\n",
              "    }\n",
              "</style>\n",
              "<table border=\"1\" class=\"dataframe\">\n",
              "  <thead>\n",
              "    <tr style=\"text-align: right;\">\n",
              "      <th></th>\n",
              "      <th>Count</th>\n",
              "    </tr>\n",
              "    <tr>\n",
              "      <th>Q10</th>\n",
              "      <th></th>\n",
              "    </tr>\n",
              "  </thead>\n",
              "  <tbody>\n",
              "    <tr>\n",
              "      <th>Colab Notebooks</th>\n",
              "      <td>6329.0</td>\n",
              "    </tr>\n",
              "    <tr>\n",
              "      <th>Kaggle Notebooks</th>\n",
              "      <td>5992.0</td>\n",
              "    </tr>\n",
              "    <tr>\n",
              "      <th>Binder / JupyterHub</th>\n",
              "      <td>2072.0</td>\n",
              "    </tr>\n",
              "    <tr>\n",
              "      <th>Google Cloud Datalab Notebooks</th>\n",
              "      <td>1231.0</td>\n",
              "    </tr>\n",
              "    <tr>\n",
              "      <th>Google Cloud AI Platform Notebooks</th>\n",
              "      <td>1218.0</td>\n",
              "    </tr>\n",
              "    <tr>\n",
              "      <th>Azure Notebooks</th>\n",
              "      <td>857.0</td>\n",
              "    </tr>\n",
              "    <tr>\n",
              "      <th>IBM Watson Studio</th>\n",
              "      <td>846.0</td>\n",
              "    </tr>\n",
              "    <tr>\n",
              "      <th>Amazon Sagemaker Studio</th>\n",
              "      <td>497.0</td>\n",
              "    </tr>\n",
              "    <tr>\n",
              "      <th>Other</th>\n",
              "      <td>485.0</td>\n",
              "    </tr>\n",
              "    <tr>\n",
              "      <th>Databricks Collaborative Notebooks</th>\n",
              "      <td>394.0</td>\n",
              "    </tr>\n",
              "    <tr>\n",
              "      <th>Amazon EMR Notebooks</th>\n",
              "      <td>245.0</td>\n",
              "    </tr>\n",
              "    <tr>\n",
              "      <th>Paperspace / Gradient</th>\n",
              "      <td>180.0</td>\n",
              "    </tr>\n",
              "    <tr>\n",
              "      <th>Code Ocean</th>\n",
              "      <td>105.0</td>\n",
              "    </tr>\n",
              "  </tbody>\n",
              "</table>\n",
              "</div>"
            ],
            "text/plain": [
              "                                       Count\n",
              "Q10                                         \n",
              "Colab Notebooks                       6329.0\n",
              " Kaggle Notebooks                     5992.0\n",
              " Binder / JupyterHub                  2072.0\n",
              "Google Cloud Datalab Notebooks        1231.0\n",
              "Google Cloud AI Platform Notebooks    1218.0\n",
              "Azure Notebooks                        857.0\n",
              " IBM Watson Studio                     846.0\n",
              " Amazon Sagemaker Studio               497.0\n",
              "Other                                  485.0\n",
              " Databricks Collaborative Notebooks    394.0\n",
              " Amazon EMR Notebooks                  245.0\n",
              " Paperspace / Gradient                 180.0\n",
              " Code Ocean                            105.0"
            ]
          },
          "metadata": {},
          "execution_count": 13
        }
      ]
    },
    {
      "cell_type": "code",
      "metadata": {
        "colab": {
          "base_uri": "https://localhost:8080/",
          "height": 442
        },
        "id": "hVou9TAxDcFZ",
        "outputId": "a68f623d-4cdd-4555-9ca1-2de1f0eae272"
      },
      "source": [
        "plt.figure(figsize=(9,7))\n",
        "\n",
        "bars = sns.barplot(x='Count', y=df_Q10.index, data=df_Q10)"
      ],
      "execution_count": 14,
      "outputs": [
        {
          "output_type": "display_data",
          "data": {
            "image/png": "[encoded data removed]",
            "text/plain": [
              "<Figure size 648x504 with 1 Axes>"
            ]
          },
          "metadata": {
            "needs_background": "light"
          }
        }
      ]
    },
    {
      "cell_type": "markdown",
      "metadata": {
        "id": "MZ3qROGycBbH"
      },
      "source": [
        "Từ hình trên, ta thấy top 2 các sản phẩm được sử dụng lưu trữ thường sử dụng nhất là: Colab notebooks, kaggle notebooks, "
      ]
    },
    {
      "cell_type": "markdown",
      "metadata": {
        "id": "sXrqFr7D_alt"
      },
      "source": [
        "#Q11: Loại nền tảng máy tính thường sử dụng cho dự án data science"
      ]
    },
    {
      "cell_type": "code",
      "metadata": {
        "colab": {
          "base_uri": "https://localhost:8080/"
        },
        "id": "3yT8_lo4coc1",
        "outputId": "e5687a13-c6fc-4e38-96d9-8009e7a8928b"
      },
      "source": [
        "\n",
        "set(df['Q11'])"
      ],
      "execution_count": 15,
      "outputs": [
        {
          "output_type": "execute_result",
          "data": {
            "text/plain": [
              "{'A cloud computing platform (AWS, Azure, GCP, hosted notebooks, etc)',\n",
              " 'A deep learning workstation (NVIDIA GTX, LambdaLabs, etc)',\n",
              " 'A personal computer or laptop',\n",
              " 'None',\n",
              " 'Other',\n",
              " nan}"
            ]
          },
          "metadata": {},
          "execution_count": 15
        }
      ]
    },
    {
      "cell_type": "code",
      "metadata": {
        "colab": {
          "base_uri": "https://localhost:8080/"
        },
        "id": "6qdqUoRkdaVY",
        "outputId": "9f085323-00fe-4d4e-d39c-ca934f94fb95"
      },
      "source": [
        "df['Q11'].value_counts()"
      ],
      "execution_count": 16,
      "outputs": [
        {
          "output_type": "execute_result",
          "data": {
            "text/plain": [
              "A personal computer or laptop                                          13348\n",
              "A cloud computing platform (AWS, Azure, GCP, hosted notebooks, etc)     2358\n",
              "A deep learning workstation (NVIDIA GTX, LambdaLabs, etc)                834\n",
              "None                                                                     292\n",
              "Other                                                                    197\n",
              "Name: Q11, dtype: int64"
            ]
          },
          "metadata": {},
          "execution_count": 16
        }
      ]
    },
    {
      "cell_type": "code",
      "metadata": {
        "colab": {
          "base_uri": "https://localhost:8080/"
        },
        "id": "9e6Hgs4GdicG",
        "outputId": "9937966d-6f3b-48ec-e522-3ae8c95da69a"
      },
      "source": [
        "df['Q11'].isnull().sum(axis=0)"
      ],
      "execution_count": 17,
      "outputs": [
        {
          "output_type": "execute_result",
          "data": {
            "text/plain": [
              "3007"
            ]
          },
          "metadata": {},
          "execution_count": 17
        }
      ]
    },
    {
      "cell_type": "code",
      "metadata": {
        "id": "zfmdSIVTd92-"
      },
      "source": [
        "df.Q11.fillna(df.Q11.mode()[0],inplace=True)"
      ],
      "execution_count": 18,
      "outputs": []
    },
    {
      "cell_type": "code",
      "metadata": {
        "colab": {
          "base_uri": "https://localhost:8080/",
          "height": 624
        },
        "id": "6brn_SLgeGMC",
        "outputId": "75306410-edff-495d-bbfc-4b604e266083"
      },
      "source": [
        "df.Q11.value_counts().plot(kind = 'bar')"
      ],
      "execution_count": 19,
      "outputs": [
        {
          "output_type": "execute_result",
          "data": {
            "text/plain": [
              "<matplotlib.axes._subplots.AxesSubplot at 0x7fae15995c50>"
            ]
          },
          "metadata": {},
          "execution_count": 19
        },
        {
          "output_type": "display_data",
          "data": {
            "image/png": "[encoded data removed]",
            "text/plain": [
              "<Figure size 432x288 with 1 Axes>"
            ]
          },
          "metadata": {
            "needs_background": "light"
          }
        }
      ]
    },
    {
      "cell_type": "markdown",
      "metadata": {
        "id": "k-wVIDRGAa-h"
      },
      "source": [
        "#Q12: Phần cứng sử dụng để xử lí:"
      ]
    },
    {
      "cell_type": "code",
      "metadata": {
        "id": "gGpq9L96gdpd",
        "colab": {
          "base_uri": "https://localhost:8080/",
          "height": 173
        },
        "outputId": "ab85f36b-af66-4bd3-c2eb-bf886452f1fa"
      },
      "source": [
        "\n",
        "df_Q12 = pd.DataFrame()\n",
        "\n",
        "for c in df.columns:\n",
        "    if(c.startswith(\"Q12_\")):\n",
        "        Q12 = df[c].value_counts()\n",
        "        df_Q12 = df_Q12.append({'Q12':Q12.index[0], 'Count':Q12[0]}, ignore_index=True)\n",
        "df_Q12 = df_Q12.set_index('Q12').drop('None')\n",
        "df_Q12= df_Q12.sort_values(by='Count', ascending=False)\n",
        "df_Q12"
      ],
      "execution_count": 20,
      "outputs": [
        {
          "output_type": "execute_result",
          "data": {
            "text/html": [
              "<div>\n",
              "<style scoped>\n",
              "    .dataframe tbody tr th:only-of-type {\n",
              "        vertical-align: middle;\n",
              "    }\n",
              "\n",
              "    .dataframe tbody tr th {\n",
              "        vertical-align: top;\n",
              "    }\n",
              "\n",
              "    .dataframe thead th {\n",
              "        text-align: right;\n",
              "    }\n",
              "</style>\n",
              "<table border=\"1\" class=\"dataframe\">\n",
              "  <thead>\n",
              "    <tr style=\"text-align: right;\">\n",
              "      <th></th>\n",
              "      <th>Count</th>\n",
              "    </tr>\n",
              "    <tr>\n",
              "      <th>Q12</th>\n",
              "      <th></th>\n",
              "    </tr>\n",
              "  </thead>\n",
              "  <tbody>\n",
              "    <tr>\n",
              "      <th>GPUs</th>\n",
              "      <td>8310.0</td>\n",
              "    </tr>\n",
              "    <tr>\n",
              "      <th>TPUs</th>\n",
              "      <td>960.0</td>\n",
              "    </tr>\n",
              "    <tr>\n",
              "      <th>Other</th>\n",
              "      <td>666.0</td>\n",
              "    </tr>\n",
              "  </tbody>\n",
              "</table>\n",
              "</div>"
            ],
            "text/plain": [
              "        Count\n",
              "Q12          \n",
              "GPUs   8310.0\n",
              "TPUs    960.0\n",
              "Other   666.0"
            ]
          },
          "metadata": {},
          "execution_count": 20
        }
      ]
    },
    {
      "cell_type": "code",
      "metadata": {
        "colab": {
          "base_uri": "https://localhost:8080/",
          "height": 442
        },
        "id": "eBRM5xiM_CL_",
        "outputId": "c1881435-6c07-4c1d-e7f3-549f36da1e78"
      },
      "source": [
        "plt.figure(figsize=(9,7))\n",
        "\n",
        "bars = sns.barplot(x='Count', y=df_Q12.index, data=df_Q12)"
      ],
      "execution_count": 21,
      "outputs": [
        {
          "output_type": "display_data",
          "data": {
            "image/png": "[encoded data removed]",
            "text/plain": [
              "<Figure size 648x504 with 1 Axes>"
            ]
          },
          "metadata": {
            "needs_background": "light"
          }
        }
      ]
    },
    {
      "cell_type": "markdown",
      "metadata": {
        "id": "CcVUgIopAdoQ"
      },
      "source": [
        "#Q13: Bạn đã sử dụng TPU khoảng bao nhiêu lần? "
      ]
    },
    {
      "cell_type": "code",
      "metadata": {
        "colab": {
          "base_uri": "https://localhost:8080/"
        },
        "id": "XySqs83wipzP",
        "outputId": "e4027290-4352-4169-9d1d-03e92bffcbb6"
      },
      "source": [
        "df['Q13'].value_counts()"
      ],
      "execution_count": 22,
      "outputs": [
        {
          "output_type": "execute_result",
          "data": {
            "text/plain": [
              "Never                 12050\n",
              "2-5 times              2112\n",
              "Once                   1922\n",
              "6-25 times              424\n",
              "More than 25 times      272\n",
              "Name: Q13, dtype: int64"
            ]
          },
          "metadata": {},
          "execution_count": 22
        }
      ]
    },
    {
      "cell_type": "code",
      "metadata": {
        "colab": {
          "base_uri": "https://localhost:8080/"
        },
        "id": "HCFI32z_klAy",
        "outputId": "7669939b-64e6-4529-e3bd-80757f9786e3"
      },
      "source": [
        "df['Q13'].isnull().sum(axis=0)"
      ],
      "execution_count": 23,
      "outputs": [
        {
          "output_type": "execute_result",
          "data": {
            "text/plain": [
              "3256"
            ]
          },
          "metadata": {},
          "execution_count": 23
        }
      ]
    },
    {
      "cell_type": "code",
      "metadata": {
        "id": "p8XEw5qwlIjj"
      },
      "source": [
        "df['Q13'] = df['Q13'].str.replace('Never', '0')\n",
        "df['Q13'] = df['Q13'].str.replace('Once', '1')\n",
        "df['Q13'] = df['Q13'].str.replace('More than 25 times', '25')\n",
        "df['Q13'] = df['Q13'].str.replace('2-5 times','4')\n",
        "df['Q13'] = df['Q13'].str.replace('6-25 times','16')"
      ],
      "execution_count": 24,
      "outputs": []
    },
    {
      "cell_type": "code",
      "metadata": {
        "id": "Ve2Cl6h6qKMX"
      },
      "source": [
        "df.Q13.fillna(df.Q13.mode()[0],inplace=True)"
      ],
      "execution_count": 25,
      "outputs": []
    },
    {
      "cell_type": "code",
      "metadata": {
        "colab": {
          "base_uri": "https://localhost:8080/",
          "height": 289
        },
        "id": "qRHMcwHIrT1-",
        "outputId": "771cca1a-2cb5-47d4-f6b9-8aaa1a52c01e"
      },
      "source": [
        "df.Q13.value_counts().plot(kind = 'bar')"
      ],
      "execution_count": 26,
      "outputs": [
        {
          "output_type": "execute_result",
          "data": {
            "text/plain": [
              "<matplotlib.axes._subplots.AxesSubplot at 0x7fae15871450>"
            ]
          },
          "metadata": {},
          "execution_count": 26
        },
        {
          "output_type": "display_data",
          "data": {
            "image/png": "[encoded data removed]",
            "text/plain": [
              "<Figure size 432x288 with 1 Axes>"
            ]
          },
          "metadata": {
            "needs_background": "light"
          }
        }
      ]
    },
    {
      "cell_type": "markdown",
      "metadata": {
        "id": "5RRujj9MAk7H"
      },
      "source": [
        "#Q14: thư viện hoặc công cụ trực quan hóa dữ liệu"
      ]
    },
    {
      "cell_type": "code",
      "metadata": {
        "id": "VE3IUTG0s2vV",
        "colab": {
          "base_uri": "https://localhost:8080/",
          "height": 421
        },
        "outputId": "35c91192-9a1c-4f6a-8b57-df0c5d358a4d"
      },
      "source": [
        "df_Q14 = pd.DataFrame()\n",
        "\n",
        "for c in df.columns:\n",
        "    if(c.startswith(\"Q14_\")):\n",
        "        Q14 = df[c].value_counts()\n",
        "        df_Q14 = df_Q14.append({'Q14':Q14.index[0], 'Count':Q14[0]}, ignore_index=True)\n",
        "df_Q14 = df_Q14.set_index('Q14').drop('None')\n",
        "df_Q14= df_Q14.sort_values(by='Count', ascending=False)\n",
        "df_Q14\n",
        "\n"
      ],
      "execution_count": 27,
      "outputs": [
        {
          "output_type": "execute_result",
          "data": {
            "text/html": [
              "<div>\n",
              "<style scoped>\n",
              "    .dataframe tbody tr th:only-of-type {\n",
              "        vertical-align: middle;\n",
              "    }\n",
              "\n",
              "    .dataframe tbody tr th {\n",
              "        vertical-align: top;\n",
              "    }\n",
              "\n",
              "    .dataframe thead th {\n",
              "        text-align: right;\n",
              "    }\n",
              "</style>\n",
              "<table border=\"1\" class=\"dataframe\">\n",
              "  <thead>\n",
              "    <tr style=\"text-align: right;\">\n",
              "      <th></th>\n",
              "      <th>Count</th>\n",
              "    </tr>\n",
              "    <tr>\n",
              "      <th>Q14</th>\n",
              "      <th></th>\n",
              "    </tr>\n",
              "  </thead>\n",
              "  <tbody>\n",
              "    <tr>\n",
              "      <th>Matplotlib</th>\n",
              "      <td>12342.0</td>\n",
              "    </tr>\n",
              "    <tr>\n",
              "      <th>Seaborn</th>\n",
              "      <td>8821.0</td>\n",
              "    </tr>\n",
              "    <tr>\n",
              "      <th>Plotly / Plotly Express</th>\n",
              "      <td>4130.0</td>\n",
              "    </tr>\n",
              "    <tr>\n",
              "      <th>Ggplot / ggplot2</th>\n",
              "      <td>4120.0</td>\n",
              "    </tr>\n",
              "    <tr>\n",
              "      <th>Shiny</th>\n",
              "      <td>1137.0</td>\n",
              "    </tr>\n",
              "    <tr>\n",
              "      <th>Bokeh</th>\n",
              "      <td>920.0</td>\n",
              "    </tr>\n",
              "    <tr>\n",
              "      <th>Geoplotlib</th>\n",
              "      <td>850.0</td>\n",
              "    </tr>\n",
              "    <tr>\n",
              "      <th>D3 js</th>\n",
              "      <td>829.0</td>\n",
              "    </tr>\n",
              "    <tr>\n",
              "      <th>Leaflet / Folium</th>\n",
              "      <td>596.0</td>\n",
              "    </tr>\n",
              "    <tr>\n",
              "      <th>Other</th>\n",
              "      <td>565.0</td>\n",
              "    </tr>\n",
              "    <tr>\n",
              "      <th>Altair</th>\n",
              "      <td>233.0</td>\n",
              "    </tr>\n",
              "  </tbody>\n",
              "</table>\n",
              "</div>"
            ],
            "text/plain": [
              "                             Count\n",
              "Q14                               \n",
              " Matplotlib                12342.0\n",
              " Seaborn                    8821.0\n",
              " Plotly / Plotly Express    4130.0\n",
              " Ggplot / ggplot2           4120.0\n",
              " Shiny                      1137.0\n",
              " Bokeh                       920.0\n",
              " Geoplotlib                  850.0\n",
              " D3 js                       829.0\n",
              " Leaflet / Folium            596.0\n",
              "Other                        565.0\n",
              " Altair                      233.0"
            ]
          },
          "metadata": {},
          "execution_count": 27
        }
      ]
    },
    {
      "cell_type": "code",
      "metadata": {
        "colab": {
          "base_uri": "https://localhost:8080/",
          "height": 442
        },
        "id": "ctoRpvIsu8FP",
        "outputId": "cb47bdf8-1df4-4ec0-8e56-157f3834793d"
      },
      "source": [
        "plt.figure(figsize=(9,7))\n",
        "\n",
        "bars = sns.barplot(x='Count', y=df_Q14.index, data=df_Q14)"
      ],
      "execution_count": 28,
      "outputs": [
        {
          "output_type": "display_data",
          "data": {
            "image/png": "[encoded data removed]",
            "text/plain": [
              "<Figure size 648x504 with 1 Axes>"
            ]
          },
          "metadata": {
            "needs_background": "light"
          }
        }
      ]
    },
    {
      "cell_type": "markdown",
      "metadata": {
        "id": "tuRkA0VXArvi"
      },
      "source": [
        "# Thời gian sử dụng machine learning"
      ]
    },
    {
      "cell_type": "code",
      "metadata": {
        "id": "O7m5FVoFvL9q",
        "colab": {
          "base_uri": "https://localhost:8080/"
        },
        "outputId": "811190ae-109f-4766-c011-e589317cd55c"
      },
      "source": [
        "df['Q15'].value_counts()\n"
      ],
      "execution_count": 29,
      "outputs": [
        {
          "output_type": "execute_result",
          "data": {
            "text/plain": [
              "Under 1 year                             6312\n",
              "1-2 years                                3459\n",
              "I do not use machine learning methods    2075\n",
              "2-3 years                                1631\n",
              "3-4 years                                 893\n",
              "5-10 years                                801\n",
              "4-5 years                                 784\n",
              "10-20 years                               244\n",
              "20 or more years                          175\n",
              "Name: Q15, dtype: int64"
            ]
          },
          "metadata": {},
          "execution_count": 29
        }
      ]
    },
    {
      "cell_type": "code",
      "metadata": {
        "id": "6X_l55oL4Tvt"
      },
      "source": [
        "df['Q15'] = df['Q15'].str.replace('Under ','1-')\n",
        "df['Q15'] = df['Q15'].str.replace('I do not use machine learning methods', '0-0')\n",
        "df['Q15'] = df['Q15'].str.replace('or more years','-20')\n",
        "df['Q15'] = df['Q15'].str.replace('years','')\n",
        "df['Q15'] = df['Q15'].str.replace('year','')"
      ],
      "execution_count": 30,
      "outputs": []
    },
    {
      "cell_type": "code",
      "metadata": {
        "colab": {
          "base_uri": "https://localhost:8080/"
        },
        "id": "QqZjEAIU5xdH",
        "outputId": "49824ac6-ff98-4b96-d765-a43736b4ba95"
      },
      "source": [
        "df['Q15'].isnull().sum(axis=0)"
      ],
      "execution_count": 31,
      "outputs": [
        {
          "output_type": "execute_result",
          "data": {
            "text/plain": [
              "3662"
            ]
          },
          "metadata": {},
          "execution_count": 31
        }
      ]
    },
    {
      "cell_type": "code",
      "metadata": {
        "id": "NPvXAJRC5-xa"
      },
      "source": [
        "df.Q15.fillna(df.Q15.mode()[0],inplace=True)"
      ],
      "execution_count": 32,
      "outputs": []
    },
    {
      "cell_type": "code",
      "metadata": {
        "colab": {
          "base_uri": "https://localhost:8080/"
        },
        "id": "Lol-Dam86PKL",
        "outputId": "d5cf2ea1-7acc-406c-aad7-fb43be5b5772"
      },
      "source": [
        "df['Q15_Part_1'], df['Q15_Part_2'] = df['Q15'].str.split('-', 1).str"
      ],
      "execution_count": 33,
      "outputs": [
        {
          "output_type": "stream",
          "name": "stderr",
          "text": [
            "/usr/local/lib/python3.7/dist-packages/ipykernel_launcher.py:1: FutureWarning:\n",
            "\n",
            "Columnar iteration over characters will be deprecated in future releases.\n",
            "\n"
          ]
        }
      ]
    },
    {
      "cell_type": "code",
      "metadata": {
        "id": "fcpoV9CT6ayZ"
      },
      "source": [
        "df[\"Q15_Part_1\"] = pd.to_numeric(df[\"Q15_Part_1\"], errors='coerce').astype('float')\n",
        "df[\"Q15_Part_2\"] = pd.to_numeric(df[\"Q15_Part_2\"], errors='coerce').astype('float')"
      ],
      "execution_count": 34,
      "outputs": []
    },
    {
      "cell_type": "code",
      "metadata": {
        "id": "O0-J79727MNq"
      },
      "source": [
        "df['Q15'] = (df['Q15_Part_1'] + df['Q15_Part_2'])/2"
      ],
      "execution_count": 35,
      "outputs": []
    },
    {
      "cell_type": "code",
      "metadata": {
        "colab": {
          "base_uri": "https://localhost:8080/",
          "height": 295
        },
        "id": "NCNQd-TW7WpZ",
        "outputId": "185f89a5-af52-4680-b50f-d278a22d2642"
      },
      "source": [
        "df['Q15'].value_counts().plot(kind = 'bar')"
      ],
      "execution_count": 36,
      "outputs": [
        {
          "output_type": "execute_result",
          "data": {
            "text/plain": [
              "<matplotlib.axes._subplots.AxesSubplot at 0x7fae15ead490>"
            ]
          },
          "metadata": {},
          "execution_count": 36
        },
        {
          "output_type": "display_data",
          "data": {
            "image/png": "[encoded data removed]",
            "text/plain": [
              "<Figure size 432x288 with 1 Axes>"
            ]
          },
          "metadata": {
            "needs_background": "light"
          }
        }
      ]
    },
    {
      "cell_type": "markdown",
      "metadata": {
        "id": "WU9-oJxzAyrF"
      },
      "source": [
        "#Q16: Thư viện học máy sử dụng"
      ]
    },
    {
      "cell_type": "code",
      "metadata": {
        "colab": {
          "base_uri": "https://localhost:8080/",
          "height": 421
        },
        "id": "JzIqBM1C_lap",
        "outputId": "0d089b8b-9909-4777-e145-15ab3765a33a"
      },
      "source": [
        "df_Q16 = pd.DataFrame()\n",
        "\n",
        "for c in df.columns:\n",
        "    if(c.startswith(\"Q17_\")):\n",
        "        Q16 = df[c].value_counts()\n",
        "        df_Q16 = df_Q16.append({'Q16':Q16.index[0], 'Count':Q16[0]}, ignore_index=True)\n",
        "df_Q16 = df_Q16.set_index('Q16').drop('None')\n",
        "df_Q16= df_Q16.sort_values(by='Count', ascending=False)\n",
        "df_Q16\n",
        "\n",
        "\n"
      ],
      "execution_count": 37,
      "outputs": [
        {
          "output_type": "execute_result",
          "data": {
            "text/html": [
              "<div>\n",
              "<style scoped>\n",
              "    .dataframe tbody tr th:only-of-type {\n",
              "        vertical-align: middle;\n",
              "    }\n",
              "\n",
              "    .dataframe tbody tr th {\n",
              "        vertical-align: top;\n",
              "    }\n",
              "\n",
              "    .dataframe thead th {\n",
              "        text-align: right;\n",
              "    }\n",
              "</style>\n",
              "<table border=\"1\" class=\"dataframe\">\n",
              "  <thead>\n",
              "    <tr style=\"text-align: right;\">\n",
              "      <th></th>\n",
              "      <th>Count</th>\n",
              "    </tr>\n",
              "    <tr>\n",
              "      <th>Q16</th>\n",
              "      <th></th>\n",
              "    </tr>\n",
              "  </thead>\n",
              "  <tbody>\n",
              "    <tr>\n",
              "      <th>Linear or Logistic Regression</th>\n",
              "      <td>10560.0</td>\n",
              "    </tr>\n",
              "    <tr>\n",
              "      <th>Decision Trees or Random Forests</th>\n",
              "      <td>8804.0</td>\n",
              "    </tr>\n",
              "    <tr>\n",
              "      <th>Convolutional Neural Networks</th>\n",
              "      <td>5859.0</td>\n",
              "    </tr>\n",
              "    <tr>\n",
              "      <th>Gradient Boosting Machines (xgboost, lightgbm, etc)</th>\n",
              "      <td>5134.0</td>\n",
              "    </tr>\n",
              "    <tr>\n",
              "      <th>Bayesian Approaches</th>\n",
              "      <td>3647.0</td>\n",
              "    </tr>\n",
              "    <tr>\n",
              "      <th>Recurrent Neural Networks</th>\n",
              "      <td>3468.0</td>\n",
              "    </tr>\n",
              "    <tr>\n",
              "      <th>Dense Neural Networks (MLPs, etc)</th>\n",
              "      <td>3364.0</td>\n",
              "    </tr>\n",
              "    <tr>\n",
              "      <th>Transformer Networks (BERT, gpt-3, etc)</th>\n",
              "      <td>1298.0</td>\n",
              "    </tr>\n",
              "    <tr>\n",
              "      <th>Generative Adversarial Networks</th>\n",
              "      <td>1024.0</td>\n",
              "    </tr>\n",
              "    <tr>\n",
              "      <th>Evolutionary Approaches</th>\n",
              "      <td>731.0</td>\n",
              "    </tr>\n",
              "    <tr>\n",
              "      <th>Other</th>\n",
              "      <td>410.0</td>\n",
              "    </tr>\n",
              "  </tbody>\n",
              "</table>\n",
              "</div>"
            ],
            "text/plain": [
              "                                                      Count\n",
              "Q16                                                        \n",
              "Linear or Logistic Regression                       10560.0\n",
              "Decision Trees or Random Forests                     8804.0\n",
              "Convolutional Neural Networks                        5859.0\n",
              "Gradient Boosting Machines (xgboost, lightgbm, ...   5134.0\n",
              "Bayesian Approaches                                  3647.0\n",
              "Recurrent Neural Networks                            3468.0\n",
              "Dense Neural Networks (MLPs, etc)                    3364.0\n",
              "Transformer Networks (BERT, gpt-3, etc)              1298.0\n",
              "Generative Adversarial Networks                      1024.0\n",
              "Evolutionary Approaches                               731.0\n",
              "Other                                                 410.0"
            ]
          },
          "metadata": {},
          "execution_count": 37
        }
      ]
    },
    {
      "cell_type": "code",
      "metadata": {
        "colab": {
          "base_uri": "https://localhost:8080/",
          "height": 442
        },
        "id": "Gdnl1NGg_oyn",
        "outputId": "dc2596fe-a5ce-4080-bbdc-e49e50cac281"
      },
      "source": [
        "plt.figure(figsize=(9,7))\n",
        "\n",
        "bars = sns.barplot(x='Count', y=df_Q16.index, data=df_Q16)"
      ],
      "execution_count": 38,
      "outputs": [
        {
          "output_type": "display_data",
          "data": {
            "image/png": "[encoded data removed]",
            "text/plain": [
              "<Figure size 648x504 with 1 Axes>"
            ]
          },
          "metadata": {
            "needs_background": "light"
          }
        }
      ]
    },
    {
      "cell_type": "code",
      "metadata": {
        "colab": {
          "base_uri": "https://localhost:8080/",
          "height": 421
        },
        "id": "NGX3RznW3z7l",
        "outputId": "93bfef7e-7be3-4a73-c88a-a4286dcd525a"
      },
      "source": [
        "#Q17: Thuật toán ML thường sử dụng\n",
        "df_Q17 = pd.DataFrame()\n",
        "\n",
        "for c in df.columns:\n",
        "    if(c.startswith(\"Q17_\")):\n",
        "        ML_algorithms = df[c].value_counts()\n",
        "        df_Q17 = df_Q17.append({'ML_algorithms':ML_algorithms.index[0], 'Count':ML_algorithms[0]}, ignore_index=True)\n",
        "df_Q17 = df_Q17.set_index('ML_algorithms').drop('None')\n",
        "df_Q17= df_Q17.sort_values(by='Count', ascending=False)\n",
        "df_Q17"
      ],
      "execution_count": 39,
      "outputs": [
        {
          "output_type": "execute_result",
          "data": {
            "text/html": [
              "<div>\n",
              "<style scoped>\n",
              "    .dataframe tbody tr th:only-of-type {\n",
              "        vertical-align: middle;\n",
              "    }\n",
              "\n",
              "    .dataframe tbody tr th {\n",
              "        vertical-align: top;\n",
              "    }\n",
              "\n",
              "    .dataframe thead th {\n",
              "        text-align: right;\n",
              "    }\n",
              "</style>\n",
              "<table border=\"1\" class=\"dataframe\">\n",
              "  <thead>\n",
              "    <tr style=\"text-align: right;\">\n",
              "      <th></th>\n",
              "      <th>Count</th>\n",
              "    </tr>\n",
              "    <tr>\n",
              "      <th>ML_algorithms</th>\n",
              "      <th></th>\n",
              "    </tr>\n",
              "  </thead>\n",
              "  <tbody>\n",
              "    <tr>\n",
              "      <th>Linear or Logistic Regression</th>\n",
              "      <td>10560.0</td>\n",
              "    </tr>\n",
              "    <tr>\n",
              "      <th>Decision Trees or Random Forests</th>\n",
              "      <td>8804.0</td>\n",
              "    </tr>\n",
              "    <tr>\n",
              "      <th>Convolutional Neural Networks</th>\n",
              "      <td>5859.0</td>\n",
              "    </tr>\n",
              "    <tr>\n",
              "      <th>Gradient Boosting Machines (xgboost, lightgbm, etc)</th>\n",
              "      <td>5134.0</td>\n",
              "    </tr>\n",
              "    <tr>\n",
              "      <th>Bayesian Approaches</th>\n",
              "      <td>3647.0</td>\n",
              "    </tr>\n",
              "    <tr>\n",
              "      <th>Recurrent Neural Networks</th>\n",
              "      <td>3468.0</td>\n",
              "    </tr>\n",
              "    <tr>\n",
              "      <th>Dense Neural Networks (MLPs, etc)</th>\n",
              "      <td>3364.0</td>\n",
              "    </tr>\n",
              "    <tr>\n",
              "      <th>Transformer Networks (BERT, gpt-3, etc)</th>\n",
              "      <td>1298.0</td>\n",
              "    </tr>\n",
              "    <tr>\n",
              "      <th>Generative Adversarial Networks</th>\n",
              "      <td>1024.0</td>\n",
              "    </tr>\n",
              "    <tr>\n",
              "      <th>Evolutionary Approaches</th>\n",
              "      <td>731.0</td>\n",
              "    </tr>\n",
              "    <tr>\n",
              "      <th>Other</th>\n",
              "      <td>410.0</td>\n",
              "    </tr>\n",
              "  </tbody>\n",
              "</table>\n",
              "</div>"
            ],
            "text/plain": [
              "                                                      Count\n",
              "ML_algorithms                                              \n",
              "Linear or Logistic Regression                       10560.0\n",
              "Decision Trees or Random Forests                     8804.0\n",
              "Convolutional Neural Networks                        5859.0\n",
              "Gradient Boosting Machines (xgboost, lightgbm, ...   5134.0\n",
              "Bayesian Approaches                                  3647.0\n",
              "Recurrent Neural Networks                            3468.0\n",
              "Dense Neural Networks (MLPs, etc)                    3364.0\n",
              "Transformer Networks (BERT, gpt-3, etc)              1298.0\n",
              "Generative Adversarial Networks                      1024.0\n",
              "Evolutionary Approaches                               731.0\n",
              "Other                                                 410.0"
            ]
          },
          "metadata": {},
          "execution_count": 39
        }
      ]
    },
    {
      "cell_type": "code",
      "metadata": {
        "colab": {
          "base_uri": "https://localhost:8080/",
          "height": 442
        },
        "id": "0ED0Wvv6vLak",
        "outputId": "f5f2d5d3-9fd8-4c62-c6ca-44dfd11ed6ce"
      },
      "source": [
        "plt.figure(figsize=(9,7))\n",
        "\n",
        "bars = sns.barplot(x='Count', y=df_Q17.index, data=df_Q17)\n",
        "\n"
      ],
      "execution_count": 40,
      "outputs": [
        {
          "output_type": "display_data",
          "data": {
            "image/png": "[encoded data removed]",
            "text/plain": [
              "<Figure size 648x504 with 1 Axes>"
            ]
          },
          "metadata": {
            "needs_background": "light"
          }
        }
      ]
    },
    {
      "cell_type": "markdown",
      "metadata": {
        "id": "SMwiLLoHA4H2"
      },
      "source": [
        "#Q18: phương pháp thị giác máy tính"
      ]
    },
    {
      "cell_type": "code",
      "metadata": {
        "id": "P5i8YWRU07gp",
        "colab": {
          "base_uri": "https://localhost:8080/",
          "height": 266
        },
        "outputId": "ac043230-7611-4c56-e9ee-0afe481f6842"
      },
      "source": [
        "\n",
        "df_Q18 = pd.DataFrame()\n",
        "\n",
        "for c in df.columns:\n",
        "    if(c.startswith(\"Q18_\")):\n",
        "        Q18 = df[c].value_counts()\n",
        "        df_Q18 = df_Q18.append({'Q18':Q18.index[0], 'Count':Q18[0]}, ignore_index=True)\n",
        "df_Q18 = df_Q18.set_index('Q18').drop('None')\n",
        "df_Q18= df_Q18.sort_values(by='Count', ascending=False)\n",
        "df_Q18"
      ],
      "execution_count": 41,
      "outputs": [
        {
          "output_type": "execute_result",
          "data": {
            "text/html": [
              "<div>\n",
              "<style scoped>\n",
              "    .dataframe tbody tr th:only-of-type {\n",
              "        vertical-align: middle;\n",
              "    }\n",
              "\n",
              "    .dataframe tbody tr th {\n",
              "        vertical-align: top;\n",
              "    }\n",
              "\n",
              "    .dataframe thead th {\n",
              "        text-align: right;\n",
              "    }\n",
              "</style>\n",
              "<table border=\"1\" class=\"dataframe\">\n",
              "  <thead>\n",
              "    <tr style=\"text-align: right;\">\n",
              "      <th></th>\n",
              "      <th>Count</th>\n",
              "    </tr>\n",
              "    <tr>\n",
              "      <th>Q18</th>\n",
              "      <th></th>\n",
              "    </tr>\n",
              "  </thead>\n",
              "  <tbody>\n",
              "    <tr>\n",
              "      <th>Image classification and other general purpose networks (VGG, Inception, ResNet, ResNeXt, NASNet, EfficientNet, etc)</th>\n",
              "      <td>3512.0</td>\n",
              "    </tr>\n",
              "    <tr>\n",
              "      <th>General purpose image/video tools (PIL, cv2, skimage, etc)</th>\n",
              "      <td>2139.0</td>\n",
              "    </tr>\n",
              "    <tr>\n",
              "      <th>Object detection methods (YOLOv3, RetinaNet, etc)</th>\n",
              "      <td>2079.0</td>\n",
              "    </tr>\n",
              "    <tr>\n",
              "      <th>Image segmentation methods (U-Net, Mask R-CNN, etc)</th>\n",
              "      <td>2003.0</td>\n",
              "    </tr>\n",
              "    <tr>\n",
              "      <th>Generative Networks (GAN, VAE, etc)</th>\n",
              "      <td>1092.0</td>\n",
              "    </tr>\n",
              "    <tr>\n",
              "      <th>Other</th>\n",
              "      <td>71.0</td>\n",
              "    </tr>\n",
              "  </tbody>\n",
              "</table>\n",
              "</div>"
            ],
            "text/plain": [
              "                                                     Count\n",
              "Q18                                                       \n",
              "Image classification and other general purpose ...  3512.0\n",
              "General purpose image/video tools (PIL, cv2, sk...  2139.0\n",
              "Object detection methods (YOLOv3, RetinaNet, etc)   2079.0\n",
              "Image segmentation methods (U-Net, Mask R-CNN, ...  2003.0\n",
              "Generative Networks (GAN, VAE, etc)                 1092.0\n",
              "Other                                                 71.0"
            ]
          },
          "metadata": {},
          "execution_count": 41
        }
      ]
    },
    {
      "cell_type": "code",
      "metadata": {
        "colab": {
          "base_uri": "https://localhost:8080/",
          "height": 442
        },
        "id": "dVICYbyQ3uIx",
        "outputId": "01248bef-319a-4d57-bf79-8cc9edf8bd67"
      },
      "source": [
        "plt.figure(figsize=(9,7))\n",
        "\n",
        "bars = sns.barplot(x='Count', y=df_Q18.index, data=df_Q18)"
      ],
      "execution_count": 42,
      "outputs": [
        {
          "output_type": "display_data",
          "data": {
            "image/png": "[encoded data removed]",
            "text/plain": [
              "<Figure size 648x504 with 1 Axes>"
            ]
          },
          "metadata": {
            "needs_background": "light"
          }
        }
      ]
    }
  ]
}